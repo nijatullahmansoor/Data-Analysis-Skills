{
 "cells": [
  {
   "cell_type": "markdown",
   "id": "adult-flooring",
   "metadata": {},
   "source": [
    "## Amazon Web scraping Using Selenium."
   ]
  },
  {
   "cell_type": "markdown",
   "id": "bacterial-idaho",
   "metadata": {},
   "source": [
    "Required Library"
   ]
  },
  {
   "cell_type": "code",
   "execution_count": 2,
   "id": "nominated-advisory",
   "metadata": {},
   "outputs": [],
   "source": [
    "from selenium import webdriver\n",
    "from selenium.webdriver.common.keys import Keys\n",
    "from selenium.webdriver import ActionChains\n",
    "from selenium.webdriver.common.by import By\n",
    "import time"
   ]
  },
  {
   "cell_type": "code",
   "execution_count": 3,
   "id": "noble-collaboration",
   "metadata": {},
   "outputs": [],
   "source": [
    "# path for the webdriver \n",
    "path = r'C:\\Users\\nijat\\Desktop\\Data Science\\Preparation For Interview\\Technicl Skil\\web Scraping\\Chromedriver'\n",
    "driver = webdriver.Chrome(executable_path = path)"
   ]
  },
  {
   "cell_type": "code",
   "execution_count": 4,
   "id": "informative-chart",
   "metadata": {},
   "outputs": [],
   "source": [
    "url = 'https://www.amazon.in/ref=nav_logo'\n",
    "driver.get(url)"
   ]
  },
  {
   "cell_type": "code",
   "execution_count": 5,
   "id": "aboriginal-matthew",
   "metadata": {},
   "outputs": [],
   "source": [
    "# Let's make the window full screen\n",
    "driver.maximize_window()"
   ]
  },
  {
   "cell_type": "markdown",
   "id": "atmospheric-kitty",
   "metadata": {},
   "source": [
    "We will serach for tha item and get the data related to that item."
   ]
  },
  {
   "cell_type": "code",
   "execution_count": 6,
   "id": "initial-florida",
   "metadata": {},
   "outputs": [],
   "source": [
    "url = 'https://www.amazon.in/ref=nav_logo'\n",
    "driver.get(url)\n",
    "\n",
    "search_bar = driver.find_element(By.XPATH,\"//input[contains(@id,'twotabsearchtextbox')]\")\n",
    "search_bar.send_keys(\"Samsung phones\")\n",
    "search_bar.send_keys(Keys.RETURN)\n",
    "driver.find_element(By.XPATH,\"//span[text()='Samsung']\").click()\n",
    "phones_names = driver.find_elements(By.XPATH,\"//span[contains(@class,'a-size-medium a-color-base a-text-normal')]\")\n",
    "phones_price = driver.find_elements(By.XPATH,\"//span[contains(@class,'a-price-whole')]\")\n",
    "phones_rates = driver.find_elements(By.XPATH,\"//span[contains(@class, 'a-icon-alt')]\")  # take only 27"
   ]
  },
  {
   "cell_type": "markdown",
   "id": "brave-bradford",
   "metadata": {},
   "source": [
    "Let's store this a a panda DataFrame."
   ]
  },
  {
   "cell_type": "code",
   "execution_count": 38,
   "id": "technological-constitutional",
   "metadata": {},
   "outputs": [
    {
     "ename": "SyntaxError",
     "evalue": "unexpected EOF while parsing (<ipython-input-38-e2e1373e0210>, line 1)",
     "output_type": "error",
     "traceback": [
      "\u001b[1;36m  File \u001b[1;32m\"<ipython-input-38-e2e1373e0210>\"\u001b[1;36m, line \u001b[1;32m1\u001b[0m\n\u001b[1;33m    for rate in phones_rates:\u001b[0m\n\u001b[1;37m                             ^\u001b[0m\n\u001b[1;31mSyntaxError\u001b[0m\u001b[1;31m:\u001b[0m unexpected EOF while parsing\n"
     ]
    }
   ],
   "source": []
  },
  {
   "cell_type": "code",
   "execution_count": 27,
   "id": "deluxe-deployment",
   "metadata": {},
   "outputs": [],
   "source": [
    "phone_price = []\n",
    "phone_name = []\n",
    "phone_rate = []\n",
    "\n",
    "for name in phones_names:\n",
    "    phone_name.append(name.text)\n",
    "\n",
    "for price in phones_price:\n",
    "    phone_price.append(price.text)\n",
    "\n",
    "i = 0 # once it reached to 27 we will stop it because we don't want the extra rates fo other phones we have 31 elements so we will take first 27\n",
    "for rate in phones_rates:\n",
    "    i=i+1\n",
    "    if i > 27:\n",
    "        break\n",
    "    phone_rate.append(rate.text)\n"
   ]
  },
  {
   "cell_type": "code",
   "execution_count": 34,
   "id": "dressed-cotton",
   "metadata": {},
   "outputs": [
    {
     "data": {
      "text/plain": [
       "['',\n",
       " '',\n",
       " '',\n",
       " '',\n",
       " '',\n",
       " '',\n",
       " '',\n",
       " '',\n",
       " '',\n",
       " '',\n",
       " '',\n",
       " '',\n",
       " '',\n",
       " '',\n",
       " '',\n",
       " '',\n",
       " '',\n",
       " '',\n",
       " '',\n",
       " '',\n",
       " '',\n",
       " '',\n",
       " '',\n",
       " '',\n",
       " '',\n",
       " '',\n",
       " '']"
      ]
     },
     "execution_count": 34,
     "metadata": {},
     "output_type": "execute_result"
    }
   ],
   "source": [
    "phone_rate"
   ]
  },
  {
   "cell_type": "code",
   "execution_count": 28,
   "id": "together-relaxation",
   "metadata": {},
   "outputs": [],
   "source": [
    "import pandas as pd"
   ]
  },
  {
   "cell_type": "code",
   "execution_count": 32,
   "id": "criminal-combination",
   "metadata": {},
   "outputs": [],
   "source": [
    "phone_df = pd.DataFrame(list(zip(phone_name,phone_price,phone_rate)), columns =['Name', 'price','rating'])"
   ]
  },
  {
   "cell_type": "code",
   "execution_count": 33,
   "id": "flying-figure",
   "metadata": {},
   "outputs": [
    {
     "data": {
      "text/html": [
       "<div>\n",
       "<style scoped>\n",
       "    .dataframe tbody tr th:only-of-type {\n",
       "        vertical-align: middle;\n",
       "    }\n",
       "\n",
       "    .dataframe tbody tr th {\n",
       "        vertical-align: top;\n",
       "    }\n",
       "\n",
       "    .dataframe thead th {\n",
       "        text-align: right;\n",
       "    }\n",
       "</style>\n",
       "<table border=\"1\" class=\"dataframe\">\n",
       "  <thead>\n",
       "    <tr style=\"text-align: right;\">\n",
       "      <th></th>\n",
       "      <th>Name</th>\n",
       "      <th>price</th>\n",
       "      <th>rating</th>\n",
       "    </tr>\n",
       "  </thead>\n",
       "  <tbody>\n",
       "    <tr>\n",
       "      <th>0</th>\n",
       "      <td>Samsung Galaxy M32 (Black, 6GB RAM, 128GB Stor...</td>\n",
       "      <td>16,999</td>\n",
       "      <td></td>\n",
       "    </tr>\n",
       "    <tr>\n",
       "      <th>1</th>\n",
       "      <td>Samsung Galaxy A22 (Black, 6GB RAM, 128GB Stor...</td>\n",
       "      <td>18,499</td>\n",
       "      <td></td>\n",
       "    </tr>\n",
       "    <tr>\n",
       "      <th>2</th>\n",
       "      <td>Samsung Galaxy M31 (Ocean Blue, 6GB RAM, 128GB...</td>\n",
       "      <td>14,999</td>\n",
       "      <td></td>\n",
       "    </tr>\n",
       "    <tr>\n",
       "      <th>3</th>\n",
       "      <td>Samsung Galaxy M11 (Black, 4GB RAM, 64GB Stora...</td>\n",
       "      <td>9,999</td>\n",
       "      <td></td>\n",
       "    </tr>\n",
       "    <tr>\n",
       "      <th>4</th>\n",
       "      <td>Samsung Galaxy M31 (Space Black, 6GB RAM, 128G...</td>\n",
       "      <td>14,999</td>\n",
       "      <td></td>\n",
       "    </tr>\n",
       "    <tr>\n",
       "      <th>5</th>\n",
       "      <td>Samsung Galaxy M12 (Black,6GB RAM, 128GB Stora...</td>\n",
       "      <td>13,499</td>\n",
       "      <td></td>\n",
       "    </tr>\n",
       "    <tr>\n",
       "      <th>6</th>\n",
       "      <td>Samsung Galaxy M31s (Mirage Blue, 8GB RAM, 128...</td>\n",
       "      <td>16,999</td>\n",
       "      <td></td>\n",
       "    </tr>\n",
       "    <tr>\n",
       "      <th>7</th>\n",
       "      <td>Samsung Galaxy M42 5G (Prism Dot Black, 8GB RA...</td>\n",
       "      <td>23,999</td>\n",
       "      <td></td>\n",
       "    </tr>\n",
       "    <tr>\n",
       "      <th>8</th>\n",
       "      <td>Samsung Galaxy M31 (Ocean Blue, 8GB RAM, 128GB...</td>\n",
       "      <td>21,990</td>\n",
       "      <td></td>\n",
       "    </tr>\n",
       "    <tr>\n",
       "      <th>9</th>\n",
       "      <td>Samsung Galaxy M02 (Red,2GB RAM, 32GB Storage)</td>\n",
       "      <td>7,999</td>\n",
       "      <td></td>\n",
       "    </tr>\n",
       "    <tr>\n",
       "      <th>10</th>\n",
       "      <td>Samsung Galaxy M02s (Black,4GB RAM, 64GB Stora...</td>\n",
       "      <td>10,499</td>\n",
       "      <td></td>\n",
       "    </tr>\n",
       "    <tr>\n",
       "      <th>11</th>\n",
       "      <td>Samsung Galaxy M51 (Electric Blue, 8GB RAM, 12...</td>\n",
       "      <td>21,999</td>\n",
       "      <td></td>\n",
       "    </tr>\n",
       "    <tr>\n",
       "      <th>12</th>\n",
       "      <td>Samsung Galaxy M51 (Celestial Black, 8GB RAM, ...</td>\n",
       "      <td>21,999</td>\n",
       "      <td></td>\n",
       "    </tr>\n",
       "    <tr>\n",
       "      <th>13</th>\n",
       "      <td>Samsung Galaxy M02s (Blue,4GB RAM, 64GB Storag...</td>\n",
       "      <td>10,499</td>\n",
       "      <td></td>\n",
       "    </tr>\n",
       "    <tr>\n",
       "      <th>14</th>\n",
       "      <td>Samsung Galaxy A22 5G (Gray, 8GB RAM, 128GB St...</td>\n",
       "      <td>21,999</td>\n",
       "      <td></td>\n",
       "    </tr>\n",
       "    <tr>\n",
       "      <th>15</th>\n",
       "      <td>Samsung Galaxy M32 (Black, 4GB RAM, 64GB Stora...</td>\n",
       "      <td>14,999</td>\n",
       "      <td></td>\n",
       "    </tr>\n",
       "    <tr>\n",
       "      <th>16</th>\n",
       "      <td>Samsung Galaxy M32 (Black, 6GB RAM, 128GB Stor...</td>\n",
       "      <td>16,999</td>\n",
       "      <td></td>\n",
       "    </tr>\n",
       "    <tr>\n",
       "      <th>17</th>\n",
       "      <td>Samsung Galaxy M21 2021 Edition (Arctic Blue, ...</td>\n",
       "      <td>12,499</td>\n",
       "      <td></td>\n",
       "    </tr>\n",
       "    <tr>\n",
       "      <th>18</th>\n",
       "      <td>Samsung Galaxy M12 (White,6GB RAM, 128GB Stora...</td>\n",
       "      <td>13,499</td>\n",
       "      <td></td>\n",
       "    </tr>\n",
       "    <tr>\n",
       "      <th>19</th>\n",
       "      <td>Samsung Galaxy M32 (Light Blue, 6GB RAM, 128GB...</td>\n",
       "      <td>16,999</td>\n",
       "      <td></td>\n",
       "    </tr>\n",
       "    <tr>\n",
       "      <th>20</th>\n",
       "      <td>Samsung Galaxy M42 5G (Prism Dot Black, 6GB RA...</td>\n",
       "      <td>21,999</td>\n",
       "      <td></td>\n",
       "    </tr>\n",
       "    <tr>\n",
       "      <th>21</th>\n",
       "      <td>Samsung Galaxy M02 (Blue,2GB RAM, 32GB Storage)</td>\n",
       "      <td>7,999</td>\n",
       "      <td></td>\n",
       "    </tr>\n",
       "    <tr>\n",
       "      <th>22</th>\n",
       "      <td>Samsung Galaxy M31 (Iceberg Blue, 6GB RAM, 128...</td>\n",
       "      <td>14,999</td>\n",
       "      <td></td>\n",
       "    </tr>\n",
       "    <tr>\n",
       "      <th>23</th>\n",
       "      <td>(Renewed) Samsung F41 Fusion Blue 6+128GB</td>\n",
       "      <td>13,998</td>\n",
       "      <td></td>\n",
       "    </tr>\n",
       "    <tr>\n",
       "      <th>24</th>\n",
       "      <td>Samsung Galaxy M02s (Red,4GB RAM, 64GB Storage...</td>\n",
       "      <td>10,499</td>\n",
       "      <td></td>\n",
       "    </tr>\n",
       "    <tr>\n",
       "      <th>25</th>\n",
       "      <td>Samsung Galaxy A22 (Mint, 6GB RAM, 128GB Stora...</td>\n",
       "      <td>18,499</td>\n",
       "      <td></td>\n",
       "    </tr>\n",
       "    <tr>\n",
       "      <th>26</th>\n",
       "      <td>Samsung Galaxy M02 (Black,2GB RAM, 32GB Storage)</td>\n",
       "      <td>7,999</td>\n",
       "      <td></td>\n",
       "    </tr>\n",
       "  </tbody>\n",
       "</table>\n",
       "</div>"
      ],
      "text/plain": [
       "                                                 Name   price rating\n",
       "0   Samsung Galaxy M32 (Black, 6GB RAM, 128GB Stor...  16,999       \n",
       "1   Samsung Galaxy A22 (Black, 6GB RAM, 128GB Stor...  18,499       \n",
       "2   Samsung Galaxy M31 (Ocean Blue, 6GB RAM, 128GB...  14,999       \n",
       "3   Samsung Galaxy M11 (Black, 4GB RAM, 64GB Stora...   9,999       \n",
       "4   Samsung Galaxy M31 (Space Black, 6GB RAM, 128G...  14,999       \n",
       "5   Samsung Galaxy M12 (Black,6GB RAM, 128GB Stora...  13,499       \n",
       "6   Samsung Galaxy M31s (Mirage Blue, 8GB RAM, 128...  16,999       \n",
       "7   Samsung Galaxy M42 5G (Prism Dot Black, 8GB RA...  23,999       \n",
       "8   Samsung Galaxy M31 (Ocean Blue, 8GB RAM, 128GB...  21,990       \n",
       "9      Samsung Galaxy M02 (Red,2GB RAM, 32GB Storage)   7,999       \n",
       "10  Samsung Galaxy M02s (Black,4GB RAM, 64GB Stora...  10,499       \n",
       "11  Samsung Galaxy M51 (Electric Blue, 8GB RAM, 12...  21,999       \n",
       "12  Samsung Galaxy M51 (Celestial Black, 8GB RAM, ...  21,999       \n",
       "13  Samsung Galaxy M02s (Blue,4GB RAM, 64GB Storag...  10,499       \n",
       "14  Samsung Galaxy A22 5G (Gray, 8GB RAM, 128GB St...  21,999       \n",
       "15  Samsung Galaxy M32 (Black, 4GB RAM, 64GB Stora...  14,999       \n",
       "16  Samsung Galaxy M32 (Black, 6GB RAM, 128GB Stor...  16,999       \n",
       "17  Samsung Galaxy M21 2021 Edition (Arctic Blue, ...  12,499       \n",
       "18  Samsung Galaxy M12 (White,6GB RAM, 128GB Stora...  13,499       \n",
       "19  Samsung Galaxy M32 (Light Blue, 6GB RAM, 128GB...  16,999       \n",
       "20  Samsung Galaxy M42 5G (Prism Dot Black, 6GB RA...  21,999       \n",
       "21    Samsung Galaxy M02 (Blue,2GB RAM, 32GB Storage)   7,999       \n",
       "22  Samsung Galaxy M31 (Iceberg Blue, 6GB RAM, 128...  14,999       \n",
       "23          (Renewed) Samsung F41 Fusion Blue 6+128GB  13,998       \n",
       "24  Samsung Galaxy M02s (Red,4GB RAM, 64GB Storage...  10,499       \n",
       "25  Samsung Galaxy A22 (Mint, 6GB RAM, 128GB Stora...  18,499       \n",
       "26   Samsung Galaxy M02 (Black,2GB RAM, 32GB Storage)   7,999       "
      ]
     },
     "execution_count": 33,
     "metadata": {},
     "output_type": "execute_result"
    }
   ],
   "source": [
    "phone_df"
   ]
  },
  {
   "cell_type": "code",
   "execution_count": 14,
   "id": "vietnamese-variation",
   "metadata": {},
   "outputs": [],
   "source": [
    "x = driver.find_elements(By.XPATH,'//*[@id=\"search\"]/div[1]/div[1]/div/span[3]/div[2]/div[3]/div/span/div/div/div/div/div[2]/div[2]/div/div/div[2]/div/span[1]/span/a/i[1]/span')"
   ]
  },
  {
   "cell_type": "code",
   "execution_count": 17,
   "id": "limited-spelling",
   "metadata": {},
   "outputs": [
    {
     "data": {
      "text/plain": [
       "<selenium.webdriver.remote.webelement.WebElement (session=\"16cf0c0dab4caaf86f0840185e22d363\", element=\"61b3489c-0aa0-47e9-871d-1f52c502f084\")>"
      ]
     },
     "execution_count": 17,
     "metadata": {},
     "output_type": "execute_result"
    }
   ],
   "source": []
  },
  {
   "cell_type": "code",
   "execution_count": 18,
   "id": "joined-thermal",
   "metadata": {},
   "outputs": [
    {
     "data": {
      "text/plain": [
       "list"
      ]
     },
     "execution_count": 18,
     "metadata": {},
     "output_type": "execute_result"
    }
   ],
   "source": [
    "type(x)"
   ]
  },
  {
   "cell_type": "code",
   "execution_count": 20,
   "id": "ignored-perspective",
   "metadata": {},
   "outputs": [],
   "source": [
    "x = driver.find_elements_by_css_selector('.a-icon.a-star-small-3')"
   ]
  },
  {
   "cell_type": "code",
   "execution_count": 23,
   "id": "comprehensive-sacrifice",
   "metadata": {},
   "outputs": [
    {
     "name": "stdout",
     "output_type": "stream",
     "text": [
      "[<selenium.webdriver.remote.webelement.WebElement (session=\"16cf0c0dab4caaf86f0840185e22d363\", element=\"954cadb2-e515-4666-be3f-5bfd61abd0aa\")>]\n"
     ]
    }
   ],
   "source": []
  },
  {
   "cell_type": "code",
   "execution_count": null,
   "id": "expired-northern",
   "metadata": {},
   "outputs": [],
   "source": []
  }
 ],
 "metadata": {
  "kernelspec": {
   "display_name": "Python 3",
   "language": "python",
   "name": "python3"
  },
  "language_info": {
   "codemirror_mode": {
    "name": "ipython",
    "version": 3
   },
   "file_extension": ".py",
   "mimetype": "text/x-python",
   "name": "python",
   "nbconvert_exporter": "python",
   "pygments_lexer": "ipython3",
   "version": "3.8.8"
  }
 },
 "nbformat": 4,
 "nbformat_minor": 5
}
