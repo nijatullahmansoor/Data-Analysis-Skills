{
 "cells": [
  {
   "cell_type": "code",
   "execution_count": 21,
   "id": "useful-kernel",
   "metadata": {},
   "outputs": [],
   "source": [
    "from selenium import webdriver\n",
    "import time\n",
    "import pandas as pd\n",
    "from selenium.common.exceptions import NoSuchElementException"
   ]
  },
  {
   "cell_type": "code",
   "execution_count": 3,
   "id": "interior-spare",
   "metadata": {},
   "outputs": [],
   "source": [
    "# timing for the entire process\n",
    "start = time.time()"
   ]
  },
  {
   "cell_type": "code",
   "execution_count": 26,
   "id": "contemporary-syntax",
   "metadata": {},
   "outputs": [],
   "source": [
    "def parse_jobs (search_keyword, num_of_jobs, path):\n",
    "    \n",
    "    # initializing the chromedriver\n",
    "    driver = webdriver.Chrome(executable_path=path)\n",
    "    \n",
    "    # setting the URL\n",
    "    driver.get(\"https://www.naukri.com/\")\n",
    "    \n",
    "    # getting the main window handle id (some of the code below is used to close the unwanted popups)\n",
    "    Main_Window = driver.current_window_handle\n",
    "    \n",
    "    time.sleep(5)\n",
    "    \n",
    "    #getting all the open window handle id's to close additional popups that are appearing\n",
    "    popup_windows = driver.window_handles\n",
    "\n",
    "    #looping through all the open  windows and closing ones that are not needed\n",
    "    for winId in popup_windows:\n",
    "        if winId != Main_Window: \n",
    "            driver.switch_to.window(winId)\n",
    "            driver.close()\n",
    "    \n",
    "    # switching to the main window\n",
    "    driver.switch_to.window(Main_Window)\n",
    "    \n",
    "    time.sleep(5)\n",
    "    \n",
    "    #Entering the search keword and searching\n",
    "    driver.find_element_by_class_name(\"sugInp\").send_keys(search_keyword)\n",
    "    driver.find_element_by_class_name(\"search-btn\").click()\n",
    "    \n",
    "    # getting the current url which has a specific format which will be used later\n",
    "    get_url = driver.current_url\n",
    "    \n",
    "    # getting the twoparts of the url by splitting with ?\n",
    "    first_part = get_url.split(\"?\")[0]\n",
    "    second_part = get_url.split(\"?\")[-1]\n",
    "    \n",
    "    # defining empty lists to store the parsed values\n",
    "    Title =      []\n",
    "    Company =    []\n",
    "    Experience = []\n",
    "    Salary =     []\n",
    "    Location =   []\n",
    "    Tags =       []\n",
    "    Reviews =    []\n",
    "    Ratings =    []\n",
    "    Job_Type =   []\n",
    "    Posted =     []\n",
    "\n",
    "    \n",
    "    # this is where parsing begins\n",
    "    for i in range(1,int(num_of_jobs/20)+1):\n",
    "        \n",
    "        # printing the number of pages parsed\n",
    "        print (\"Page {} of {}\".format(i,int(num_of_jobs/20)))\n",
    "        \n",
    "        # forming the new url with the help of two parts we defined earlier\n",
    "        url = first_part+\"-\"+str(i)+\"?\"+second_part\n",
    "    \n",
    "        # opening the url\n",
    "        driver.get(url)\n",
    "        \n",
    "        # giving some time so that all elements are loaded\n",
    "        time.sleep(5)\n",
    "\n",
    "        # getting job listing details\n",
    "        job_list = driver.find_elements_by_class_name(\"jobTuple.bgWhite.br4.mb-8\")\n",
    "\n",
    "        \n",
    "        # looping through all the job listings we have found in the above line of code.\n",
    "        for element in job_list:\n",
    "            \n",
    "            # getting the Title of the Job\n",
    "            try:\n",
    "                title = element.find_element_by_class_name(\"title.fw500.ellipsis\").text\n",
    "                Title.append(title)\n",
    "            except NoSuchElementException:\n",
    "                Title.append(None)\n",
    "            \n",
    "            # getting the Company name\n",
    "            try:\n",
    "                company = element.find_element_by_class_name(\"subTitle.ellipsis.fleft\").text\n",
    "                Company.append(company)\n",
    "            except NoSuchElementException:\n",
    "                Company.append(None)\n",
    "            \n",
    "            # getting the Experience needed for the job\n",
    "            try:\n",
    "                experience = element.find_element_by_class_name(\"ellipsis.fleft.fs12.lh16\").text\n",
    "                Experience.append(experience)\n",
    "            except NoSuchElementException:\n",
    "                Experience.append(None)\n",
    "            \n",
    "            # getting the Salary details if any\n",
    "            try:\n",
    "                salary = element.find_element_by_class_name(\"fleft.grey-text.br2.placeHolderLi.salary\").text\n",
    "                Salary.append(salary)\n",
    "            except NoSuchElementException:\n",
    "                Salary.append(None)\n",
    "            \n",
    "            # getting the Location \n",
    "            try:\n",
    "                location = element.find_element_by_class_name(\"fleft.grey-text.br2.placeHolderLi.location\").text\n",
    "                Location.append(location)\n",
    "            except NoSuchElementException:\n",
    "                Location.append(None)\n",
    "            \n",
    "            # getting the Tags\n",
    "            try:\n",
    "                tags = element.find_element_by_class_name(\"tags.has-description\").text\n",
    "                Tags.append(tags)\n",
    "            except NoSuchElementException:\n",
    "                Tags.append(None)\n",
    "            \n",
    "            # getting the number of Reviews of the company\n",
    "            try: \n",
    "                review = element.find_element_by_css_selector('a.reviewsCount.ml-5.fleft.blue-text').text\n",
    "                Reviews.append(review)\n",
    "            except NoSuchElementException:\n",
    "                Reviews.append(None)\n",
    "            \n",
    "            # getting the Rating of the company\n",
    "            try:\n",
    "                rating = element.find_element_by_css_selector(\"span.starRating.fleft.dot\").text\n",
    "                Ratings.append(rating)\n",
    "            except NoSuchElementException:\n",
    "                Ratings.append(None)\n",
    "            \n",
    "            # getting the Job Type, eg: Hotness, Preferred etc\n",
    "            try: \n",
    "                job_type = element.find_element_by_css_selector('div.jobType.type.fleft.br2.mr-8').text\n",
    "                Job_Type.append(job_type)\n",
    "            except NoSuchElementException:\n",
    "                Job_Type.append(None)\n",
    "            \n",
    "            # getting the number of days before which the job was posted\n",
    "            try: \n",
    "                days = element.find_element_by_css_selector('div.type.br2.fleft.grey').text\n",
    "                Posted.append(days)\n",
    "            except NoSuchElementException:\n",
    "                try:\n",
    "                    days = element.find_element_by_css_selector('div.type.br2.fleft.green').text\n",
    "                    Posted.append(days)\n",
    "                except NoSuchElementException:\n",
    "                    Posted.append(None)\n",
    "    \n",
    "    # initializing empty dataframe \n",
    "    df = pd.DataFrame()\n",
    "    \n",
    "    # assigning values to dataframe columns\n",
    "    df['Title'] =      Title\n",
    "    df['Company'] =    Company\n",
    "    df['Experience'] = Experience\n",
    "    df['Location'] =   Location\n",
    "    df['Tags'] =       Tags\n",
    "    df['Ratings'] =    Ratings\n",
    "    df['Reviews'] =    Reviews\n",
    "    df['Salary'] =     Salary\n",
    "    df['Job_Type'] =   Job_Type\n",
    "    df['Posted'] =     Posted\n",
    "    \n",
    "    # end time to complete the process\n",
    "    end = time.time()\n",
    "    print (\"Time Taken to Parse {} jobs is:{} seconds\".format(num_of_jobs,(end-start)))\n",
    "    \n",
    "    # quitting the driver (browser)\n",
    "    driver.quit()\n",
    "    \n",
    "    # returning the dataframe formed\n",
    "    return df"
   ]
  },
  {
   "cell_type": "markdown",
   "id": "generic-construction",
   "metadata": {},
   "source": [
    "Let's make a call to our functions."
   ]
  },
  {
   "cell_type": "code",
   "execution_count": 28,
   "id": "foster-allergy",
   "metadata": {},
   "outputs": [
    {
     "name": "stdout",
     "output_type": "stream",
     "text": [
      "Page 1 of 10\n",
      "Page 2 of 10\n",
      "Page 3 of 10\n",
      "Page 4 of 10\n",
      "Page 5 of 10\n",
      "Page 6 of 10\n",
      "Page 7 of 10\n",
      "Page 8 of 10\n",
      "Page 9 of 10\n",
      "Page 10 of 10\n",
      "Time Taken to Parse 200 jobs is:7294.017166137695 seconds\n"
     ]
    }
   ],
   "source": [
    "path = r'C:\\Users\\nijat\\Desktop\\Data Science\\Preparation For Interview\\Technicl Skil\\web Scraping\\Chromedriver'\n",
    "dataframe = parse_jobs(\"Machine Learning\", 200,path)\n",
    "dataframe.to_csv(\"Raw_Data.csv\",index=None)"
   ]
  },
  {
   "cell_type": "code",
   "execution_count": 42,
   "id": "gentle-beauty",
   "metadata": {},
   "outputs": [],
   "source": [
    "#https://www.naukri.com/machine-learning-jobs-16?k=machine%20learning\n",
    "path = r'C:\\Users\\nijat\\Desktop\\Data Science\\Preparation For Interview\\Technicl Skil\\web Scraping\\Chromedriver'\n",
    "driver = webdriver.Chrome(executable_path=path)"
   ]
  },
  {
   "cell_type": "code",
   "execution_count": 103,
   "id": "gentle-cedar",
   "metadata": {},
   "outputs": [],
   "source": [
    "driver.get(\"https://www.naukri.com/\")"
   ]
  },
  {
   "cell_type": "code",
   "execution_count": 104,
   "id": "strategic-valve",
   "metadata": {},
   "outputs": [],
   "source": [
    "Main_Window = driver.current_window_handle"
   ]
  },
  {
   "cell_type": "code",
   "execution_count": 105,
   "id": "excellent-robinson",
   "metadata": {},
   "outputs": [
    {
     "data": {
      "text/plain": [
       "'CDwindow-BEB7B0254620DEC8E6FEADC80E9945A5'"
      ]
     },
     "execution_count": 105,
     "metadata": {},
     "output_type": "execute_result"
    }
   ],
   "source": [
    "Main_Window"
   ]
  },
  {
   "cell_type": "code",
   "execution_count": 106,
   "id": "caring-latex",
   "metadata": {},
   "outputs": [],
   "source": [
    "popup_windows = driver.window_handles"
   ]
  },
  {
   "cell_type": "code",
   "execution_count": 107,
   "id": "accurate-handy",
   "metadata": {},
   "outputs": [],
   "source": [
    "for widId in popup_windows:\n",
    "    if widId != Main_Window:\n",
    "        driver.switch_to.window(widId)\n",
    "        driver.close()"
   ]
  },
  {
   "cell_type": "code",
   "execution_count": 108,
   "id": "disturbed-keyboard",
   "metadata": {},
   "outputs": [],
   "source": [
    "driver.switch_to.window(Main_Window)"
   ]
  },
  {
   "cell_type": "code",
   "execution_count": 109,
   "id": "selective-investing",
   "metadata": {},
   "outputs": [],
   "source": [
    "time.sleep(5)\n",
    "driver.find_element_by_id(\"qsb-keyword-sugg\").send_keys(\"data analyst internship\")\n",
    "#driver.find_element_by_id(\"qsb-location-sugg\").send_keys(\"bangalore India\")\n",
    "driver.find_element_by_xpath(\"//div[contains(@class,'search-btn')]\").click()"
   ]
  },
  {
   "cell_type": "code",
   "execution_count": 110,
   "id": "incorrect-treasure",
   "metadata": {},
   "outputs": [],
   "source": [
    "get_url = driver.current_url"
   ]
  },
  {
   "cell_type": "code",
   "execution_count": 111,
   "id": "quiet-internet",
   "metadata": {},
   "outputs": [
    {
     "data": {
      "text/plain": [
       "'https://www.naukri.com/data-analyst-internship-jobs?k=data%20analyst%20internship'"
      ]
     },
     "execution_count": 111,
     "metadata": {},
     "output_type": "execute_result"
    }
   ],
   "source": [
    "get_url"
   ]
  },
  {
   "cell_type": "code",
   "execution_count": 85,
   "id": "dramatic-divorce",
   "metadata": {},
   "outputs": [
    {
     "data": {
      "text/plain": [
       "'https://www.naukri.com/data-analyst-internship-jobs'"
      ]
     },
     "execution_count": 85,
     "metadata": {},
     "output_type": "execute_result"
    }
   ],
   "source": [
    "get_url.split(\"?\")[0]"
   ]
  },
  {
   "cell_type": "code",
   "execution_count": 112,
   "id": "grave-baking",
   "metadata": {},
   "outputs": [],
   "source": [
    "first_part = get_url.split(\"?\")[0]\n",
    "second_part = get_url.split(\"?\")[-1]"
   ]
  },
  {
   "cell_type": "code",
   "execution_count": 87,
   "id": "governmental-pierre",
   "metadata": {},
   "outputs": [
    {
     "data": {
      "text/plain": [
       "'https://www.naukri.com/data-analyst-internship-jobs'"
      ]
     },
     "execution_count": 87,
     "metadata": {},
     "output_type": "execute_result"
    }
   ],
   "source": [
    "first_part"
   ]
  },
  {
   "cell_type": "code",
   "execution_count": 88,
   "id": "medical-luther",
   "metadata": {},
   "outputs": [
    {
     "data": {
      "text/plain": [
       "'k=data%20analyst%20internship'"
      ]
     },
     "execution_count": 88,
     "metadata": {},
     "output_type": "execute_result"
    }
   ],
   "source": [
    "second_part"
   ]
  },
  {
   "cell_type": "code",
   "execution_count": 113,
   "id": "aggressive-mauritius",
   "metadata": {},
   "outputs": [],
   "source": [
    "Title =      []\n",
    "Company =    []\n",
    "Experience = []\n",
    "Salary =     []\n",
    "Location =   []\n",
    "Tags =       []\n",
    "Reviews =    []\n",
    "Ratings =    []\n",
    "Job_Type =   []\n",
    "Posted =     []"
   ]
  },
  {
   "cell_type": "code",
   "execution_count": 114,
   "id": "behavioral-egyptian",
   "metadata": {},
   "outputs": [
    {
     "name": "stdout",
     "output_type": "stream",
     "text": [
      "Page 1 of 10\n"
     ]
    },
    {
     "ename": "StaleElementReferenceException",
     "evalue": "Message: stale element reference: element is not attached to the page document\n  (Session info: chrome=92.0.4515.131)\n",
     "output_type": "error",
     "traceback": [
      "\u001b[1;31m---------------------------------------------------------------------------\u001b[0m",
      "\u001b[1;31mStaleElementReferenceException\u001b[0m            Traceback (most recent call last)",
      "\u001b[1;32m<ipython-input-114-e6ad1f6e1356>\u001b[0m in \u001b[0;36m<module>\u001b[1;34m\u001b[0m\n\u001b[0;32m      5\u001b[0m     \u001b[0mjob_list\u001b[0m \u001b[1;33m=\u001b[0m \u001b[0mdriver\u001b[0m\u001b[1;33m.\u001b[0m\u001b[0mfind_elements_by_class_name\u001b[0m\u001b[1;33m(\u001b[0m\u001b[1;34m\"jobTuple.bgWhite.br4.mb-8\"\u001b[0m\u001b[1;33m)\u001b[0m\u001b[1;33m\u001b[0m\u001b[1;33m\u001b[0m\u001b[0m\n\u001b[0;32m      6\u001b[0m     \u001b[1;32mtry\u001b[0m\u001b[1;33m:\u001b[0m\u001b[1;33m\u001b[0m\u001b[1;33m\u001b[0m\u001b[0m\n\u001b[1;32m----> 7\u001b[1;33m         \u001b[0mcompany\u001b[0m \u001b[1;33m=\u001b[0m \u001b[0melement\u001b[0m\u001b[1;33m.\u001b[0m\u001b[0mfind_element_by_class_name\u001b[0m\u001b[1;33m(\u001b[0m\u001b[1;34m\"subTitle.ellipsis.fleft\"\u001b[0m\u001b[1;33m)\u001b[0m\u001b[1;33m.\u001b[0m\u001b[0mtext\u001b[0m\u001b[1;33m\u001b[0m\u001b[1;33m\u001b[0m\u001b[0m\n\u001b[0m\u001b[0;32m      8\u001b[0m         \u001b[0mCompany\u001b[0m\u001b[1;33m.\u001b[0m\u001b[0mappend\u001b[0m\u001b[1;33m(\u001b[0m\u001b[0mcompany\u001b[0m\u001b[1;33m)\u001b[0m\u001b[1;33m\u001b[0m\u001b[1;33m\u001b[0m\u001b[0m\n\u001b[0;32m      9\u001b[0m     \u001b[1;32mexcept\u001b[0m \u001b[0mNoSuchElementException\u001b[0m\u001b[1;33m:\u001b[0m\u001b[1;33m\u001b[0m\u001b[1;33m\u001b[0m\u001b[0m\n",
      "\u001b[1;32m~\\anaconda3\\lib\\site-packages\\selenium\\webdriver\\remote\\webelement.py\u001b[0m in \u001b[0;36mfind_element_by_class_name\u001b[1;34m(self, name)\u001b[0m\n\u001b[0;32m    396\u001b[0m             \u001b[0melement\u001b[0m \u001b[1;33m=\u001b[0m \u001b[0melement\u001b[0m\u001b[1;33m.\u001b[0m\u001b[0mfind_element_by_class_name\u001b[0m\u001b[1;33m(\u001b[0m\u001b[1;34m'foo'\u001b[0m\u001b[1;33m)\u001b[0m\u001b[1;33m\u001b[0m\u001b[1;33m\u001b[0m\u001b[0m\n\u001b[0;32m    397\u001b[0m         \"\"\"\n\u001b[1;32m--> 398\u001b[1;33m         \u001b[1;32mreturn\u001b[0m \u001b[0mself\u001b[0m\u001b[1;33m.\u001b[0m\u001b[0mfind_element\u001b[0m\u001b[1;33m(\u001b[0m\u001b[0mby\u001b[0m\u001b[1;33m=\u001b[0m\u001b[0mBy\u001b[0m\u001b[1;33m.\u001b[0m\u001b[0mCLASS_NAME\u001b[0m\u001b[1;33m,\u001b[0m \u001b[0mvalue\u001b[0m\u001b[1;33m=\u001b[0m\u001b[0mname\u001b[0m\u001b[1;33m)\u001b[0m\u001b[1;33m\u001b[0m\u001b[1;33m\u001b[0m\u001b[0m\n\u001b[0m\u001b[0;32m    399\u001b[0m \u001b[1;33m\u001b[0m\u001b[0m\n\u001b[0;32m    400\u001b[0m     \u001b[1;32mdef\u001b[0m \u001b[0mfind_elements_by_class_name\u001b[0m\u001b[1;33m(\u001b[0m\u001b[0mself\u001b[0m\u001b[1;33m,\u001b[0m \u001b[0mname\u001b[0m\u001b[1;33m)\u001b[0m\u001b[1;33m:\u001b[0m\u001b[1;33m\u001b[0m\u001b[1;33m\u001b[0m\u001b[0m\n",
      "\u001b[1;32m~\\anaconda3\\lib\\site-packages\\selenium\\webdriver\\remote\\webelement.py\u001b[0m in \u001b[0;36mfind_element\u001b[1;34m(self, by, value)\u001b[0m\n\u001b[0;32m    656\u001b[0m                 \u001b[0mvalue\u001b[0m \u001b[1;33m=\u001b[0m \u001b[1;34m'[name=\"%s\"]'\u001b[0m \u001b[1;33m%\u001b[0m \u001b[0mvalue\u001b[0m\u001b[1;33m\u001b[0m\u001b[1;33m\u001b[0m\u001b[0m\n\u001b[0;32m    657\u001b[0m \u001b[1;33m\u001b[0m\u001b[0m\n\u001b[1;32m--> 658\u001b[1;33m         return self._execute(Command.FIND_CHILD_ELEMENT,\n\u001b[0m\u001b[0;32m    659\u001b[0m                              {\"using\": by, \"value\": value})['value']\n\u001b[0;32m    660\u001b[0m \u001b[1;33m\u001b[0m\u001b[0m\n",
      "\u001b[1;32m~\\anaconda3\\lib\\site-packages\\selenium\\webdriver\\remote\\webelement.py\u001b[0m in \u001b[0;36m_execute\u001b[1;34m(self, command, params)\u001b[0m\n\u001b[0;32m    631\u001b[0m             \u001b[0mparams\u001b[0m \u001b[1;33m=\u001b[0m \u001b[1;33m{\u001b[0m\u001b[1;33m}\u001b[0m\u001b[1;33m\u001b[0m\u001b[1;33m\u001b[0m\u001b[0m\n\u001b[0;32m    632\u001b[0m         \u001b[0mparams\u001b[0m\u001b[1;33m[\u001b[0m\u001b[1;34m'id'\u001b[0m\u001b[1;33m]\u001b[0m \u001b[1;33m=\u001b[0m \u001b[0mself\u001b[0m\u001b[1;33m.\u001b[0m\u001b[0m_id\u001b[0m\u001b[1;33m\u001b[0m\u001b[1;33m\u001b[0m\u001b[0m\n\u001b[1;32m--> 633\u001b[1;33m         \u001b[1;32mreturn\u001b[0m \u001b[0mself\u001b[0m\u001b[1;33m.\u001b[0m\u001b[0m_parent\u001b[0m\u001b[1;33m.\u001b[0m\u001b[0mexecute\u001b[0m\u001b[1;33m(\u001b[0m\u001b[0mcommand\u001b[0m\u001b[1;33m,\u001b[0m \u001b[0mparams\u001b[0m\u001b[1;33m)\u001b[0m\u001b[1;33m\u001b[0m\u001b[1;33m\u001b[0m\u001b[0m\n\u001b[0m\u001b[0;32m    634\u001b[0m \u001b[1;33m\u001b[0m\u001b[0m\n\u001b[0;32m    635\u001b[0m     \u001b[1;32mdef\u001b[0m \u001b[0mfind_element\u001b[0m\u001b[1;33m(\u001b[0m\u001b[0mself\u001b[0m\u001b[1;33m,\u001b[0m \u001b[0mby\u001b[0m\u001b[1;33m=\u001b[0m\u001b[0mBy\u001b[0m\u001b[1;33m.\u001b[0m\u001b[0mID\u001b[0m\u001b[1;33m,\u001b[0m \u001b[0mvalue\u001b[0m\u001b[1;33m=\u001b[0m\u001b[1;32mNone\u001b[0m\u001b[1;33m)\u001b[0m\u001b[1;33m:\u001b[0m\u001b[1;33m\u001b[0m\u001b[1;33m\u001b[0m\u001b[0m\n",
      "\u001b[1;32m~\\anaconda3\\lib\\site-packages\\selenium\\webdriver\\remote\\webdriver.py\u001b[0m in \u001b[0;36mexecute\u001b[1;34m(self, driver_command, params)\u001b[0m\n\u001b[0;32m    319\u001b[0m         \u001b[0mresponse\u001b[0m \u001b[1;33m=\u001b[0m \u001b[0mself\u001b[0m\u001b[1;33m.\u001b[0m\u001b[0mcommand_executor\u001b[0m\u001b[1;33m.\u001b[0m\u001b[0mexecute\u001b[0m\u001b[1;33m(\u001b[0m\u001b[0mdriver_command\u001b[0m\u001b[1;33m,\u001b[0m \u001b[0mparams\u001b[0m\u001b[1;33m)\u001b[0m\u001b[1;33m\u001b[0m\u001b[1;33m\u001b[0m\u001b[0m\n\u001b[0;32m    320\u001b[0m         \u001b[1;32mif\u001b[0m \u001b[0mresponse\u001b[0m\u001b[1;33m:\u001b[0m\u001b[1;33m\u001b[0m\u001b[1;33m\u001b[0m\u001b[0m\n\u001b[1;32m--> 321\u001b[1;33m             \u001b[0mself\u001b[0m\u001b[1;33m.\u001b[0m\u001b[0merror_handler\u001b[0m\u001b[1;33m.\u001b[0m\u001b[0mcheck_response\u001b[0m\u001b[1;33m(\u001b[0m\u001b[0mresponse\u001b[0m\u001b[1;33m)\u001b[0m\u001b[1;33m\u001b[0m\u001b[1;33m\u001b[0m\u001b[0m\n\u001b[0m\u001b[0;32m    322\u001b[0m             response['value'] = self._unwrap_value(\n\u001b[0;32m    323\u001b[0m                 response.get('value', None))\n",
      "\u001b[1;32m~\\anaconda3\\lib\\site-packages\\selenium\\webdriver\\remote\\errorhandler.py\u001b[0m in \u001b[0;36mcheck_response\u001b[1;34m(self, response)\u001b[0m\n\u001b[0;32m    240\u001b[0m                 \u001b[0malert_text\u001b[0m \u001b[1;33m=\u001b[0m \u001b[0mvalue\u001b[0m\u001b[1;33m[\u001b[0m\u001b[1;34m'alert'\u001b[0m\u001b[1;33m]\u001b[0m\u001b[1;33m.\u001b[0m\u001b[0mget\u001b[0m\u001b[1;33m(\u001b[0m\u001b[1;34m'text'\u001b[0m\u001b[1;33m)\u001b[0m\u001b[1;33m\u001b[0m\u001b[1;33m\u001b[0m\u001b[0m\n\u001b[0;32m    241\u001b[0m             \u001b[1;32mraise\u001b[0m \u001b[0mexception_class\u001b[0m\u001b[1;33m(\u001b[0m\u001b[0mmessage\u001b[0m\u001b[1;33m,\u001b[0m \u001b[0mscreen\u001b[0m\u001b[1;33m,\u001b[0m \u001b[0mstacktrace\u001b[0m\u001b[1;33m,\u001b[0m \u001b[0malert_text\u001b[0m\u001b[1;33m)\u001b[0m\u001b[1;33m\u001b[0m\u001b[1;33m\u001b[0m\u001b[0m\n\u001b[1;32m--> 242\u001b[1;33m         \u001b[1;32mraise\u001b[0m \u001b[0mexception_class\u001b[0m\u001b[1;33m(\u001b[0m\u001b[0mmessage\u001b[0m\u001b[1;33m,\u001b[0m \u001b[0mscreen\u001b[0m\u001b[1;33m,\u001b[0m \u001b[0mstacktrace\u001b[0m\u001b[1;33m)\u001b[0m\u001b[1;33m\u001b[0m\u001b[1;33m\u001b[0m\u001b[0m\n\u001b[0m\u001b[0;32m    243\u001b[0m \u001b[1;33m\u001b[0m\u001b[0m\n\u001b[0;32m    244\u001b[0m     \u001b[1;32mdef\u001b[0m \u001b[0m_value_or_default\u001b[0m\u001b[1;33m(\u001b[0m\u001b[0mself\u001b[0m\u001b[1;33m,\u001b[0m \u001b[0mobj\u001b[0m\u001b[1;33m,\u001b[0m \u001b[0mkey\u001b[0m\u001b[1;33m,\u001b[0m \u001b[0mdefault\u001b[0m\u001b[1;33m)\u001b[0m\u001b[1;33m:\u001b[0m\u001b[1;33m\u001b[0m\u001b[1;33m\u001b[0m\u001b[0m\n",
      "\u001b[1;31mStaleElementReferenceException\u001b[0m: Message: stale element reference: element is not attached to the page document\n  (Session info: chrome=92.0.4515.131)\n"
     ]
    }
   ],
   "source": [
    "for i in range(1,int(200/20)+1):\n",
    "    print (\"Page {} of {}\".format(i,int(200/20)))\n",
    "    url = first_part+\"-\"+str(i)+\"?\"+second_part\n",
    "    driver.get(url)\n",
    "    job_list = driver.find_elements_by_class_name(\"jobTuple.bgWhite.br4.mb-8\")\n",
    "    try:\n",
    "        company = element.find_element_by_class_name(\"subTitle.ellipsis.fleft\").text\n",
    "        Company.append(company)\n",
    "    except NoSuchElementException:\n",
    "        Company.append(None)"
   ]
  },
  {
   "cell_type": "code",
   "execution_count": 92,
   "id": "pursuant-projector",
   "metadata": {},
   "outputs": [],
   "source": [
    "job_list = driver.find_elements_by_class_name(\"jobTuple.bgWhite.br4.mb-8\")"
   ]
  },
  {
   "cell_type": "code",
   "execution_count": 93,
   "id": "static-verification",
   "metadata": {},
   "outputs": [
    {
     "data": {
      "text/plain": [
       "[<selenium.webdriver.remote.webelement.WebElement (session=\"4edc6abc2390b9d001dd562e26c80d7f\", element=\"1692dca2-e625-440f-81d0-5c10e494b9ab\")>,\n",
       " <selenium.webdriver.remote.webelement.WebElement (session=\"4edc6abc2390b9d001dd562e26c80d7f\", element=\"47bf8113-c33d-4b0e-8845-eae75979b884\")>,\n",
       " <selenium.webdriver.remote.webelement.WebElement (session=\"4edc6abc2390b9d001dd562e26c80d7f\", element=\"2e8fb645-3270-4477-bcff-df5fec88f508\")>,\n",
       " <selenium.webdriver.remote.webelement.WebElement (session=\"4edc6abc2390b9d001dd562e26c80d7f\", element=\"f03d0f23-d928-4655-932c-33f8eb362f6a\")>,\n",
       " <selenium.webdriver.remote.webelement.WebElement (session=\"4edc6abc2390b9d001dd562e26c80d7f\", element=\"e29045a6-9de9-476c-9281-abd7c0b03015\")>,\n",
       " <selenium.webdriver.remote.webelement.WebElement (session=\"4edc6abc2390b9d001dd562e26c80d7f\", element=\"a46041fa-08b6-4562-ad57-16af2d5ccd76\")>,\n",
       " <selenium.webdriver.remote.webelement.WebElement (session=\"4edc6abc2390b9d001dd562e26c80d7f\", element=\"52c15e9c-1f8a-4e45-b315-656af08d1851\")>,\n",
       " <selenium.webdriver.remote.webelement.WebElement (session=\"4edc6abc2390b9d001dd562e26c80d7f\", element=\"147630e6-1c8c-4d38-ac5f-7d90f96a6bc3\")>,\n",
       " <selenium.webdriver.remote.webelement.WebElement (session=\"4edc6abc2390b9d001dd562e26c80d7f\", element=\"f6224115-cb67-43ce-b6ea-e8c71abcc9cf\")>,\n",
       " <selenium.webdriver.remote.webelement.WebElement (session=\"4edc6abc2390b9d001dd562e26c80d7f\", element=\"8b4a2a98-9c5e-4f34-a4cd-7adece225e85\")>,\n",
       " <selenium.webdriver.remote.webelement.WebElement (session=\"4edc6abc2390b9d001dd562e26c80d7f\", element=\"93a18fa2-db4d-44ba-95a0-55e55814fb5c\")>,\n",
       " <selenium.webdriver.remote.webelement.WebElement (session=\"4edc6abc2390b9d001dd562e26c80d7f\", element=\"f467aa1c-3565-43b4-8828-e63d131f308a\")>,\n",
       " <selenium.webdriver.remote.webelement.WebElement (session=\"4edc6abc2390b9d001dd562e26c80d7f\", element=\"39bb593b-c331-47eb-b68c-18283ceedc1f\")>,\n",
       " <selenium.webdriver.remote.webelement.WebElement (session=\"4edc6abc2390b9d001dd562e26c80d7f\", element=\"b403684f-0342-4599-8686-de023e151289\")>,\n",
       " <selenium.webdriver.remote.webelement.WebElement (session=\"4edc6abc2390b9d001dd562e26c80d7f\", element=\"ca2aa568-7e44-4f10-882f-13ae76e053f8\")>,\n",
       " <selenium.webdriver.remote.webelement.WebElement (session=\"4edc6abc2390b9d001dd562e26c80d7f\", element=\"4a5dfc5a-83a7-4cde-b33a-f59b7e6696b2\")>,\n",
       " <selenium.webdriver.remote.webelement.WebElement (session=\"4edc6abc2390b9d001dd562e26c80d7f\", element=\"8c1feed8-f1ee-42ff-916e-61efa6b7c322\")>,\n",
       " <selenium.webdriver.remote.webelement.WebElement (session=\"4edc6abc2390b9d001dd562e26c80d7f\", element=\"25c860d5-03c9-409d-8589-86ce07851e60\")>,\n",
       " <selenium.webdriver.remote.webelement.WebElement (session=\"4edc6abc2390b9d001dd562e26c80d7f\", element=\"8cdb36c3-329b-4a3d-9924-f06668856838\")>,\n",
       " <selenium.webdriver.remote.webelement.WebElement (session=\"4edc6abc2390b9d001dd562e26c80d7f\", element=\"384d0d5d-f3a6-4aea-a08e-2cda2ee1f34b\")>]"
      ]
     },
     "execution_count": 93,
     "metadata": {},
     "output_type": "execute_result"
    }
   ],
   "source": [
    "job_list"
   ]
  },
  {
   "cell_type": "code",
   "execution_count": 102,
   "id": "rental-virtue",
   "metadata": {},
   "outputs": [
    {
     "ename": "StaleElementReferenceException",
     "evalue": "Message: stale element reference: element is not attached to the page document\n  (Session info: chrome=92.0.4515.131)\n",
     "output_type": "error",
     "traceback": [
      "\u001b[1;31m---------------------------------------------------------------------------\u001b[0m",
      "\u001b[1;31mStaleElementReferenceException\u001b[0m            Traceback (most recent call last)",
      "\u001b[1;32m<ipython-input-102-c1012eafea14>\u001b[0m in \u001b[0;36m<module>\u001b[1;34m\u001b[0m\n\u001b[0;32m      2\u001b[0m \u001b[1;32mfor\u001b[0m \u001b[0melement\u001b[0m \u001b[1;32min\u001b[0m \u001b[0mjob_list\u001b[0m\u001b[1;33m:\u001b[0m\u001b[1;33m\u001b[0m\u001b[1;33m\u001b[0m\u001b[0m\n\u001b[0;32m      3\u001b[0m     \u001b[1;32mtry\u001b[0m\u001b[1;33m:\u001b[0m\u001b[1;33m\u001b[0m\u001b[1;33m\u001b[0m\u001b[0m\n\u001b[1;32m----> 4\u001b[1;33m         \u001b[0mcompany\u001b[0m \u001b[1;33m=\u001b[0m \u001b[0melement\u001b[0m\u001b[1;33m.\u001b[0m\u001b[0mfind_element_by_class_name\u001b[0m\u001b[1;33m(\u001b[0m\u001b[1;34m\"subTitle.ellipsis.fleft\"\u001b[0m\u001b[1;33m)\u001b[0m\u001b[1;33m.\u001b[0m\u001b[0mtext\u001b[0m\u001b[1;33m\u001b[0m\u001b[1;33m\u001b[0m\u001b[0m\n\u001b[0m\u001b[0;32m      5\u001b[0m         \u001b[0mCompany\u001b[0m\u001b[1;33m.\u001b[0m\u001b[0mappend\u001b[0m\u001b[1;33m(\u001b[0m\u001b[0mcompany\u001b[0m\u001b[1;33m)\u001b[0m\u001b[1;33m\u001b[0m\u001b[1;33m\u001b[0m\u001b[0m\n\u001b[0;32m      6\u001b[0m     \u001b[1;32mexcept\u001b[0m \u001b[0mNoSuchElementException\u001b[0m\u001b[1;33m:\u001b[0m\u001b[1;33m\u001b[0m\u001b[1;33m\u001b[0m\u001b[0m\n",
      "\u001b[1;32m~\\anaconda3\\lib\\site-packages\\selenium\\webdriver\\remote\\webelement.py\u001b[0m in \u001b[0;36mfind_element_by_class_name\u001b[1;34m(self, name)\u001b[0m\n\u001b[0;32m    396\u001b[0m             \u001b[0melement\u001b[0m \u001b[1;33m=\u001b[0m \u001b[0melement\u001b[0m\u001b[1;33m.\u001b[0m\u001b[0mfind_element_by_class_name\u001b[0m\u001b[1;33m(\u001b[0m\u001b[1;34m'foo'\u001b[0m\u001b[1;33m)\u001b[0m\u001b[1;33m\u001b[0m\u001b[1;33m\u001b[0m\u001b[0m\n\u001b[0;32m    397\u001b[0m         \"\"\"\n\u001b[1;32m--> 398\u001b[1;33m         \u001b[1;32mreturn\u001b[0m \u001b[0mself\u001b[0m\u001b[1;33m.\u001b[0m\u001b[0mfind_element\u001b[0m\u001b[1;33m(\u001b[0m\u001b[0mby\u001b[0m\u001b[1;33m=\u001b[0m\u001b[0mBy\u001b[0m\u001b[1;33m.\u001b[0m\u001b[0mCLASS_NAME\u001b[0m\u001b[1;33m,\u001b[0m \u001b[0mvalue\u001b[0m\u001b[1;33m=\u001b[0m\u001b[0mname\u001b[0m\u001b[1;33m)\u001b[0m\u001b[1;33m\u001b[0m\u001b[1;33m\u001b[0m\u001b[0m\n\u001b[0m\u001b[0;32m    399\u001b[0m \u001b[1;33m\u001b[0m\u001b[0m\n\u001b[0;32m    400\u001b[0m     \u001b[1;32mdef\u001b[0m \u001b[0mfind_elements_by_class_name\u001b[0m\u001b[1;33m(\u001b[0m\u001b[0mself\u001b[0m\u001b[1;33m,\u001b[0m \u001b[0mname\u001b[0m\u001b[1;33m)\u001b[0m\u001b[1;33m:\u001b[0m\u001b[1;33m\u001b[0m\u001b[1;33m\u001b[0m\u001b[0m\n",
      "\u001b[1;32m~\\anaconda3\\lib\\site-packages\\selenium\\webdriver\\remote\\webelement.py\u001b[0m in \u001b[0;36mfind_element\u001b[1;34m(self, by, value)\u001b[0m\n\u001b[0;32m    656\u001b[0m                 \u001b[0mvalue\u001b[0m \u001b[1;33m=\u001b[0m \u001b[1;34m'[name=\"%s\"]'\u001b[0m \u001b[1;33m%\u001b[0m \u001b[0mvalue\u001b[0m\u001b[1;33m\u001b[0m\u001b[1;33m\u001b[0m\u001b[0m\n\u001b[0;32m    657\u001b[0m \u001b[1;33m\u001b[0m\u001b[0m\n\u001b[1;32m--> 658\u001b[1;33m         return self._execute(Command.FIND_CHILD_ELEMENT,\n\u001b[0m\u001b[0;32m    659\u001b[0m                              {\"using\": by, \"value\": value})['value']\n\u001b[0;32m    660\u001b[0m \u001b[1;33m\u001b[0m\u001b[0m\n",
      "\u001b[1;32m~\\anaconda3\\lib\\site-packages\\selenium\\webdriver\\remote\\webelement.py\u001b[0m in \u001b[0;36m_execute\u001b[1;34m(self, command, params)\u001b[0m\n\u001b[0;32m    631\u001b[0m             \u001b[0mparams\u001b[0m \u001b[1;33m=\u001b[0m \u001b[1;33m{\u001b[0m\u001b[1;33m}\u001b[0m\u001b[1;33m\u001b[0m\u001b[1;33m\u001b[0m\u001b[0m\n\u001b[0;32m    632\u001b[0m         \u001b[0mparams\u001b[0m\u001b[1;33m[\u001b[0m\u001b[1;34m'id'\u001b[0m\u001b[1;33m]\u001b[0m \u001b[1;33m=\u001b[0m \u001b[0mself\u001b[0m\u001b[1;33m.\u001b[0m\u001b[0m_id\u001b[0m\u001b[1;33m\u001b[0m\u001b[1;33m\u001b[0m\u001b[0m\n\u001b[1;32m--> 633\u001b[1;33m         \u001b[1;32mreturn\u001b[0m \u001b[0mself\u001b[0m\u001b[1;33m.\u001b[0m\u001b[0m_parent\u001b[0m\u001b[1;33m.\u001b[0m\u001b[0mexecute\u001b[0m\u001b[1;33m(\u001b[0m\u001b[0mcommand\u001b[0m\u001b[1;33m,\u001b[0m \u001b[0mparams\u001b[0m\u001b[1;33m)\u001b[0m\u001b[1;33m\u001b[0m\u001b[1;33m\u001b[0m\u001b[0m\n\u001b[0m\u001b[0;32m    634\u001b[0m \u001b[1;33m\u001b[0m\u001b[0m\n\u001b[0;32m    635\u001b[0m     \u001b[1;32mdef\u001b[0m \u001b[0mfind_element\u001b[0m\u001b[1;33m(\u001b[0m\u001b[0mself\u001b[0m\u001b[1;33m,\u001b[0m \u001b[0mby\u001b[0m\u001b[1;33m=\u001b[0m\u001b[0mBy\u001b[0m\u001b[1;33m.\u001b[0m\u001b[0mID\u001b[0m\u001b[1;33m,\u001b[0m \u001b[0mvalue\u001b[0m\u001b[1;33m=\u001b[0m\u001b[1;32mNone\u001b[0m\u001b[1;33m)\u001b[0m\u001b[1;33m:\u001b[0m\u001b[1;33m\u001b[0m\u001b[1;33m\u001b[0m\u001b[0m\n",
      "\u001b[1;32m~\\anaconda3\\lib\\site-packages\\selenium\\webdriver\\remote\\webdriver.py\u001b[0m in \u001b[0;36mexecute\u001b[1;34m(self, driver_command, params)\u001b[0m\n\u001b[0;32m    319\u001b[0m         \u001b[0mresponse\u001b[0m \u001b[1;33m=\u001b[0m \u001b[0mself\u001b[0m\u001b[1;33m.\u001b[0m\u001b[0mcommand_executor\u001b[0m\u001b[1;33m.\u001b[0m\u001b[0mexecute\u001b[0m\u001b[1;33m(\u001b[0m\u001b[0mdriver_command\u001b[0m\u001b[1;33m,\u001b[0m \u001b[0mparams\u001b[0m\u001b[1;33m)\u001b[0m\u001b[1;33m\u001b[0m\u001b[1;33m\u001b[0m\u001b[0m\n\u001b[0;32m    320\u001b[0m         \u001b[1;32mif\u001b[0m \u001b[0mresponse\u001b[0m\u001b[1;33m:\u001b[0m\u001b[1;33m\u001b[0m\u001b[1;33m\u001b[0m\u001b[0m\n\u001b[1;32m--> 321\u001b[1;33m             \u001b[0mself\u001b[0m\u001b[1;33m.\u001b[0m\u001b[0merror_handler\u001b[0m\u001b[1;33m.\u001b[0m\u001b[0mcheck_response\u001b[0m\u001b[1;33m(\u001b[0m\u001b[0mresponse\u001b[0m\u001b[1;33m)\u001b[0m\u001b[1;33m\u001b[0m\u001b[1;33m\u001b[0m\u001b[0m\n\u001b[0m\u001b[0;32m    322\u001b[0m             response['value'] = self._unwrap_value(\n\u001b[0;32m    323\u001b[0m                 response.get('value', None))\n",
      "\u001b[1;32m~\\anaconda3\\lib\\site-packages\\selenium\\webdriver\\remote\\errorhandler.py\u001b[0m in \u001b[0;36mcheck_response\u001b[1;34m(self, response)\u001b[0m\n\u001b[0;32m    240\u001b[0m                 \u001b[0malert_text\u001b[0m \u001b[1;33m=\u001b[0m \u001b[0mvalue\u001b[0m\u001b[1;33m[\u001b[0m\u001b[1;34m'alert'\u001b[0m\u001b[1;33m]\u001b[0m\u001b[1;33m.\u001b[0m\u001b[0mget\u001b[0m\u001b[1;33m(\u001b[0m\u001b[1;34m'text'\u001b[0m\u001b[1;33m)\u001b[0m\u001b[1;33m\u001b[0m\u001b[1;33m\u001b[0m\u001b[0m\n\u001b[0;32m    241\u001b[0m             \u001b[1;32mraise\u001b[0m \u001b[0mexception_class\u001b[0m\u001b[1;33m(\u001b[0m\u001b[0mmessage\u001b[0m\u001b[1;33m,\u001b[0m \u001b[0mscreen\u001b[0m\u001b[1;33m,\u001b[0m \u001b[0mstacktrace\u001b[0m\u001b[1;33m,\u001b[0m \u001b[0malert_text\u001b[0m\u001b[1;33m)\u001b[0m\u001b[1;33m\u001b[0m\u001b[1;33m\u001b[0m\u001b[0m\n\u001b[1;32m--> 242\u001b[1;33m         \u001b[1;32mraise\u001b[0m \u001b[0mexception_class\u001b[0m\u001b[1;33m(\u001b[0m\u001b[0mmessage\u001b[0m\u001b[1;33m,\u001b[0m \u001b[0mscreen\u001b[0m\u001b[1;33m,\u001b[0m \u001b[0mstacktrace\u001b[0m\u001b[1;33m)\u001b[0m\u001b[1;33m\u001b[0m\u001b[1;33m\u001b[0m\u001b[0m\n\u001b[0m\u001b[0;32m    243\u001b[0m \u001b[1;33m\u001b[0m\u001b[0m\n\u001b[0;32m    244\u001b[0m     \u001b[1;32mdef\u001b[0m \u001b[0m_value_or_default\u001b[0m\u001b[1;33m(\u001b[0m\u001b[0mself\u001b[0m\u001b[1;33m,\u001b[0m \u001b[0mobj\u001b[0m\u001b[1;33m,\u001b[0m \u001b[0mkey\u001b[0m\u001b[1;33m,\u001b[0m \u001b[0mdefault\u001b[0m\u001b[1;33m)\u001b[0m\u001b[1;33m:\u001b[0m\u001b[1;33m\u001b[0m\u001b[1;33m\u001b[0m\u001b[0m\n",
      "\u001b[1;31mStaleElementReferenceException\u001b[0m: Message: stale element reference: element is not attached to the page document\n  (Session info: chrome=92.0.4515.131)\n"
     ]
    }
   ],
   "source": [
    "Company = []\n",
    "for element in job_list:\n",
    "    try:\n",
    "        company = element.find_element_by_class_name(\"subTitle.ellipsis.fleft\").text\n",
    "        Company.append(company)\n",
    "    except NoSuchElementException:\n",
    "        Company.append(None)"
   ]
  },
  {
   "cell_type": "code",
   "execution_count": null,
   "id": "sufficient-illness",
   "metadata": {},
   "outputs": [],
   "source": []
  }
 ],
 "metadata": {
  "kernelspec": {
   "display_name": "Python 3",
   "language": "python",
   "name": "python3"
  },
  "language_info": {
   "codemirror_mode": {
    "name": "ipython",
    "version": 3
   },
   "file_extension": ".py",
   "mimetype": "text/x-python",
   "name": "python",
   "nbconvert_exporter": "python",
   "pygments_lexer": "ipython3",
   "version": "3.8.8"
  }
 },
 "nbformat": 4,
 "nbformat_minor": 5
}
