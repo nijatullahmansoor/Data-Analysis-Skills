{
 "cells": [
  {
   "cell_type": "markdown",
   "id": "fundamental-polyester",
   "metadata": {},
   "source": [
    "## New Apple iPhone 12 Pro Max (256GB) - Pacific Blue Procut review Scraper Using Selenium"
   ]
  },
  {
   "cell_type": "markdown",
   "id": "inappropriate-desktop",
   "metadata": {},
   "source": [
    "let's first import the all the requred library."
   ]
  },
  {
   "cell_type": "code",
   "execution_count": 145,
   "id": "wooden-external",
   "metadata": {},
   "outputs": [],
   "source": [
    "from selenium import webdriver\n",
    "from selenium.webdriver.support.select import Select\n",
    "import time\n",
    "import pandas as pd"
   ]
  },
  {
   "cell_type": "code",
   "execution_count": 146,
   "id": "floating-territory",
   "metadata": {},
   "outputs": [],
   "source": [
    "path = r'C:\\Users\\nijat\\Desktop\\Data Science\\Preparation For Interview\\Technicl Skil\\web Scraping\\Chromedriver'\n",
    "driver = webdriver.Chrome(path)"
   ]
  },
  {
   "cell_type": "code",
   "execution_count": 147,
   "id": "australian-appendix",
   "metadata": {},
   "outputs": [],
   "source": [
    "url = 'https://www.amazon.in/ref=nav_logo'\n",
    "driver.get(url)\n",
    "driver.maximize_window()"
   ]
  },
  {
   "cell_type": "code",
   "execution_count": 148,
   "id": "alien-double",
   "metadata": {},
   "outputs": [
    {
     "name": "stdout",
     "output_type": "stream",
     "text": [
      "parnt window URL https://www.amazon.in/s?k=IPhone+12+pro+max+256gb+pacific+blue&ref=nb_sb_noss\n",
      "Child window URL https://www.amazon.in/New-Apple-iPhone-Pro-256GB/dp/B08L5T31M6/ref=sr_1_1?dchild=1&keywords=IPhone+12+pro+max+256gb+pacific+blue&qid=1628769743&sr=8-1\n"
     ]
    }
   ],
   "source": [
    "time.sleep(5)\n",
    "search_bar = driver.find_element_by_id(\"twotabsearchtextbox\")\n",
    "search_bar.clear()\n",
    "search_bar.send_keys(\"IPhone 12 pro max 256gb pacific blue\")\n",
    "\n",
    "search_button = driver.find_element_by_id(\"nav-search-submit-button\")\n",
    "search_button.click()\n",
    "\n",
    "iphone_12_pro_max = driver.find_element_by_link_text(\"New Apple iPhone 12 Pro Max (256GB) - Pacific Blue\")\n",
    "iphone_12_pro_max.click()\n",
    "\n",
    "# Now let's switch to the new window\n",
    "\n",
    "print(\"parnt window URL\",driver.current_url)\n",
    "#get current window handle\n",
    "parent_window = driver.current_window_handle\n",
    "\n",
    "#get first child window\n",
    "child_window = driver.window_handles\n",
    "\n",
    "for w in child_window:\n",
    "    # switch focus to child window\n",
    "    if (w != parent_window):\n",
    "        driver.switch_to.window(w)\n",
    "        break\n",
    "\n",
    "print(\"Child window URL\",driver.current_url)\n"
   ]
  },
  {
   "cell_type": "markdown",
   "id": "unusual-semester",
   "metadata": {},
   "source": [
    "from the above result we can see that we are now in the child window. "
   ]
  },
  {
   "cell_type": "code",
   "execution_count": 149,
   "id": "assumed-slope",
   "metadata": {},
   "outputs": [],
   "source": [
    "view_all_review = driver.find_element_by_class_name(\"a-link-emphasis.a-text-bold\")\n",
    "view_all_review.click()"
   ]
  },
  {
   "cell_type": "markdown",
   "id": "known-programmer",
   "metadata": {},
   "source": [
    "Let's sor the revie by the most recent one."
   ]
  },
  {
   "cell_type": "code",
   "execution_count": 150,
   "id": "innocent-woman",
   "metadata": {},
   "outputs": [],
   "source": [
    "time.sleep(6)\n",
    "sort = driver.find_element_by_id('a-autoid-4-announce')\n",
    "sort.click()\n",
    "most_recent = driver.find_element_by_link_text(\"Most recent\")\n",
    "most_recent.click()"
   ]
  },
  {
   "cell_type": "code",
   "execution_count": 133,
   "id": "solved-longitude",
   "metadata": {},
   "outputs": [],
   "source": [
    "url = driver.current_url"
   ]
  },
  {
   "cell_type": "code",
   "execution_count": 134,
   "id": "transparent-latino",
   "metadata": {},
   "outputs": [],
   "source": [
    "url = url[:-1]"
   ]
  },
  {
   "cell_type": "code",
   "execution_count": 135,
   "id": "amazing-blogger",
   "metadata": {},
   "outputs": [
    {
     "data": {
      "text/plain": [
       "'https://www.amazon.in/New-Apple-iPhone-Pro-256GB/product-reviews/B08L5T31M6/ref=cm_cr_arp_d_viewopt_srt?ie=UTF8&reviewerType=all_reviews&sortBy=recent&pageNumber='"
      ]
     },
     "execution_count": 135,
     "metadata": {},
     "output_type": "execute_result"
    }
   ],
   "source": [
    "url"
   ]
  },
  {
   "cell_type": "code",
   "execution_count": 136,
   "id": "undefined-aggregate",
   "metadata": {},
   "outputs": [
    {
     "data": {
      "text/plain": [
       "'https://www.amazon.in/New-Apple-iPhone-Pro-256GB/product-reviews/B08L5T31M6/ref=cm_cr_arp_d_viewopt_srt?ie=UTF8&reviewerType=all_reviews&sortBy=recent&pageNumber=1'"
      ]
     },
     "execution_count": 136,
     "metadata": {},
     "output_type": "execute_result"
    }
   ],
   "source": [
    "driver.current_url"
   ]
  },
  {
   "cell_type": "code",
   "execution_count": null,
   "id": "functioning-tradition",
   "metadata": {},
   "outputs": [],
   "source": []
  },
  {
   "cell_type": "code",
   "execution_count": null,
   "id": "interim-familiar",
   "metadata": {},
   "outputs": [],
   "source": []
  },
  {
   "cell_type": "code",
   "execution_count": 174,
   "id": "competitive-arkansas",
   "metadata": {},
   "outputs": [],
   "source": [
    "all_review_list = driver.find_elements_by_class_name(\"a-section.review.aok-relative\")"
   ]
  },
  {
   "cell_type": "code",
   "execution_count": 251,
   "id": "polar-turkish",
   "metadata": {},
   "outputs": [
    {
     "data": {
      "text/plain": [
       "'<span class=\"a-icon-alt\">5.0 out of 5 stars</span>'"
      ]
     },
     "execution_count": 251,
     "metadata": {},
     "output_type": "execute_result"
    }
   ],
   "source": [
    "x = driver.find_element_by_class_name(\"a-icon.a-icon-star.a-star-5.review-rating\")\n"
   ]
  },
  {
   "cell_type": "code",
   "execution_count": 250,
   "id": "killing-quarter",
   "metadata": {},
   "outputs": [
    {
     "data": {
      "text/plain": [
       "'5.0 out of 5 stars'"
      ]
     },
     "execution_count": 250,
     "metadata": {},
     "output_type": "execute_result"
    }
   ],
   "source": [
    "y = x.find_element_by_class_name('a-icon-alt')\n",
    "y.get_attribute(\"innerHTML\")\n"
   ]
  },
  {
   "cell_type": "code",
   "execution_count": 252,
   "id": "bright-structure",
   "metadata": {},
   "outputs": [
    {
     "data": {
      "text/plain": [
       "'5.0 out of 5 stars'"
      ]
     },
     "execution_count": 252,
     "metadata": {},
     "output_type": "execute_result"
    }
   ],
   "source": [
    "x.find_element_by_class_name('a-icon-alt').get_attribute(\"innerHTML\")"
   ]
  },
  {
   "cell_type": "code",
   "execution_count": 246,
   "id": "still-vitamin",
   "metadata": {},
   "outputs": [
    {
     "data": {
      "text/plain": [
       "'span'"
      ]
     },
     "execution_count": 246,
     "metadata": {},
     "output_type": "execute_result"
    }
   ],
   "source": [
    "y.tag_name"
   ]
  },
  {
   "cell_type": "code",
   "execution_count": 152,
   "id": "earlier-collar",
   "metadata": {},
   "outputs": [
    {
     "name": "stdout",
     "output_type": "stream",
     "text": [
      "<selenium.webdriver.remote.webelement.WebElement (session=\"2a3035247fa078cd03d9c2eecc6b2c0b\", element=\"449e9d2d-e440-40da-b228-332bb99da4e6\")>\n",
      "<selenium.webdriver.remote.webelement.WebElement (session=\"2a3035247fa078cd03d9c2eecc6b2c0b\", element=\"cb1f308f-8443-4134-a636-8643c52935ed\")>\n",
      "<selenium.webdriver.remote.webelement.WebElement (session=\"2a3035247fa078cd03d9c2eecc6b2c0b\", element=\"7602b3ee-cc25-4d99-8d1e-5331f7842277\")>\n",
      "<selenium.webdriver.remote.webelement.WebElement (session=\"2a3035247fa078cd03d9c2eecc6b2c0b\", element=\"8a95fa55-f471-445d-a50c-18b7d8c7df45\")>\n",
      "<selenium.webdriver.remote.webelement.WebElement (session=\"2a3035247fa078cd03d9c2eecc6b2c0b\", element=\"f6de65f0-7df2-4237-910d-33b5a11a1717\")>\n",
      "<selenium.webdriver.remote.webelement.WebElement (session=\"2a3035247fa078cd03d9c2eecc6b2c0b\", element=\"ab4822fb-6988-4da0-b9fb-833c195f357a\")>\n",
      "<selenium.webdriver.remote.webelement.WebElement (session=\"2a3035247fa078cd03d9c2eecc6b2c0b\", element=\"824c63b6-21e7-4c73-849d-8f6ba8865214\")>\n",
      "<selenium.webdriver.remote.webelement.WebElement (session=\"2a3035247fa078cd03d9c2eecc6b2c0b\", element=\"48b1f4f3-5529-4af1-8adc-3564ddca095f\")>\n",
      "<selenium.webdriver.remote.webelement.WebElement (session=\"2a3035247fa078cd03d9c2eecc6b2c0b\", element=\"c1c3a107-5655-480a-8ea0-1de41d893fc6\")>\n",
      "<selenium.webdriver.remote.webelement.WebElement (session=\"2a3035247fa078cd03d9c2eecc6b2c0b\", element=\"6d863b82-ad07-4d4d-b7b8-af240e9586d7\")>\n"
     ]
    }
   ],
   "source": [
    "for i in all_review_list:\n",
    "    print(i)"
   ]
  },
  {
   "cell_type": "markdown",
   "id": "dirty-complement",
   "metadata": {},
   "source": [
    "so now we have all the require element let's grab our require data from it."
   ]
  },
  {
   "cell_type": "code",
   "execution_count": 257,
   "id": "hydraulic-reflection",
   "metadata": {},
   "outputs": [],
   "source": [
    "review_title = []\n",
    "review_description = []\n",
    "reviewver_name = []\n",
    "review_date = []\n",
    "impact = []\n",
    "reviewer_rating = []\n"
   ]
  },
  {
   "cell_type": "code",
   "execution_count": 258,
   "id": "wanted-frequency",
   "metadata": {},
   "outputs": [],
   "source": [
    "for elelemnt in all_review_list:\n",
    "    \n",
    "    try:\n",
    "        title = elelemnt.find_element_by_class_name(\"a-size-base.a-link-normal.review-title.a-color-base.review-title-content.a-text-bold\")\n",
    "        review_title.append(title)\n",
    "    except:\n",
    "        review_title.append(None)\n",
    "    try:\n",
    "        rate = elelemnt.find_element_by_class_name('a-link-normal') # we may find more rating with this class name but here we retrive only 10\n",
    "        r = rate.find_element_by_class_name('a-icon-alt').get_attribute(\"innerHTML\")\n",
    "        reviewer_rating.append(r)\n",
    "\n",
    "    except:\n",
    "        reviewer_rating.append(None)\n",
    "        \n"
   ]
  },
  {
   "cell_type": "code",
   "execution_count": 259,
   "id": "explicit-theater",
   "metadata": {},
   "outputs": [
    {
     "data": {
      "text/plain": [
       "['5.0 out of 5 stars',\n",
       " '5.0 out of 5 stars',\n",
       " '5.0 out of 5 stars',\n",
       " '1.0 out of 5 stars',\n",
       " '5.0 out of 5 stars',\n",
       " '5.0 out of 5 stars',\n",
       " '5.0 out of 5 stars',\n",
       " '4.0 out of 5 stars',\n",
       " '1.0 out of 5 stars',\n",
       " '5.0 out of 5 stars']"
      ]
     },
     "execution_count": 259,
     "metadata": {},
     "output_type": "execute_result"
    }
   ],
   "source": [
    "reviewer_rating"
   ]
  },
  {
   "cell_type": "code",
   "execution_count": 182,
   "id": "surrounded-tender",
   "metadata": {},
   "outputs": [
    {
     "data": {
      "text/plain": [
       "['', '', '', None, '', '', '', None, None, '']"
      ]
     },
     "execution_count": 182,
     "metadata": {},
     "output_type": "execute_result"
    }
   ],
   "source": [
    "reviewer_rating"
   ]
  },
  {
   "cell_type": "code",
   "execution_count": 143,
   "id": "bibliographic-stage",
   "metadata": {},
   "outputs": [],
   "source": [
    "for elelemnt in all_review_list:\n",
    "    \n",
    "    try:\n",
    "        name = elelemnt.find_element_by_class_name(\"a-profile-name\").text\n",
    "        reviewver_name.append(name)\n",
    "    except:\n",
    "        reviewver_name.append(None)"
   ]
  },
  {
   "cell_type": "code",
   "execution_count": 144,
   "id": "breathing-senior",
   "metadata": {},
   "outputs": [
    {
     "data": {
      "text/plain": [
       "[None, None, None, None, None, None, None, None, None, None]"
      ]
     },
     "execution_count": 144,
     "metadata": {},
     "output_type": "execute_result"
    }
   ],
   "source": [
    "reviewver_name"
   ]
  },
  {
   "cell_type": "code",
   "execution_count": 67,
   "id": "shaped-ideal",
   "metadata": {},
   "outputs": [
    {
     "data": {
      "text/plain": [
       "10"
      ]
     },
     "execution_count": 67,
     "metadata": {},
     "output_type": "execute_result"
    }
   ],
   "source": [
    "len(reviewver_name)"
   ]
  },
  {
   "cell_type": "markdown",
   "id": "prime-arthritis",
   "metadata": {},
   "source": [
    "So in the same way we can get all the rest of data. "
   ]
  },
  {
   "cell_type": "markdown",
   "id": "electoral-anime",
   "metadata": {},
   "source": [
    "We will get the review data of 500 cutomer then we will save this as customer.csv file then you can perfomr analysis on it."
   ]
  },
  {
   "cell_type": "code",
   "execution_count": 265,
   "id": "portable-greece",
   "metadata": {},
   "outputs": [],
   "source": [
    "def review_scraper(web_url,product_name, num_of_review, path):\n",
    "    \n",
    "    start = time.time() # this is just to chekc the total time it take.\n",
    "    \n",
    "    # initializing the chromedriver\n",
    "    driver = webdriver.Chrome(executable_path=path)\n",
    "    driver.maximize_window()\n",
    "    \n",
    "    # setting the URL\n",
    "    driver.get(web_url)\n",
    "    \n",
    "    # getting the main window handle id (some of the code below is used to close the unwanted popups) if the website have any. \n",
    "    Main_Window = driver.current_window_handle\n",
    "    \n",
    "    # giving some time so that all elements are loaded\n",
    "    time.sleep(5)\n",
    "    #getting all the open window handle id's to close additional popups that are appearing\n",
    "    popup_windows = driver.window_handles\n",
    "\n",
    "    #looping through all the open  windows and closing ones that are not needed\n",
    "    for winId in popup_windows:\n",
    "        if winId != Main_Window: \n",
    "            driver.switch_to.window(winId)\n",
    "            driver.close()\n",
    "    \n",
    "    # switching to the main window\n",
    "    driver.switch_to.window(Main_Window)\n",
    "    \n",
    "    #let's search for the product_name in the search bar. \n",
    "    time.sleep(2)\n",
    "    search_bar = driver.find_element_by_id(\"twotabsearchtextbox\") # the id of the search bar. \n",
    "    search_bar.send_keys(product_name)\n",
    "    \n",
    "    search_button = driver.find_element_by_id(\"nav-search-submit-button\")\n",
    "    search_button.click()\n",
    "    \n",
    "    time.sleep(3) # just to make sure everthing is loaded. \n",
    "    \n",
    "    # Let's find the product in the loaded page their will be may product we need to search by name. \n",
    "    iphone_12_pro_max = driver.find_element_by_link_text(product_name)\n",
    "    iphone_12_pro_max.click()\n",
    "    time.sleep(3)\n",
    "    \n",
    "    # When we find the product and click on that we need to switch to that windo to perform the operation in the child windo.\n",
    "    \n",
    "    #get current window handle\n",
    "    parent_window = driver.current_window_handle\n",
    "\n",
    "    #get first child window\n",
    "    child_window = driver.window_handles\n",
    "\n",
    "    for w in child_window:\n",
    "        # switch focus to child window\n",
    "        if (w != parent_window):\n",
    "            driver.switch_to.window(w)\n",
    "            break\n",
    "    #Note there will be another method to do this but for now I just figure this out how to do you can use another right method. \n",
    "    # now we are in the new windo \n",
    "    \n",
    "    view_all_review = driver.find_element_by_class_name(\"a-link-emphasis.a-text-bold\") # to click on the view all revie link \n",
    "    view_all_review.click()\n",
    "    \n",
    "    # let's sort the review by the most recent to oldest.\n",
    "    sort = driver.find_element_by_id('a-autoid-4-announce')\n",
    "    sort.click()\n",
    "    most_recent = driver.find_element_by_link_text(\"Most recent\")\n",
    "    most_recent.click()\n",
    "    \n",
    "    # getting the current url which has a specific format which will be used later\n",
    "    get_url = driver.current_url\n",
    "    #https://www.amazon.in/New-Apple-iPhone-Pro-256GB/product-reviews/B08L5T31M6/ref=cm_cr_arp_d_viewopt_srt?ie=UTF8&reviewerType=all_reviews&sortBy=recent&pageNumber=1\n",
    "    \n",
    "    # defining empty lists to store the parsed values\n",
    "    \n",
    "    review_title = []\n",
    "    review_description = []\n",
    "    reviewver_name = []\n",
    "    review_date = []\n",
    "    review_impact = []\n",
    "    reviewer_rating = []\n",
    "    \n",
    "    # this is where we start parsing\n",
    "    \n",
    "    # so in every page ther are 10 review \n",
    "    for i in range(1,int(num_of_review+1)):\n",
    "        \n",
    "        #printing the number of parsed pages.\n",
    "        print (\"Page {} of {}\".format(i,int(num_of_review)))\n",
    "        \n",
    "        \n",
    "        # forming the new url with the help which we defined earlier\n",
    "        url = get_url[:-1]+str(i)  \n",
    "        \n",
    "        # opening the url\n",
    "        driver.get(url)\n",
    "        # giving some time so that all elements are loaded\n",
    "        time.sleep(5)\n",
    "        \n",
    "        all_review_list = driver.find_elements_by_class_name(\"a-section.review.aok-relative\")\n",
    "        \n",
    "        # looping through all the product review listings we have found in the above line of code.\n",
    "        for elelemnt in all_review_list:\n",
    "            \n",
    "            #Getting the title of the review. \n",
    "            try:\n",
    "                title = elelemnt.find_element_by_class_name(\"a-size-base.a-link-normal.review-title.a-color-base.review-title-content.a-text-bold\").text\n",
    "                review_title.append(title)\n",
    "            except:\n",
    "                review_title.append(None) # if we don't have the title we need to put None or null.\n",
    "            \n",
    "            #Getting the name of the reviewer \n",
    "            try:\n",
    "                name = elelemnt.find_element_by_class_name(\"a-profile-name\").text\n",
    "                reviewver_name.append(name)\n",
    "            except:\n",
    "                reviewver_name.append(None)\n",
    "                \n",
    "            #Getting the body or description of the reviewer \n",
    "            try:\n",
    "                description = elelemnt.find_element_by_class_name(\"a-size-base.review-text.review-text-content\").text\n",
    "                review_description.append(description)\n",
    "            except:\n",
    "                review_description.append(None) \n",
    "                \n",
    "            #Getting the date of the review. \n",
    "            try:\n",
    "                date = elelemnt.find_element_by_class_name(\"a-size-base.a-color-secondary.review-date\").text\n",
    "                review_date.append(date)\n",
    "            except:\n",
    "                review_date.append(None)\n",
    "            \n",
    "            # Impact to see how many people found helpul this review. \n",
    "            try:\n",
    "                impact = elelemnt.find_element_by_class_name(\"a-size-base.a-color-tertiary.cr-vote-text\").text\n",
    "                review_impact.append(impact)\n",
    "            except:\n",
    "                review_impact.append(None)\n",
    "            \n",
    "            #Rating of the custer for this product. \n",
    "            try:\n",
    "                rate = elelemnt.find_element_by_class_name('a-link-normal') # we may find more rating with this class name but here we retrive only 10\n",
    "                r = rate.find_element_by_class_name('a-icon-alt').get_attribute(\"innerHTML\")\n",
    "                reviewer_rating.append(r)\n",
    "\n",
    "            except:\n",
    "                reviewer_rating.append(None)\n",
    "                \n",
    "            \n",
    "    # initializing empty dataframe\n",
    "    df = pd.DataFrame()\n",
    "    \n",
    "    #assigning values to dataframe columns\n",
    "    df['Date'] = review_date\n",
    "    df['Cutomer name'] = reviewver_name\n",
    "    df['Review Title'] = review_title\n",
    "    df['Review Description'] = review_description\n",
    "    df['Rating'] = reviewer_rating\n",
    "    df['Impact (helpul)'] = review_impact\n",
    "    \n",
    "    # the require time to complete the process\n",
    "    end = time.time()\n",
    "    print (\"Time Taken to Parse {} product review is:{} seconds\".format(num_of_review,(end-start)))\n",
    "    \n",
    "    # quitting the driver (browser)\n",
    "    driver.quit()\n",
    "    \n",
    "    # returning the dataframe formed\n",
    "    return df\n",
    "    \n",
    "        \n",
    "    \n",
    "    "
   ]
  },
  {
   "cell_type": "code",
   "execution_count": 266,
   "id": "suburban-roller",
   "metadata": {},
   "outputs": [],
   "source": [
    "path_ = r'C:\\Users\\nijat\\Desktop\\Data Science\\Preparation For Interview\\Technicl Skil\\web Scraping\\Chromedriver'\n",
    "websit_url = 'https://www.amazon.in/ref=nav_logo'\n",
    "product = \"New Apple iPhone 12 Pro Max (256GB) - Pacific Blue\"\n",
    "num_of_reviews = 50 # every page has 10 review to to get 500 review we need to pass 50."
   ]
  },
  {
   "cell_type": "markdown",
   "id": "eight-occurrence",
   "metadata": {},
   "source": [
    "Let's call our fucntion with the requred parameters. "
   ]
  },
  {
   "cell_type": "code",
   "execution_count": 268,
   "id": "discrete-monroe",
   "metadata": {},
   "outputs": [
    {
     "name": "stdout",
     "output_type": "stream",
     "text": [
      "Page 1 of 50\n",
      "Page 2 of 50\n",
      "Page 3 of 50\n",
      "Page 4 of 50\n",
      "Page 5 of 50\n",
      "Page 6 of 50\n",
      "Page 7 of 50\n",
      "Page 8 of 50\n",
      "Page 9 of 50\n",
      "Page 10 of 50\n",
      "Page 11 of 50\n",
      "Page 12 of 50\n",
      "Page 13 of 50\n",
      "Page 14 of 50\n",
      "Page 15 of 50\n",
      "Page 16 of 50\n",
      "Page 17 of 50\n",
      "Page 18 of 50\n",
      "Page 19 of 50\n",
      "Page 20 of 50\n",
      "Page 21 of 50\n",
      "Page 22 of 50\n",
      "Page 23 of 50\n",
      "Page 24 of 50\n",
      "Page 25 of 50\n",
      "Page 26 of 50\n",
      "Page 27 of 50\n",
      "Page 28 of 50\n",
      "Page 29 of 50\n",
      "Page 30 of 50\n",
      "Page 31 of 50\n",
      "Page 32 of 50\n",
      "Page 33 of 50\n",
      "Page 34 of 50\n",
      "Page 35 of 50\n",
      "Page 36 of 50\n",
      "Page 37 of 50\n",
      "Page 38 of 50\n",
      "Page 39 of 50\n",
      "Page 40 of 50\n",
      "Page 41 of 50\n",
      "Page 42 of 50\n",
      "Page 43 of 50\n",
      "Page 44 of 50\n",
      "Page 45 of 50\n",
      "Page 46 of 50\n",
      "Page 47 of 50\n",
      "Page 48 of 50\n",
      "Page 49 of 50\n",
      "Page 50 of 50\n",
      "Time Taken to Parse 50 product review is:340.5959942340851 seconds\n"
     ]
    }
   ],
   "source": [
    "dataframe = review_scraper(web_url=websit_url,product_name=product,num_of_review=num_of_reviews,path=path_)"
   ]
  },
  {
   "cell_type": "code",
   "execution_count": 269,
   "id": "starting-hepatitis",
   "metadata": {},
   "outputs": [
    {
     "data": {
      "text/html": [
       "<div>\n",
       "<style scoped>\n",
       "    .dataframe tbody tr th:only-of-type {\n",
       "        vertical-align: middle;\n",
       "    }\n",
       "\n",
       "    .dataframe tbody tr th {\n",
       "        vertical-align: top;\n",
       "    }\n",
       "\n",
       "    .dataframe thead th {\n",
       "        text-align: right;\n",
       "    }\n",
       "</style>\n",
       "<table border=\"1\" class=\"dataframe\">\n",
       "  <thead>\n",
       "    <tr style=\"text-align: right;\">\n",
       "      <th></th>\n",
       "      <th>Date</th>\n",
       "      <th>Cutomer name</th>\n",
       "      <th>Review Title</th>\n",
       "      <th>Review Description</th>\n",
       "      <th>Rating</th>\n",
       "      <th>Impact (helpul)</th>\n",
       "    </tr>\n",
       "  </thead>\n",
       "  <tbody>\n",
       "    <tr>\n",
       "      <th>0</th>\n",
       "      <td>Reviewed in India on 10 August 2021</td>\n",
       "      <td>Saroj Pattnaik</td>\n",
       "      <td>Think again if you are an android user…</td>\n",
       "      <td>Don’t go for it, if you are an android user…lo...</td>\n",
       "      <td>5.0 out of 5 stars</td>\n",
       "      <td>None</td>\n",
       "    </tr>\n",
       "    <tr>\n",
       "      <th>1</th>\n",
       "      <td>Reviewed in India on 10 August 2021</td>\n",
       "      <td>Adithya Acharya</td>\n",
       "      <td>Good product but price too high</td>\n",
       "      <td>Overall good and battery life,picture quality ...</td>\n",
       "      <td>5.0 out of 5 stars</td>\n",
       "      <td>None</td>\n",
       "    </tr>\n",
       "    <tr>\n",
       "      <th>2</th>\n",
       "      <td>Reviewed in India on 10 August 2021</td>\n",
       "      <td>InvestBooks</td>\n",
       "      <td>Justifies the Premium Price that it deserves</td>\n",
       "      <td>Before buying this everybody knows its premium...</td>\n",
       "      <td>5.0 out of 5 stars</td>\n",
       "      <td>None</td>\n",
       "    </tr>\n",
       "    <tr>\n",
       "      <th>3</th>\n",
       "      <td>Reviewed in India on 9 August 2021</td>\n",
       "      <td>Moon</td>\n",
       "      <td>.....</td>\n",
       "      <td>Ugh what to say about the review\\n\\nYeah that'...</td>\n",
       "      <td>1.0 out of 5 stars</td>\n",
       "      <td>None</td>\n",
       "    </tr>\n",
       "    <tr>\n",
       "      <th>4</th>\n",
       "      <td>Reviewed in India on 7 August 2021</td>\n",
       "      <td>orbit electrodomestic india pvt ltd</td>\n",
       "      <td>Good</td>\n",
       "      <td>Good product...works superb...recd on time.</td>\n",
       "      <td>5.0 out of 5 stars</td>\n",
       "      <td>None</td>\n",
       "    </tr>\n",
       "    <tr>\n",
       "      <th>...</th>\n",
       "      <td>...</td>\n",
       "      <td>...</td>\n",
       "      <td>...</td>\n",
       "      <td>...</td>\n",
       "      <td>...</td>\n",
       "      <td>...</td>\n",
       "    </tr>\n",
       "    <tr>\n",
       "      <th>250</th>\n",
       "      <td>Reviewed in India on 17 November 2020</td>\n",
       "      <td>Aakash</td>\n",
       "      <td>This took one of my kidneys and a testicle. Bu...</td>\n",
       "      <td>Impressed! I’ve tested it with iphone11 and ot...</td>\n",
       "      <td>5.0 out of 5 stars</td>\n",
       "      <td>1,327 people found this helpful</td>\n",
       "    </tr>\n",
       "    <tr>\n",
       "      <th>251</th>\n",
       "      <td>Reviewed in India on 17 November 2020</td>\n",
       "      <td>Sahith</td>\n",
       "      <td>Best &amp; Biggest iPhone i ever owned 🥰</td>\n",
       "      <td>Just no words, what a beauty. Upgrading from i...</td>\n",
       "      <td>5.0 out of 5 stars</td>\n",
       "      <td>103 people found this helpful</td>\n",
       "    </tr>\n",
       "    <tr>\n",
       "      <th>252</th>\n",
       "      <td>Reviewed in India on 17 November 2020</td>\n",
       "      <td>Dr. Amol Andhale</td>\n",
       "      <td>Just excellent</td>\n",
       "      <td>Your browser does not support HTML5 video.\\n A...</td>\n",
       "      <td>5.0 out of 5 stars</td>\n",
       "      <td>17 people found this helpful</td>\n",
       "    </tr>\n",
       "    <tr>\n",
       "      <th>253</th>\n",
       "      <td>Reviewed in India on 10 November 2020</td>\n",
       "      <td>Sherry</td>\n",
       "      <td>👍</td>\n",
       "      <td>The phone is a beast (except for the price whi...</td>\n",
       "      <td>5.0 out of 5 stars</td>\n",
       "      <td>60 people found this helpful</td>\n",
       "    </tr>\n",
       "    <tr>\n",
       "      <th>254</th>\n",
       "      <td>Reviewed in India on 9 November 2020</td>\n",
       "      <td>Subhash K.</td>\n",
       "      <td>Waste of money.</td>\n",
       "      <td>Over priced. And without charger too.\\nNot rec...</td>\n",
       "      <td>1.0 out of 5 stars</td>\n",
       "      <td>2,885 people found this helpful</td>\n",
       "    </tr>\n",
       "  </tbody>\n",
       "</table>\n",
       "<p>255 rows × 6 columns</p>\n",
       "</div>"
      ],
      "text/plain": [
       "                                      Date  \\\n",
       "0      Reviewed in India on 10 August 2021   \n",
       "1      Reviewed in India on 10 August 2021   \n",
       "2      Reviewed in India on 10 August 2021   \n",
       "3       Reviewed in India on 9 August 2021   \n",
       "4       Reviewed in India on 7 August 2021   \n",
       "..                                     ...   \n",
       "250  Reviewed in India on 17 November 2020   \n",
       "251  Reviewed in India on 17 November 2020   \n",
       "252  Reviewed in India on 17 November 2020   \n",
       "253  Reviewed in India on 10 November 2020   \n",
       "254   Reviewed in India on 9 November 2020   \n",
       "\n",
       "                            Cutomer name  \\\n",
       "0                         Saroj Pattnaik   \n",
       "1                        Adithya Acharya   \n",
       "2                            InvestBooks   \n",
       "3                                   Moon   \n",
       "4    orbit electrodomestic india pvt ltd   \n",
       "..                                   ...   \n",
       "250                               Aakash   \n",
       "251                               Sahith   \n",
       "252                     Dr. Amol Andhale   \n",
       "253                               Sherry   \n",
       "254                           Subhash K.   \n",
       "\n",
       "                                          Review Title  \\\n",
       "0              Think again if you are an android user…   \n",
       "1                      Good product but price too high   \n",
       "2         Justifies the Premium Price that it deserves   \n",
       "3                                                .....   \n",
       "4                                                 Good   \n",
       "..                                                 ...   \n",
       "250  This took one of my kidneys and a testicle. Bu...   \n",
       "251               Best & Biggest iPhone i ever owned 🥰   \n",
       "252                                     Just excellent   \n",
       "253                                                  👍   \n",
       "254                                    Waste of money.   \n",
       "\n",
       "                                    Review Description              Rating  \\\n",
       "0    Don’t go for it, if you are an android user…lo...  5.0 out of 5 stars   \n",
       "1    Overall good and battery life,picture quality ...  5.0 out of 5 stars   \n",
       "2    Before buying this everybody knows its premium...  5.0 out of 5 stars   \n",
       "3    Ugh what to say about the review\\n\\nYeah that'...  1.0 out of 5 stars   \n",
       "4          Good product...works superb...recd on time.  5.0 out of 5 stars   \n",
       "..                                                 ...                 ...   \n",
       "250  Impressed! I’ve tested it with iphone11 and ot...  5.0 out of 5 stars   \n",
       "251  Just no words, what a beauty. Upgrading from i...  5.0 out of 5 stars   \n",
       "252  Your browser does not support HTML5 video.\\n A...  5.0 out of 5 stars   \n",
       "253  The phone is a beast (except for the price whi...  5.0 out of 5 stars   \n",
       "254  Over priced. And without charger too.\\nNot rec...  1.0 out of 5 stars   \n",
       "\n",
       "                     Impact (helpul)  \n",
       "0                               None  \n",
       "1                               None  \n",
       "2                               None  \n",
       "3                               None  \n",
       "4                               None  \n",
       "..                               ...  \n",
       "250  1,327 people found this helpful  \n",
       "251    103 people found this helpful  \n",
       "252     17 people found this helpful  \n",
       "253     60 people found this helpful  \n",
       "254  2,885 people found this helpful  \n",
       "\n",
       "[255 rows x 6 columns]"
      ]
     },
     "execution_count": 269,
     "metadata": {},
     "output_type": "execute_result"
    }
   ],
   "source": [
    "dataframe"
   ]
  },
  {
   "cell_type": "code",
   "execution_count": 270,
   "id": "increased-claim",
   "metadata": {},
   "outputs": [],
   "source": [
    "dataframe.to_csv(\"Iphone 12 pro review.csv\", index=False)"
   ]
  },
  {
   "cell_type": "code",
   "execution_count": null,
   "id": "local-contest",
   "metadata": {},
   "outputs": [],
   "source": []
  }
 ],
 "metadata": {
  "kernelspec": {
   "display_name": "Python 3",
   "language": "python",
   "name": "python3"
  },
  "language_info": {
   "codemirror_mode": {
    "name": "ipython",
    "version": 3
   },
   "file_extension": ".py",
   "mimetype": "text/x-python",
   "name": "python",
   "nbconvert_exporter": "python",
   "pygments_lexer": "ipython3",
   "version": "3.8.8"
  }
 },
 "nbformat": 4,
 "nbformat_minor": 5
}
