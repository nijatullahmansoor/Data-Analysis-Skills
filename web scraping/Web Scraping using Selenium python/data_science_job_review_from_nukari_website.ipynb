{
 "cells": [
  {
   "cell_type": "markdown",
   "id": "introductory-technique",
   "metadata": {},
   "source": [
    "# Data Science Job Review from <a href=\"https://www.naukri.com/data-science-jobs?k=data%20science\"> Naukari.com</a>\n"
   ]
  },
  {
   "cell_type": "markdown",
   "id": "streaming-polymer",
   "metadata": {},
   "source": [
    "We will get all the data scince job related details from example \n",
    "\n",
    "- Job Title\n",
    "- Company Name\n",
    "- Years of expreince\n",
    "- Expreince description\n",
    "- Salary if it's disclosed\n",
    "- Location \n",
    "- Skilled required\n",
    "- Rating of Job\n",
    "- when it posted.\n",
    "\n",
    "`Note`: we will review `1000` Data Science Jobs. \n",
    "\n",
    "we will store this in the `data_science_jobs.csv` file the we will some analysis on it. "
   ]
  },
  {
   "cell_type": "markdown",
   "id": "solid-enlargement",
   "metadata": {},
   "source": [
    "Let's import the required library."
   ]
  },
  {
   "cell_type": "code",
   "execution_count": 97,
   "id": "passive-making",
   "metadata": {},
   "outputs": [],
   "source": [
    "from selenium import webdriver\n",
    "import time\n",
    "from selenium.common.exceptions import NoSuchElementException\n",
    "import pandas as pd\n"
   ]
  },
  {
   "cell_type": "code",
   "execution_count": 104,
   "id": "mature-blade",
   "metadata": {},
   "outputs": [],
   "source": [
    "path = r'C:\\Users\\nijat\\Desktop\\Data Science\\Preparation For Interview\\Technicl Skil\\web Scraping\\Chromedriver'\n",
    "driver = webdriver.Chrome(executable_path=path)"
   ]
  },
  {
   "cell_type": "code",
   "execution_count": 105,
   "id": "identified-share",
   "metadata": {},
   "outputs": [],
   "source": [
    "# url for th nukari.com website. \n",
    "url = 'https://www.naukri.com/'\n",
    "driver.get(url)"
   ]
  },
  {
   "cell_type": "markdown",
   "id": "adolescent-signal",
   "metadata": {},
   "source": [
    " we we can see that there are some popup widow opened let's close that window first. "
   ]
  },
  {
   "cell_type": "markdown",
   "id": "professional-diesel",
   "metadata": {},
   "source": [
    "Let's get first the main window ID."
   ]
  },
  {
   "cell_type": "code",
   "execution_count": 106,
   "id": "urban-underwear",
   "metadata": {},
   "outputs": [],
   "source": [
    "Main_window = driver.current_window_handle"
   ]
  },
  {
   "cell_type": "code",
   "execution_count": 107,
   "id": "accurate-accident",
   "metadata": {},
   "outputs": [
    {
     "data": {
      "text/plain": [
       "'CDwindow-FD73693910B3C739B472ED7BB15A30C8'"
      ]
     },
     "execution_count": 107,
     "metadata": {},
     "output_type": "execute_result"
    }
   ],
   "source": [
    "Main_window"
   ]
  },
  {
   "cell_type": "markdown",
   "id": "formed-queue",
   "metadata": {},
   "source": [
    "Now let's closed the unwanted popup window. "
   ]
  },
  {
   "cell_type": "code",
   "execution_count": 108,
   "id": "regional-person",
   "metadata": {},
   "outputs": [],
   "source": [
    "popup_window = driver.window_handles"
   ]
  },
  {
   "cell_type": "code",
   "execution_count": 109,
   "id": "systematic-hello",
   "metadata": {},
   "outputs": [
    {
     "data": {
      "text/plain": [
       "['CDwindow-FD73693910B3C739B472ED7BB15A30C8',\n",
       " 'CDwindow-F764FDEC8D00CAD4DC16C6488E8F1EAF',\n",
       " 'CDwindow-17012932E27FAC72BF0623380323418A',\n",
       " 'CDwindow-9FC368206FE17334805A9473E3640D17']"
      ]
     },
     "execution_count": 109,
     "metadata": {},
     "output_type": "execute_result"
    }
   ],
   "source": [
    "popup_window"
   ]
  },
  {
   "cell_type": "markdown",
   "id": "sublime-filename",
   "metadata": {},
   "source": [
    "we can see that we have 4 window opened the first one is the main window id we will close the rest of the threee windows. "
   ]
  },
  {
   "cell_type": "code",
   "execution_count": 110,
   "id": "portable-johnson",
   "metadata": {},
   "outputs": [],
   "source": [
    "for winId in popup_window:\n",
    "    if winId != Main_window:\n",
    "        driver.switch_to.window(winId)\n",
    "        driver.close()"
   ]
  },
  {
   "cell_type": "markdown",
   "id": "laden-drilling",
   "metadata": {},
   "source": [
    "Se we successfully close the extra popup windows now let's switch back to the main window."
   ]
  },
  {
   "cell_type": "code",
   "execution_count": 111,
   "id": "injured-bradford",
   "metadata": {},
   "outputs": [],
   "source": [
    "driver.switch_to.window(Main_window)"
   ]
  },
  {
   "cell_type": "markdown",
   "id": "intermediate-might",
   "metadata": {},
   "source": [
    "Now we in the main window. "
   ]
  },
  {
   "cell_type": "code",
   "execution_count": 112,
   "id": "imported-breathing",
   "metadata": {},
   "outputs": [
    {
     "data": {
      "text/plain": [
       "'Jobs - Recruitment - Job Search - Employment -Job Vacancies - Naukri.com'"
      ]
     },
     "execution_count": 112,
     "metadata": {},
     "output_type": "execute_result"
    }
   ],
   "source": [
    "driver.title"
   ]
  },
  {
   "cell_type": "markdown",
   "id": "honest-consumption",
   "metadata": {},
   "source": [
    "Now we will send the `Data Science` Job title to the search engine of the nukari.com and if we want to select the location we can also send location to the search bar once we send the Job title and location then we will be clicking on the search button to find the jobs. "
   ]
  },
  {
   "cell_type": "code",
   "execution_count": 113,
   "id": "discrete-working",
   "metadata": {},
   "outputs": [],
   "source": [
    "search_bar = driver.find_element_by_id(\"qsb-keyword-sugg\")\n",
    "job_title = \"Data Science\"\n",
    "location = \"\" # if you want you can send the location as well but we wont send here location\n",
    "search_bar.send_keys(job_title)"
   ]
  },
  {
   "cell_type": "markdown",
   "id": "executive-analysis",
   "metadata": {},
   "source": [
    "Now let's find the search button to click and find the data science jobs."
   ]
  },
  {
   "cell_type": "code",
   "execution_count": 114,
   "id": "japanese-accountability",
   "metadata": {},
   "outputs": [],
   "source": [
    "search_button = driver.find_element_by_xpath(\"//div[contains(@class,'search-btn')]\")\n",
    "search_button.click()"
   ]
  },
  {
   "cell_type": "markdown",
   "id": "proved-veteran",
   "metadata": {},
   "source": [
    "Now we have the data science Jobs. Let's get the above descriptons."
   ]
  },
  {
   "cell_type": "markdown",
   "id": "figured-madonna",
   "metadata": {},
   "source": [
    "`Note`: We want to review `2000` data science Jobs, in every page there are 20 jobs onece we get this 20 jobs we need to go to the next page to get another 20 jobs so we need to go through 100 pages to review 1000 data science jobs. "
   ]
  },
  {
   "cell_type": "markdown",
   "id": "prepared-number",
   "metadata": {},
   "source": [
    "But here just for understand we will get the first page and later we will define a function to do this jobs for us to go thrugh 100 pages and retrive 2000 jobs reviews if we want more jobs review just increase the numbr of pages."
   ]
  },
  {
   "cell_type": "markdown",
   "id": "integral-savannah",
   "metadata": {},
   "source": [
    "Let's define list to store the data."
   ]
  },
  {
   "cell_type": "code",
   "execution_count": 115,
   "id": "conservative-count",
   "metadata": {},
   "outputs": [],
   "source": [
    "job_title = []\n",
    "company_name = []\n",
    "year_of_expreince = []\n",
    "job_rquirement = []\n",
    "jobs_salary = []\n",
    "job_location = []\n",
    "required_skilled = []\n",
    "job_rating = []\n",
    "when_it_post = []\n",
    "job_type = []"
   ]
  },
  {
   "cell_type": "code",
   "execution_count": 116,
   "id": "similar-child",
   "metadata": {},
   "outputs": [],
   "source": [
    "jobs = driver.find_elements_by_xpath(\"//article[contains(@class,'jobTuple bgWhite br4 mb-8')]\")"
   ]
  },
  {
   "cell_type": "code",
   "execution_count": 89,
   "id": "imported-carol",
   "metadata": {},
   "outputs": [
    {
     "data": {
      "text/plain": [
       "20"
      ]
     },
     "execution_count": 89,
     "metadata": {},
     "output_type": "execute_result"
    }
   ],
   "source": [
    "len(jobs)"
   ]
  },
  {
   "cell_type": "markdown",
   "id": "cognitive-adventure",
   "metadata": {},
   "source": [
    "we can see that in every page there are 20 jobs."
   ]
  },
  {
   "cell_type": "code",
   "execution_count": 117,
   "id": "presidential-friendship",
   "metadata": {},
   "outputs": [],
   "source": [
    "for job in jobs:\n",
    "    \n",
    "    # get job title\n",
    "    try:\n",
    "        title = job.find_element_by_class_name(\"title.fw500.ellipsis\").text\n",
    "        job_title.append(title)\n",
    "    except:\n",
    "        job_title.append(None)\n",
    "    \n",
    "    # get company name\n",
    "    try:\n",
    "        companyName = job.find_element_by_class_name(\"subTitle.ellipsis.fleft\").text\n",
    "        company_name.append(companyName)\n",
    "    except:\n",
    "        company_name.append(None)\n",
    "        \n",
    "    # get requred expreince\n",
    "    try:\n",
    "        expr = job.find_element_by_class_name(\"ellipsis.fleft.fs12.lh16\").text\n",
    "        year_of_expreince.append(expr)\n",
    "    except:\n",
    "        year_of_expreince.append(None)\n",
    "        \n",
    "    # get job salary\n",
    "    try:\n",
    "        salary = job.find_element_by_class_name(\"fleft.grey-text.br2.placeHolderLi.salary\").text\n",
    "        \n",
    "        jobs_salary.append(salary)\n",
    "    except:\n",
    "        jobs_salary.append(None)\n",
    "    \n",
    "    # get job locations\n",
    "    try:\n",
    "        location = job.find_element_by_class_name(\"fleft.grey-text.br2.placeHolderLi.location\").text\n",
    "        job_location.append(location)\n",
    "    except:\n",
    "        job_location.append(None)\n",
    "    \n",
    "    # get the required skill\n",
    "    try:\n",
    "        skill = job.find_element_by_class_name(\"tags.has-description\").text\n",
    "        required_skilled.append(skill)\n",
    "    except:\n",
    "        required_skilled.append(None)\n",
    "    \n",
    "    #get job requirement \n",
    "    try:\n",
    "        requirment = job.find_element_by_class_name(\"job-description.fs12.grey-text\").text\n",
    "        job_rquirement.append(requirment)\n",
    "    except:\n",
    "        job_rquirement.append(None)\n",
    "        \n",
    "    # get when it posted\n",
    "    try:\n",
    "        day = job.find_element_by_class_name(\"type.br2.fleft.grey\").text\n",
    "        when_it_post.append(day)\n",
    "    except:\n",
    "        when_it_post.append(None)\n",
    "        \n",
    "    # get job rating\n",
    "    try:\n",
    "        rating = job.find_element_by_class_name(\"starRating.fleft.dot\").text\n",
    "        job_rating.append(rating)\n",
    "    except:\n",
    "        job_rating.append(None)\n",
    "        \n",
    "    try:\n",
    "        jobType = job.find_element_by_class_name(\"jobType.type.fleft.br2.mr-8\").text\n",
    "        job_type.append(jobType)\n",
    "    except:\n",
    "        job_type.append(None)\n",
    "    \n",
    "        \n",
    "    \n",
    "    "
   ]
  },
  {
   "cell_type": "code",
   "execution_count": 96,
   "id": "entertaining-helicopter",
   "metadata": {},
   "outputs": [
    {
     "name": "stdout",
     "output_type": "stream",
     "text": [
      "['Data Science Product Manager- Artificial Intelligence/Machine Learning', 'Analytics Data science and IOT Lead', 'Data Science Digital Data Engineering Practitioner']\n",
      "\n",
      "\n",
      "['Catalyst', 'Hexaware Technologies Ltd.', 'Accenture Solutions Pvt Ltd']\n",
      "\n",
      "\n",
      "['4-9 Yrs', '6-9 Yrs', '6-8 Yrs']\n",
      "\n",
      "\n",
      "['Should have managed a team directly at-least for a year Hands On experience in Python, ...', 'graduate degree in Statistics or another quantitative field is preferred At least one c...', 'Educational Qualification : a: Minimum 15 years of full time education Good To Have Ski...']\n",
      "\n",
      "\n",
      "['Not disclosed', 'Not disclosed', 'Not disclosed']\n",
      "\n",
      "\n",
      "['Bangalore/Bengaluru', 'Chennai', 'Bangalore/Bengaluru']\n",
      "\n",
      "\n",
      "['YOLO\\nDocker\\nArtificial Intelligence\\nInceptionNet\\nCNN\\nKeras\\nKubernetes\\nResnet', 'IT Skills\\nPython\\nTesting\\nData Science\\nMachine Learning\\nCloud\\nAWS\\nComputer science', 'IT Skills\\nPython\\nData Science\\nMachine Learning\\nBig Data\\nAnalytical skills\\nData modeling\\nConsulting']\n",
      "\n",
      "\n",
      "[None, '3.5', '4.0']\n",
      "\n",
      "\n",
      "[None, None, '6 DAYS AGO']\n",
      "\n",
      "\n",
      "['HOT JOB', 'PREMIUM', 'PREFERRED']\n"
     ]
    }
   ],
   "source": [
    "print(job_title[:3])\n",
    "print('\\n')\n",
    "print(company_name[:3])\n",
    "print('\\n')\n",
    "print(year_of_expreince[:3])\n",
    "print('\\n')\n",
    "print(job_rquirement[:3])\n",
    "print('\\n')\n",
    "print(jobs_salary[:3])\n",
    "print('\\n')\n",
    "print(job_location[:3])\n",
    "print('\\n')\n",
    "print(required_skilled[:3])\n",
    "print('\\n')\n",
    "print(job_rating[:3])\n",
    "print('\\n')\n",
    "print(when_it_post[:3])\n",
    "print('\\n')\n",
    "print(job_type[:3])"
   ]
  },
  {
   "cell_type": "markdown",
   "id": "sustainable-photograph",
   "metadata": {},
   "source": [
    "Let's check the url."
   ]
  },
  {
   "cell_type": "code",
   "execution_count": 118,
   "id": "improved-simulation",
   "metadata": {},
   "outputs": [
    {
     "data": {
      "text/plain": [
       "'https://www.naukri.com/data-science-jobs?k=data%20science'"
      ]
     },
     "execution_count": 118,
     "metadata": {},
     "output_type": "execute_result"
    }
   ],
   "source": [
    "get_url = driver.current_url\n",
    "get_url"
   ]
  },
  {
   "cell_type": "code",
   "execution_count": 119,
   "id": "continental-brown",
   "metadata": {},
   "outputs": [],
   "source": [
    "first_part = get_url.split(\"?\")[0]\n",
    "second_part = get_url.split(\"?\")[-1]"
   ]
  },
  {
   "cell_type": "code",
   "execution_count": 120,
   "id": "informal-overall",
   "metadata": {},
   "outputs": [
    {
     "data": {
      "text/plain": [
       "'https://www.naukri.com/data-science-jobs'"
      ]
     },
     "execution_count": 120,
     "metadata": {},
     "output_type": "execute_result"
    }
   ],
   "source": [
    "first_part"
   ]
  },
  {
   "cell_type": "code",
   "execution_count": 121,
   "id": "going-yorkshire",
   "metadata": {},
   "outputs": [
    {
     "data": {
      "text/plain": [
       "'k=data%20science'"
      ]
     },
     "execution_count": 121,
     "metadata": {},
     "output_type": "execute_result"
    }
   ],
   "source": [
    "second_part"
   ]
  },
  {
   "cell_type": "code",
   "execution_count": 122,
   "id": "understood-verification",
   "metadata": {},
   "outputs": [
    {
     "data": {
      "text/plain": [
       "'https://www.naukri.com/data-science-jobs-1?k=data%20science'"
      ]
     },
     "execution_count": 122,
     "metadata": {},
     "output_type": "execute_result"
    }
   ],
   "source": [
    "url = first_part+\"-\"+str(1)+\"?\"+second_part\n",
    "url"
   ]
  },
  {
   "cell_type": "markdown",
   "id": "moved-category",
   "metadata": {},
   "source": [
    "Now lets get this data for `2000` data science jobs. to do this we need to create a function to perfrom this operation."
   ]
  },
  {
   "cell_type": "code",
   "execution_count": 148,
   "id": "focused-contract",
   "metadata": {},
   "outputs": [],
   "source": [
    "def job_scraper(job_title, url, path,number_of_jobs):\n",
    "    \n",
    "    # Just to get time which is required to complete this task\n",
    "    start = time.time()\n",
    "    \n",
    "    driver = webdriver.Chrome(executable_path=path)\n",
    "    # setting the URL\n",
    "    driver.get(url)\n",
    "    driver.maximize_window()\n",
    "    \n",
    "    # getting the main window handle id (some of the code below is used to close the unwanted popups)\n",
    "    Main_Window = driver.current_window_handle\n",
    "    \n",
    "    # giving some time so that all elements are loaded\n",
    "    time.sleep(5)\n",
    "    \n",
    "    #getting all the open window handle id's to close additional popups that are appearing\n",
    "    popup_windows = driver.window_handles\n",
    "\n",
    "    #looping through all the open  windows and closing ones that are not needed\n",
    "    for winId in popup_windows:\n",
    "        if winId != Main_Window: \n",
    "            driver.switch_to.window(winId)\n",
    "            driver.close()\n",
    "    \n",
    "    # switching to the main window\n",
    "    driver.switch_to.window(Main_Window)\n",
    "\n",
    "    search_bar = driver.find_element_by_id(\"qsb-keyword-sugg\")\n",
    "    location = \"\" # if you want you can send the location as well but we wont send here location\n",
    "    search_bar.send_keys(job_title)\n",
    "    \n",
    "    search_button = driver.find_element_by_xpath(\"//div[contains(@class,'search-btn')]\")\n",
    "    search_button.click()\n",
    "    # getting the current url which has a specific format which will be used later\n",
    "    \n",
    "    get_url = driver.current_url\n",
    "\n",
    "    # https://www.naukri.com/data-science-jobs?k=data%20science\n",
    "    # https://www.naukri.com/data-science-jobs-2?k=data%20science\n",
    "    # https://www.naukri.com/data-science-jobs-3?k=data%20science\n",
    "    # from this we can seee we only need to change jobs-1,jobs-2... and so on.\n",
    "    \n",
    "    # Let's split url into 2 part\n",
    "    first_part = get_url.split(\"?\")[0]\n",
    "    second_part = get_url.split(\"?\")[-1]\n",
    "    \n",
    "    # defining empty lists to store the parsed values\n",
    "    job_title = []\n",
    "    company_name = []\n",
    "    year_of_expreince = []\n",
    "    job_rquirement = []\n",
    "    jobs_salary = []\n",
    "    job_type = []\n",
    "    job_location = []\n",
    "    required_skilled = []\n",
    "    job_rating = []\n",
    "    when_it_post = []\n",
    "    \n",
    "    # this is where the start parsing \n",
    "    for i in range(1, int(number_of_jobs/20)+1):\n",
    "        \n",
    "        #printing the number of parsed pages.\n",
    "        print (\"Page {} of {}\".format(i,int(number_of_jobs/20)))\n",
    "        # forming the new url with the help of two parts we defined earlier\n",
    "        url = first_part+\"-\"+str(i)+\"?\"+second_part\n",
    "        # opening the url\n",
    "        driver.get(url)\n",
    "\n",
    "        # giving some time so that all elements are loaded\n",
    "        time.sleep(5)\n",
    "        \n",
    "        # getting job listing details\n",
    "        try:\n",
    "            jobs = driver.find_elements_by_class_name(\"jobTuple.bgWhite.br4.mb-8\")\n",
    "        except NoSuchElementException as e:\n",
    "            print(e)\n",
    "            break\n",
    "            \n",
    "        \n",
    "        # looping through all the job listings we have found in the above line of code.\n",
    "            \n",
    "        for job in jobs:\n",
    "            \n",
    "            # get job title\n",
    "            try:\n",
    "                title = job.find_element_by_class_name(\"title.fw500.ellipsis\").text\n",
    "                job_title.append(title)\n",
    "            except NoSuchElementException:\n",
    "                job_title.append(None)\n",
    "    \n",
    "            # get company name\n",
    "            try:\n",
    "                companyName = job.find_element_by_class_name(\"subTitle.ellipsis.fleft\").text\n",
    "                company_name.append(companyName)\n",
    "            except NoSuchElementException:\n",
    "                company_name.append(None)\n",
    "        \n",
    "            # get requred expreince\n",
    "            try:\n",
    "                expr = job.find_element_by_class_name(\"ellipsis.fleft.fs12.lh16\").text\n",
    "                year_of_expreince.append(expr)\n",
    "            except NoSuchElementException:\n",
    "                year_of_expreince.append(None)\n",
    "\n",
    "            # get job salary\n",
    "            try:\n",
    "                salary = job.find_element_by_class_name(\"fleft.grey-text.br2.placeHolderLi.salary\").text\n",
    "\n",
    "                jobs_salary.append(salary)\n",
    "            except NoSuchElementException:\n",
    "                jobs_salary.append(None)\n",
    "\n",
    "            # get job locations\n",
    "            try:\n",
    "                location = job.find_element_by_class_name(\"fleft.grey-text.br2.placeHolderLi.location\").text\n",
    "                job_location.append(location)\n",
    "            except NoSuchElementException:\n",
    "                job_location.append(None)\n",
    "\n",
    "            # get the required skill\n",
    "            try:\n",
    "                skill = job.find_element_by_class_name(\"tags.has-description\").text\n",
    "                required_skilled.append(skill)\n",
    "            except NoSuchElementException:\n",
    "                required_skilled.append(None)\n",
    "\n",
    "            #get job requirement \n",
    "            try:\n",
    "                requirment = job.find_element_by_class_name(\"job-description.fs12.grey-text\").text\n",
    "                job_rquirement.append(requirment)\n",
    "            except NoSuchElementException:\n",
    "                job_rquirement.append(None)\n",
    "\n",
    "            # get when it posted\n",
    "            try:\n",
    "                day = job.find_element_by_class_name(\"type.br2.fleft.grey\").text\n",
    "                when_it_post.append(day)\n",
    "            except NoSuchElementException:\n",
    "                when_it_post.append(None)\n",
    "\n",
    "            # get job rating\n",
    "            try:\n",
    "                rating = job.find_element_by_class_name(\"starRating.fleft.dot\").text\n",
    "                job_rating.append(rating)\n",
    "            except NoSuchElementException:\n",
    "                job_rating.append(None)\n",
    "            \n",
    "            # get job typ \n",
    "            try:\n",
    "                jobType = job.find_element_by_class_name(\"jobType.type.fleft.br2.mr-8\").text\n",
    "                job_type.append(jobType)\n",
    "            except NoSuchElementException:\n",
    "                job_type.append(None)\n",
    "                \n",
    "            \n",
    "    # initializing empty dataframe \n",
    "    df = pd.DataFrame()\n",
    "    \n",
    "    # assigning values to dataframe columns\n",
    "    df['Title'] =      job_title\n",
    "    df['Company'] =    company_name\n",
    "    df['Experience'] = year_of_expreince\n",
    "    df['Location'] =   job_location\n",
    "    df['Ratings'] =    job_rating\n",
    "    df['Salary'] =     jobs_salary\n",
    "    df['Job_Type'] =   job_type\n",
    "    df['Posted'] =     when_it_post\n",
    "    df['Required Skills'] = required_skilled\n",
    "    df['Job Requirment'] = job_rquirement\n",
    "    \n",
    "    \n",
    "    # end time to complete the process\n",
    "    end = time.time()\n",
    "    print (\"Time Taken to Parse {} jobs is:{} seconds\".format(number_of_jobs,(end-start)))\n",
    "    \n",
    "    # quitting the driver (browser)\n",
    "    driver.quit()\n",
    "    \n",
    "    # returning the dataframe formed\n",
    "    return df\n",
    "\n",
    "        \n",
    "        \n",
    "\n",
    "    "
   ]
  },
  {
   "cell_type": "code",
   "execution_count": 149,
   "id": "historic-serve",
   "metadata": {},
   "outputs": [
    {
     "name": "stdout",
     "output_type": "stream",
     "text": [
      "Page 1 of 100\n",
      "Page 2 of 100\n",
      "Page 3 of 100\n",
      "Page 4 of 100\n",
      "Page 5 of 100\n",
      "Page 6 of 100\n",
      "Page 7 of 100\n",
      "Page 8 of 100\n",
      "Page 9 of 100\n",
      "Page 10 of 100\n",
      "Page 11 of 100\n",
      "Page 12 of 100\n",
      "Page 13 of 100\n",
      "Page 14 of 100\n",
      "Page 15 of 100\n",
      "Page 16 of 100\n",
      "Page 17 of 100\n",
      "Page 18 of 100\n",
      "Page 19 of 100\n",
      "Page 20 of 100\n",
      "Page 21 of 100\n",
      "Page 22 of 100\n",
      "Page 23 of 100\n",
      "Page 24 of 100\n",
      "Page 25 of 100\n",
      "Page 26 of 100\n",
      "Page 27 of 100\n",
      "Page 28 of 100\n",
      "Page 29 of 100\n",
      "Page 30 of 100\n",
      "Page 31 of 100\n",
      "Page 32 of 100\n",
      "Page 33 of 100\n",
      "Page 34 of 100\n",
      "Page 35 of 100\n",
      "Page 36 of 100\n",
      "Page 37 of 100\n",
      "Page 38 of 100\n",
      "Page 39 of 100\n",
      "Page 40 of 100\n",
      "Page 41 of 100\n",
      "Page 42 of 100\n",
      "Page 43 of 100\n",
      "Page 44 of 100\n",
      "Page 45 of 100\n",
      "Page 46 of 100\n",
      "Page 47 of 100\n",
      "Page 48 of 100\n",
      "Page 49 of 100\n",
      "Page 50 of 100\n",
      "Page 51 of 100\n",
      "Page 52 of 100\n",
      "Page 53 of 100\n",
      "Page 54 of 100\n",
      "Page 55 of 100\n",
      "Page 56 of 100\n",
      "Page 57 of 100\n",
      "Page 58 of 100\n",
      "Page 59 of 100\n",
      "Page 60 of 100\n",
      "Page 61 of 100\n",
      "Page 62 of 100\n",
      "Page 63 of 100\n",
      "Page 64 of 100\n",
      "Page 65 of 100\n",
      "Page 66 of 100\n",
      "Page 67 of 100\n",
      "Page 68 of 100\n",
      "Page 69 of 100\n",
      "Page 70 of 100\n",
      "Page 71 of 100\n",
      "Page 72 of 100\n",
      "Page 73 of 100\n",
      "Page 74 of 100\n",
      "Page 75 of 100\n",
      "Page 76 of 100\n",
      "Page 77 of 100\n",
      "Page 78 of 100\n",
      "Page 79 of 100\n",
      "Page 80 of 100\n",
      "Page 81 of 100\n",
      "Page 82 of 100\n",
      "Page 83 of 100\n",
      "Page 84 of 100\n",
      "Page 85 of 100\n",
      "Page 86 of 100\n",
      "Page 87 of 100\n",
      "Page 88 of 100\n",
      "Page 89 of 100\n",
      "Page 90 of 100\n",
      "Page 91 of 100\n",
      "Page 92 of 100\n",
      "Page 93 of 100\n",
      "Page 94 of 100\n",
      "Page 95 of 100\n",
      "Page 96 of 100\n",
      "Page 97 of 100\n",
      "Page 98 of 100\n",
      "Page 99 of 100\n",
      "Page 100 of 100\n",
      "Time Taken to Parse 2000 jobs is:1223.8860704898834 seconds\n"
     ]
    }
   ],
   "source": [
    "path = r'C:\\Users\\nijat\\Desktop\\Data Science\\Preparation For Interview\\Technicl Skil\\web Scraping\\Chromedriver'\n",
    "# url for th nukari.com website. \n",
    "url = 'https://www.naukri.com/'\n",
    "jobTitle = \"Data Science\"\n",
    "\n",
    "job_dataFrame = job_scraper(jobTitle,url,path,2000)"
   ]
  },
  {
   "cell_type": "code",
   "execution_count": 152,
   "id": "wired-harbor",
   "metadata": {},
   "outputs": [],
   "source": [
    "job_dataFrame.to_csv(\"data_science_jobs.csv\",index=False)"
   ]
  },
  {
   "cell_type": "code",
   "execution_count": 151,
   "id": "swiss-negative",
   "metadata": {},
   "outputs": [
    {
     "data": {
      "text/html": [
       "<div>\n",
       "<style scoped>\n",
       "    .dataframe tbody tr th:only-of-type {\n",
       "        vertical-align: middle;\n",
       "    }\n",
       "\n",
       "    .dataframe tbody tr th {\n",
       "        vertical-align: top;\n",
       "    }\n",
       "\n",
       "    .dataframe thead th {\n",
       "        text-align: right;\n",
       "    }\n",
       "</style>\n",
       "<table border=\"1\" class=\"dataframe\">\n",
       "  <thead>\n",
       "    <tr style=\"text-align: right;\">\n",
       "      <th></th>\n",
       "      <th>Title</th>\n",
       "      <th>Company</th>\n",
       "      <th>Experience</th>\n",
       "      <th>Location</th>\n",
       "      <th>Ratings</th>\n",
       "      <th>Salary</th>\n",
       "      <th>Job_Type</th>\n",
       "      <th>Posted</th>\n",
       "      <th>Required Skills</th>\n",
       "      <th>Job Requirment</th>\n",
       "    </tr>\n",
       "  </thead>\n",
       "  <tbody>\n",
       "    <tr>\n",
       "      <th>0</th>\n",
       "      <td>Senior Business Analyst- Data Science</td>\n",
       "      <td>Evalueserve.com Pvt. Ltd</td>\n",
       "      <td>2-7 Yrs</td>\n",
       "      <td>Bangalore/Bengaluru(Whitefield)</td>\n",
       "      <td>3.4</td>\n",
       "      <td>Not disclosed</td>\n",
       "      <td>HOT JOB</td>\n",
       "      <td>7 DAYS AGO</td>\n",
       "      <td>Data Science\\nAdvanced Analystics</td>\n",
       "      <td>Roles and Responsibilities We are looking for ...</td>\n",
       "    </tr>\n",
       "    <tr>\n",
       "      <th>1</th>\n",
       "      <td>Data Engineer / Data Science - Big Data Engineer</td>\n",
       "      <td>Inflexion Analytix Private Limited</td>\n",
       "      <td>0-3 Yrs</td>\n",
       "      <td>Hyderabad/Secunderabad, Pune, Chennai, Bangalo...</td>\n",
       "      <td>None</td>\n",
       "      <td>3,25,000 - 4,25,000 PA.</td>\n",
       "      <td>HOT JOB</td>\n",
       "      <td>None</td>\n",
       "      <td>IT Skills\\nPython\\nData Science\\nMachine Learn...</td>\n",
       "      <td>Applications invited from all Freshers and exp...</td>\n",
       "    </tr>\n",
       "    <tr>\n",
       "      <th>2</th>\n",
       "      <td>Senior Analyst - Data Science</td>\n",
       "      <td>Tiger Analytics India LLP</td>\n",
       "      <td>2-7 Yrs</td>\n",
       "      <td>Hyderabad/Secunderabad, Chennai, Bangalore/Ben...</td>\n",
       "      <td>3.8</td>\n",
       "      <td>Not disclosed</td>\n",
       "      <td>HOT JOB</td>\n",
       "      <td>None</td>\n",
       "      <td>python\\nverbal communication\\nR\\nwritten\\nData...</td>\n",
       "      <td>B Tech from Tier-1 college / MS or M Tech is p...</td>\n",
       "    </tr>\n",
       "    <tr>\n",
       "      <th>3</th>\n",
       "      <td>Senior Analyst-Data Science</td>\n",
       "      <td>Accenture Solutions Pvt Ltd</td>\n",
       "      <td>5-8 Yrs</td>\n",
       "      <td>Bangalore/Bengaluru</td>\n",
       "      <td>4.0</td>\n",
       "      <td>Not disclosed</td>\n",
       "      <td>PREFERRED</td>\n",
       "      <td>None</td>\n",
       "      <td>IT Skills\\nPython\\nData Science\\nArtificial In...</td>\n",
       "      <td>Skill required: Data Science - Natural Languag...</td>\n",
       "    </tr>\n",
       "    <tr>\n",
       "      <th>4</th>\n",
       "      <td>Senior Analyst-Data Science</td>\n",
       "      <td>Accenture Solutions Pvt Ltd</td>\n",
       "      <td>5-8 Yrs</td>\n",
       "      <td>Bangalore/Bengaluru</td>\n",
       "      <td>4.0</td>\n",
       "      <td>Not disclosed</td>\n",
       "      <td>PREFERRED</td>\n",
       "      <td>None</td>\n",
       "      <td>IT Skills\\nData Science\\nMachine Learning\\nArt...</td>\n",
       "      <td>Skill required: Data Science - Predictive Mode...</td>\n",
       "    </tr>\n",
       "    <tr>\n",
       "      <th>...</th>\n",
       "      <td>...</td>\n",
       "      <td>...</td>\n",
       "      <td>...</td>\n",
       "      <td>...</td>\n",
       "      <td>...</td>\n",
       "      <td>...</td>\n",
       "      <td>...</td>\n",
       "      <td>...</td>\n",
       "      <td>...</td>\n",
       "      <td>...</td>\n",
       "    </tr>\n",
       "    <tr>\n",
       "      <th>1995</th>\n",
       "      <td>Senior Data Engineer</td>\n",
       "      <td>CropIn Technology Solutions Pvt. Ltd.</td>\n",
       "      <td>1-4 Yrs</td>\n",
       "      <td>Bengaluru</td>\n",
       "      <td>4.5</td>\n",
       "      <td>Not disclosed</td>\n",
       "      <td>PREMIUM</td>\n",
       "      <td>30+ DAYS AGO</td>\n",
       "      <td>BPO\\ndata analysis\\nComputer science\\nLinux\\nC...</td>\n",
       "      <td>Experience in taking projects from a Technolog...</td>\n",
       "    </tr>\n",
       "    <tr>\n",
       "      <th>1996</th>\n",
       "      <td>Data Engineering Application Support Engineer</td>\n",
       "      <td>Accenture Solutions Pvt Ltd</td>\n",
       "      <td>6-8 Yrs</td>\n",
       "      <td>Bangalore/Bengaluru</td>\n",
       "      <td>4.0</td>\n",
       "      <td>Not disclosed</td>\n",
       "      <td>PREFERRED</td>\n",
       "      <td>29 DAYS AGO</td>\n",
       "      <td>Data Analytics\\nR\\nScala\\ncommunication\\nstati...</td>\n",
       "      <td>Must Have Skills : Data Engineering Work Exper...</td>\n",
       "    </tr>\n",
       "    <tr>\n",
       "      <th>1997</th>\n",
       "      <td>Sr Data Engineering Consultant</td>\n",
       "      <td>Optum Global Solutions (India) Private Limited</td>\n",
       "      <td>5-8 Yrs</td>\n",
       "      <td>Bangalore/Bengaluru</td>\n",
       "      <td>4.1</td>\n",
       "      <td>Not disclosed</td>\n",
       "      <td>HOT JOB</td>\n",
       "      <td>30 DAYS AGO</td>\n",
       "      <td>Data Engineering\\nData Structures\\nData Analys...</td>\n",
       "      <td>Position Name: Senior Data Engineering Consult...</td>\n",
       "    </tr>\n",
       "    <tr>\n",
       "      <th>1998</th>\n",
       "      <td>Senior Data Engineer</td>\n",
       "      <td>Larsen &amp; Toubro Infotech Limited</td>\n",
       "      <td>3-5 Yrs</td>\n",
       "      <td>Mumbai, New Delhi, Hyderabad/Secunderabad, Pun...</td>\n",
       "      <td>3.8</td>\n",
       "      <td>Not disclosed</td>\n",
       "      <td>None</td>\n",
       "      <td>None</td>\n",
       "      <td>SSRS\\nSSAS\\nSQL\\nMS SQL Database\\nSSMS\\nSSIS\\n...</td>\n",
       "      <td>Ability to lead the team and good communicatio...</td>\n",
       "    </tr>\n",
       "    <tr>\n",
       "      <th>1999</th>\n",
       "      <td>Data Engineering Application Lead</td>\n",
       "      <td>Accenture Solutions Pvt Ltd</td>\n",
       "      <td>6-8 Yrs</td>\n",
       "      <td>Bangalore/Bengaluru</td>\n",
       "      <td>4.0</td>\n",
       "      <td>Not disclosed</td>\n",
       "      <td>PREMIUM</td>\n",
       "      <td>30+ DAYS AGO</td>\n",
       "      <td>Data Analytics\\noral communication\\nwritten\\nD...</td>\n",
       "      <td>Project Role : Application Lead Project Role D...</td>\n",
       "    </tr>\n",
       "  </tbody>\n",
       "</table>\n",
       "<p>2000 rows × 10 columns</p>\n",
       "</div>"
      ],
      "text/plain": [
       "                                                 Title  \\\n",
       "0                Senior Business Analyst- Data Science   \n",
       "1     Data Engineer / Data Science - Big Data Engineer   \n",
       "2                        Senior Analyst - Data Science   \n",
       "3                          Senior Analyst-Data Science   \n",
       "4                          Senior Analyst-Data Science   \n",
       "...                                                ...   \n",
       "1995                              Senior Data Engineer   \n",
       "1996     Data Engineering Application Support Engineer   \n",
       "1997                    Sr Data Engineering Consultant   \n",
       "1998                              Senior Data Engineer   \n",
       "1999                 Data Engineering Application Lead   \n",
       "\n",
       "                                             Company Experience  \\\n",
       "0                           Evalueserve.com Pvt. Ltd    2-7 Yrs   \n",
       "1                 Inflexion Analytix Private Limited    0-3 Yrs   \n",
       "2                          Tiger Analytics India LLP    2-7 Yrs   \n",
       "3                        Accenture Solutions Pvt Ltd    5-8 Yrs   \n",
       "4                        Accenture Solutions Pvt Ltd    5-8 Yrs   \n",
       "...                                              ...        ...   \n",
       "1995           CropIn Technology Solutions Pvt. Ltd.    1-4 Yrs   \n",
       "1996                     Accenture Solutions Pvt Ltd    6-8 Yrs   \n",
       "1997  Optum Global Solutions (India) Private Limited    5-8 Yrs   \n",
       "1998                Larsen & Toubro Infotech Limited    3-5 Yrs   \n",
       "1999                     Accenture Solutions Pvt Ltd    6-8 Yrs   \n",
       "\n",
       "                                               Location Ratings  \\\n",
       "0                       Bangalore/Bengaluru(Whitefield)     3.4   \n",
       "1     Hyderabad/Secunderabad, Pune, Chennai, Bangalo...    None   \n",
       "2     Hyderabad/Secunderabad, Chennai, Bangalore/Ben...     3.8   \n",
       "3                                   Bangalore/Bengaluru     4.0   \n",
       "4                                   Bangalore/Bengaluru     4.0   \n",
       "...                                                 ...     ...   \n",
       "1995                                          Bengaluru     4.5   \n",
       "1996                                Bangalore/Bengaluru     4.0   \n",
       "1997                                Bangalore/Bengaluru     4.1   \n",
       "1998  Mumbai, New Delhi, Hyderabad/Secunderabad, Pun...     3.8   \n",
       "1999                                Bangalore/Bengaluru     4.0   \n",
       "\n",
       "                       Salary   Job_Type        Posted  \\\n",
       "0               Not disclosed    HOT JOB    7 DAYS AGO   \n",
       "1     3,25,000 - 4,25,000 PA.    HOT JOB          None   \n",
       "2               Not disclosed    HOT JOB          None   \n",
       "3               Not disclosed  PREFERRED          None   \n",
       "4               Not disclosed  PREFERRED          None   \n",
       "...                       ...        ...           ...   \n",
       "1995            Not disclosed    PREMIUM  30+ DAYS AGO   \n",
       "1996            Not disclosed  PREFERRED   29 DAYS AGO   \n",
       "1997            Not disclosed    HOT JOB   30 DAYS AGO   \n",
       "1998            Not disclosed       None          None   \n",
       "1999            Not disclosed    PREMIUM  30+ DAYS AGO   \n",
       "\n",
       "                                        Required Skills  \\\n",
       "0                     Data Science\\nAdvanced Analystics   \n",
       "1     IT Skills\\nPython\\nData Science\\nMachine Learn...   \n",
       "2     python\\nverbal communication\\nR\\nwritten\\nData...   \n",
       "3     IT Skills\\nPython\\nData Science\\nArtificial In...   \n",
       "4     IT Skills\\nData Science\\nMachine Learning\\nArt...   \n",
       "...                                                 ...   \n",
       "1995  BPO\\ndata analysis\\nComputer science\\nLinux\\nC...   \n",
       "1996  Data Analytics\\nR\\nScala\\ncommunication\\nstati...   \n",
       "1997  Data Engineering\\nData Structures\\nData Analys...   \n",
       "1998  SSRS\\nSSAS\\nSQL\\nMS SQL Database\\nSSMS\\nSSIS\\n...   \n",
       "1999  Data Analytics\\noral communication\\nwritten\\nD...   \n",
       "\n",
       "                                         Job Requirment  \n",
       "0     Roles and Responsibilities We are looking for ...  \n",
       "1     Applications invited from all Freshers and exp...  \n",
       "2     B Tech from Tier-1 college / MS or M Tech is p...  \n",
       "3     Skill required: Data Science - Natural Languag...  \n",
       "4     Skill required: Data Science - Predictive Mode...  \n",
       "...                                                 ...  \n",
       "1995  Experience in taking projects from a Technolog...  \n",
       "1996  Must Have Skills : Data Engineering Work Exper...  \n",
       "1997  Position Name: Senior Data Engineering Consult...  \n",
       "1998  Ability to lead the team and good communicatio...  \n",
       "1999  Project Role : Application Lead Project Role D...  \n",
       "\n",
       "[2000 rows x 10 columns]"
      ]
     },
     "execution_count": 151,
     "metadata": {},
     "output_type": "execute_result"
    }
   ],
   "source": [
    "job_dataFrame"
   ]
  },
  {
   "cell_type": "code",
   "execution_count": 153,
   "id": "running-mechanism",
   "metadata": {},
   "outputs": [
    {
     "name": "stdout",
     "output_type": "stream",
     "text": [
      "<class 'pandas.core.frame.DataFrame'>\n",
      "RangeIndex: 2000 entries, 0 to 1999\n",
      "Data columns (total 10 columns):\n",
      " #   Column           Non-Null Count  Dtype \n",
      "---  ------           --------------  ----- \n",
      " 0   Title            2000 non-null   object\n",
      " 1   Company          1999 non-null   object\n",
      " 2   Experience       1999 non-null   object\n",
      " 3   Location         1997 non-null   object\n",
      " 4   Ratings          1213 non-null   object\n",
      " 5   Salary           1999 non-null   object\n",
      " 6   Job_Type         1211 non-null   object\n",
      " 7   Posted           1807 non-null   object\n",
      " 8   Required Skills  1770 non-null   object\n",
      " 9   Job Requirment   1999 non-null   object\n",
      "dtypes: object(10)\n",
      "memory usage: 156.4+ KB\n"
     ]
    }
   ],
   "source": [
    "job_dataFrame.info()"
   ]
  },
  {
   "cell_type": "markdown",
   "id": "widespread-weekend",
   "metadata": {},
   "source": [
    "from the result we can see that we have missing values."
   ]
  },
  {
   "cell_type": "code",
   "execution_count": 154,
   "id": "continuous-longer",
   "metadata": {},
   "outputs": [
    {
     "data": {
      "text/plain": [
       "Title                0\n",
       "Company              1\n",
       "Experience           1\n",
       "Location             3\n",
       "Ratings            787\n",
       "Salary               1\n",
       "Job_Type           789\n",
       "Posted             193\n",
       "Required Skills    230\n",
       "Job Requirment       1\n",
       "dtype: int64"
      ]
     },
     "execution_count": 154,
     "metadata": {},
     "output_type": "execute_result"
    }
   ],
   "source": [
    "job_dataFrame.isnull().sum()"
   ]
  },
  {
   "cell_type": "code",
   "execution_count": 156,
   "id": "inappropriate-friendship",
   "metadata": {},
   "outputs": [
    {
     "data": {
      "text/plain": [
       "array(['Not disclosed', '3,25,000 - 4,25,000 PA.',\n",
       "       '4,00,000 - 6,50,000 PA.', '20,00,000 - 35,00,000 PA.',\n",
       "       '2,00,000 - 4,00,000 PA.', '10,00,000 - 20,00,000 PA.',\n",
       "       '4,00,000 - 9,00,000 PA.', '3,00,000 - 5,00,000 PA.',\n",
       "       '2,25,000 - 4,50,000 PA.', '15,00,000 - 25,00,000 PA.',\n",
       "       '30,00,000 - 45,00,000 PA.', '1,00,000 - 4,00,000 PA.',\n",
       "       '50,000 - 1,50,000 PA.', '1,75,000 - 4,25,000 PA.',\n",
       "       '8,00,000 - 14,00,000 PA.', '16,00,000 - 31,00,000 PA.',\n",
       "       '8,00,000 - 18,00,000 PA.', '12,00,000 - 20,00,000 PA.',\n",
       "       '20,00,000 - 25,00,000 PA.', '18,00,000 - 33,00,000 PA.',\n",
       "       '3,50,000 - 6,00,000 PA.', '15,00,000 - 30,00,000 PA.',\n",
       "       '9,50,000 - 12,00,000 PA.', '4,00,000 - 8,00,000 PA.',\n",
       "       '40,00,000 - 50,00,000 PA.', '1,50,000 - 3,00,000 PA.',\n",
       "       '32,50,000 - 35,00,000 PA.', '13,00,000 - 20,00,000 PA.',\n",
       "       '10,00,000 - 13,00,000 PA.', '1,25,000 - 1,50,000 PA.',\n",
       "       '5,00,000 - 10,00,000 PA.', '17,00,000 - 32,00,000 PA.',\n",
       "       '3,00,000 - 4,00,000 PA.', '2,25,000 - 4,75,000 PA.',\n",
       "       '50,00,000 - 70,00,000 PA.', '3,00,000 - 8,00,000 PA.',\n",
       "       '20,00,000 - 27,50,000 PA.', '17,00,000 - 22,50,000 PA.',\n",
       "       '1,75,000 - 2,50,000 PA.', '9,00,000 - 13,00,000 PA.', None,\n",
       "       '25,00,000 - 40,00,000 PA.', '4,50,000 - 8,00,000 PA.',\n",
       "       '60,00,000 - 70,00,000 PA.', '50,000 - 2,50,000 PA.',\n",
       "       '6,00,000 - 9,50,000 PA.', '10,00,000 - 16,00,000 PA.',\n",
       "       '15,00,000 - 20,00,000 PA.', '3,00,000 - 7,50,000 PA.',\n",
       "       '8,00,000 - 13,00,000 PA.', '10,00,000 - 15,00,000 PA.',\n",
       "       '6,00,000 - 12,00,000 PA.', '18,00,000 - 25,00,000 PA.',\n",
       "       '90,00,000 - 1 Cr and above PA.', '13,00,000 - 15,00,000 PA.',\n",
       "       '15,00,000 - 18,00,000 PA.', '50,000 - 60,000 PA.',\n",
       "       '35,00,000 - 50,00,000 PA.', '7,00,000 - 17,00,000 PA.',\n",
       "       '2,00,000 - 3,00,000 PA.', '5,00,000 - 15,00,000 PA.',\n",
       "       '50,00,000 - 95,00,000 PA.', '4,25,000 - 9,25,000 PA.',\n",
       "       '12,00,000 - 17,00,000 PA.', '1,75,000 - 3,75,000 PA.',\n",
       "       '11,00,000 - 20,00,000 PA.', '12,00,000 - 18,00,000 PA.',\n",
       "       '6,00,000 - 15,00,000 PA.', '10,00,000 - 12,00,000 PA.',\n",
       "       '20,00,000 - 30,00,000 PA.', '10,00,000 - 14,00,000 PA.',\n",
       "       '30,00,000 - 40,00,000 PA.', '14,00,000 - 24,00,000 PA.',\n",
       "       '1,00,000 - 6,00,000 PA.', '10,00,000 - 17,00,000 PA.',\n",
       "       '3,75,000 - 8,00,000 PA.', '10,00,000 - 18,00,000 PA.',\n",
       "       '2,50,000 - 4,50,000 PA.', '6,00,000 - 13,00,000 PA.',\n",
       "       '9,00,000 - 14,00,000 PA.', '4,00,000 - 6,00,000 PA.',\n",
       "       '17,00,000 - 30,00,000 PA.', '12,00,000 - 22,00,000 PA.',\n",
       "       '1,50,000 - 2,75,000 PA.', '1,50,000 - 6,00,000 PA.',\n",
       "       '1,00,000 - 3,00,000 PA.', '3,00,000 - 6,00,000 PA.',\n",
       "       '12,00,000 - 15,00,000 PA.', '3,50,000 - 8,50,000 PA.',\n",
       "       '2,50,000 - 3,75,000 PA.', '6,00,000 - 11,00,000 PA.',\n",
       "       '30,00,000 - 35,00,000 PA.', '5,00,000 - 12,00,000 PA.',\n",
       "       '9,00,000 - 17,00,000 PA.', '15,00,000 - 16,00,000 PA.',\n",
       "       '6,00,000 - 10,00,000 PA.', '3,00,000 - 6,50,000 PA.',\n",
       "       '2,50,000 - 6,00,000 PA.', '5,00,000 - 14,00,000 PA.',\n",
       "       '4,00,000 - 8,50,000 PA.', '50,000 - 3,00,000 PA.',\n",
       "       '1,50,000 - 2,25,000 PA.', '45,00,000 - 80,00,000 PA.',\n",
       "       '8,00,000 - 12,00,000 PA.', '2,50,000 - 7,50,000 PA.',\n",
       "       '1,50,000 - 2,50,000 PA.', '1,50,000 - 3,50,000 PA.',\n",
       "       '2,00,000 - 6,00,000 PA.', '2,00,000 - 3,25,000 PA.',\n",
       "       '4,50,000 PA. (Including Variable: 11.0%)',\n",
       "       '12,00,000 - 16,00,000 PA.', '5,00,000 - 13,00,000 PA.',\n",
       "       '7,00,000 - 10,00,000 PA.', '6,00,000 - 9,00,000 PA.',\n",
       "       '5,00,000 - 7,00,000 PA.', '17,00,000 - 20,00,000 PA.',\n",
       "       '2,50,000 - 3,00,000 PA.', '3,75,000 - 4,50,000 PA.',\n",
       "       '1,00,000 - 2,50,000 PA.', '3,00,000 - 4,50,000 PA.',\n",
       "       '1,50,000 - 2,00,000 PA.', '50,000 - 1,00,000 PA.',\n",
       "       '9,50,000 - 16,00,000 PA.', '2,00,000 - 5,00,000 PA.',\n",
       "       '4,75,000 - 5,00,000 PA.', '22,50,000 - 27,50,000 PA.'],\n",
       "      dtype=object)"
      ]
     },
     "execution_count": 156,
     "metadata": {},
     "output_type": "execute_result"
    }
   ],
   "source": [
    "job_dataFrame['Salary'].unique()"
   ]
  },
  {
   "cell_type": "markdown",
   "id": "known-eating",
   "metadata": {},
   "source": [
    "Let's check different job types and plot a bar graph of it."
   ]
  },
  {
   "cell_type": "code",
   "execution_count": 159,
   "id": "romantic-girlfriend",
   "metadata": {},
   "outputs": [],
   "source": [
    "x = job_dataFrame['Job_Type'].value_counts()"
   ]
  },
  {
   "cell_type": "code",
   "execution_count": 167,
   "id": "empty-amazon",
   "metadata": {},
   "outputs": [],
   "source": [
    "jobType = pd.DataFrame(x)"
   ]
  },
  {
   "cell_type": "code",
   "execution_count": 168,
   "id": "aquatic-chapter",
   "metadata": {},
   "outputs": [
    {
     "data": {
      "text/html": [
       "<div>\n",
       "<style scoped>\n",
       "    .dataframe tbody tr th:only-of-type {\n",
       "        vertical-align: middle;\n",
       "    }\n",
       "\n",
       "    .dataframe tbody tr th {\n",
       "        vertical-align: top;\n",
       "    }\n",
       "\n",
       "    .dataframe thead th {\n",
       "        text-align: right;\n",
       "    }\n",
       "</style>\n",
       "<table border=\"1\" class=\"dataframe\">\n",
       "  <thead>\n",
       "    <tr style=\"text-align: right;\">\n",
       "      <th></th>\n",
       "      <th>Job_Type</th>\n",
       "    </tr>\n",
       "  </thead>\n",
       "  <tbody>\n",
       "    <tr>\n",
       "      <th>PREMIUM</th>\n",
       "      <td>590</td>\n",
       "    </tr>\n",
       "    <tr>\n",
       "      <th>HOT JOB</th>\n",
       "      <td>339</td>\n",
       "    </tr>\n",
       "    <tr>\n",
       "      <th>PREFERRED</th>\n",
       "      <td>275</td>\n",
       "    </tr>\n",
       "    <tr>\n",
       "      <th>WALK-IN</th>\n",
       "      <td>6</td>\n",
       "    </tr>\n",
       "    <tr>\n",
       "      <th>GOVERNMENT</th>\n",
       "      <td>1</td>\n",
       "    </tr>\n",
       "  </tbody>\n",
       "</table>\n",
       "</div>"
      ],
      "text/plain": [
       "            Job_Type\n",
       "PREMIUM          590\n",
       "HOT JOB          339\n",
       "PREFERRED        275\n",
       "WALK-IN            6\n",
       "GOVERNMENT         1"
      ]
     },
     "execution_count": 168,
     "metadata": {},
     "output_type": "execute_result"
    }
   ],
   "source": [
    "jobType"
   ]
  },
  {
   "cell_type": "code",
   "execution_count": 171,
   "id": "complex-mailman",
   "metadata": {},
   "outputs": [],
   "source": [
    "import matplotlib.pyplot as plt\n",
    "import seaborn as sns"
   ]
  },
  {
   "cell_type": "code",
   "execution_count": 172,
   "id": "standing-lightweight",
   "metadata": {},
   "outputs": [
    {
     "data": {
      "text/plain": [
       "<AxesSubplot:ylabel='Job_Type'>"
      ]
     },
     "execution_count": 172,
     "metadata": {},
     "output_type": "execute_result"
    },
    {
     "data": {
      "image/png": "[encoded data removed]",
      "text/plain": [
       "<Figure size 432x288 with 1 Axes>"
      ]
     },
     "metadata": {
      "needs_background": "light"
     },
     "output_type": "display_data"
    }
   ],
   "source": [
    "sns.barplot(x=jobType.index,y=jobType['Job_Type'])"
   ]
  },
  {
   "cell_type": "markdown",
   "id": "consecutive-houston",
   "metadata": {},
   "source": [
    "from this we can see most of he jobs type as premium."
   ]
  },
  {
   "cell_type": "markdown",
   "id": "perfect-crystal",
   "metadata": {},
   "source": [
    "Let's check which company offer most job more that tope 10 in data science."
   ]
  },
  {
   "cell_type": "code",
   "execution_count": 186,
   "id": "plain-fundamental",
   "metadata": {},
   "outputs": [],
   "source": [
    "comp = job_dataFrame['Company'].value_counts()"
   ]
  },
  {
   "cell_type": "code",
   "execution_count": 188,
   "id": "hairy-chicago",
   "metadata": {},
   "outputs": [],
   "source": [
    "comp = pd.DataFrame(comp)"
   ]
  },
  {
   "cell_type": "code",
   "execution_count": 190,
   "id": "practical-ministry",
   "metadata": {},
   "outputs": [],
   "source": [
    "comp = comp.head(10)"
   ]
  },
  {
   "cell_type": "code",
   "execution_count": 191,
   "id": "primary-ethics",
   "metadata": {},
   "outputs": [
    {
     "data": {
      "text/html": [
       "<div>\n",
       "<style scoped>\n",
       "    .dataframe tbody tr th:only-of-type {\n",
       "        vertical-align: middle;\n",
       "    }\n",
       "\n",
       "    .dataframe tbody tr th {\n",
       "        vertical-align: top;\n",
       "    }\n",
       "\n",
       "    .dataframe thead th {\n",
       "        text-align: right;\n",
       "    }\n",
       "</style>\n",
       "<table border=\"1\" class=\"dataframe\">\n",
       "  <thead>\n",
       "    <tr style=\"text-align: right;\">\n",
       "      <th></th>\n",
       "      <th>Company</th>\n",
       "    </tr>\n",
       "  </thead>\n",
       "  <tbody>\n",
       "    <tr>\n",
       "      <th>Accenture Solutions Pvt Ltd</th>\n",
       "      <td>172</td>\n",
       "    </tr>\n",
       "    <tr>\n",
       "      <th>IBM India Pvt. Limited</th>\n",
       "      <td>76</td>\n",
       "    </tr>\n",
       "    <tr>\n",
       "      <th>ExecBoardinAsia</th>\n",
       "      <td>53</td>\n",
       "    </tr>\n",
       "    <tr>\n",
       "      <th>Hexaware Technologies Ltd.</th>\n",
       "      <td>24</td>\n",
       "    </tr>\n",
       "    <tr>\n",
       "      <th>Philips India Limited</th>\n",
       "      <td>23</td>\n",
       "    </tr>\n",
       "    <tr>\n",
       "      <th>Huquo Consulting Pvt. Ltd</th>\n",
       "      <td>22</td>\n",
       "    </tr>\n",
       "    <tr>\n",
       "      <th>Gojek Tech</th>\n",
       "      <td>21</td>\n",
       "    </tr>\n",
       "    <tr>\n",
       "      <th>GO-JEK India</th>\n",
       "      <td>19</td>\n",
       "    </tr>\n",
       "    <tr>\n",
       "      <th>Cognizant Technology Solutions India Pvt Ltd</th>\n",
       "      <td>14</td>\n",
       "    </tr>\n",
       "    <tr>\n",
       "      <th>Visa Inc.</th>\n",
       "      <td>14</td>\n",
       "    </tr>\n",
       "  </tbody>\n",
       "</table>\n",
       "</div>"
      ],
      "text/plain": [
       "                                              Company\n",
       "Accenture Solutions Pvt Ltd                       172\n",
       "IBM India Pvt. Limited                             76\n",
       "ExecBoardinAsia                                    53\n",
       "Hexaware Technologies Ltd.                         24\n",
       "Philips India Limited                              23\n",
       "Huquo Consulting Pvt. Ltd                          22\n",
       "Gojek Tech                                         21\n",
       "GO-JEK India                                       19\n",
       "Cognizant Technology Solutions India Pvt Ltd       14\n",
       "Visa Inc.                                          14"
      ]
     },
     "execution_count": 191,
     "metadata": {},
     "output_type": "execute_result"
    }
   ],
   "source": [
    "comp"
   ]
  },
  {
   "cell_type": "code",
   "execution_count": 198,
   "id": "twenty-cloud",
   "metadata": {},
   "outputs": [
    {
     "data": {
      "text/plain": [
       "Text(0.5, 0, 'Company Name')"
      ]
     },
     "execution_count": 198,
     "metadata": {},
     "output_type": "execute_result"
    },
    {
     "data": {
      "image/png": "[encoded data removed]",
      "text/plain": [
       "<Figure size 1152x576 with 1 Axes>"
      ]
     },
     "metadata": {
      "needs_background": "light"
     },
     "output_type": "display_data"
    }
   ],
   "source": [
    "plt.figure(figsize=(16,8))\n",
    "sns.barplot(x=comp.index,y=comp.Company)\n",
    "plt.title(\"Top 10 Company Which Offer Most of Data Science Jobs\")\n",
    "plt.ylabel(\"Number of Jobs\")\n",
    "plt.xlabel(\"Company Name\")"
   ]
  },
  {
   "cell_type": "markdown",
   "id": "convenient-sessions",
   "metadata": {},
   "source": [
    "we can see that we are not able to see the name of the company properly let's change the orientation of the graph."
   ]
  },
  {
   "cell_type": "code",
   "execution_count": 202,
   "id": "breathing-trunk",
   "metadata": {},
   "outputs": [
    {
     "data": {
      "text/plain": [
       "Text(0.5, 0, 'Company Name')"
      ]
     },
     "execution_count": 202,
     "metadata": {},
     "output_type": "execute_result"
    },
    {
     "data": {
      "image/png": "[encoded data removed]",
      "text/plain": [
       "<Figure size 1152x576 with 1 Axes>"
      ]
     },
     "metadata": {
      "needs_background": "light"
     },
     "output_type": "display_data"
    }
   ],
   "source": [
    "plt.figure(figsize=(16,8))\n",
    "sns.barplot(y=comp.index,x=comp.Company,orient=\"horizontal\")\n",
    "plt.title(\"Top 10 Company Which Offer Most of Data Science Jobs\")\n",
    "plt.ylabel(\"Number of Jobs\")\n",
    "plt.xlabel(\"Company Name\")"
   ]
  },
  {
   "cell_type": "markdown",
   "id": "authorized-fiber",
   "metadata": {},
   "source": [
    "Now can see clearly that the `Accenture Solutions Pvt Ltd` number one company which offer the data sciene jobe. "
   ]
  },
  {
   "cell_type": "markdown",
   "id": "stuffed-adapter",
   "metadata": {},
   "source": [
    "It was just simple example of how we can analysis and visualize the scraped data. Hence this dataset doesn't include to much mnerical data. we can use NLP to better understad the data."
   ]
  },
  {
   "cell_type": "markdown",
   "id": "external-maple",
   "metadata": {},
   "source": [
    "`Note:` We can get other job like software eng or data analyst just by passing the reqiured job title. "
   ]
  },
  {
   "cell_type": "code",
   "execution_count": null,
   "id": "absent-shock",
   "metadata": {},
   "outputs": [],
   "source": []
  }
 ],
 "metadata": {
  "kernelspec": {
   "display_name": "Python 3",
   "language": "python",
   "name": "python3"
  },
  "language_info": {
   "codemirror_mode": {
    "name": "ipython",
    "version": 3
   },
   "file_extension": ".py",
   "mimetype": "text/x-python",
   "name": "python",
   "nbconvert_exporter": "python",
   "pygments_lexer": "ipython3",
   "version": "3.8.8"
  }
 },
 "nbformat": 4,
 "nbformat_minor": 5
}
