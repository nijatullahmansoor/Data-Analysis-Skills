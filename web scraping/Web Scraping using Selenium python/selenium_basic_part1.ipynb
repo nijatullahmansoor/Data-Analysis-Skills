{
 "cells": [
  {
   "cell_type": "code",
   "execution_count": 1,
   "id": "valuable-beijing",
   "metadata": {},
   "outputs": [],
   "source": [
    "from selenium import webdriver"
   ]
  },
  {
   "cell_type": "code",
   "execution_count": 2,
   "id": "intended-polymer",
   "metadata": {},
   "outputs": [],
   "source": [
    "path = r'C:\\Users\\nijat\\Desktop\\Data Science\\Preparation For Interview\\Technicl Skil\\web Scraping\\Chromedriver'\n",
    "browser = webdriver.Chrome(executable_path = path)"
   ]
  },
  {
   "cell_type": "code",
   "execution_count": 3,
   "id": "polished-hawaii",
   "metadata": {},
   "outputs": [
    {
     "name": "stdout",
     "output_type": "stream",
     "text": [
      "Google\n"
     ]
    }
   ],
   "source": [
    "browser.get(\"http://www.google.com\")\n",
    "page_title = browser.title\n",
    "print(page_title)"
   ]
  },
  {
   "cell_type": "code",
   "execution_count": 4,
   "id": "cognitive-campus",
   "metadata": {},
   "outputs": [
    {
     "ename": "AssertionError",
     "evalue": "",
     "output_type": "error",
     "traceback": [
      "\u001b[1;31m---------------------------------------------------------------------------\u001b[0m",
      "\u001b[1;31mAssertionError\u001b[0m                            Traceback (most recent call last)",
      "\u001b[1;32m<ipython-input-4-0712ea3e5704>\u001b[0m in \u001b[0;36m<module>\u001b[1;34m\u001b[0m\n\u001b[1;32m----> 1\u001b[1;33m \u001b[1;32massert\u001b[0m \u001b[1;34m\"google\"\u001b[0m \u001b[1;32min\u001b[0m \u001b[0mpage_title\u001b[0m\u001b[1;33m\u001b[0m\u001b[1;33m\u001b[0m\u001b[0m\n\u001b[0m",
      "\u001b[1;31mAssertionError\u001b[0m: "
     ]
    }
   ],
   "source": [
    "assert \"google\" in page_title"
   ]
  },
  {
   "cell_type": "code",
   "execution_count": 5,
   "id": "careful-wisconsin",
   "metadata": {},
   "outputs": [],
   "source": [
    "assert \"Google\" in page_title"
   ]
  },
  {
   "cell_type": "code",
   "execution_count": 6,
   "id": "great-fields",
   "metadata": {},
   "outputs": [],
   "source": [
    "browser.quit()"
   ]
  },
  {
   "cell_type": "markdown",
   "id": "sophisticated-island",
   "metadata": {},
   "source": [
    "## Using Selenium to write tests"
   ]
  },
  {
   "cell_type": "markdown",
   "id": "violent-smart",
   "metadata": {},
   "source": [
    "Selenium is mostly used for writing test cases. The selenium package itself doesn’t provide a testing tool/framework. You can write test cases using Python’s unittest module. The other options for a tool/framework are pytest and nose.\n",
    "\n",
    "In this chapter, we use unittest as the framework of choice. Here is the modified example which uses unittest module. This is a test for python.org search functionality:"
   ]
  },
  {
   "cell_type": "code",
   "execution_count": 10,
   "id": "running-buyer",
   "metadata": {},
   "outputs": [],
   "source": [
    "import unittest\n",
    "from selenium import webdriver\n",
    "from selenium.webdriver.common.keys import Keys"
   ]
  },
  {
   "cell_type": "code",
   "execution_count": 10,
   "id": "handled-rescue",
   "metadata": {},
   "outputs": [
    {
     "name": "stderr",
     "output_type": "stream",
     "text": [
      ".\n",
      "----------------------------------------------------------------------\n",
      "Ran 1 test in 6.971s\n",
      "\n",
      "OK\n"
     ]
    }
   ],
   "source": [
    "class PythonOrgSerch(unittest.TestCase):\n",
    "    \n",
    "    def setUp(self):\n",
    "        self.driver = webdriver.Chrome(executable_path = path)\n",
    "        \n",
    "    def test_search_in_python_org(self):\n",
    "        driver = self.driver\n",
    "        driver.get(\"http://www.python.org\")\n",
    "        self.assertIn(\"Python\", driver.title)\n",
    "        elem = driver.find_element_by_name(\"q\")\n",
    "        elem.send_keys(\"pycon\")\n",
    "        elem.send_keys(Keys.RETURN)\n",
    "        assert \"No results found.\" not in driver.page_source\n",
    "        \n",
    "    def tearDown(self):\n",
    "        self.driver.close()\n",
    "        \n",
    "if __name__ == \"__main__\":\n",
    "    unittest.main(argv=['first-arg-is-ignored'], exit=False)"
   ]
  },
  {
   "cell_type": "markdown",
   "id": "increased-signature",
   "metadata": {},
   "source": [
    "see the complete explationat <a href='https://selenium-python.readthedocs.io/getting-started.html'>here</a>"
   ]
  },
  {
   "cell_type": "markdown",
   "id": "appropriate-chance",
   "metadata": {},
   "source": [
    "## 3. Navigating"
   ]
  },
  {
   "cell_type": "markdown",
   "id": "bright-civilian",
   "metadata": {},
   "source": [
    "The first thing you’ll want to do with WebDriver is navigate to a link. The normal way to do this is by calling get method:"
   ]
  },
  {
   "cell_type": "code",
   "execution_count": 81,
   "id": "exposed-oxford",
   "metadata": {},
   "outputs": [],
   "source": [
    "path = r'C:\\Users\\nijat\\Desktop\\Data Science\\Preparation For Interview\\Technicl Skil\\web Scraping\\Chromedriver'\n",
    "driver = webdriver.Chrome(executable_path = path)"
   ]
  },
  {
   "cell_type": "code",
   "execution_count": 6,
   "id": "residential-mathematics",
   "metadata": {},
   "outputs": [],
   "source": [
    "url = 'http://www.google.com'\n",
    "driver.get(url)"
   ]
  },
  {
   "cell_type": "markdown",
   "id": "numeric-agent",
   "metadata": {},
   "source": [
    "WebDriver will wait until the page has fully loaded (that is, the onload event has fired) before returning control to your test or script. Be aware that if your page uses a lot of AJAX on load then WebDriver may not know when it has completely loaded. If you need to ensure such pages are fully loaded then you can use <a href='https://selenium-python.readthedocs.io/waits.html#waits'>waits.</a>"
   ]
  },
  {
   "cell_type": "markdown",
   "id": "authorized-highland",
   "metadata": {},
   "source": [
    "### Interacting with the page\n",
    "\n",
    "Just being able to go to places isn’t terribly useful. What we’d really like to do is to interact with the pages, or, more specifically, the HTML elements within a page. First of all, we need to find one. WebDriver offers a number of ways to find elements. For example, given an element defined as:\n",
    "\n",
    "`<input type=\"text\" name=\"passwd\" id=\"passwd-id\" />`\n",
    "\n",
    "you could find it using any of:\n",
    "\n",
    "<code>element = driver.find_element_by_id(\"passwd-id\")\n",
    "element = driver.find_element_by_name(\"passwd\")\n",
    "element = driver.find_element_by_xpath(\"//input[@id='passwd-id']\")\n",
    "element = driver.find_element_by_css_selector(\"input#passwd-id\")</code>\n",
    "\n",
    "\n",
    "You can also look for a link by its text, but be careful! The text must be an exact match! You should also be careful when using XPATH in WebDriver. If there’s more than one element that matches the query, then only the first will be returned. If nothing can be found, a NoSuchElementException will be raised.\n",
    "\n",
    "WebDriver has an “Object-based” API; we represent all types of elements using the same interface. This means that although you may see a lot of possible methods you could invoke when you hit your IDE’s auto-complete key combination, not all of them will make sense or be valid. Don’t worry! WebDriver will attempt to do the Right Thing, and if you call a method that makes no sense (“setSelected()” on a “meta” tag, for example) an exception will be raised.\n",
    "\n",
    "So, you’ve got an element. What can you do with it? First of all, you may want to enter some text into a text field:\n",
    "\n",
    "`element.send_keys(\"some text\")`"
   ]
  },
  {
   "cell_type": "code",
   "execution_count": 7,
   "id": "chemical-ethnic",
   "metadata": {},
   "outputs": [],
   "source": [
    "import time\n",
    "time.sleep(4)\n",
    "element = driver.find_element_by_xpath(\"/html/body/div[1]/div[3]/form/div[1]/div[1]/div[1]/div/div[2]/input\")\n",
    "element.send_keys(\"Nijatullah Mansoor\")  # This will send the test to the serch bar.\n"
   ]
  },
  {
   "cell_type": "markdown",
   "id": "falling-indiana",
   "metadata": {},
   "source": [
    "You can simulate pressing the arrow keys by using the “Keys” class:"
   ]
  },
  {
   "cell_type": "code",
   "execution_count": null,
   "id": "coordinated-leather",
   "metadata": {},
   "outputs": [],
   "source": [
    "time.sleep(4)\n",
    "element.send_keys(\"Nijatullah Mansoor\")\n",
    "element.send_keys(\"LinkedIn profile\",Keys.ARROW_DOWN)\n",
    "time.sleep(4)\n",
    "element.send_keys(Keys.RETURN)\n",
    "user_email"
   ]
  },
  {
   "cell_type": "markdown",
   "id": "norwegian-color",
   "metadata": {},
   "source": [
    "It is possible to call send_keys on any element, which makes it possible to test keyboard shortcuts such as those used on GMail. A side-effect of this is that typing something into a text field won’t automatically clear it. Instead, what you type will be appended to what’s already there. You can easily clear the contents of a text field or textarea with the clear method:"
   ]
  },
  {
   "cell_type": "code",
   "execution_count": 11,
   "id": "accepted-frank",
   "metadata": {},
   "outputs": [],
   "source": [
    "time.sleep(3)\n",
    "element = driver.find_element_by_xpath(\"/html/body/div[1]/div[3]/form/div[1]/div[1]/div[1]/div/div[2]/input\")\n",
    "element.send_keys(\"Nijatullah Mansoor\")  # This will send the test to the serch bar.\n",
    "time.sleep(4)\n",
    "\n",
    "#element.clear()\n",
    "\n",
    "element.send_keys(\"Nijatullah Mansoor\")\n",
    "element.send_keys(\"LinkedIn profile\",Keys.ARROW_DOWN)\n",
    "\n",
    "element.clear()  ## This to clear the serch bar\n"
   ]
  },
  {
   "cell_type": "markdown",
   "id": "buried-edition",
   "metadata": {},
   "source": [
    "## Filling in forms\n",
    "\n",
    "\n"
   ]
  },
  {
   "cell_type": "code",
   "execution_count": null,
   "id": "annoying-review",
   "metadata": {},
   "outputs": [],
   "source": []
  },
  {
   "cell_type": "code",
   "execution_count": 82,
   "id": "endangered-matter",
   "metadata": {},
   "outputs": [],
   "source": [
    "url = 'https://www.nseindia.com/option-chain'\n",
    "driver.get(url)"
   ]
  },
  {
   "cell_type": "code",
   "execution_count": 16,
   "id": "alien-timothy",
   "metadata": {},
   "outputs": [],
   "source": [
    "element = driver.find_element_by_xpath('//*[@id=\"expirySelect\"]')\n",
    "all_options = element.find_element_by_tag_name('option')"
   ]
  },
  {
   "cell_type": "code",
   "execution_count": 17,
   "id": "useful-weapon",
   "metadata": {},
   "outputs": [
    {
     "data": {
      "text/plain": [
       "<selenium.webdriver.remote.webelement.WebElement (session=\"816f03a867896662ea665e7c67a6c426\", element=\"4773f702-01f7-4cb8-a3d4-df9314480586\")>"
      ]
     },
     "execution_count": 17,
     "metadata": {},
     "output_type": "execute_result"
    }
   ],
   "source": [
    "all_options"
   ]
  },
  {
   "cell_type": "markdown",
   "id": "flexible-serbia",
   "metadata": {},
   "source": [
    "## Example to login to a website using selemium\n"
   ]
  },
  {
   "cell_type": "code",
   "execution_count": null,
   "id": "creative-novelty",
   "metadata": {},
   "outputs": [],
   "source": [
    "driver = webdriver.Chrome(executable_path=path)\n",
    "url = 'https://www.devicemagic.com/blog/drag-and-drop-form-builder-create-mobile-forms-in-minutes/'\n",
    "driver.get(url)"
   ]
  },
  {
   "cell_type": "code",
   "execution_count": 103,
   "id": "ambient-makeup",
   "metadata": {},
   "outputs": [],
   "source": [
    "time.sleep(4)\n",
    "create_account_button = driver.find_element_by_id(\"menu-item-35\")\n",
    "create_account_button.click()\n",
    "\n",
    "email = driver.find_element_by_id(\"user_email\")\n",
    "email.send_keys(\"Nijatullah@gmail.com\")\n",
    "\n",
    "user_name = driver.find_element_by_id(\"user_name\")\n",
    "user_name.send_keys(\"Nijatullah Mansoor\")\n",
    "\n",
    "company_name = driver.find_element_by_id(\"organization_name\")\n",
    "company_name.send_keys(\"MansoorDataTech\")\n",
    "\n",
    "# this part of the code to select the particular country code.\n",
    "\n",
    "select_country = driver.find_element_by_class_name(\"iti__selected-flag\")\n",
    "select_country.click()\n",
    "india = driver.find_element_by_xpath('//*[@id=\"iti-item-in\"]/span[1]') # we have to copy path \n",
    "india.click()\n",
    "\n",
    "phone_number = driver.find_element_by_id(\"user_phone\")\n",
    "phone_number.send_keys(\"9607464112\")\n",
    "\n",
    "user_password = driver.find_element_by_id(\"user_password\")\n",
    "user_password.send_keys(\"Password123\")\n",
    "\n",
    "# this is check the checkbox option to say i aggree to terms and polycy\n",
    "\n",
    "\n",
    "policy_acceptance = driver.find_element_by_id(\"user_is_comms_consent\")\n",
    "policy_acceptance.click()\n",
    "\n",
    "sign_up_button = driver.find_element_by_id(\"start_trial\")\n",
    "sign_up_button.click()\n"
   ]
  },
  {
   "cell_type": "markdown",
   "id": "negative-grade",
   "metadata": {},
   "source": [
    "## Filling in forms\n",
    "\n",
    "We’ve already seen how to enter text into a textarea or text field, but what about the other elements? You can “toggle” the state of the drop down, and you can use “setSelected” to set something like an OPTION tag selected. Dealing with SELECT tags isn’t too bad:\n",
    "\n",
    "<code>element = driver.find_element_by_xpath(\"//select[@name='name']\")\n",
    "all_options = element.find_elements_by_tag_name(\"option\")\n",
    "for option in all_options:\n",
    "    print(\"Value is: %s\" % option.get_attribute(\"value\"))\n",
    "    option.click()</code>"
   ]
  },
  {
   "cell_type": "code",
   "execution_count": 27,
   "id": "federal-orlando",
   "metadata": {},
   "outputs": [
    {
     "name": "stdout",
     "output_type": "stream",
     "text": [
      "Value is: \n",
      "Value is: 12-Aug-2021\n",
      "Value is: 18-Aug-2021\n",
      "Value is: 26-Aug-2021\n",
      "Value is: 02-Sep-2021\n",
      "Value is: 09-Sep-2021\n",
      "Value is: 16-Sep-2021\n",
      "Value is: 23-Sep-2021\n",
      "Value is: 30-Sep-2021\n",
      "Value is: 07-Oct-2021\n",
      "Value is: 28-Oct-2021\n",
      "Value is: 30-Dec-2021\n",
      "Value is: 31-Mar-2022\n",
      "Value is: 30-Jun-2022\n",
      "Value is: 29-Dec-2022\n",
      "Value is: 29-Jun-2023\n",
      "Value is: 28-Dec-2023\n",
      "Value is: 27-Jun-2024\n",
      "Value is: 26-Jun-2025\n",
      "Value is: 24-Dec-2025\n"
     ]
    }
   ],
   "source": [
    "element = driver.find_element_by_xpath('//*[@id=\"expirySelect\"]')\n",
    "all_options = element.find_elements_by_tag_name(\"option\")\n",
    "for option in all_options:\n",
    "    print(\"Value is: %s\" % option.get_attribute(\"value\"))\n",
    "    option.click()"
   ]
  },
  {
   "cell_type": "code",
   "execution_count": 35,
   "id": "adjacent-shaft",
   "metadata": {},
   "outputs": [],
   "source": [
    "option_list = []\n",
    "element = driver.find_element_by_id(\"select_symbol\")\n",
    "all_options = element.find_elements_by_tag_name(\"option\")\n",
    "for option in all_options:\n",
    "    option_list.append(option.get_attribute(\"value\"))\n",
    "    option.click()\n"
   ]
  },
  {
   "cell_type": "code",
   "execution_count": 37,
   "id": "exceptional-uniform",
   "metadata": {},
   "outputs": [
    {
     "data": {
      "text/plain": [
       "['', 'AARTIIND', 'ABFRL', 'ACC', 'ADANIENT']"
      ]
     },
     "execution_count": 37,
     "metadata": {},
     "output_type": "execute_result"
    }
   ],
   "source": [
    "option_list[:5]"
   ]
  },
  {
   "cell_type": "markdown",
   "id": "pediatric-evidence",
   "metadata": {},
   "source": [
    "This will find the first “SELECT” element on the page, and cycle through each of its OPTIONs in turn, printing out their values, and selecting each in turn.\n",
    "\n",
    "As you can see, this isn’t the most efficient way of dealing with SELECT elements. WebDriver’s support classes include one called a “Select”, which provides useful methods for interacting with these:\n",
    "\n",
    "<code>from selenium.webdriver.support.ui import Select\n",
    "select = Select(driver.find_element_by_name('name'))\n",
    "select.select_by_index(index)\n",
    "select.select_by_visible_text(\"text\")\n",
    "select.select_by_value(value)</code>\n",
    "\n",
    "WebDriver also provides features for deselecting all the selected options:\n",
    "\n",
    "<code>select = Select(driver.find_element_by_id('id'))\n",
    "select.deselect_all()</code>"
   ]
  },
  {
   "cell_type": "code",
   "execution_count": 73,
   "id": "mighty-intro",
   "metadata": {},
   "outputs": [],
   "source": [
    "from selenium.webdriver.support.ui import Select\n",
    "select = Select(driver.find_element_by_id(\"strikeSelect\"))"
   ]
  },
  {
   "cell_type": "code",
   "execution_count": 57,
   "id": "sharing-basin",
   "metadata": {},
   "outputs": [],
   "source": [
    "option = select.options"
   ]
  },
  {
   "cell_type": "code",
   "execution_count": 59,
   "id": "motivated-curtis",
   "metadata": {},
   "outputs": [
    {
     "data": {
      "text/plain": [
       "[<selenium.webdriver.remote.webelement.WebElement (session=\"a986ddf21163da455e3b99b78f26d99a\", element=\"a518cc56-51e2-463e-840e-6fee652ba443\")>,\n",
       " <selenium.webdriver.remote.webelement.WebElement (session=\"a986ddf21163da455e3b99b78f26d99a\", element=\"5613665f-1f28-4a26-8828-cee2a824a70e\")>,\n",
       " <selenium.webdriver.remote.webelement.WebElement (session=\"a986ddf21163da455e3b99b78f26d99a\", element=\"65d2a726-6dfd-49bc-88c3-74ca39ae3c0c\")>]"
      ]
     },
     "execution_count": 59,
     "metadata": {},
     "output_type": "execute_result"
    }
   ],
   "source": [
    "option[:3]"
   ]
  },
  {
   "cell_type": "code",
   "execution_count": 68,
   "id": "spread-fraction",
   "metadata": {},
   "outputs": [],
   "source": [
    "price_list = []\n",
    "for price in option:\n",
    "    price_list.append(price.text)"
   ]
  },
  {
   "cell_type": "code",
   "execution_count": 70,
   "id": "contrary-bernard",
   "metadata": {},
   "outputs": [
    {
     "data": {
      "text/plain": [
       "['Select', '7,500.00', '8,000.00', '8,300.00', '8,500.00']"
      ]
     },
     "execution_count": 70,
     "metadata": {},
     "output_type": "execute_result"
    }
   ],
   "source": [
    "price_list[:5]"
   ]
  },
  {
   "cell_type": "code",
   "execution_count": 71,
   "id": "executed-cattle",
   "metadata": {},
   "outputs": [],
   "source": [
    "driver = webdriver.Chrome(executable_path = path)"
   ]
  },
  {
   "cell_type": "code",
   "execution_count": 75,
   "id": "retired-edmonton",
   "metadata": {},
   "outputs": [
    {
     "ename": "NotImplementedError",
     "evalue": "You may only deselect all options of a multi-select",
     "output_type": "error",
     "traceback": [
      "\u001b[1;31m---------------------------------------------------------------------------\u001b[0m",
      "\u001b[1;31mNotImplementedError\u001b[0m                       Traceback (most recent call last)",
      "\u001b[1;32m<ipython-input-75-60e03b59bbbb>\u001b[0m in \u001b[0;36m<module>\u001b[1;34m\u001b[0m\n\u001b[0;32m      1\u001b[0m \u001b[0mtime\u001b[0m\u001b[1;33m.\u001b[0m\u001b[0msleep\u001b[0m\u001b[1;33m(\u001b[0m\u001b[1;36m5\u001b[0m\u001b[1;33m)\u001b[0m\u001b[1;33m\u001b[0m\u001b[1;33m\u001b[0m\u001b[0m\n\u001b[0;32m      2\u001b[0m \u001b[0mselect\u001b[0m \u001b[1;33m=\u001b[0m \u001b[0mSelect\u001b[0m\u001b[1;33m(\u001b[0m\u001b[0mdriver\u001b[0m\u001b[1;33m.\u001b[0m\u001b[0mfind_element_by_id\u001b[0m\u001b[1;33m(\u001b[0m\u001b[1;34m'strikeSelect'\u001b[0m\u001b[1;33m)\u001b[0m\u001b[1;33m)\u001b[0m\u001b[1;33m\u001b[0m\u001b[1;33m\u001b[0m\u001b[0m\n\u001b[1;32m----> 3\u001b[1;33m \u001b[0mselect\u001b[0m\u001b[1;33m.\u001b[0m\u001b[0mdeselect_all\u001b[0m\u001b[1;33m(\u001b[0m\u001b[1;33m)\u001b[0m\u001b[1;33m\u001b[0m\u001b[1;33m\u001b[0m\u001b[0m\n\u001b[0m",
      "\u001b[1;32m~\\anaconda3\\lib\\site-packages\\selenium\\webdriver\\support\\select.py\u001b[0m in \u001b[0;36mdeselect_all\u001b[1;34m(self)\u001b[0m\n\u001b[0;32m    145\u001b[0m         \"\"\"\n\u001b[0;32m    146\u001b[0m         \u001b[1;32mif\u001b[0m \u001b[1;32mnot\u001b[0m \u001b[0mself\u001b[0m\u001b[1;33m.\u001b[0m\u001b[0mis_multiple\u001b[0m\u001b[1;33m:\u001b[0m\u001b[1;33m\u001b[0m\u001b[1;33m\u001b[0m\u001b[0m\n\u001b[1;32m--> 147\u001b[1;33m             \u001b[1;32mraise\u001b[0m \u001b[0mNotImplementedError\u001b[0m\u001b[1;33m(\u001b[0m\u001b[1;34m\"You may only deselect all options of a multi-select\"\u001b[0m\u001b[1;33m)\u001b[0m\u001b[1;33m\u001b[0m\u001b[1;33m\u001b[0m\u001b[0m\n\u001b[0m\u001b[0;32m    148\u001b[0m         \u001b[1;32mfor\u001b[0m \u001b[0mopt\u001b[0m \u001b[1;32min\u001b[0m \u001b[0mself\u001b[0m\u001b[1;33m.\u001b[0m\u001b[0moptions\u001b[0m\u001b[1;33m:\u001b[0m\u001b[1;33m\u001b[0m\u001b[1;33m\u001b[0m\u001b[0m\n\u001b[0;32m    149\u001b[0m             \u001b[0mself\u001b[0m\u001b[1;33m.\u001b[0m\u001b[0m_unsetSelected\u001b[0m\u001b[1;33m(\u001b[0m\u001b[0mopt\u001b[0m\u001b[1;33m)\u001b[0m\u001b[1;33m\u001b[0m\u001b[1;33m\u001b[0m\u001b[0m\n",
      "\u001b[1;31mNotImplementedError\u001b[0m: You may only deselect all options of a multi-select"
     ]
    }
   ],
   "source": [
    "time.sleep(5)\n",
    "select = Select(driver.find_element_by_id('strikeSelect'))\n",
    "select.deselect_all()"
   ]
  },
  {
   "cell_type": "markdown",
   "id": "progressive-collar",
   "metadata": {},
   "source": [
    "This will deselect all OPTIONs from that particular SELECT on the page.\n",
    "\n",
    "Suppose in a test, we need the list of all default selected options, Select class provides a property method that returns a list:\n",
    "\n",
    "<code>select = Select(driver.find_element_by_xpath(\"//select[@name='name']\"))\n",
    "all_selected_options = select.all_selected_options</code>"
   ]
  },
  {
   "cell_type": "code",
   "execution_count": 77,
   "id": "specified-fashion",
   "metadata": {},
   "outputs": [],
   "source": [
    "select = Select(driver.find_element_by_xpath('//*[@id=\"expirySelect\"]'))\n",
    "all_selected_options = select.all_selected_options"
   ]
  },
  {
   "cell_type": "code",
   "execution_count": 78,
   "id": "prompt-species",
   "metadata": {},
   "outputs": [
    {
     "data": {
      "text/plain": [
       "[<selenium.webdriver.remote.webelement.WebElement (session=\"6a61d236cd8e8c2fac29202bf9a82290\", element=\"5369e1e0-44ac-4e1d-b90a-1cf1057ea314\")>]"
      ]
     },
     "execution_count": 78,
     "metadata": {},
     "output_type": "execute_result"
    }
   ],
   "source": [
    "all_selected_options"
   ]
  },
  {
   "cell_type": "code",
   "execution_count": 80,
   "id": "worth-shock",
   "metadata": {},
   "outputs": [
    {
     "name": "stdout",
     "output_type": "stream",
     "text": [
      "28-Oct-2021\n"
     ]
    }
   ],
   "source": [
    "for option in all_selected_options:\n",
    "    print(option.get_attribute('value'))"
   ]
  },
  {
   "cell_type": "markdown",
   "id": "thick-wells",
   "metadata": {},
   "source": [
    "To get all available options:\n",
    "\n",
    "`options = select.options`\n",
    "\n",
    "Once you’ve finished filling out the form, you probably want to submit it. One way to do this would be to find the “submit” button and click it:\n",
    "\n",
    "<code># Assume the button has the ID \"submit\" :)\n",
    "driver.find_element_by_id(\"submit\").click()</code>"
   ]
  },
  {
   "cell_type": "markdown",
   "id": "convinced-courtesy",
   "metadata": {},
   "source": [
    "Alternatively, WebDriver has the convenience method “submit” on every element. If you call this on an element within a form, WebDriver will walk up the DOM until it finds the enclosing form and then calls submit on that. If the element isn’t in a form, then the NoSuchElementException will be raised:\n",
    "\n",
    "`element.submit()`"
   ]
  },
  {
   "cell_type": "markdown",
   "id": "pleased-grass",
   "metadata": {},
   "source": [
    "## Drag and drop\n",
    "\n",
    "You can use drag and drop, either moving an element by a certain amount, or on to another element:\n",
    "\n",
    "<code>element = driver.find_element_by_name(\"source\")\n",
    "target = driver.find_element_by_name(\"target\")\n",
    "from selenium.webdriver import ActionChains\n",
    "action_chains = ActionChains(driver)\n",
    "action_chains.drag_and_drop(element, target).perform()</code>"
   ]
  },
  {
   "cell_type": "code",
   "execution_count": 84,
   "id": "ideal-winning",
   "metadata": {},
   "outputs": [],
   "source": [
    "driver = webdriver.Chrome(executable_path=path)\n",
    "url = 'https://www.devicemagic.com/blog/drag-and-drop-form-builder-create-mobile-forms-in-minutes/'\n",
    "driver.get(url)"
   ]
  },
  {
   "cell_type": "code",
   "execution_count": null,
   "id": "three-parade",
   "metadata": {},
   "outputs": [],
   "source": [
    "\n",
    "time.sleep(5)\n",
    "element = driver.find_element_by_id(\"menu-item-30\")\n",
    "target = driver.find_element_by_id(\"menu-item-2251\")\n",
    "\n",
    "time.sleep(3)\n",
    "from selenium.webdriver import ActionChains\n",
    "action_chains = ActionChains(driver)\n",
    "action_chains.drag_and_drop(element,target).perform()\n",
    "element = driver.find_element_by_link_text('Energy')\n",
    "element.click()\n",
    "\n",
    "free_account = driver.find_element_by_id(\"menu-item-35\")\n",
    "free_account.click()"
   ]
  },
  {
   "cell_type": "markdown",
   "id": "shared-threshold",
   "metadata": {},
   "source": [
    "## Moving between windows and frames\n",
    "\n",
    "It’s rare for a modern web application not to have any frames or to be constrained to a single window. WebDriver supports moving between named windows using the “switch_to_window” method:\n",
    "`driver.switch_to_window(\"windowName\")`\n",
    "\n",
    "All calls to driver will now be interpreted as being directed to the particular window. But how do you know the window’s name? Take a look at the javascript or link that opened it:\n",
    "\n",
    "`<a href=\"somewhere.html\" target=\"windowName\">Click here to open a new window</a>`\n",
    "\n",
    "Alternatively, you can pass a “window handle” to the “switch_to_window()” method. Knowing this, it’s possible to iterate over every open window like so:\n",
    "\n",
    "<code>for handle in driver.window_handles:\n",
    "    driver.switch_to_window(handle)</code>\n",
    "    \n",
    "    "
   ]
  },
  {
   "cell_type": "code",
   "execution_count": 105,
   "id": "engaged-alcohol",
   "metadata": {},
   "outputs": [
    {
     "name": "stderr",
     "output_type": "stream",
     "text": [
      "<ipython-input-105-737242fba9d0>:2: DeprecationWarning: use driver.switch_to.window instead\n",
      "  driver.switch_to_window(handle)\n"
     ]
    }
   ],
   "source": [
    "for handle in driver.window_handles:\n",
    "    driver.switch_to_window(handle)"
   ]
  },
  {
   "cell_type": "code",
   "execution_count": 106,
   "id": "appointed-reality",
   "metadata": {},
   "outputs": [
    {
     "data": {
      "text/plain": [
       "<bound method WebDriver.switch_to_window of <selenium.webdriver.chrome.webdriver.WebDriver (session=\"238fecedf31aafb71ae69b549be95319\")>>"
      ]
     },
     "execution_count": 106,
     "metadata": {},
     "output_type": "execute_result"
    }
   ],
   "source": [
    "driver.switch_to_window"
   ]
  },
  {
   "cell_type": "markdown",
   "id": "interstate-obligation",
   "metadata": {},
   "source": [
    "You can also swing from frame to frame (or into iframes):\n",
    "    \n",
    "`driver.switch_to_frame(\"frameName\")`\n",
    "    \n"
   ]
  },
  {
   "cell_type": "markdown",
   "id": "committed-awareness",
   "metadata": {},
   "source": [
    "It’s possible to access subframes by separating the path with a dot, and you can specify the frame by its index too. That is:\n",
    "\n",
    "`driver.switch_to_frame(\"frameName.0.child\")`\n",
    "\n",
    "would go to the frame named “child” of the first subframe of the frame called “frameName”. All frames are evaluated as if from *top*.\n",
    "\n",
    "Once we are done with working on frames, we will have to come back to the parent frame which can be done using:\n",
    "`driver.switch_to_default_content()`\n",
    "\n",
    "\n"
   ]
  },
  {
   "cell_type": "markdown",
   "id": "environmental-dealer",
   "metadata": {},
   "source": [
    "## Popup dialogs\n",
    "\n",
    "Selenium WebDriver has built-in support for handling popup dialog boxes. After you’ve triggered action that would open a popup, you can access the alert with the following:\n",
    "\n",
    "`alert = driver.switch_to.alert`\n",
    "\n",
    "This will return the currently open alert object. With this object, you can now accept, dismiss, read its contents or even type into a prompt. This interface works equally well on alerts, confirms, prompts. Refer to the API documentation for more information."
   ]
  },
  {
   "cell_type": "code",
   "execution_count": 108,
   "id": "swedish-korean",
   "metadata": {},
   "outputs": [],
   "source": [
    "driver = webdriver.Chrome(executable_path=path)\n",
    "url = 'https://www.ibm.com/in-en'\n",
    "driver.get(url)"
   ]
  },
  {
   "cell_type": "markdown",
   "id": "cosmetic-valentine",
   "metadata": {},
   "source": [
    "## Navigation: history and location\n",
    "\n",
    "Earlier, we covered navigating to a page using the “get” command ( `driver.get(\"http://www.example.com\")`). As you’ve seen, WebDriver has a number of smaller, task-focused interfaces, and navigation is a useful task. To navigate to a page, you can use get method:\n",
    "\n",
    "`driver.get(\"http://www.example.com\")`\n",
    "\n",
    "To move backward and forward in your browser’s history:\n",
    "\n",
    "<code>driver.forward()\n",
    "driver.back()</code>\n"
   ]
  },
  {
   "cell_type": "markdown",
   "id": "sound-saying",
   "metadata": {},
   "source": [
    "Please be aware that this functionality depends entirely on the underlying driver. It’s just possible that something unexpected may happen when you call these methods if you’re used to the behavior of one browser over another."
   ]
  },
  {
   "cell_type": "markdown",
   "id": "oriental-sense",
   "metadata": {},
   "source": [
    "## Cookies"
   ]
  },
  {
   "cell_type": "markdown",
   "id": "corporate-triangle",
   "metadata": {},
   "source": [
    "Before moving to the next section of the tutorial, you may be interested in understanding how to use cookies. First of all, you need to be on the domain that the cookie will be valid for:\n",
    "\n",
    "<code># Go to the correct domain\n",
    "driver.get(\"http://www.example.com\")\n",
    "Now set the cookie. This one's valid for the entire domain\n",
    "cookie = {‘name’ : ‘foo’, ‘value’ : ‘bar’}\n",
    "driver.add_cookie(cookie)\n",
    "And now output all the available cookies for the current URL\n",
    "driver.get_cookies()</code>"
   ]
  },
  {
   "cell_type": "markdown",
   "id": "complete-nurse",
   "metadata": {},
   "source": [
    "## Locating Elements\n",
    "\n",
    "Please refer to this to understand more https://selenium-python.readthedocs.io/locating-elements.html"
   ]
  },
  {
   "cell_type": "markdown",
   "id": "marked-eligibility",
   "metadata": {},
   "source": [
    "## Waits\n",
    "\n",
    "These days, most of the web apps are using AJAX techniques. When a page is loaded by the browser, the elements within that page may load at different time intervals. This makes locating elements difficult: if an element is not yet present in the DOM, a locate function will raise an ElementNotVisibleException exception. Using waits, we can solve this issue. Waiting provides some slack between actions performed - mostly locating an element or any other operation with the element.\n",
    "\n",
    "Selenium Webdriver provides two types of waits - implicit & explicit. An explicit wait makes WebDriver wait for a certain condition to occur before proceeding further with execution. An implicit wait makes WebDriver poll the DOM for a certain amount of time when trying to locate an element.\n",
    "\n",
    "### Explicit Waits\n",
    "\n",
    "An explicit wait is a code you define to wait for a certain condition to occur before proceeding further in the code. The extreme case of this is time.sleep(), which sets the condition to an exact time period to wait. There are some convenience methods provided that help you write code that will wait only as long as required. WebDriverWait in combination with ExpectedCondition is one way this can be accomplished.\n",
    "\n",
    "<code>from selenium import webdriver\n",
    "from selenium.webdriver.common.by import By\n",
    "from selenium.webdriver.support.ui import WebDriverWait\n",
    "from selenium.webdriver.support import expected_conditions as EC\n",
    "driver = webdriver.Firefox()\n",
    "driver.get(\"http://somedomain/url_that_delays_loading\")\n",
    "try:\n",
    "    element = WebDriverWait(driver, 10).until(\n",
    "        EC.presence_of_element_located((By.ID, \"myDynamicElement\"))\n",
    "    )\n",
    "finally:\n",
    "    driver.quit()</code>"
   ]
  },
  {
   "cell_type": "code",
   "execution_count": 14,
   "id": "unexpected-rainbow",
   "metadata": {},
   "outputs": [],
   "source": [
    "from selenium import webdriver \n",
    "from selenium.webdriver.common.by import By\n",
    "from selenium.webdriver.support.ui import WebDriverWait\n",
    "from selenium.webdriver.support import expected_conditions as EC"
   ]
  },
  {
   "cell_type": "code",
   "execution_count": 15,
   "id": "selective-whole",
   "metadata": {},
   "outputs": [],
   "source": [
    "path = r'C:\\Users\\nijat\\Desktop\\Data Science\\Preparation For Interview\\Technicl Skil\\web Scraping\\Chromedriver'\n",
    "driver = webdriver.Chrome(executable_path=path)"
   ]
  },
  {
   "cell_type": "code",
   "execution_count": 16,
   "id": "valuable-knife",
   "metadata": {},
   "outputs": [
    {
     "name": "stdout",
     "output_type": "stream",
     "text": [
      "The element does not found.\n"
     ]
    }
   ],
   "source": [
    "\n",
    "try:\n",
    "    element = WebDriverWait(driver,10).until(EC.presence_of_element_located((By.CLASS_NAME,\"ac_a\")))\n",
    "finally:\n",
    "    print(\"The element does not found.\")"
   ]
  },
  {
   "cell_type": "code",
   "execution_count": 30,
   "id": "foster-plain",
   "metadata": {},
   "outputs": [],
   "source": [
    "import time\n",
    "time.sleep(3)\n",
    "url = 'https://www.flipkart.com/'\n",
    "driver.get(url)\n",
    "try:\n",
    "    element = WebDriverWait(driver,10).until(EC.presence_of_element_located((By.XPATH,'//*[@id=\"container\"]/div/div[2]/div/div/div[4]/a/div[1]/div/img')))\n",
    "    element.click()\n",
    "    element = WebDriverWait(driver,10).until(EC.presence_of_element_located((By.XPATH,'//*[@id=\"container\"]/div/div[3]/div[5]/div/div[1]/div/div/a')))\n",
    "    element.click()\n",
    "    time.sleep(3)\n",
    "    driver.back()\n",
    "    time.sleep(3)\n",
    "    driver.back()\n",
    "except:\n",
    "    print(\"The element does not found.\")"
   ]
  },
  {
   "cell_type": "markdown",
   "id": "raised-particle",
   "metadata": {},
   "source": [
    "In the code above, Selenium will wait for a maximum of 10 seconds for an element matching the given criteria to be found. If no element is found in that time, a TimeoutException is thrown. By default, WebDriverWait calls the ExpectedCondition every 500 milliseconds until it returns success. ExpectedCondition will return true (Boolean) in case of success or not null if it fails to locate an element."
   ]
  },
  {
   "cell_type": "markdown",
   "id": "million-source",
   "metadata": {},
   "source": [
    "### Expected Conditions\n",
    "\n",
    "There are some common conditions that are frequently of use when automating web browsers. Listed below are the names of each. Selenium Python binding provides some convenience methods so you don’t have to code an expected_condition class yourself or create your own utility package for them.\n",
    "refer to <a href='https://selenium-python.readthedocs.io/waits.html'>Here for more.</a>\n",
    "\n",
    "<code>from selenium.webdriver.support import expected_conditions as EC\n",
    "wait = WebDriverWait(driver, 10)\n",
    "element = wait.until(EC.element_to_be_clickable((By.ID, 'someid')))</code>\n",
    "\n",
    "The expected_conditions module contains a set of predefined conditions to use with WebDriverWait."
   ]
  },
  {
   "cell_type": "markdown",
   "id": "chinese-discussion",
   "metadata": {},
   "source": [
    "## Implicit Waits\n",
    "\n",
    "An implicit wait tells WebDriver to poll the DOM for a certain amount of time when trying to find any element (or elements) not immediately available. The default setting is 0 (zero). Once set, the implicit wait is set for the life of the WebDriver object.\n",
    "\n"
   ]
  },
  {
   "cell_type": "code",
   "execution_count": 33,
   "id": "accomplished-photography",
   "metadata": {},
   "outputs": [],
   "source": [
    "driver.implicitly_wait(10)\n",
    "driver.get(url)\n",
    "driver.find_element_by_xpath('//*[@id=\"container\"]/div/div[2]/div/div/div[4]/a/div[1]/div/img').click()"
   ]
  },
  {
   "cell_type": "code",
   "execution_count": null,
   "id": "heated-investor",
   "metadata": {},
   "outputs": [],
   "source": []
  }
 ],
 "metadata": {
  "kernelspec": {
   "display_name": "Python 3",
   "language": "python",
   "name": "python3"
  },
  "language_info": {
   "codemirror_mode": {
    "name": "ipython",
    "version": 3
   },
   "file_extension": ".py",
   "mimetype": "text/x-python",
   "name": "python",
   "nbconvert_exporter": "python",
   "pygments_lexer": "ipython3",
   "version": "3.8.8"
  }
 },
 "nbformat": 4,
 "nbformat_minor": 5
}
