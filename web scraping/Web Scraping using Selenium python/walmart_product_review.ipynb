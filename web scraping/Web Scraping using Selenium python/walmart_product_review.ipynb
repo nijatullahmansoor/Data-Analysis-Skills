{
 "cells": [
  {
   "cell_type": "markdown",
   "id": "floppy-disclosure",
   "metadata": {},
   "source": [
    "Le'ts import the library"
   ]
  },
  {
   "cell_type": "code",
   "execution_count": 22,
   "id": "maritime-husband",
   "metadata": {},
   "outputs": [],
   "source": [
    "from selenium import webdriver\n",
    "import time\n",
    "import pandas as pd\n",
    "from selenium.common.exceptions import NoSuchElementException\n",
    "from selenium.webdriver.common.keys import Keys\n",
    "from selenium.webdriver.support.select import Select\n"
   ]
  },
  {
   "cell_type": "code",
   "execution_count": 2,
   "id": "consolidated-america",
   "metadata": {},
   "outputs": [],
   "source": [
    "path = r'C:\\Users\\nijat\\Desktop\\Data Science\\Preparation For Interview\\Technicl Skil\\web Scraping\\Chromedriver'\n",
    "driver = webdriver.Chrome(path)"
   ]
  },
  {
   "cell_type": "code",
   "execution_count": 24,
   "id": "extreme-jackson",
   "metadata": {},
   "outputs": [],
   "source": [
    "url = 'https://www.walmart.com/ip/Clorox-Disinfecting-Wipes-225-Count-Value-Pack-Crisp-Lemon-and-Fresh-Scent-3-Pack-75-Count-Each/14898365'\n",
    "driver.get(url)"
   ]
  },
  {
   "cell_type": "code",
   "execution_count": 25,
   "id": "residential-cedar",
   "metadata": {},
   "outputs": [],
   "source": [
    "driver.find_element_by_xpath('//*[@id=\"customer-reviews-header\"]/div[2]/div/div[3]/a[2]/span').click()"
   ]
  },
  {
   "cell_type": "code",
   "execution_count": 29,
   "id": "accepting-lewis",
   "metadata": {},
   "outputs": [],
   "source": [
    "time.sleep(5)\n",
    "s = Select(driver.find_element_by_xpath(\"/html/body/div[1]/div/div/div/div[1]/div/div[5]/div/div[2]/div/div[2]/div/div[2]/select\"))\n",
    "s.select_by_index(2)"
   ]
  },
  {
   "cell_type": "markdown",
   "id": "becoming-colony",
   "metadata": {},
   "source": [
    "refer her for more to understand \n",
    "https://www.tutorialspoint.com/how-to-get-selected-option-using-selenium-webdriver-with-python"
   ]
  },
  {
   "cell_type": "code",
   "execution_count": 30,
   "id": "offensive-overall",
   "metadata": {},
   "outputs": [],
   "source": [
    "get_url = driver.current_url\n"
   ]
  },
  {
   "cell_type": "code",
   "execution_count": 31,
   "id": "serious-samoa",
   "metadata": {},
   "outputs": [
    {
     "data": {
      "text/plain": [
       "'https://www.walmart.com/reviews/product/14898365?sort=submission-desc'"
      ]
     },
     "execution_count": 31,
     "metadata": {},
     "output_type": "execute_result"
    }
   ],
   "source": [
    "get_url"
   ]
  },
  {
   "cell_type": "code",
   "execution_count": 32,
   "id": "dangerous-beads",
   "metadata": {},
   "outputs": [],
   "source": [
    "first_part = get_url.split(\"?\")[0]\n",
    "second_part = get_url.split(\"?\")[-1]"
   ]
  },
  {
   "cell_type": "code",
   "execution_count": 33,
   "id": "lyric-profession",
   "metadata": {},
   "outputs": [
    {
     "data": {
      "text/plain": [
       "'https://www.walmart.com/reviews/product/14898365'"
      ]
     },
     "execution_count": 33,
     "metadata": {},
     "output_type": "execute_result"
    }
   ],
   "source": [
    "first_part"
   ]
  },
  {
   "cell_type": "code",
   "execution_count": 34,
   "id": "alone-lighter",
   "metadata": {},
   "outputs": [
    {
     "data": {
      "text/plain": [
       "'sort=submission-desc'"
      ]
     },
     "execution_count": 34,
     "metadata": {},
     "output_type": "execute_result"
    }
   ],
   "source": [
    "second_part"
   ]
  },
  {
   "cell_type": "code",
   "execution_count": null,
   "id": "atomic-signal",
   "metadata": {},
   "outputs": [],
   "source": [
    "https://www.walmart.com/reviews/product/14898365?sort=submission-desc&page=2"
   ]
  },
  {
   "cell_type": "code",
   "execution_count": 80,
   "id": "metric-store",
   "metadata": {},
   "outputs": [],
   "source": [
    "review_date = []\n",
    "\n",
    "reviewer_name = []\n",
    "\n",
    "review_title = []\n",
    "\n",
    "review_description = []\n",
    "\n",
    "rating_given_by_user = []\n"
   ]
  },
  {
   "cell_type": "code",
   "execution_count": 38,
   "id": "simple-nature",
   "metadata": {},
   "outputs": [
    {
     "name": "stdout",
     "output_type": "stream",
     "text": [
      "Page 1 of 5\n",
      "Page 2 of 5\n",
      "Page 3 of 5\n",
      "Page 4 of 5\n",
      "Page 5 of 5\n"
     ]
    }
   ],
   "source": [
    "for i in range(1,int(100/20)+1):\n",
    "    print(\"Page {} of {}\".format(i,int(100/20)))\n",
    "    url = get_url+'&page='+str(i)\n",
    "    driver.get(url)\n",
    "    time.sleep(6)"
   ]
  },
  {
   "cell_type": "code",
   "execution_count": 45,
   "id": "affiliated-excellence",
   "metadata": {},
   "outputs": [],
   "source": [
    "product_review = driver.find_elements_by_class_name(\"Grid.ReviewList-content\")"
   ]
  },
  {
   "cell_type": "code",
   "execution_count": 47,
   "id": "dangerous-cooking",
   "metadata": {},
   "outputs": [
    {
     "name": "stdout",
     "output_type": "stream",
     "text": [
      "<selenium.webdriver.remote.webelement.WebElement (session=\"2811aeffce0ddc8f8c2f95da7ac7e855\", element=\"f0287e36-81e0-4e50-9c84-99eb5aa7e238\")>\n",
      "<selenium.webdriver.remote.webelement.WebElement (session=\"2811aeffce0ddc8f8c2f95da7ac7e855\", element=\"5d2ec8d1-2efc-4d9f-a814-1ffc0e525410\")>\n",
      "<selenium.webdriver.remote.webelement.WebElement (session=\"2811aeffce0ddc8f8c2f95da7ac7e855\", element=\"cd19c521-4235-42ac-b534-2a5ebabe25fe\")>\n",
      "<selenium.webdriver.remote.webelement.WebElement (session=\"2811aeffce0ddc8f8c2f95da7ac7e855\", element=\"001845e1-fab6-466d-a83c-e55bcd7799ed\")>\n",
      "<selenium.webdriver.remote.webelement.WebElement (session=\"2811aeffce0ddc8f8c2f95da7ac7e855\", element=\"9df4ffbe-add6-471d-aa3c-e91419972fc7\")>\n",
      "<selenium.webdriver.remote.webelement.WebElement (session=\"2811aeffce0ddc8f8c2f95da7ac7e855\", element=\"fbc73878-af37-4378-b1a8-4bb7e61e2fca\")>\n",
      "<selenium.webdriver.remote.webelement.WebElement (session=\"2811aeffce0ddc8f8c2f95da7ac7e855\", element=\"431a6fde-e04b-42d5-8905-5603cbac21f0\")>\n",
      "<selenium.webdriver.remote.webelement.WebElement (session=\"2811aeffce0ddc8f8c2f95da7ac7e855\", element=\"79354eaa-43f7-4c9d-9274-a61049432359\")>\n",
      "<selenium.webdriver.remote.webelement.WebElement (session=\"2811aeffce0ddc8f8c2f95da7ac7e855\", element=\"18a78758-5aa6-4cd5-980c-e6931b8a7578\")>\n",
      "<selenium.webdriver.remote.webelement.WebElement (session=\"2811aeffce0ddc8f8c2f95da7ac7e855\", element=\"598f814c-4025-4527-a516-106372e869e9\")>\n",
      "<selenium.webdriver.remote.webelement.WebElement (session=\"2811aeffce0ddc8f8c2f95da7ac7e855\", element=\"fefed9e7-3d78-4e5b-bbda-1ebc27a2a891\")>\n",
      "<selenium.webdriver.remote.webelement.WebElement (session=\"2811aeffce0ddc8f8c2f95da7ac7e855\", element=\"acc3a901-59cb-428b-a4e9-7f65f51978c3\")>\n",
      "<selenium.webdriver.remote.webelement.WebElement (session=\"2811aeffce0ddc8f8c2f95da7ac7e855\", element=\"b0a93d2e-91a7-416a-840b-0ad3ce79f3eb\")>\n",
      "<selenium.webdriver.remote.webelement.WebElement (session=\"2811aeffce0ddc8f8c2f95da7ac7e855\", element=\"86e9e492-c578-45e7-97f4-706b7e6ea417\")>\n",
      "<selenium.webdriver.remote.webelement.WebElement (session=\"2811aeffce0ddc8f8c2f95da7ac7e855\", element=\"5cd4656b-96f0-4939-9540-d331a678a49d\")>\n",
      "<selenium.webdriver.remote.webelement.WebElement (session=\"2811aeffce0ddc8f8c2f95da7ac7e855\", element=\"611089fd-d3fd-48e8-9432-c438f2262f73\")>\n",
      "<selenium.webdriver.remote.webelement.WebElement (session=\"2811aeffce0ddc8f8c2f95da7ac7e855\", element=\"266ee7a4-45b5-4f52-b2b6-72b0bd0a9584\")>\n",
      "<selenium.webdriver.remote.webelement.WebElement (session=\"2811aeffce0ddc8f8c2f95da7ac7e855\", element=\"1fc6975b-f48a-4386-8301-474b16d2d3ba\")>\n",
      "<selenium.webdriver.remote.webelement.WebElement (session=\"2811aeffce0ddc8f8c2f95da7ac7e855\", element=\"c239c99a-9ad3-4cc7-b31d-e3e3c1ee10f1\")>\n",
      "<selenium.webdriver.remote.webelement.WebElement (session=\"2811aeffce0ddc8f8c2f95da7ac7e855\", element=\"804b0a9f-4af4-409f-8089-a01b5b00ffaf\")>\n"
     ]
    }
   ],
   "source": [
    "for i in product_review:\n",
    "    print(i)"
   ]
  },
  {
   "cell_type": "code",
   "execution_count": 48,
   "id": "stuffed-residence",
   "metadata": {},
   "outputs": [],
   "source": [
    "on_review = product_review[0]"
   ]
  },
  {
   "cell_type": "code",
   "execution_count": 49,
   "id": "rental-detail",
   "metadata": {},
   "outputs": [
    {
     "data": {
      "text/plain": [
       "<selenium.webdriver.remote.webelement.WebElement (session=\"2811aeffce0ddc8f8c2f95da7ac7e855\", element=\"f0287e36-81e0-4e50-9c84-99eb5aa7e238\")>"
      ]
     },
     "execution_count": 49,
     "metadata": {},
     "output_type": "execute_result"
    }
   ],
   "source": [
    "on_review"
   ]
  },
  {
   "cell_type": "code",
   "execution_count": 81,
   "id": "shared-audio",
   "metadata": {},
   "outputs": [],
   "source": [
    "limit = 1\n",
    "for element in product_review:\n",
    "    \n",
    "    #getting the date from the review\n",
    "    try:\n",
    "        date = element.find_element_by_class_name(\"review-date-submissionTime\").text\n",
    "        review_date.append(date)\n",
    "    except:\n",
    "        review_date.append(None)\n",
    "        \n",
    "    #getting reviewver name\n",
    "    try:\n",
    "        name = element.find_element_by_class_name(\"review-footer-userNickname\").text\n",
    "        reviewer_name.append(name)\n",
    "    except:\n",
    "        reviewer_name.append(None)\n",
    "        \n",
    "    #Getting the review title\n",
    "    try:\n",
    "        title = element.find_element_by_class_name(\"review-title.font-bold\").text\n",
    "        review_title.append(title)\n",
    "    except:\n",
    "        review_title.append(None)\n",
    "    #getting the review body or description \n",
    "    try:\n",
    "        description = element.find_element_by_class_name(\"review-text\").text\n",
    "        review_description.append(description)\n",
    "    except:\n",
    "        review_description.append(None)\n",
    "        \n",
    "    #getting he user rating of the product \n",
    "    try:\n",
    "        rating = element.find_element_by_class_name(\"visuallyhidden.seo-avg-rating\").text\n",
    "        rating_given_by_user.append(rating)\n",
    "    except:\n",
    "        rating_given_by_user.append(None)\n"
   ]
  },
  {
   "cell_type": "code",
   "execution_count": 72,
   "id": "fitted-cache",
   "metadata": {},
   "outputs": [
    {
     "data": {
      "text/plain": [
       "20"
      ]
     },
     "execution_count": 72,
     "metadata": {},
     "output_type": "execute_result"
    }
   ],
   "source": [
    "len(rating_given_by_user)"
   ]
  },
  {
   "cell_type": "code",
   "execution_count": 73,
   "id": "bigger-paradise",
   "metadata": {},
   "outputs": [
    {
     "data": {
      "text/plain": [
       "['4.0',\n",
       " '5.0',\n",
       " '5.0',\n",
       " '1.0',\n",
       " '5.0',\n",
       " '2.0',\n",
       " '1.0',\n",
       " '5.0',\n",
       " '2.0',\n",
       " '5.0',\n",
       " '5.0',\n",
       " '5.0',\n",
       " '5.0',\n",
       " '5.0',\n",
       " '5.0',\n",
       " '5.0',\n",
       " '5.0',\n",
       " '5.0',\n",
       " '1.0',\n",
       " '5.0']"
      ]
     },
     "execution_count": 73,
     "metadata": {},
     "output_type": "execute_result"
    }
   ],
   "source": [
    "rating_given_by_user"
   ]
  },
  {
   "cell_type": "code",
   "execution_count": 74,
   "id": "speaking-exchange",
   "metadata": {},
   "outputs": [
    {
     "data": {
      "text/plain": [
       "['I like these. I took a chance on the scents as I was not familiar with them. They are ok. I like to keep a container of these in every room of my home.',\n",
       " 'Always good for a class room',\n",
       " 'This will always be needed',\n",
       " 'These items were wet everywhere. Everything was spilling',\n",
       " 'Best Buy around any store',\n",
       " 'One plastic container was crunched and leaked solution inside the box.',\n",
       " 'The box this item was delivered in was wet!! When I opened the box my order was leaking wet liquid. My church is collecting needed supplies for a local public school and this order was something that was requested to donate to the school. But I cannot donate this item that included (3) containers of Clorox Disinfecting Wipes because of the leakage and not sealed properly. The containers are wet and the labels on the containers are peeling off because they are wet from the leakage,which makes them look like they were opened and used. This is very disappointing but it appears that they were packaged good and tight and should not have leaked. I dont know how the leakage could have been prevented but I ask you to investigate to see if it could be fixed and so it could be prevented possibly for the future customers. Thanks so much for investigating and correcting if possible!',\n",
       " 'This is good price and great product!',\n",
       " 'Whatever liquid thats not absorbed in the towels will leak out during shipping. Other than that great product',\n",
       " 'Love these, very easy to use',\n",
       " 'Very confident in using these wipes on surfaces. With viruses you can never be to safe in protecting those you love.',\n",
       " 'They are early in more days. Thank you.',\n",
       " \"Why wouldn't anyone like this item? Especially now.\",\n",
       " 'Such a good deal love being stocked up',\n",
       " 'These are very good for class rooms.',\n",
       " 'I like these Clorox wipes for cleaning the bathroom. And they are requested on daughters school supply list.',\n",
       " 'Clorox products are always the best choice. No strong scent. No irritants. Highly recommend',\n",
       " 'Nothing like Clorox products',\n",
       " \"all the liquid was drained out of all three containers and the paper was peeling off the sides of each of them by the time and took the outer plastic off. They must have tipped inside of the box or got too hot inside the truck or something. I'm not sure.\",\n",
       " 'The real deal. Its effective']"
      ]
     },
     "execution_count": 74,
     "metadata": {},
     "output_type": "execute_result"
    }
   ],
   "source": [
    "review_description"
   ]
  },
  {
   "cell_type": "code",
   "execution_count": 75,
   "id": "virtual-average",
   "metadata": {},
   "outputs": [
    {
     "data": {
      "text/plain": [
       "['Like it!',\n",
       " None,\n",
       " None,\n",
       " None,\n",
       " None,\n",
       " None,\n",
       " 'Clorox Disinfecting Wipes,(225 Count Pack)',\n",
       " 'Thank you!',\n",
       " None,\n",
       " None,\n",
       " 'Protecting those you love.',\n",
       " None,\n",
       " 'Always the best',\n",
       " 'Very nice deal reasonably priced',\n",
       " None,\n",
       " None,\n",
       " 'Hands Down The Best Wipe Ever!',\n",
       " None,\n",
       " \"I'll need a refund. It's got to be our hot temps?\",\n",
       " 'The real deal']"
      ]
     },
     "execution_count": 75,
     "metadata": {},
     "output_type": "execute_result"
    }
   ],
   "source": [
    "review_title"
   ]
  },
  {
   "cell_type": "markdown",
   "id": "young-benefit",
   "metadata": {},
   "source": [
    "let's create a data frame."
   ]
  },
  {
   "cell_type": "code",
   "execution_count": 82,
   "id": "light-clarity",
   "metadata": {},
   "outputs": [],
   "source": [
    "df = pd.DataFrame()"
   ]
  },
  {
   "cell_type": "code",
   "execution_count": 83,
   "id": "developed-manhattan",
   "metadata": {},
   "outputs": [],
   "source": [
    "df['Date'] = review_date\n",
    "df['Cutomer name'] = reviewer_name\n",
    "df['Review Title'] = review_title\n",
    "df['Review Description'] = review_description\n",
    "df['User rating'] = rating_given_by_user"
   ]
  },
  {
   "cell_type": "code",
   "execution_count": 78,
   "id": "classified-intervention",
   "metadata": {},
   "outputs": [
    {
     "data": {
      "text/html": [
       "<div>\n",
       "<style scoped>\n",
       "    .dataframe tbody tr th:only-of-type {\n",
       "        vertical-align: middle;\n",
       "    }\n",
       "\n",
       "    .dataframe tbody tr th {\n",
       "        vertical-align: top;\n",
       "    }\n",
       "\n",
       "    .dataframe thead th {\n",
       "        text-align: right;\n",
       "    }\n",
       "</style>\n",
       "<table border=\"1\" class=\"dataframe\">\n",
       "  <thead>\n",
       "    <tr style=\"text-align: right;\">\n",
       "      <th></th>\n",
       "      <th>Date</th>\n",
       "      <th>Cutomer name</th>\n",
       "      <th>Review Title</th>\n",
       "      <th>Review Description</th>\n",
       "      <th>User rating</th>\n",
       "    </tr>\n",
       "  </thead>\n",
       "  <tbody>\n",
       "    <tr>\n",
       "      <th>0</th>\n",
       "      <td>August 7, 2021</td>\n",
       "      <td>None</td>\n",
       "      <td>Like it!</td>\n",
       "      <td>I like these. I took a chance on the scents as...</td>\n",
       "      <td>4.0</td>\n",
       "    </tr>\n",
       "    <tr>\n",
       "      <th>1</th>\n",
       "      <td>August 6, 2021</td>\n",
       "      <td>None</td>\n",
       "      <td>None</td>\n",
       "      <td>Always good for a class room</td>\n",
       "      <td>5.0</td>\n",
       "    </tr>\n",
       "    <tr>\n",
       "      <th>2</th>\n",
       "      <td>August 6, 2021</td>\n",
       "      <td>None</td>\n",
       "      <td>None</td>\n",
       "      <td>This will always be needed</td>\n",
       "      <td>5.0</td>\n",
       "    </tr>\n",
       "    <tr>\n",
       "      <th>3</th>\n",
       "      <td>August 5, 2021</td>\n",
       "      <td>None</td>\n",
       "      <td>None</td>\n",
       "      <td>These items were wet everywhere. Everything wa...</td>\n",
       "      <td>1.0</td>\n",
       "    </tr>\n",
       "    <tr>\n",
       "      <th>4</th>\n",
       "      <td>August 4, 2021</td>\n",
       "      <td>None</td>\n",
       "      <td>None</td>\n",
       "      <td>Best Buy around any store</td>\n",
       "      <td>5.0</td>\n",
       "    </tr>\n",
       "    <tr>\n",
       "      <th>5</th>\n",
       "      <td>August 3, 2021</td>\n",
       "      <td>None</td>\n",
       "      <td>None</td>\n",
       "      <td>One plastic container was crunched and leaked ...</td>\n",
       "      <td>2.0</td>\n",
       "    </tr>\n",
       "    <tr>\n",
       "      <th>6</th>\n",
       "      <td>August 3, 2021</td>\n",
       "      <td>None</td>\n",
       "      <td>Clorox Disinfecting Wipes,(225 Count Pack)</td>\n",
       "      <td>The box this item was delivered in was wet!! W...</td>\n",
       "      <td>1.0</td>\n",
       "    </tr>\n",
       "    <tr>\n",
       "      <th>7</th>\n",
       "      <td>August 3, 2021</td>\n",
       "      <td>None</td>\n",
       "      <td>Thank you!</td>\n",
       "      <td>This is good price and great product!</td>\n",
       "      <td>5.0</td>\n",
       "    </tr>\n",
       "    <tr>\n",
       "      <th>8</th>\n",
       "      <td>August 2, 2021</td>\n",
       "      <td>None</td>\n",
       "      <td>None</td>\n",
       "      <td>Whatever liquid thats not absorbed in the towe...</td>\n",
       "      <td>2.0</td>\n",
       "    </tr>\n",
       "    <tr>\n",
       "      <th>9</th>\n",
       "      <td>August 1, 2021</td>\n",
       "      <td>None</td>\n",
       "      <td>None</td>\n",
       "      <td>Love these, very easy to use</td>\n",
       "      <td>5.0</td>\n",
       "    </tr>\n",
       "    <tr>\n",
       "      <th>10</th>\n",
       "      <td>August 1, 2021</td>\n",
       "      <td>None</td>\n",
       "      <td>Protecting those you love.</td>\n",
       "      <td>Very confident in using these wipes on surface...</td>\n",
       "      <td>5.0</td>\n",
       "    </tr>\n",
       "    <tr>\n",
       "      <th>11</th>\n",
       "      <td>July 31, 2021</td>\n",
       "      <td>None</td>\n",
       "      <td>None</td>\n",
       "      <td>They are early in more days. Thank you.</td>\n",
       "      <td>5.0</td>\n",
       "    </tr>\n",
       "    <tr>\n",
       "      <th>12</th>\n",
       "      <td>July 31, 2021</td>\n",
       "      <td>None</td>\n",
       "      <td>Always the best</td>\n",
       "      <td>Why wouldn't anyone like this item? Especially...</td>\n",
       "      <td>5.0</td>\n",
       "    </tr>\n",
       "    <tr>\n",
       "      <th>13</th>\n",
       "      <td>July 30, 2021</td>\n",
       "      <td>None</td>\n",
       "      <td>Very nice deal reasonably priced</td>\n",
       "      <td>Such a good deal love being stocked up</td>\n",
       "      <td>5.0</td>\n",
       "    </tr>\n",
       "    <tr>\n",
       "      <th>14</th>\n",
       "      <td>July 30, 2021</td>\n",
       "      <td>None</td>\n",
       "      <td>None</td>\n",
       "      <td>These are very good for class rooms.</td>\n",
       "      <td>5.0</td>\n",
       "    </tr>\n",
       "    <tr>\n",
       "      <th>15</th>\n",
       "      <td>July 30, 2021</td>\n",
       "      <td>None</td>\n",
       "      <td>None</td>\n",
       "      <td>I like these Clorox wipes for cleaning the bat...</td>\n",
       "      <td>5.0</td>\n",
       "    </tr>\n",
       "    <tr>\n",
       "      <th>16</th>\n",
       "      <td>July 28, 2021</td>\n",
       "      <td>None</td>\n",
       "      <td>Hands Down The Best Wipe Ever!</td>\n",
       "      <td>Clorox products are always the best choice. No...</td>\n",
       "      <td>5.0</td>\n",
       "    </tr>\n",
       "    <tr>\n",
       "      <th>17</th>\n",
       "      <td>July 28, 2021</td>\n",
       "      <td>None</td>\n",
       "      <td>None</td>\n",
       "      <td>Nothing like Clorox products</td>\n",
       "      <td>5.0</td>\n",
       "    </tr>\n",
       "    <tr>\n",
       "      <th>18</th>\n",
       "      <td>July 27, 2021</td>\n",
       "      <td>None</td>\n",
       "      <td>I'll need a refund. It's got to be our hot temps?</td>\n",
       "      <td>all the liquid was drained out of all three co...</td>\n",
       "      <td>1.0</td>\n",
       "    </tr>\n",
       "    <tr>\n",
       "      <th>19</th>\n",
       "      <td>July 27, 2021</td>\n",
       "      <td>None</td>\n",
       "      <td>The real deal</td>\n",
       "      <td>The real deal. Its effective</td>\n",
       "      <td>5.0</td>\n",
       "    </tr>\n",
       "  </tbody>\n",
       "</table>\n",
       "</div>"
      ],
      "text/plain": [
       "              Date Cutomer name  \\\n",
       "0   August 7, 2021         None   \n",
       "1   August 6, 2021         None   \n",
       "2   August 6, 2021         None   \n",
       "3   August 5, 2021         None   \n",
       "4   August 4, 2021         None   \n",
       "5   August 3, 2021         None   \n",
       "6   August 3, 2021         None   \n",
       "7   August 3, 2021         None   \n",
       "8   August 2, 2021         None   \n",
       "9   August 1, 2021         None   \n",
       "10  August 1, 2021         None   \n",
       "11   July 31, 2021         None   \n",
       "12   July 31, 2021         None   \n",
       "13   July 30, 2021         None   \n",
       "14   July 30, 2021         None   \n",
       "15   July 30, 2021         None   \n",
       "16   July 28, 2021         None   \n",
       "17   July 28, 2021         None   \n",
       "18   July 27, 2021         None   \n",
       "19   July 27, 2021         None   \n",
       "\n",
       "                                         Review Title  \\\n",
       "0                                            Like it!   \n",
       "1                                                None   \n",
       "2                                                None   \n",
       "3                                                None   \n",
       "4                                                None   \n",
       "5                                                None   \n",
       "6          Clorox Disinfecting Wipes,(225 Count Pack)   \n",
       "7                                          Thank you!   \n",
       "8                                                None   \n",
       "9                                                None   \n",
       "10                         Protecting those you love.   \n",
       "11                                               None   \n",
       "12                                    Always the best   \n",
       "13                   Very nice deal reasonably priced   \n",
       "14                                               None   \n",
       "15                                               None   \n",
       "16                     Hands Down The Best Wipe Ever!   \n",
       "17                                               None   \n",
       "18  I'll need a refund. It's got to be our hot temps?   \n",
       "19                                      The real deal   \n",
       "\n",
       "                                   Review Description User rating  \n",
       "0   I like these. I took a chance on the scents as...         4.0  \n",
       "1                        Always good for a class room         5.0  \n",
       "2                          This will always be needed         5.0  \n",
       "3   These items were wet everywhere. Everything wa...         1.0  \n",
       "4                           Best Buy around any store         5.0  \n",
       "5   One plastic container was crunched and leaked ...         2.0  \n",
       "6   The box this item was delivered in was wet!! W...         1.0  \n",
       "7               This is good price and great product!         5.0  \n",
       "8   Whatever liquid thats not absorbed in the towe...         2.0  \n",
       "9                        Love these, very easy to use         5.0  \n",
       "10  Very confident in using these wipes on surface...         5.0  \n",
       "11            They are early in more days. Thank you.         5.0  \n",
       "12  Why wouldn't anyone like this item? Especially...         5.0  \n",
       "13             Such a good deal love being stocked up         5.0  \n",
       "14               These are very good for class rooms.         5.0  \n",
       "15  I like these Clorox wipes for cleaning the bat...         5.0  \n",
       "16  Clorox products are always the best choice. No...         5.0  \n",
       "17                       Nothing like Clorox products         5.0  \n",
       "18  all the liquid was drained out of all three co...         1.0  \n",
       "19                       The real deal. Its effective         5.0  "
      ]
     },
     "execution_count": 78,
     "metadata": {},
     "output_type": "execute_result"
    }
   ],
   "source": [
    "df"
   ]
  },
  {
   "cell_type": "code",
   "execution_count": 85,
   "id": "opened-nurse",
   "metadata": {},
   "outputs": [],
   "source": [
    "df.to_csv(\"output.csv\",index=False)"
   ]
  },
  {
   "cell_type": "markdown",
   "id": "upper-toronto",
   "metadata": {},
   "source": [
    "Now let's write a code to get all the data till December 2020. "
   ]
  },
  {
   "cell_type": "code",
   "execution_count": 97,
   "id": "owned-arbor",
   "metadata": {},
   "outputs": [],
   "source": [
    "# Step1: import required library\n",
    "from selenium import webdriver\n",
    "import time\n",
    "import pandas as pd\n",
    "from selenium.common.exceptions import NoSuchElementException\n",
    "from selenium.webdriver.common.keys import Keys\n",
    "from selenium.webdriver.support.select import Select\n",
    "# import Action chains \n",
    "from selenium.webdriver.common.action_chains import ActionChains"
   ]
  },
  {
   "cell_type": "code",
   "execution_count": null,
   "id": "planned-latino",
   "metadata": {},
   "outputs": [],
   "source": [
    "driver = webdriver.Chrome()"
   ]
  },
  {
   "cell_type": "code",
   "execution_count": 128,
   "id": "artistic-combine",
   "metadata": {},
   "outputs": [],
   "source": [
    "def parse_product_review(product_url,num_of_review,path):\n",
    "    start = time.time()\n",
    "    # initializing the chromedriver\n",
    "    driver = webdriver.Chrome(executable_path=path)\n",
    "    driver.maximize_window()\n",
    "    # setting the URL\n",
    "    driver.get(product_url)\n",
    "    \n",
    "    # getting the main window handle id (some of the code below is used to close the unwanted popups)\n",
    "    Main_Window = driver.current_window_handle\n",
    "    \n",
    "    # giving some time so that all elements are loaded\n",
    "    time.sleep(5)\n",
    "    \n",
    "    #getting all the open window handle id's to close additional popups that are appearing\n",
    "    popup_windows = driver.window_handles\n",
    "\n",
    "    #looping through all the open  windows and closing ones that are not needed\n",
    "    for winId in popup_windows:\n",
    "        if winId != Main_Window: \n",
    "            driver.switch_to.window(winId)\n",
    "            driver.close()\n",
    "    \n",
    "    # switching to the main window\n",
    "    driver.switch_to.window(Main_Window)\n",
    "    \n",
    "    # giving some time so that all elements are loaded\n",
    "    time.sleep(5)\n",
    "    driver.find_element_by_xpath('//*[@id=\"customer-reviews-header\"]/div[2]/div/div[3]/a[2]/span').click()\n",
    "    \n",
    "    time.sleep(5)\n",
    "    s = Select(driver.find_element_by_xpath(\"/html/body/div[1]/div/div/div/div[1]/div/div[5]/div/div[2]/div/div[2]/div/div[2]/select\"))\n",
    "    s.select_by_index(2)  # this is to sort the element by most recent first we have that in index[2] position\n",
    "    \n",
    "    # getting the current url which has a specific format which will be used later\n",
    "    get_url = driver.current_url\n",
    "    \n",
    "    # defining empty lists to store the parsed values\n",
    "    \n",
    "    review_date = []\n",
    "    reviewer_name = []\n",
    "    review_title = []\n",
    "    review_description = []\n",
    "    rating_given_by_user = []\n",
    "\n",
    "    \n",
    "    # this is where we start parsing\n",
    "    for i in range(1,int(num_of_review/20)+1):\n",
    "        \n",
    "        #printing the number of parsed pages.\n",
    "        print (\"Page {} of {}\".format(i,int(num_of_review/20)))\n",
    "        \n",
    "        tile_date = \"November 30, 2020\" # we want review data till December of 2020 we don't before that\n",
    "        if tile_date in review_date:\n",
    "            break\n",
    "        # forming the new url with the help which we defined earlier\n",
    "        url = get_url+'&page='+str(i)\n",
    "        \n",
    "        # opening the url\n",
    "        driver.get(url)\n",
    "        # giving some time so that all elements are loaded\n",
    "        time.sleep(5)\n",
    "        \n",
    "        # getting product listing details\n",
    "        product_review = driver.find_elements_by_class_name(\"Grid.ReviewList-content\")\n",
    "        \n",
    "        # looping through all the product review listings we have found in the above line of code.\n",
    "        for element in product_review:\n",
    "            #getting the date from the review\n",
    "            try:\n",
    "                date = element.find_element_by_class_name(\"review-date-submissionTime\").text\n",
    "                review_date.append(date)\n",
    "            except:\n",
    "                review_date.append(None)\n",
    "        \n",
    "            #getting reviewver name\n",
    "            try:\n",
    "                name = element.find_element_by_class_name(\"review-footer-userNickname\").text\n",
    "                reviewer_name.append(name)\n",
    "            except:\n",
    "                reviewer_name.append(None)\n",
    "        \n",
    "            #Getting the review title\n",
    "            try:\n",
    "                title = element.find_element_by_class_name(\"review-title.font-bold\").text\n",
    "                review_title.append(title)\n",
    "            except:\n",
    "                review_title.append(None)\n",
    "            #getting the review body or description \n",
    "            try:\n",
    "                description = element.find_element_by_class_name(\"review-text\").text\n",
    "                review_description.append(description)\n",
    "            except:\n",
    "                review_description.append(None)\n",
    "        \n",
    "            #getting he user rating of the product \n",
    "            try:\n",
    "                rating = element.find_element_by_class_name(\"visuallyhidden.seo-avg-rating\").text\n",
    "                rating_given_by_user.append(rating)\n",
    "            except:\n",
    "                rating_given_by_user.append(None)\n",
    "\n",
    "    # initializing empty dataframe\n",
    "    df = pd.DataFrame()\n",
    "    \n",
    "    #assigning values to dataframe columns\n",
    "    \n",
    "    df['Date'] = review_date\n",
    "    df['Cutomer name'] = reviewer_name\n",
    "    df['Review Title'] = review_title\n",
    "    df['Review Description'] = review_description\n",
    "    df['User rating'] = rating_given_by_user\n",
    "    \n",
    "    # the require time to complete the process\n",
    "    end = time.time()\n",
    "    print (\"Time Taken to Parse {} product review is:{} seconds\".format(num_of_review,(end-start)))\n",
    "    \n",
    "    # quitting the driver (browser)\n",
    "    driver.quit()\n",
    "    \n",
    "    # returning the dataframe formed\n",
    "    return df\n"
   ]
  },
  {
   "cell_type": "code",
   "execution_count": 129,
   "id": "signed-rochester",
   "metadata": {},
   "outputs": [
    {
     "name": "stdout",
     "output_type": "stream",
     "text": [
      "Page 1 of 75\n",
      "Page 2 of 75\n",
      "Page 3 of 75\n",
      "Page 4 of 75\n",
      "Page 5 of 75\n",
      "Page 6 of 75\n",
      "Page 7 of 75\n",
      "Page 8 of 75\n",
      "Page 9 of 75\n",
      "Page 10 of 75\n",
      "Page 11 of 75\n",
      "Page 12 of 75\n",
      "Page 13 of 75\n",
      "Page 14 of 75\n",
      "Page 15 of 75\n",
      "Page 16 of 75\n",
      "Page 17 of 75\n",
      "Page 18 of 75\n",
      "Page 19 of 75\n",
      "Page 20 of 75\n",
      "Page 21 of 75\n",
      "Page 22 of 75\n",
      "Page 23 of 75\n",
      "Page 24 of 75\n",
      "Page 25 of 75\n",
      "Page 26 of 75\n",
      "Page 27 of 75\n",
      "Page 28 of 75\n",
      "Page 29 of 75\n",
      "Page 30 of 75\n",
      "Page 31 of 75\n",
      "Page 32 of 75\n",
      "Page 33 of 75\n",
      "Page 34 of 75\n",
      "Page 35 of 75\n",
      "Page 36 of 75\n",
      "Page 37 of 75\n",
      "Page 38 of 75\n",
      "Page 39 of 75\n",
      "Page 40 of 75\n",
      "Page 41 of 75\n",
      "Page 42 of 75\n",
      "Page 43 of 75\n",
      "Page 44 of 75\n",
      "Page 45 of 75\n",
      "Page 46 of 75\n",
      "Page 47 of 75\n",
      "Page 48 of 75\n",
      "Page 49 of 75\n",
      "Page 50 of 75\n",
      "Page 51 of 75\n",
      "Page 52 of 75\n",
      "Page 53 of 75\n",
      "Page 54 of 75\n",
      "Page 55 of 75\n",
      "Page 56 of 75\n",
      "Page 57 of 75\n",
      "Page 58 of 75\n",
      "Page 59 of 75\n",
      "Page 60 of 75\n",
      "Page 61 of 75\n",
      "Page 62 of 75\n",
      "Page 63 of 75\n",
      "Page 64 of 75\n",
      "Page 65 of 75\n",
      "Page 66 of 75\n",
      "Page 67 of 75\n",
      "Page 68 of 75\n",
      "Page 69 of 75\n",
      "Page 70 of 75\n",
      "Page 71 of 75\n",
      "Page 72 of 75\n",
      "Page 73 of 75\n",
      "Page 74 of 75\n",
      "Page 75 of 75\n",
      "Time Taken to Parse 1500 product review is:1302.475073814392 seconds\n"
     ]
    }
   ],
   "source": [
    "path = r'C:\\Users\\nijat\\Desktop\\Data Science\\Preparation For Interview\\Technicl Skil\\web Scraping\\Chromedriver'\n",
    "product_url = \"https://www.walmart.com/ip/Clorox-Disinfecting-Wipes-225-Count-Value-Pack-Crisp-Lemon-and-Fresh-Scent-3-Pack-75-Count-Each/14898365\"\n",
    "\n",
    "dataframe = parse_product_review(product_url, 1500,path)\n",
    "dataframe.to_csv(\"output.csv\",index=False)"
   ]
  },
  {
   "cell_type": "code",
   "execution_count": null,
   "id": "retained-stanley",
   "metadata": {},
   "outputs": [],
   "source": [
    "driver.get('https://www.walmart.com/')"
   ]
  },
  {
   "cell_type": "code",
   "execution_count": null,
   "id": "enclosed-bobby",
   "metadata": {},
   "outputs": [],
   "source": [
    "driver.find_element_by_link_text"
   ]
  },
  {
   "cell_type": "code",
   "execution_count": null,
   "id": "dietary-skiing",
   "metadata": {},
   "outputs": [],
   "source": []
  }
 ],
 "metadata": {
  "kernelspec": {
   "display_name": "Python 3",
   "language": "python",
   "name": "python3"
  },
  "language_info": {
   "codemirror_mode": {
    "name": "ipython",
    "version": 3
   },
   "file_extension": ".py",
   "mimetype": "text/x-python",
   "name": "python",
   "nbconvert_exporter": "python",
   "pygments_lexer": "ipython3",
   "version": "3.8.8"
  }
 },
 "nbformat": 4,
 "nbformat_minor": 5
}
