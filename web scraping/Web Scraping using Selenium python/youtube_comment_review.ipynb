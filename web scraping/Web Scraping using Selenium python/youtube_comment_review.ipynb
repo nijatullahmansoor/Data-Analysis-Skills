{
 "cells": [
  {
   "cell_type": "markdown",
   "id": "informal-powder",
   "metadata": {},
   "source": [
    "## Youtube Video comment review with the help of Selenium"
   ]
  },
  {
   "cell_type": "code",
   "execution_count": 1,
   "id": "looking-wrestling",
   "metadata": {},
   "outputs": [],
   "source": [
    "from selenium import webdriver\n",
    "import time\n",
    "from selenium.common.exceptions import NoSuchElementException\n",
    "import pandas as pd"
   ]
  },
  {
   "cell_type": "markdown",
   "id": "senior-christian",
   "metadata": {},
   "source": [
    "### We will get all the comment of video which has been share in the Youtube. \n",
    "\n",
    "We will get the following details of the user comment.\n",
    "\n",
    "1. User name\n",
    "2. when user commented \n",
    "3. How many people like the comment \n",
    "4. How many people dislike the comment if it's disclosed\n",
    "6. Comment body/ descriptons\n",
    "7. How many people replies to this comment if possible we will get the replies as well\n",
    "\n",
    "We will also get these as description of the dataset for example\n",
    "\n",
    "- Which channel share the video\n",
    "- How many subsriber has the channel\n",
    "- Video title\n",
    "- Title description\n",
    "- Date of sharing or posting\n",
    "- How many pople watched\n",
    "- How many people like the video \n",
    "- How many people dislike the video\n",
    "\n",
    "When we have this type of data with help of NLP, ML and sentiment analysis we can get good insight about the video and how much it was helpul and ho wmuch was it dangerous. \n",
    "### `Note`: Here we will just get the data if possible we will do some visualiztion the main intention is to get the data and store it in a `csv.` file."
   ]
  },
  {
   "cell_type": "code",
   "execution_count": 135,
   "id": "precious-catholic",
   "metadata": {},
   "outputs": [],
   "source": [
    "path = r'C:\\Users\\nijat\\Desktop\\Data Science\\Preparation For Interview\\Technicl Skil\\web Scraping\\Chromedriver'\n",
    "driver = webdriver.Chrome(executable_path=path)"
   ]
  },
  {
   "cell_type": "code",
   "execution_count": 87,
   "id": "cathedral-token",
   "metadata": {},
   "outputs": [],
   "source": [
    "url = 'https://www.youtube.com/watch?v=ecUchA2NsB8&ab_channel=AlJazeeraEnglish'\n",
    "driver.get(url)\n",
    "# when we pass the url the video will play by default we need to pause this. \n",
    "time.sleep(5)\n",
    "\n",
    "driver.find_element_by_xpath(\"//button[contains(@class,'ytp-play-button ytp-button')]\").click() # to stop the video "
   ]
  },
  {
   "cell_type": "markdown",
   "id": "cosmetic-trustee",
   "metadata": {},
   "source": [
    "let's get first the general information about the video like \n",
    "\n",
    "- Which channel share the video\n",
    "- How many subsriber has the channel\n",
    "- Video title\n",
    "- Title description\n",
    "- Date of sharing or posting\n",
    "- How many pople watched\n",
    "- How many people like the video \n",
    "- How many people dislike the video"
   ]
  },
  {
   "cell_type": "code",
   "execution_count": 27,
   "id": "coated-tragedy",
   "metadata": {},
   "outputs": [
    {
     "data": {
      "text/plain": [
       "'Al Jazeera English'"
      ]
     },
     "execution_count": 27,
     "metadata": {},
     "output_type": "execute_result"
    }
   ],
   "source": [
    "# first get the channel name.\n",
    "channel_name = driver.find_element_by_xpath('/html/body/ytd-app/div/ytd-page-manager/ytd-watch-flexy/div[5]/div[1]/div/div[9]/div[2]/ytd-video-secondary-info-renderer/div/div/ytd-video-owner-renderer/div[1]/ytd-channel-name/div/div/yt-formatted-string/a').text\n",
    "channel_name"
   ]
  },
  {
   "cell_type": "code",
   "execution_count": 32,
   "id": "attached-sweet",
   "metadata": {},
   "outputs": [
    {
     "data": {
      "text/plain": [
       "'8.07M subscribers'"
      ]
     },
     "execution_count": 32,
     "metadata": {},
     "output_type": "execute_result"
    }
   ],
   "source": [
    "# Let's get the Numbr of subscriber \n",
    "# some time the xpath doesn't work we need to use the fullXpath instead of xpath.\n",
    "num_of_subscriber = driver.find_element_by_xpath('/html/body/ytd-app/div/ytd-page-manager/ytd-watch-flexy/div[5]/div[1]/div/div[9]/div[2]/ytd-video-secondary-info-renderer/div/div/ytd-video-owner-renderer/div[1]/yt-formatted-string').text\n",
    "num_of_subscriber"
   ]
  },
  {
   "cell_type": "code",
   "execution_count": 33,
   "id": "traditional-cause",
   "metadata": {},
   "outputs": [
    {
     "data": {
      "text/plain": [
       "'Who are the Taliban? | Start Here'"
      ]
     },
     "execution_count": 33,
     "metadata": {},
     "output_type": "execute_result"
    }
   ],
   "source": [
    "# Let's get the video title \n",
    "video_title = driver.find_element_by_xpath(\"//h1[contains(@class,'title style-scope ytd-video-primary-info-renderer')]\").text\n",
    "video_title"
   ]
  },
  {
   "cell_type": "markdown",
   "id": "mental-douglas",
   "metadata": {},
   "source": [
    "Let's get th e video small description which has been given by the channel."
   ]
  },
  {
   "cell_type": "code",
   "execution_count": 50,
   "id": "personal-donna",
   "metadata": {},
   "outputs": [
    {
     "name": "stdout",
     "output_type": "stream",
     "text": [
      "Who are the Taliban?\n",
      "The Taliban have been fighting the Afghan government and its allies for decades. \n",
      "Now the US is pulling its soldiers out of Afghanistan and the Taliban seem stronger than ever. \n",
      "Who are the Taliban really? And how is it that they have so much power? \n",
      "\n",
      "Subscribe to our channel  \n"
     ]
    }
   ],
   "source": [
    "title_description = driver.find_element_by_xpath('//*[@id=\"description\"]/yt-formatted-string/span[1]').text\n",
    "print(title_description)"
   ]
  },
  {
   "cell_type": "markdown",
   "id": "reflected-entry",
   "metadata": {},
   "source": [
    "Let's get the number of viewers "
   ]
  },
  {
   "cell_type": "code",
   "execution_count": 44,
   "id": "nominated-grain",
   "metadata": {},
   "outputs": [
    {
     "data": {
      "text/plain": [
       "'4,760,609 views'"
      ]
     },
     "execution_count": 44,
     "metadata": {},
     "output_type": "execute_result"
    }
   ],
   "source": [
    "number_of_viewers = driver.find_element_by_xpath(\"//span[contains(@class,'view-count style-scope ytd-video-view-count-renderer')]\").text\n",
    "number_of_viewers"
   ]
  },
  {
   "cell_type": "code",
   "execution_count": 46,
   "id": "flexible-loading",
   "metadata": {},
   "outputs": [
    {
     "data": {
      "text/plain": [
       "''"
      ]
     },
     "execution_count": 46,
     "metadata": {},
     "output_type": "execute_result"
    }
   ],
   "source": [
    "# the viewers is display in tow formats \n",
    "number_of_viewers_short = driver.find_element_by_xpath(\"//span[contains(@class,'short-view-count style-scope ytd-video-view-count-renderer')]\").text\n",
    "number_of_viewers_short"
   ]
  },
  {
   "cell_type": "markdown",
   "id": "amended-relief",
   "metadata": {},
   "source": [
    "Let's get the date when the video was shared."
   ]
  },
  {
   "cell_type": "code",
   "execution_count": 48,
   "id": "italic-short",
   "metadata": {},
   "outputs": [
    {
     "data": {
      "text/plain": [
       "'May 30, 2021'"
      ]
     },
     "execution_count": 48,
     "metadata": {},
     "output_type": "execute_result"
    }
   ],
   "source": [
    "date_of_sharing = driver.find_element_by_xpath('//*[@id=\"info-strings\"]/yt-formatted-string').text\n",
    "date_of_sharing"
   ]
  },
  {
   "cell_type": "markdown",
   "id": "adaptive-boost",
   "metadata": {},
   "source": [
    "How many people like the video"
   ]
  },
  {
   "cell_type": "code",
   "execution_count": 52,
   "id": "instant-showcase",
   "metadata": {},
   "outputs": [
    {
     "data": {
      "text/plain": [
       "'71K'"
      ]
     },
     "execution_count": 52,
     "metadata": {},
     "output_type": "execute_result"
    }
   ],
   "source": [
    "number_of_liked = driver.find_element_by_xpath('/html/body/ytd-app/div/ytd-page-manager/ytd-watch-flexy/div[5]/div[1]/div/div[8]/div[2]/ytd-video-primary-info-renderer/div/div/div[3]/div/ytd-menu-renderer/div/ytd-toggle-button-renderer[1]/a/yt-formatted-string').text\n",
    "number_of_liked"
   ]
  },
  {
   "cell_type": "markdown",
   "id": "transparent-inspection",
   "metadata": {},
   "source": [
    "How many people dislike this video. "
   ]
  },
  {
   "cell_type": "code",
   "execution_count": 53,
   "id": "conventional-thickness",
   "metadata": {},
   "outputs": [
    {
     "data": {
      "text/plain": [
       "'5.4K'"
      ]
     },
     "execution_count": 53,
     "metadata": {},
     "output_type": "execute_result"
    }
   ],
   "source": [
    "number_of_dislike = driver.find_element_by_xpath('/html/body/ytd-app/div/ytd-page-manager/ytd-watch-flexy/div[5]/div[1]/div/div[8]/div[2]/ytd-video-primary-info-renderer/div/div/div[3]/div/ytd-menu-renderer/div/ytd-toggle-button-renderer[2]/a/yt-formatted-string').text\n",
    "number_of_dislike"
   ]
  },
  {
   "cell_type": "markdown",
   "id": "vertical-desert",
   "metadata": {},
   "source": [
    "K represent 1000. "
   ]
  },
  {
   "cell_type": "code",
   "execution_count": 92,
   "id": "nonprofit-postcard",
   "metadata": {},
   "outputs": [
    {
     "data": {
      "text/plain": [
       "<selenium.webdriver.remote.webelement.WebElement (session=\"e00c45fb6bbafa7094981b5c4e634a76\", element=\"c07f9806-f992-4932-bda4-550271becf73\")>"
      ]
     },
     "execution_count": 92,
     "metadata": {},
     "output_type": "execute_result"
    }
   ],
   "source": [
    "comments_list = driver.find_element_by_xpath('/html/body/ytd-app/div/ytd-page-manager/ytd-watch-flexy/div[5]/div[1]/div/ytd-comments/ytd-item-section-renderer/div[3]')\n",
    "\n",
    "comments_list"
   ]
  },
  {
   "cell_type": "code",
   "execution_count": 95,
   "id": "searching-emission",
   "metadata": {},
   "outputs": [],
   "source": [
    "all_comment = comments_list.find_elements_by_class_name(\"style-scope.ytd-item-section-renderer\")"
   ]
  },
  {
   "cell_type": "code",
   "execution_count": 96,
   "id": "minor-senate",
   "metadata": {},
   "outputs": [
    {
     "data": {
      "text/plain": [
       "80"
      ]
     },
     "execution_count": 96,
     "metadata": {},
     "output_type": "execute_result"
    }
   ],
   "source": [
    "len(all_comment)"
   ]
  },
  {
   "cell_type": "markdown",
   "id": "continuing-april",
   "metadata": {},
   "source": [
    "we have 80 user details. We need to find way to scroll down to the end to get all the user comment let's scroll donwn and see if the number of comment incease."
   ]
  },
  {
   "cell_type": "code",
   "execution_count": 97,
   "id": "fleet-certificate",
   "metadata": {},
   "outputs": [
    {
     "data": {
      "text/plain": [
       "<selenium.webdriver.remote.webelement.WebElement (session=\"e00c45fb6bbafa7094981b5c4e634a76\", element=\"c07f9806-f992-4932-bda4-550271becf73\")>"
      ]
     },
     "execution_count": 97,
     "metadata": {},
     "output_type": "execute_result"
    }
   ],
   "source": [
    "comments_list = driver.find_element_by_xpath('/html/body/ytd-app/div/ytd-page-manager/ytd-watch-flexy/div[5]/div[1]/div/ytd-comments/ytd-item-section-renderer/div[3]')\n",
    "comments_list"
   ]
  },
  {
   "cell_type": "code",
   "execution_count": 98,
   "id": "lonely-center",
   "metadata": {},
   "outputs": [],
   "source": [
    "all_comment = comments_list.find_elements_by_class_name(\"style-scope.ytd-item-section-renderer\")"
   ]
  },
  {
   "cell_type": "code",
   "execution_count": 99,
   "id": "direct-thompson",
   "metadata": {},
   "outputs": [
    {
     "data": {
      "text/plain": [
       "297"
      ]
     },
     "execution_count": 99,
     "metadata": {},
     "output_type": "execute_result"
    }
   ],
   "source": [
    "len(all_comment)"
   ]
  },
  {
   "cell_type": "code",
   "execution_count": null,
   "id": "difficult-pitch",
   "metadata": {},
   "outputs": [],
   "source": [
    "We can see that the number of comments inceased."
   ]
  },
  {
   "cell_type": "markdown",
   "id": "afraid-paper",
   "metadata": {},
   "source": [
    "Let's with help of the following code we will scroll down at some point that we get at least 2000 user comment on this video."
   ]
  },
  {
   "cell_type": "code",
   "execution_count": 108,
   "id": "faced-matter",
   "metadata": {},
   "outputs": [
    {
     "data": {
      "text/plain": [
       "375"
      ]
     },
     "execution_count": 108,
     "metadata": {},
     "output_type": "execute_result"
    }
   ],
   "source": [
    "time.sleep(5)\n",
    "driver.execute_script(\"window.scrollTo(0, 2000000)\")\n",
    "driver.execute_script(\"window.scrollTo(2000000, 9000000)\")\n",
    "comments_list = driver.find_element_by_xpath('/html/body/ytd-app/div/ytd-page-manager/ytd-watch-flexy/div[5]/div[1]/div/ytd-comments/ytd-item-section-renderer/div[3]')\n",
    "all_comment = comments_list.find_elements_by_class_name(\"style-scope.ytd-item-section-renderer\")\n",
    "len(all_comment)"
   ]
  },
  {
   "cell_type": "code",
   "execution_count": 197,
   "id": "marked-terminology",
   "metadata": {},
   "outputs": [],
   "source": [
    "path = r'C:\\Users\\nijat\\Desktop\\Data Science\\Preparation For Interview\\Technicl Skil\\web Scraping\\Chromedriver'\n",
    "driver = webdriver.Chrome(executable_path=path)"
   ]
  },
  {
   "cell_type": "code",
   "execution_count": 198,
   "id": "every-suicide",
   "metadata": {},
   "outputs": [],
   "source": [
    "url = 'https://www.youtube.com/watch?v=ecUchA2NsB8&ab_channel=AlJazeeraEnglish'\n",
    "driver.get(url)\n",
    "# when we pass the url the video will play by default we need to pause this. \n",
    "time.sleep(5)\n",
    "\n",
    "driver.find_element_by_xpath(\"//button[contains(@class,'ytp-play-button ytp-button')]\").click() # to stop the video "
   ]
  },
  {
   "cell_type": "code",
   "execution_count": 199,
   "id": "coupled-resolution",
   "metadata": {},
   "outputs": [],
   "source": [
    "j=0\n",
    "for i in range(20):\n",
    "    i=i*10000\n",
    "    text = \"window.scrollTo({start}, {end})\".format(start = j, end = i)\n",
    "    driver.execute_script(text)\n",
    "    #just give some time to load the \n",
    "    time.sleep(5)\n",
    "    j = i\n",
    "    i=0"
   ]
  },
  {
   "cell_type": "code",
   "execution_count": 200,
   "id": "geological-parliament",
   "metadata": {},
   "outputs": [
    {
     "data": {
      "text/plain": [
       "396"
      ]
     },
     "execution_count": 200,
     "metadata": {},
     "output_type": "execute_result"
    }
   ],
   "source": [
    "comments_list = driver.find_element_by_xpath('/html/body/ytd-app/div/ytd-page-manager/ytd-watch-flexy/div[5]/div[1]/div/ytd-comments/ytd-item-section-renderer/div[3]')\n",
    "all_comment = comments_list.find_elements_by_class_name(\"style-scope.ytd-item-section-renderer\")\n",
    "len(all_comment)"
   ]
  },
  {
   "cell_type": "markdown",
   "id": "protective-announcement",
   "metadata": {},
   "source": [
    "we can see that we have 436 user comment so let's increase the range()"
   ]
  },
  {
   "cell_type": "code",
   "execution_count": 201,
   "id": "precise-python",
   "metadata": {},
   "outputs": [],
   "source": [
    "j=0\n",
    "for i in range(200):\n",
    "    i=i*2000\n",
    "    text = \"window.scrollTo({start}, {end})\".format(start = j, end = i)\n",
    "    driver.execute_script(text)\n",
    "    #just give some time to load the \n",
    "    time.sleep(5)\n",
    "    j = i\n",
    "    i=0\n"
   ]
  },
  {
   "cell_type": "code",
   "execution_count": 223,
   "id": "typical-barbados",
   "metadata": {},
   "outputs": [
    {
     "data": {
      "text/plain": [
       "1154"
      ]
     },
     "execution_count": 223,
     "metadata": {},
     "output_type": "execute_result"
    }
   ],
   "source": [
    "comments_list = driver.find_element_by_xpath('/html/body/ytd-app/div/ytd-page-manager/ytd-watch-flexy/div[5]/div[1]/div/ytd-comments/ytd-item-section-renderer/div[3]')\n",
    "all_comment = comments_list.find_elements_by_class_name(\"style-scope.ytd-item-section-renderer\")\n",
    "len(all_comment)"
   ]
  },
  {
   "cell_type": "markdown",
   "id": "automotive-explorer",
   "metadata": {},
   "source": [
    "so it depend on your requirement how many user comment you want to review and analysis for example if you want to more comment you just increase the range of the for loop or if you want to decease just reduce the range of for loop."
   ]
  },
  {
   "cell_type": "markdown",
   "id": "crazy-obligation",
   "metadata": {},
   "source": [
    "Now we have 2590 user comment about this video. Let's retrive this and store in `.csv` file."
   ]
  },
  {
   "cell_type": "markdown",
   "id": "frank-chapter",
   "metadata": {},
   "source": [
    "let's take one user and get all the require data and store in the list later we will use a for loop to take all 2590 users data."
   ]
  },
  {
   "cell_type": "code",
   "execution_count": 232,
   "id": "purple-roads",
   "metadata": {},
   "outputs": [],
   "source": [
    "user_name = []\n",
    "user_comment_time = []\n",
    "comments_description = []\n",
    "likes_of_comment = []\n",
    "number_of_replay_to_comment = []"
   ]
  },
  {
   "cell_type": "code",
   "execution_count": 233,
   "id": "surface-hospital",
   "metadata": {},
   "outputs": [],
   "source": [
    "for comment in all_comment:\n",
    "    # get the user name.\n",
    "    try:\n",
    "        userName = comment.find_element_by_id(\"author-text\").text\n",
    "        user_name.append(userName)\n",
    "    except NoSuchElementException:\n",
    "        user_name.append(None)\n",
    "    \n",
    "    # get when user commented. \n",
    "    try:\n",
    "        comment_time = comment.find_element_by_class_name(\"yt-simple-endpoint.style-scope.yt-formatted-string\").text\n",
    "        user_comment_time.append(comment_time)\n",
    "    except NoSuchElementException:\n",
    "        user_comment_time.append(None)\n",
    "        \n",
    "    #let's get the comment body \n",
    "    try:\n",
    "        comment_body = comment.find_element_by_id(\"content-text\").text\n",
    "        comments_description.append(comment_body)\n",
    "    except NoSuchElementException:\n",
    "        comments_description.append(None)\n",
    "        \n",
    "    # let's get how many people like this comment.\n",
    "    try:\n",
    "        number_of_like_for_comment = comment.find_element_by_id(\"vote-count-middle\").text\n",
    "        likes_of_comment.append(number_of_like_for_comment)\n",
    "    except NoSuchElementException:\n",
    "        likes_of_comment.append(None)\n",
    "    \n",
    "    try:\n",
    "        x = comment.find_elements_by_class_name(\"style-scope.ytd-button-renderer\")[3]\n",
    "        replay = x.text\n",
    "        number_of_replay_to_comment.append(replay)\n",
    "    except:\n",
    "        number_of_replay_to_comment.append(None)\n",
    "        \n",
    "    "
   ]
  },
  {
   "cell_type": "code",
   "execution_count": 226,
   "id": "honey-zambia",
   "metadata": {},
   "outputs": [
    {
     "data": {
      "text/plain": [
       "1154"
      ]
     },
     "execution_count": 226,
     "metadata": {},
     "output_type": "execute_result"
    }
   ],
   "source": [
    "len(user_name)"
   ]
  },
  {
   "cell_type": "code",
   "execution_count": 202,
   "id": "alleged-protein",
   "metadata": {},
   "outputs": [],
   "source": [
    "user1 = all_comment[0]"
   ]
  },
  {
   "cell_type": "code",
   "execution_count": 203,
   "id": "ambient-acrylic",
   "metadata": {},
   "outputs": [
    {
     "data": {
      "text/plain": [
       "'2 months ago'"
      ]
     },
     "execution_count": 203,
     "metadata": {},
     "output_type": "execute_result"
    }
   ],
   "source": [
    "comment_time = user1.find_element_by_class_name(\"yt-simple-endpoint.style-scope.yt-formatted-string\").text\n",
    "comment_time"
   ]
  },
  {
   "cell_type": "code",
   "execution_count": 204,
   "id": "domestic-north",
   "metadata": {},
   "outputs": [
    {
     "name": "stdout",
     "output_type": "stream",
     "text": [
      "What Russia couldn't achieve in 9 years, the US failed in 20 years.\n"
     ]
    }
   ],
   "source": [
    "coment_body = user1.find_element_by_id(\"content-text\").text\n",
    "print(coment_body)"
   ]
  },
  {
   "cell_type": "code",
   "execution_count": 205,
   "id": "close-insurance",
   "metadata": {},
   "outputs": [
    {
     "data": {
      "text/plain": [
       "'5.6K'"
      ]
     },
     "execution_count": 205,
     "metadata": {},
     "output_type": "execute_result"
    }
   ],
   "source": [
    "number_of_like_for_comment = user1.find_element_by_id(\"vote-count-middle\").text\n",
    "number_of_like_for_comment"
   ]
  },
  {
   "cell_type": "markdown",
   "id": "prescribed-technical",
   "metadata": {},
   "source": [
    "Hence dislike is not disclosed we won't get it."
   ]
  },
  {
   "cell_type": "markdown",
   "id": "smaller-consequence",
   "metadata": {},
   "source": [
    "Let's get number of replies how many people replyed to this coment."
   ]
  },
  {
   "cell_type": "code",
   "execution_count": 217,
   "id": "persistent-norwegian",
   "metadata": {},
   "outputs": [
    {
     "data": {
      "text/plain": [
       "'View 429 replies'"
      ]
     },
     "execution_count": 217,
     "metadata": {},
     "output_type": "execute_result"
    }
   ],
   "source": [
    "x = user1.find_elements_by_class_name(\"style-scope.ytd-button-renderer\")[3]\n",
    "x.text"
   ]
  },
  {
   "cell_type": "code",
   "execution_count": 227,
   "id": "intense-attempt",
   "metadata": {},
   "outputs": [],
   "source": [
    "import pandas as pd"
   ]
  },
  {
   "cell_type": "code",
   "execution_count": 234,
   "id": "radio-solid",
   "metadata": {},
   "outputs": [],
   "source": [
    "df = pd.DataFrame()"
   ]
  },
  {
   "cell_type": "code",
   "execution_count": 235,
   "id": "false-velvet",
   "metadata": {},
   "outputs": [],
   "source": [
    "df['User_name'] = user_name\n",
    "df['when user commented?'] = user_comment_time\n",
    "df['Comments body'] = comments_description\n",
    "df['Number Of Likes'] = likes_of_comment\n",
    "df['Number of Replies'] = number_of_replay_to_comment"
   ]
  },
  {
   "cell_type": "code",
   "execution_count": 236,
   "id": "julian-table",
   "metadata": {},
   "outputs": [
    {
     "data": {
      "text/html": [
       "<div>\n",
       "<style scoped>\n",
       "    .dataframe tbody tr th:only-of-type {\n",
       "        vertical-align: middle;\n",
       "    }\n",
       "\n",
       "    .dataframe tbody tr th {\n",
       "        vertical-align: top;\n",
       "    }\n",
       "\n",
       "    .dataframe thead th {\n",
       "        text-align: right;\n",
       "    }\n",
       "</style>\n",
       "<table border=\"1\" class=\"dataframe\">\n",
       "  <thead>\n",
       "    <tr style=\"text-align: right;\">\n",
       "      <th></th>\n",
       "      <th>User_name</th>\n",
       "      <th>when user commented?</th>\n",
       "      <th>Comments body</th>\n",
       "      <th>Number Of Likes</th>\n",
       "      <th>Number of Replies</th>\n",
       "    </tr>\n",
       "  </thead>\n",
       "  <tbody>\n",
       "    <tr>\n",
       "      <th>0</th>\n",
       "      <td>Küghalu Mülatonu</td>\n",
       "      <td>2 months ago</td>\n",
       "      <td>What Russia couldn't achieve in 9 years, the U...</td>\n",
       "      <td>5.6K</td>\n",
       "      <td>View 429 replies</td>\n",
       "    </tr>\n",
       "    <tr>\n",
       "      <th>1</th>\n",
       "      <td></td>\n",
       "      <td>4 days ago</td>\n",
       "      <td>Afghanistan. The graveyard of the empires.</td>\n",
       "      <td>363</td>\n",
       "      <td>View 31 replies</td>\n",
       "    </tr>\n",
       "    <tr>\n",
       "      <th>2</th>\n",
       "      <td>Mike Julie</td>\n",
       "      <td>3 days ago</td>\n",
       "      <td>With hindsight, this item was spot on. Hats of...</td>\n",
       "      <td>39</td>\n",
       "      <td>None</td>\n",
       "    </tr>\n",
       "    <tr>\n",
       "      <th>3</th>\n",
       "      <td>Werner S</td>\n",
       "      <td>1 day ago</td>\n",
       "      <td>The follow-up to this should be, “Who Were the...</td>\n",
       "      <td>53</td>\n",
       "      <td>View reply</td>\n",
       "    </tr>\n",
       "    <tr>\n",
       "      <th>4</th>\n",
       "      <td>KM</td>\n",
       "      <td>1 day ago</td>\n",
       "      <td>Yes, \" there own interpretation of Islam \".\\nN...</td>\n",
       "      <td>11</td>\n",
       "      <td>None</td>\n",
       "    </tr>\n",
       "    <tr>\n",
       "      <th>...</th>\n",
       "      <td>...</td>\n",
       "      <td>...</td>\n",
       "      <td>...</td>\n",
       "      <td>...</td>\n",
       "      <td>...</td>\n",
       "    </tr>\n",
       "    <tr>\n",
       "      <th>1149</th>\n",
       "      <td>fancho123</td>\n",
       "      <td>1 week ago</td>\n",
       "      <td>its so frustrating for me that most people in ...</td>\n",
       "      <td>14</td>\n",
       "      <td>View 3 replies</td>\n",
       "    </tr>\n",
       "    <tr>\n",
       "      <th>1150</th>\n",
       "      <td>Thusahtani</td>\n",
       "      <td>1 week ago</td>\n",
       "      <td>\"The question now is what will happen when the...</td>\n",
       "      <td>15</td>\n",
       "      <td>View 6 replies</td>\n",
       "    </tr>\n",
       "    <tr>\n",
       "      <th>1151</th>\n",
       "      <td>Arbaz Abid</td>\n",
       "      <td>2 months ago</td>\n",
       "      <td>The people like these so-called Afghan journal...</td>\n",
       "      <td>65</td>\n",
       "      <td>View 17 replies</td>\n",
       "    </tr>\n",
       "    <tr>\n",
       "      <th>1152</th>\n",
       "      <td>Hissen Daud</td>\n",
       "      <td>2 months ago</td>\n",
       "      <td>Just I 👲 wanna a peace 🐦and ❤ in our world 🌐</td>\n",
       "      <td>15</td>\n",
       "      <td>View 2 replies</td>\n",
       "    </tr>\n",
       "    <tr>\n",
       "      <th>1153</th>\n",
       "      <td>None</td>\n",
       "      <td>None</td>\n",
       "      <td>None</td>\n",
       "      <td>None</td>\n",
       "      <td>None</td>\n",
       "    </tr>\n",
       "  </tbody>\n",
       "</table>\n",
       "<p>1154 rows × 5 columns</p>\n",
       "</div>"
      ],
      "text/plain": [
       "             User_name when user commented?  \\\n",
       "0     Küghalu Mülatonu         2 months ago   \n",
       "1                                4 days ago   \n",
       "2           Mike Julie           3 days ago   \n",
       "3             Werner S            1 day ago   \n",
       "4                   KM            1 day ago   \n",
       "...                ...                  ...   \n",
       "1149         fancho123           1 week ago   \n",
       "1150        Thusahtani           1 week ago   \n",
       "1151        Arbaz Abid         2 months ago   \n",
       "1152       Hissen Daud         2 months ago   \n",
       "1153              None                 None   \n",
       "\n",
       "                                          Comments body Number Of Likes  \\\n",
       "0     What Russia couldn't achieve in 9 years, the U...            5.6K   \n",
       "1            Afghanistan. The graveyard of the empires.             363   \n",
       "2     With hindsight, this item was spot on. Hats of...              39   \n",
       "3     The follow-up to this should be, “Who Were the...              53   \n",
       "4     Yes, \" there own interpretation of Islam \".\\nN...              11   \n",
       "...                                                 ...             ...   \n",
       "1149  its so frustrating for me that most people in ...              14   \n",
       "1150  \"The question now is what will happen when the...              15   \n",
       "1151  The people like these so-called Afghan journal...              65   \n",
       "1152       Just I 👲 wanna a peace 🐦and ❤ in our world 🌐              15   \n",
       "1153                                               None            None   \n",
       "\n",
       "     Number of Replies  \n",
       "0     View 429 replies  \n",
       "1      View 31 replies  \n",
       "2                 None  \n",
       "3           View reply  \n",
       "4                 None  \n",
       "...                ...  \n",
       "1149    View 3 replies  \n",
       "1150    View 6 replies  \n",
       "1151   View 17 replies  \n",
       "1152    View 2 replies  \n",
       "1153              None  \n",
       "\n",
       "[1154 rows x 5 columns]"
      ]
     },
     "execution_count": 236,
     "metadata": {},
     "output_type": "execute_result"
    }
   ],
   "source": [
    "df"
   ]
  },
  {
   "cell_type": "code",
   "execution_count": 238,
   "id": "accompanied-school",
   "metadata": {},
   "outputs": [],
   "source": [
    "df.to_csv('ytube_comment_scraped_data.csv',index=None)"
   ]
  },
  {
   "cell_type": "markdown",
   "id": "complimentary-anchor",
   "metadata": {},
   "source": [
    "Now let's get genral information about this video and store in one of the column of csv file."
   ]
  },
  {
   "cell_type": "code",
   "execution_count": 239,
   "id": "experimental-latino",
   "metadata": {},
   "outputs": [],
   "source": [
    "# first get the channel name.\n",
    "channel_name = driver.find_element_by_xpath('/html/body/ytd-app/div/ytd-page-manager/ytd-watch-flexy/div[5]/div[1]/div/div[9]/div[2]/ytd-video-secondary-info-renderer/div/div/ytd-video-owner-renderer/div[1]/ytd-channel-name/div/div/yt-formatted-string/a').text\n",
    "num_of_subscriber = driver.find_element_by_xpath('/html/body/ytd-app/div/ytd-page-manager/ytd-watch-flexy/div[5]/div[1]/div/div[9]/div[2]/ytd-video-secondary-info-renderer/div/div/ytd-video-owner-renderer/div[1]/yt-formatted-string').text\n",
    "video_title = driver.find_element_by_xpath(\"//h1[contains(@class,'title style-scope ytd-video-primary-info-renderer')]\").text\n",
    "title_description = driver.find_element_by_xpath('//*[@id=\"description\"]/yt-formatted-string/span[1]').text\n",
    "number_of_viewers = driver.find_element_by_xpath(\"//span[contains(@class,'view-count style-scope ytd-video-view-count-renderer')]\").text\n",
    "date_of_sharing = driver.find_element_by_xpath('//*[@id=\"info-strings\"]/yt-formatted-string').text\n",
    "number_of_liked = driver.find_element_by_xpath('/html/body/ytd-app/div/ytd-page-manager/ytd-watch-flexy/div[5]/div[1]/div/div[8]/div[2]/ytd-video-primary-info-renderer/div/div/div[3]/div/ytd-menu-renderer/div/ytd-toggle-button-renderer[1]/a/yt-formatted-string').text\n",
    "number_of_dislike = driver.find_element_by_xpath('/html/body/ytd-app/div/ytd-page-manager/ytd-watch-flexy/div[5]/div[1]/div/div[8]/div[2]/ytd-video-primary-info-renderer/div/div/div[3]/div/ytd-menu-renderer/div/ytd-toggle-button-renderer[2]/a/yt-formatted-string').text\n"
   ]
  },
  {
   "cell_type": "code",
   "execution_count": 240,
   "id": "compound-mouth",
   "metadata": {},
   "outputs": [],
   "source": [
    "df['chaneel_name'] = channel_name"
   ]
  },
  {
   "cell_type": "code",
   "execution_count": 242,
   "id": "heavy-examination",
   "metadata": {},
   "outputs": [],
   "source": [
    "df['num of subscriber'] = num_of_subscriber\n",
    "df['Video Title'] = video_title\n",
    "df['Title Descripton'] = title_description\n",
    "df['No of Vivers'] = number_of_viewers\n",
    "df['Date of sharing'] = date_of_sharing\n",
    "df['Num of Likes'] = number_of_liked\n",
    "df['Num of Dislike'] = number_of_dislike\n"
   ]
  },
  {
   "cell_type": "code",
   "execution_count": 244,
   "id": "wicked-gasoline",
   "metadata": {},
   "outputs": [],
   "source": [
    "df.to_csv('youtube.csv',index=None)"
   ]
  },
  {
   "cell_type": "code",
   "execution_count": null,
   "id": "reported-geometry",
   "metadata": {},
   "outputs": [],
   "source": []
  }
 ],
 "metadata": {
  "kernelspec": {
   "display_name": "Python 3",
   "language": "python",
   "name": "python3"
  },
  "language_info": {
   "codemirror_mode": {
    "name": "ipython",
    "version": 3
   },
   "file_extension": ".py",
   "mimetype": "text/x-python",
   "name": "python",
   "nbconvert_exporter": "python",
   "pygments_lexer": "ipython3",
   "version": "3.8.8"
  }
 },
 "nbformat": 4,
 "nbformat_minor": 5
}
