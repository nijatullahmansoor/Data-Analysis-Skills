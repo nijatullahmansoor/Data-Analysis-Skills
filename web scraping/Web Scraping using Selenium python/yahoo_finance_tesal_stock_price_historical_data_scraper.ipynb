{
 "cells": [
  {
   "cell_type": "markdown",
   "id": "spectacular-spring",
   "metadata": {},
   "source": [
    "# finance.yahoo.com data scraper"
   ]
  },
  {
   "cell_type": "markdown",
   "id": "ongoing-viewer",
   "metadata": {},
   "source": [
    "In this notebook we  will scrap tesla stock price data from <a href='https://finance.yahoo.com/'>finance.yahoo.com</a>. everything will be programed for example searching the tesla data and selecting `Time Period` for example `:Oct 29, 2010 - Aug 28, 2021`, `Show`: for example `Historical Prices` and `Frequency` for example Daily, weekly and Monthly. and scrolling down to load all the data. and finally we will get the data and create a `.csv` file."
   ]
  },
  {
   "cell_type": "markdown",
   "id": "recovered-plant",
   "metadata": {},
   "source": [
    "Let's import the required library."
   ]
  },
  {
   "cell_type": "code",
   "execution_count": 116,
   "id": "rocky-dividend",
   "metadata": {},
   "outputs": [],
   "source": [
    "from selenium import webdriver\n",
    "import time\n",
    "import pandas as pd\n",
    "from selenium.common.exceptions import NoSuchElementException\n",
    "from selenium.webdriver.common.keys import Keys\n",
    "from selenium.webdriver.support.select import Select"
   ]
  },
  {
   "cell_type": "markdown",
   "id": "quick-square",
   "metadata": {},
   "source": [
    "path of the driver."
   ]
  },
  {
   "cell_type": "code",
   "execution_count": 127,
   "id": "healthy-child",
   "metadata": {},
   "outputs": [],
   "source": [
    "path = r'C:\\Users\\nijat\\Desktop\\Data Science\\Preparation For Interview\\Technicl Skil\\web Scraping\\Chromedriver'\n",
    "driver = webdriver.Chrome(path)"
   ]
  },
  {
   "cell_type": "markdown",
   "id": "confident-attempt",
   "metadata": {},
   "source": [
    "url for the finanace.yahoo.come "
   ]
  },
  {
   "cell_type": "code",
   "execution_count": 128,
   "id": "permanent-fiber",
   "metadata": {},
   "outputs": [],
   "source": [
    "url = 'https://finance.yahoo.com/'"
   ]
  },
  {
   "cell_type": "code",
   "execution_count": 129,
   "id": "stunning-rocket",
   "metadata": {},
   "outputs": [],
   "source": [
    "driver.get(url)"
   ]
  },
  {
   "cell_type": "markdown",
   "id": "outer-belly",
   "metadata": {},
   "source": [
    "Let's send data to the search key. to do this we need to find the search bar first."
   ]
  },
  {
   "cell_type": "code",
   "execution_count": 130,
   "id": "municipal-tribe",
   "metadata": {},
   "outputs": [],
   "source": [
    "search_bar = driver.find_element_by_id(\"yfin-usr-qry\")\n",
    "search_bar.send_keys(\"Tesla\")"
   ]
  },
  {
   "cell_type": "markdown",
   "id": "professional-warning",
   "metadata": {},
   "source": [
    "Now we need to click the search button."
   ]
  },
  {
   "cell_type": "code",
   "execution_count": 131,
   "id": "played-cocktail",
   "metadata": {},
   "outputs": [],
   "source": [
    "search_button = driver.find_element_by_id(\"header-desktop-search-button\")\n",
    "search_button.click()"
   ]
  },
  {
   "cell_type": "markdown",
   "id": "interim-grave",
   "metadata": {},
   "source": [
    "Now let's click on the Summary `Historical Data` tab."
   ]
  },
  {
   "cell_type": "code",
   "execution_count": 132,
   "id": "catholic-south",
   "metadata": {},
   "outputs": [],
   "source": [
    "historical_data = driver.find_element_by_xpath('//*[@id=\"quote-nav\"]/ul/li[5]/a/span')\n",
    "historical_data.click()"
   ]
  },
  {
   "cell_type": "markdown",
   "id": "sharp-twist",
   "metadata": {},
   "source": [
    "Let's select the the time period. "
   ]
  },
  {
   "cell_type": "code",
   "execution_count": 134,
   "id": "supposed-watson",
   "metadata": {},
   "outputs": [],
   "source": [
    "time_priod = driver.find_element_by_xpath(\"//span[contains(@class,'C($linkColor) Fz(14px)')]\")\n",
    "time_priod.click()"
   ]
  },
  {
   "cell_type": "markdown",
   "id": "grand-accused",
   "metadata": {},
   "source": [
    "Now let's select the start and end date."
   ]
  },
  {
   "cell_type": "code",
   "execution_count": 135,
   "id": "endangered-damages",
   "metadata": {},
   "outputs": [],
   "source": [
    "time.sleep(5)\n",
    "time_priod = driver.find_element_by_xpath(\"//span[contains(@class,'C($linkColor) Fz(14px)')]\")\n",
    "time_priod.click()\n",
    "start_date = driver.find_element_by_xpath('/html/body/div[1]/div/div/div[1]/div/div[3]/div[1]/div/div[2]/section/div[1]/div[1]/div[1]/div/div/div/div/div/div[1]/input')\n",
    "start_date.click()\n"
   ]
  },
  {
   "cell_type": "markdown",
   "id": "designed-member",
   "metadata": {},
   "source": [
    "Hence we don't have any code for this to select using selenium I have tried but couldn't figure it out. let select this manualy.\n",
    "we will seelect all this opetion manually."
   ]
  },
  {
   "cell_type": "markdown",
   "id": "tracked-leonard",
   "metadata": {},
   "source": [
    "after selecting manually we got this url\n",
    "\n",
    "https://finance.yahoo.com/quote/TSLA/history?period1=1280275200&period2=1630108800&interval=1d&filter=history&frequency=1d&includeAdjustedClose=true"
   ]
  },
  {
   "cell_type": "code",
   "execution_count": 163,
   "id": "simple-albany",
   "metadata": {},
   "outputs": [],
   "source": [
    "url = 'https://finance.yahoo.com/quote/TSLA/history?period1=1280275200&period2=1630108800&interval=1d&filter=history&frequency=1d&includeAdjustedClose=true'\n",
    "\n",
    "driver.get(url)"
   ]
  },
  {
   "cell_type": "markdown",
   "id": "guided-sentence",
   "metadata": {},
   "source": [
    "if we get data directly from this we won't be able to get all the data but let's first load all the data and then we will get the data. to do this we need to scroll down till the end of the page to lead all the data and then we will get the data. so now let's scroll down. "
   ]
  },
  {
   "cell_type": "code",
   "execution_count": 165,
   "id": "cloudy-harrison",
   "metadata": {},
   "outputs": [],
   "source": [
    "j=0\n",
    "for i in range(30):\n",
    "    i=i*20000\n",
    "    text = \"window.scrollTo({start}, {end})\".format(start = j, end = i)\n",
    "    driver.execute_script(text)\n",
    "    #just give some time to load the \n",
    "    time.sleep(1)\n",
    "    j = i\n",
    "    i=0"
   ]
  },
  {
   "cell_type": "markdown",
   "id": "supported-subcommittee",
   "metadata": {},
   "source": [
    "Just addjust the range as per your requirement."
   ]
  },
  {
   "cell_type": "markdown",
   "id": "rolled-welsh",
   "metadata": {},
   "source": [
    "Now let's get the table data. "
   ]
  },
  {
   "cell_type": "code",
   "execution_count": 166,
   "id": "corresponding-scenario",
   "metadata": {},
   "outputs": [],
   "source": [
    "table_data = driver.find_element_by_xpath(\"//table[contains(@class,'W(100%) M(0)')]\")"
   ]
  },
  {
   "cell_type": "markdown",
   "id": "advanced-supplement",
   "metadata": {},
   "source": [
    "Let's get the table columns name and stor in a list."
   ]
  },
  {
   "cell_type": "code",
   "execution_count": 167,
   "id": "confident-violence",
   "metadata": {},
   "outputs": [],
   "source": [
    "columns_names = []"
   ]
  },
  {
   "cell_type": "code",
   "execution_count": 168,
   "id": "spoken-candy",
   "metadata": {},
   "outputs": [],
   "source": [
    "table_header = table_data.find_element_by_xpath('//*[@id=\"Col1-1-HistoricalDataTable-Proxy\"]/section/div[2]/table/thead')\n",
    "\n",
    "columns = table_header.find_element_by_xpath('//*[@id=\"Col1-1-HistoricalDataTable-Proxy\"]/section/div[2]/table/thead/tr')\n",
    "\n",
    "for column in columns.find_elements_by_tag_name('span'):\n",
    "    columns_names.append(column.text)"
   ]
  },
  {
   "cell_type": "code",
   "execution_count": 169,
   "id": "revised-great",
   "metadata": {},
   "outputs": [
    {
     "data": {
      "text/plain": [
       "['Date', 'Open', 'High', 'Low', 'Close*', 'Adj Close**', 'Volume']"
      ]
     },
     "execution_count": 169,
     "metadata": {},
     "output_type": "execute_result"
    }
   ],
   "source": [
    "columns_names"
   ]
  },
  {
   "cell_type": "markdown",
   "id": "historical-ratio",
   "metadata": {},
   "source": [
    "Now let's go throw the row by row and get the data from it."
   ]
  },
  {
   "cell_type": "code",
   "execution_count": 170,
   "id": "matched-novelty",
   "metadata": {},
   "outputs": [],
   "source": [
    "table_body = table_data.find_element_by_tag_name('tbody')"
   ]
  },
  {
   "cell_type": "code",
   "execution_count": 171,
   "id": "developing-vault",
   "metadata": {},
   "outputs": [],
   "source": [
    "table_rows = table_body.find_elements_by_tag_name('tr')"
   ]
  },
  {
   "cell_type": "code",
   "execution_count": 172,
   "id": "hired-interview",
   "metadata": {},
   "outputs": [],
   "source": [
    "date = []\n",
    "Open = []\n",
    "high = []\n",
    "low = []\n",
    "close = []\n",
    "adj_close = []\n",
    "volume = []"
   ]
  },
  {
   "cell_type": "code",
   "execution_count": 173,
   "id": "unusual-income",
   "metadata": {},
   "outputs": [],
   "source": [
    "for rows in table_rows:\n",
    "    i=0\n",
    "    for element in rows.find_elements_by_tag_name('span'):\n",
    "        if i==0:\n",
    "            try:\n",
    "                date.append(element.text)\n",
    "                i=1\n",
    "            except NoSuchElementException:\n",
    "                data.append(None)\n",
    "                i=1\n",
    "        elif i==1:\n",
    "            try:\n",
    "                Open.append(element.text)\n",
    "                i=2\n",
    "            except NoSuchElementException:\n",
    "                Open.append(None)\n",
    "                i=2\n",
    "        elif i==2:\n",
    "            try:\n",
    "                high.append(element.text)\n",
    "                i=3\n",
    "            except NoSuchElementException:\n",
    "                high.append(None)\n",
    "                i=3\n",
    "        elif i==3:\n",
    "            try:\n",
    "                low.append(element.text)\n",
    "                i=4\n",
    "            except NoSuchElementException:\n",
    "                low.append(None)\n",
    "                i=4\n",
    "        elif i==4:\n",
    "            try:\n",
    "                close.append(element.text)\n",
    "                i=5\n",
    "            except NoSuchElementException:\n",
    "                close.append(None)\n",
    "                i=5\n",
    "        elif i==5:\n",
    "            try:\n",
    "                adj_close.append(element.text)\n",
    "                i=6\n",
    "            except NoSuchElementException:\n",
    "                adj_close.append(None)\n",
    "                i=6\n",
    "        elif i==6:\n",
    "            try:\n",
    "                volume.append(element.text)\n",
    "            except NoSuchElementException:\n",
    "                volume.append(None)\n",
    "                "
   ]
  },
  {
   "cell_type": "code",
   "execution_count": 203,
   "id": "adult-indian",
   "metadata": {},
   "outputs": [],
   "source": [
    "df = pd.DataFrame(columns=columns_names)"
   ]
  },
  {
   "cell_type": "code",
   "execution_count": 204,
   "id": "demanding-contract",
   "metadata": {},
   "outputs": [
    {
     "data": {
      "text/html": [
       "<div>\n",
       "<style scoped>\n",
       "    .dataframe tbody tr th:only-of-type {\n",
       "        vertical-align: middle;\n",
       "    }\n",
       "\n",
       "    .dataframe tbody tr th {\n",
       "        vertical-align: top;\n",
       "    }\n",
       "\n",
       "    .dataframe thead th {\n",
       "        text-align: right;\n",
       "    }\n",
       "</style>\n",
       "<table border=\"1\" class=\"dataframe\">\n",
       "  <thead>\n",
       "    <tr style=\"text-align: right;\">\n",
       "      <th></th>\n",
       "      <th>Date</th>\n",
       "      <th>Open</th>\n",
       "      <th>High</th>\n",
       "      <th>Low</th>\n",
       "      <th>Close*</th>\n",
       "      <th>Adj Close**</th>\n",
       "      <th>Volume</th>\n",
       "    </tr>\n",
       "  </thead>\n",
       "  <tbody>\n",
       "  </tbody>\n",
       "</table>\n",
       "</div>"
      ],
      "text/plain": [
       "Empty DataFrame\n",
       "Columns: [Date, Open, High, Low, Close*, Adj Close**, Volume]\n",
       "Index: []"
      ]
     },
     "execution_count": 204,
     "metadata": {},
     "output_type": "execute_result"
    }
   ],
   "source": [
    "df"
   ]
  },
  {
   "cell_type": "code",
   "execution_count": 197,
   "id": "urban-positive",
   "metadata": {},
   "outputs": [],
   "source": [
    "date = date[:-1]"
   ]
  },
  {
   "cell_type": "code",
   "execution_count": 191,
   "id": "fleet-faith",
   "metadata": {},
   "outputs": [],
   "source": [
    "volume = volume[:-1]"
   ]
  },
  {
   "cell_type": "code",
   "execution_count": 200,
   "id": "foster-temple",
   "metadata": {},
   "outputs": [],
   "source": [
    "Open = Open[:-1]"
   ]
  },
  {
   "cell_type": "code",
   "execution_count": 205,
   "id": "emerging-master",
   "metadata": {},
   "outputs": [],
   "source": [
    "df['Date'] = date\n",
    "df['Open'] = Open\n",
    "df['High'] = high\n",
    "df['Low'] = low\n",
    "df['Close*'] = close\n",
    "df['Adj Close**'] = adj_close\n",
    "df['Volume'] = volume"
   ]
  },
  {
   "cell_type": "code",
   "execution_count": 206,
   "id": "fatal-thailand",
   "metadata": {},
   "outputs": [
    {
     "data": {
      "text/html": [
       "<div>\n",
       "<style scoped>\n",
       "    .dataframe tbody tr th:only-of-type {\n",
       "        vertical-align: middle;\n",
       "    }\n",
       "\n",
       "    .dataframe tbody tr th {\n",
       "        vertical-align: top;\n",
       "    }\n",
       "\n",
       "    .dataframe thead th {\n",
       "        text-align: right;\n",
       "    }\n",
       "</style>\n",
       "<table border=\"1\" class=\"dataframe\">\n",
       "  <thead>\n",
       "    <tr style=\"text-align: right;\">\n",
       "      <th></th>\n",
       "      <th>Date</th>\n",
       "      <th>Open</th>\n",
       "      <th>High</th>\n",
       "      <th>Low</th>\n",
       "      <th>Close*</th>\n",
       "      <th>Adj Close**</th>\n",
       "      <th>Volume</th>\n",
       "    </tr>\n",
       "  </thead>\n",
       "  <tbody>\n",
       "    <tr>\n",
       "      <th>0</th>\n",
       "      <td>Aug 27, 2021</td>\n",
       "      <td>705.00</td>\n",
       "      <td>715.00</td>\n",
       "      <td>702.10</td>\n",
       "      <td>711.92</td>\n",
       "      <td>711.92</td>\n",
       "      <td>13,762,100</td>\n",
       "    </tr>\n",
       "    <tr>\n",
       "      <th>1</th>\n",
       "      <td>Aug 26, 2021</td>\n",
       "      <td>708.31</td>\n",
       "      <td>715.40</td>\n",
       "      <td>697.62</td>\n",
       "      <td>701.16</td>\n",
       "      <td>701.16</td>\n",
       "      <td>13,214,300</td>\n",
       "    </tr>\n",
       "    <tr>\n",
       "      <th>2</th>\n",
       "      <td>Aug 25, 2021</td>\n",
       "      <td>707.03</td>\n",
       "      <td>716.97</td>\n",
       "      <td>704.00</td>\n",
       "      <td>711.20</td>\n",
       "      <td>711.20</td>\n",
       "      <td>12,645,600</td>\n",
       "    </tr>\n",
       "    <tr>\n",
       "      <th>3</th>\n",
       "      <td>Aug 24, 2021</td>\n",
       "      <td>710.68</td>\n",
       "      <td>715.22</td>\n",
       "      <td>702.64</td>\n",
       "      <td>708.49</td>\n",
       "      <td>708.49</td>\n",
       "      <td>13,083,100</td>\n",
       "    </tr>\n",
       "    <tr>\n",
       "      <th>4</th>\n",
       "      <td>Aug 23, 2021</td>\n",
       "      <td>685.44</td>\n",
       "      <td>712.13</td>\n",
       "      <td>680.75</td>\n",
       "      <td>706.30</td>\n",
       "      <td>706.30</td>\n",
       "      <td>20,264,900</td>\n",
       "    </tr>\n",
       "    <tr>\n",
       "      <th>...</th>\n",
       "      <td>...</td>\n",
       "      <td>...</td>\n",
       "      <td>...</td>\n",
       "      <td>...</td>\n",
       "      <td>...</td>\n",
       "      <td>...</td>\n",
       "      <td>...</td>\n",
       "    </tr>\n",
       "    <tr>\n",
       "      <th>2787</th>\n",
       "      <td>Aug 04, 2010</td>\n",
       "      <td>4.39</td>\n",
       "      <td>4.39</td>\n",
       "      <td>4.16</td>\n",
       "      <td>4.39</td>\n",
       "      <td>4.39</td>\n",
       "      <td>6,152,500</td>\n",
       "    </tr>\n",
       "    <tr>\n",
       "      <th>2788</th>\n",
       "      <td>Aug 03, 2010</td>\n",
       "      <td>4.20</td>\n",
       "      <td>4.19</td>\n",
       "      <td>4.07</td>\n",
       "      <td>4.18</td>\n",
       "      <td>4.18</td>\n",
       "      <td>3,590,500</td>\n",
       "    </tr>\n",
       "    <tr>\n",
       "      <th>2789</th>\n",
       "      <td>Aug 02, 2010</td>\n",
       "      <td>4.10</td>\n",
       "      <td>4.09</td>\n",
       "      <td>3.91</td>\n",
       "      <td>3.99</td>\n",
       "      <td>3.99</td>\n",
       "      <td>2,134,500</td>\n",
       "    </tr>\n",
       "    <tr>\n",
       "      <th>2790</th>\n",
       "      <td>Jul 30, 2010</td>\n",
       "      <td>4.04</td>\n",
       "      <td>4.18</td>\n",
       "      <td>4.00</td>\n",
       "      <td>4.07</td>\n",
       "      <td>4.07</td>\n",
       "      <td>3,080,000</td>\n",
       "    </tr>\n",
       "    <tr>\n",
       "      <th>2791</th>\n",
       "      <td>Jul 29, 2010</td>\n",
       "      <td>4.15</td>\n",
       "      <td>4.18</td>\n",
       "      <td>4.10</td>\n",
       "      <td>4.14</td>\n",
       "      <td>4.14</td>\n",
       "      <td>2,336,000</td>\n",
       "    </tr>\n",
       "  </tbody>\n",
       "</table>\n",
       "<p>2792 rows × 7 columns</p>\n",
       "</div>"
      ],
      "text/plain": [
       "              Date    Open    High     Low  Close* Adj Close**      Volume\n",
       "0     Aug 27, 2021  705.00  715.00  702.10  711.92      711.92  13,762,100\n",
       "1     Aug 26, 2021  708.31  715.40  697.62  701.16      701.16  13,214,300\n",
       "2     Aug 25, 2021  707.03  716.97  704.00  711.20      711.20  12,645,600\n",
       "3     Aug 24, 2021  710.68  715.22  702.64  708.49      708.49  13,083,100\n",
       "4     Aug 23, 2021  685.44  712.13  680.75  706.30      706.30  20,264,900\n",
       "...            ...     ...     ...     ...     ...         ...         ...\n",
       "2787  Aug 04, 2010    4.39    4.39    4.16    4.39        4.39   6,152,500\n",
       "2788  Aug 03, 2010    4.20    4.19    4.07    4.18        4.18   3,590,500\n",
       "2789  Aug 02, 2010    4.10    4.09    3.91    3.99        3.99   2,134,500\n",
       "2790  Jul 30, 2010    4.04    4.18    4.00    4.07        4.07   3,080,000\n",
       "2791  Jul 29, 2010    4.15    4.18    4.10    4.14        4.14   2,336,000\n",
       "\n",
       "[2792 rows x 7 columns]"
      ]
     },
     "execution_count": 206,
     "metadata": {},
     "output_type": "execute_result"
    }
   ],
   "source": [
    "df"
   ]
  },
  {
   "cell_type": "markdown",
   "id": "residential-delivery",
   "metadata": {},
   "source": [
    "Let's covert this to a `.csv` file."
   ]
  },
  {
   "cell_type": "code",
   "execution_count": 210,
   "id": "sharing-overview",
   "metadata": {},
   "outputs": [],
   "source": [
    "df.to_csv('yahoo_finance_tesla.csv',index=False)"
   ]
  },
  {
   "cell_type": "code",
   "execution_count": 208,
   "id": "photographic-madrid",
   "metadata": {},
   "outputs": [],
   "source": [
    "yahoo_df = pd.read_csv('yahoo_finance_tesla.csv')"
   ]
  },
  {
   "cell_type": "code",
   "execution_count": 209,
   "id": "decimal-gallery",
   "metadata": {},
   "outputs": [
    {
     "data": {
      "text/html": [
       "<div>\n",
       "<style scoped>\n",
       "    .dataframe tbody tr th:only-of-type {\n",
       "        vertical-align: middle;\n",
       "    }\n",
       "\n",
       "    .dataframe tbody tr th {\n",
       "        vertical-align: top;\n",
       "    }\n",
       "\n",
       "    .dataframe thead th {\n",
       "        text-align: right;\n",
       "    }\n",
       "</style>\n",
       "<table border=\"1\" class=\"dataframe\">\n",
       "  <thead>\n",
       "    <tr style=\"text-align: right;\">\n",
       "      <th></th>\n",
       "      <th>Date</th>\n",
       "      <th>Open</th>\n",
       "      <th>High</th>\n",
       "      <th>Low</th>\n",
       "      <th>Close*</th>\n",
       "      <th>Adj Close**</th>\n",
       "      <th>Volume</th>\n",
       "    </tr>\n",
       "  </thead>\n",
       "  <tbody>\n",
       "    <tr>\n",
       "      <th>0</th>\n",
       "      <td>Aug 27, 2021</td>\n",
       "      <td>705.00</td>\n",
       "      <td>715.00</td>\n",
       "      <td>702.10</td>\n",
       "      <td>711.92</td>\n",
       "      <td>711.92</td>\n",
       "      <td>13,762,100</td>\n",
       "    </tr>\n",
       "    <tr>\n",
       "      <th>1</th>\n",
       "      <td>Aug 26, 2021</td>\n",
       "      <td>708.31</td>\n",
       "      <td>715.40</td>\n",
       "      <td>697.62</td>\n",
       "      <td>701.16</td>\n",
       "      <td>701.16</td>\n",
       "      <td>13,214,300</td>\n",
       "    </tr>\n",
       "    <tr>\n",
       "      <th>2</th>\n",
       "      <td>Aug 25, 2021</td>\n",
       "      <td>707.03</td>\n",
       "      <td>716.97</td>\n",
       "      <td>704.00</td>\n",
       "      <td>711.20</td>\n",
       "      <td>711.20</td>\n",
       "      <td>12,645,600</td>\n",
       "    </tr>\n",
       "    <tr>\n",
       "      <th>3</th>\n",
       "      <td>Aug 24, 2021</td>\n",
       "      <td>710.68</td>\n",
       "      <td>715.22</td>\n",
       "      <td>702.64</td>\n",
       "      <td>708.49</td>\n",
       "      <td>708.49</td>\n",
       "      <td>13,083,100</td>\n",
       "    </tr>\n",
       "    <tr>\n",
       "      <th>4</th>\n",
       "      <td>Aug 23, 2021</td>\n",
       "      <td>685.44</td>\n",
       "      <td>712.13</td>\n",
       "      <td>680.75</td>\n",
       "      <td>706.30</td>\n",
       "      <td>706.30</td>\n",
       "      <td>20,264,900</td>\n",
       "    </tr>\n",
       "    <tr>\n",
       "      <th>...</th>\n",
       "      <td>...</td>\n",
       "      <td>...</td>\n",
       "      <td>...</td>\n",
       "      <td>...</td>\n",
       "      <td>...</td>\n",
       "      <td>...</td>\n",
       "      <td>...</td>\n",
       "    </tr>\n",
       "    <tr>\n",
       "      <th>2787</th>\n",
       "      <td>Aug 04, 2010</td>\n",
       "      <td>4.39</td>\n",
       "      <td>4.39</td>\n",
       "      <td>4.16</td>\n",
       "      <td>4.39</td>\n",
       "      <td>4.39</td>\n",
       "      <td>6,152,500</td>\n",
       "    </tr>\n",
       "    <tr>\n",
       "      <th>2788</th>\n",
       "      <td>Aug 03, 2010</td>\n",
       "      <td>4.20</td>\n",
       "      <td>4.19</td>\n",
       "      <td>4.07</td>\n",
       "      <td>4.18</td>\n",
       "      <td>4.18</td>\n",
       "      <td>3,590,500</td>\n",
       "    </tr>\n",
       "    <tr>\n",
       "      <th>2789</th>\n",
       "      <td>Aug 02, 2010</td>\n",
       "      <td>4.10</td>\n",
       "      <td>4.09</td>\n",
       "      <td>3.91</td>\n",
       "      <td>3.99</td>\n",
       "      <td>3.99</td>\n",
       "      <td>2,134,500</td>\n",
       "    </tr>\n",
       "    <tr>\n",
       "      <th>2790</th>\n",
       "      <td>Jul 30, 2010</td>\n",
       "      <td>4.04</td>\n",
       "      <td>4.18</td>\n",
       "      <td>4.00</td>\n",
       "      <td>4.07</td>\n",
       "      <td>4.07</td>\n",
       "      <td>3,080,000</td>\n",
       "    </tr>\n",
       "    <tr>\n",
       "      <th>2791</th>\n",
       "      <td>Jul 29, 2010</td>\n",
       "      <td>4.15</td>\n",
       "      <td>4.18</td>\n",
       "      <td>4.10</td>\n",
       "      <td>4.14</td>\n",
       "      <td>4.14</td>\n",
       "      <td>2,336,000</td>\n",
       "    </tr>\n",
       "  </tbody>\n",
       "</table>\n",
       "<p>2792 rows × 7 columns</p>\n",
       "</div>"
      ],
      "text/plain": [
       "              Date    Open    High     Low  Close*  Adj Close**      Volume\n",
       "0     Aug 27, 2021  705.00  715.00  702.10  711.92       711.92  13,762,100\n",
       "1     Aug 26, 2021  708.31  715.40  697.62  701.16       701.16  13,214,300\n",
       "2     Aug 25, 2021  707.03  716.97  704.00  711.20       711.20  12,645,600\n",
       "3     Aug 24, 2021  710.68  715.22  702.64  708.49       708.49  13,083,100\n",
       "4     Aug 23, 2021  685.44  712.13  680.75  706.30       706.30  20,264,900\n",
       "...            ...     ...     ...     ...     ...          ...         ...\n",
       "2787  Aug 04, 2010    4.39    4.39    4.16    4.39         4.39   6,152,500\n",
       "2788  Aug 03, 2010    4.20    4.19    4.07    4.18         4.18   3,590,500\n",
       "2789  Aug 02, 2010    4.10    4.09    3.91    3.99         3.99   2,134,500\n",
       "2790  Jul 30, 2010    4.04    4.18    4.00    4.07         4.07   3,080,000\n",
       "2791  Jul 29, 2010    4.15    4.18    4.10    4.14         4.14   2,336,000\n",
       "\n",
       "[2792 rows x 7 columns]"
      ]
     },
     "execution_count": 209,
     "metadata": {},
     "output_type": "execute_result"
    }
   ],
   "source": [
    "yahoo_df"
   ]
  },
  {
   "cell_type": "code",
   "execution_count": null,
   "id": "silent-given",
   "metadata": {},
   "outputs": [],
   "source": []
  }
 ],
 "metadata": {
  "kernelspec": {
   "display_name": "Python 3",
   "language": "python",
   "name": "python3"
  },
  "language_info": {
   "codemirror_mode": {
    "name": "ipython",
    "version": 3
   },
   "file_extension": ".py",
   "mimetype": "text/x-python",
   "name": "python",
   "nbconvert_exporter": "python",
   "pygments_lexer": "ipython3",
   "version": "3.8.8"
  }
 },
 "nbformat": 4,
 "nbformat_minor": 5
}
