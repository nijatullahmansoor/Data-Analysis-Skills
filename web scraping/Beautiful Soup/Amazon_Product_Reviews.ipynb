{
 "cells": [
  {
   "cell_type": "markdown",
   "id": "floppy-imaging",
   "metadata": {},
   "source": [
    "## Amazon Product Reviews\n",
    "\n",
    "\n",
    "#### Author : Nijatullah Mansoor\n",
    "#### Date   : 08/26/2021\n",
    "\n",
    "We will bre get the product reviews from amazon.com comercial website with the help of BeautifulSoup library. \n",
    "\n",
    "<img src='pic1.png' hight=200, width=200>\n",
    "\n",
    "`Samsung Galaxy M31 (Ocean Blue, 6GB RAM, 128GB Storage)`\n",
    "\n",
    "We will get the following data of the usr of 1000 users. from the amazo website.\n",
    "\n",
    "- name of the user \n",
    "- rating of the product by the user\n",
    "- Comment Title\n",
    "- Comment body/Description\n",
    "- Date of comment\n",
    "- How many people found this helpful"
   ]
  },
  {
   "cell_type": "markdown",
   "id": "distinguished-lindsay",
   "metadata": {},
   "source": [
    "Let's import the required library."
   ]
  },
  {
   "cell_type": "code",
   "execution_count": 1,
   "id": "eleven-expansion",
   "metadata": {},
   "outputs": [],
   "source": [
    "import pandas as pd\n",
    "from bs4 import BeautifulSoup\n",
    "import requests\n"
   ]
  },
  {
   "cell_type": "markdown",
   "id": "located-expression",
   "metadata": {},
   "source": [
    "Let's create url for the whole reviews. "
   ]
  },
  {
   "cell_type": "code",
   "execution_count": 2,
   "id": "political-heart",
   "metadata": {},
   "outputs": [],
   "source": [
    "url = 'https://www.amazon.in/Samsung-Galaxy-Ocean-128GB-Storage/product-reviews/B07HGGYWL6/ref=cm_cr_arp_d_viewopt_srt?ie=UTF8&reviewerType=all_reviews&pageNumber=1&sortBy=helpful'"
   ]
  },
  {
   "cell_type": "code",
   "execution_count": 3,
   "id": "coupled-validation",
   "metadata": {},
   "outputs": [],
   "source": [
    "page = requests.get(url)"
   ]
  },
  {
   "cell_type": "code",
   "execution_count": 4,
   "id": "animal-external",
   "metadata": {},
   "outputs": [
    {
     "data": {
      "text/plain": [
       "<Response [200]>"
      ]
     },
     "execution_count": 4,
     "metadata": {},
     "output_type": "execute_result"
    }
   ],
   "source": [
    "page"
   ]
  },
  {
   "cell_type": "markdown",
   "id": "graphic-folder",
   "metadata": {},
   "source": [
    "The HTTP 200 OK success status response code indicates that the request has succeeded."
   ]
  },
  {
   "cell_type": "code",
   "execution_count": 5,
   "id": "successful-holly",
   "metadata": {},
   "outputs": [
    {
     "data": {
      "text/plain": [
       "<Response [200]>"
      ]
     },
     "execution_count": 5,
     "metadata": {},
     "output_type": "execute_result"
    }
   ],
   "source": [
    "page"
   ]
  },
  {
   "cell_type": "markdown",
   "id": "going-corner",
   "metadata": {},
   "source": [
    "Let's convert this to a `BeautifulSoup` type."
   ]
  },
  {
   "cell_type": "code",
   "execution_count": 6,
   "id": "surprised-flashing",
   "metadata": {},
   "outputs": [],
   "source": [
    "soup = BeautifulSoup(page.content,'html.parser')"
   ]
  },
  {
   "cell_type": "code",
   "execution_count": 7,
   "id": "faced-environment",
   "metadata": {},
   "outputs": [
    {
     "data": {
      "text/plain": [
       "bs4.BeautifulSoup"
      ]
     },
     "execution_count": 7,
     "metadata": {},
     "output_type": "execute_result"
    }
   ],
   "source": [
    "type(soup)"
   ]
  },
  {
   "cell_type": "markdown",
   "id": "circular-photography",
   "metadata": {},
   "source": [
    "So now we have BeautifulSoup() object."
   ]
  },
  {
   "cell_type": "markdown",
   "id": "sudden-knitting",
   "metadata": {},
   "source": [
    "### Name:\n",
    "Let's get first the user name who commented on this product."
   ]
  },
  {
   "cell_type": "code",
   "execution_count": 8,
   "id": "approved-republican",
   "metadata": {},
   "outputs": [],
   "source": [
    "list_of_review = soup.find('div',id='cm_cr-review_list')"
   ]
  },
  {
   "cell_type": "code",
   "execution_count": 9,
   "id": "current-activation",
   "metadata": {},
   "outputs": [
    {
     "data": {
      "text/plain": [
       "bs4.element.Tag"
      ]
     },
     "execution_count": 9,
     "metadata": {},
     "output_type": "execute_result"
    }
   ],
   "source": [
    "type(list_of_review)"
   ]
  },
  {
   "cell_type": "code",
   "execution_count": 10,
   "id": "several-convert",
   "metadata": {},
   "outputs": [],
   "source": [
    "teen_user = list_of_review.find_all('div',class_='a-section review aok-relative')"
   ]
  },
  {
   "cell_type": "code",
   "execution_count": 11,
   "id": "preliminary-claim",
   "metadata": {},
   "outputs": [
    {
     "data": {
      "text/plain": [
       "10"
      ]
     },
     "execution_count": 11,
     "metadata": {},
     "output_type": "execute_result"
    }
   ],
   "source": [
    "len(teen_user)"
   ]
  },
  {
   "cell_type": "code",
   "execution_count": 12,
   "id": "laughing-shopping",
   "metadata": {},
   "outputs": [
    {
     "name": "stdout",
     "output_type": "stream",
     "text": [
      "Ajay KS\n",
      "shailesh\n",
      "surojit das\n",
      "Riddham Jain\n",
      "Abhinav\n",
      "Anshul\n",
      "abin abraham\n",
      "Akshaykumar Patil\n",
      "Veerababu Puli\n",
      "TUSHAR GOMASE\n"
     ]
    }
   ],
   "source": [
    "for user in teen_user:\n",
    "    print(user.find('span',class_='a-profile-name').text)"
   ]
  },
  {
   "cell_type": "markdown",
   "id": "fatal-shirt",
   "metadata": {},
   "source": [
    "Let's store these users names in list."
   ]
  },
  {
   "cell_type": "code",
   "execution_count": 13,
   "id": "substantial-permit",
   "metadata": {},
   "outputs": [],
   "source": [
    "user_name = []\n",
    "for user in teen_user:\n",
    "    user_name.append(user.find('span',class_='a-profile-name').text)"
   ]
  },
  {
   "cell_type": "code",
   "execution_count": 14,
   "id": "perceived-simple",
   "metadata": {},
   "outputs": [
    {
     "data": {
      "text/plain": [
       "['Ajay KS',\n",
       " 'shailesh',\n",
       " 'surojit das',\n",
       " 'Riddham Jain',\n",
       " 'Abhinav',\n",
       " 'Anshul',\n",
       " 'abin abraham',\n",
       " 'Akshaykumar Patil',\n",
       " 'Veerababu Puli',\n",
       " 'TUSHAR GOMASE']"
      ]
     },
     "execution_count": 14,
     "metadata": {},
     "output_type": "execute_result"
    }
   ],
   "source": [
    "user_name"
   ]
  },
  {
   "cell_type": "code",
   "execution_count": 15,
   "id": "daily-cowboy",
   "metadata": {},
   "outputs": [
    {
     "data": {
      "text/plain": [
       "10"
      ]
     },
     "execution_count": 15,
     "metadata": {},
     "output_type": "execute_result"
    }
   ],
   "source": [
    "len(user_name)"
   ]
  },
  {
   "cell_type": "markdown",
   "id": "received-isaac",
   "metadata": {},
   "source": [
    "#### Let's get rating of product by the user."
   ]
  },
  {
   "cell_type": "code",
   "execution_count": 16,
   "id": "fewer-joshua",
   "metadata": {},
   "outputs": [
    {
     "ename": "AttributeError",
     "evalue": "ResultSet object has no attribute 'find_all'. You're probably treating a list of elements like a single element. Did you call find_all() when you meant to call find()?",
     "output_type": "error",
     "traceback": [
      "\u001b[1;31m---------------------------------------------------------------------------\u001b[0m",
      "\u001b[1;31mAttributeError\u001b[0m                            Traceback (most recent call last)",
      "\u001b[1;32m<ipython-input-16-8e369ddef226>\u001b[0m in \u001b[0;36m<module>\u001b[1;34m\u001b[0m\n\u001b[1;32m----> 1\u001b[1;33m \u001b[0mratings\u001b[0m \u001b[1;33m=\u001b[0m \u001b[0mteen_user\u001b[0m\u001b[1;33m.\u001b[0m\u001b[0mfind_all\u001b[0m\u001b[1;33m(\u001b[0m\u001b[1;33m)\u001b[0m\u001b[1;33m\u001b[0m\u001b[1;33m\u001b[0m\u001b[0m\n\u001b[0m",
      "\u001b[1;32m~\\anaconda3\\lib\\site-packages\\bs4\\element.py\u001b[0m in \u001b[0;36m__getattr__\u001b[1;34m(self, key)\u001b[0m\n\u001b[0;32m   2171\u001b[0m     \u001b[1;32mdef\u001b[0m \u001b[0m__getattr__\u001b[0m\u001b[1;33m(\u001b[0m\u001b[0mself\u001b[0m\u001b[1;33m,\u001b[0m \u001b[0mkey\u001b[0m\u001b[1;33m)\u001b[0m\u001b[1;33m:\u001b[0m\u001b[1;33m\u001b[0m\u001b[1;33m\u001b[0m\u001b[0m\n\u001b[0;32m   2172\u001b[0m         \u001b[1;34m\"\"\"Raise a helpful exception to explain a common code fix.\"\"\"\u001b[0m\u001b[1;33m\u001b[0m\u001b[1;33m\u001b[0m\u001b[0m\n\u001b[1;32m-> 2173\u001b[1;33m         raise AttributeError(\n\u001b[0m\u001b[0;32m   2174\u001b[0m             \u001b[1;34m\"ResultSet object has no attribute '%s'. You're probably treating a list of elements like a single element. Did you call find_all() when you meant to call find()?\"\u001b[0m \u001b[1;33m%\u001b[0m \u001b[0mkey\u001b[0m\u001b[1;33m\u001b[0m\u001b[1;33m\u001b[0m\u001b[0m\n\u001b[0;32m   2175\u001b[0m         )\n",
      "\u001b[1;31mAttributeError\u001b[0m: ResultSet object has no attribute 'find_all'. You're probably treating a list of elements like a single element. Did you call find_all() when you meant to call find()?"
     ]
    }
   ],
   "source": [
    "ratings = teen_user.find_all()"
   ]
  },
  {
   "cell_type": "code",
   "execution_count": null,
   "id": "narrow-squad",
   "metadata": {},
   "outputs": [],
   "source": [
    "user_rating = []\n",
    "for user_rate in teen_user:\n",
    "    print(user_rate.find('span',class_='a-icon-alt').text)"
   ]
  },
  {
   "cell_type": "code",
   "execution_count": null,
   "id": "interracial-balance",
   "metadata": {},
   "outputs": [],
   "source": [
    "user_rating = []\n",
    "for user_rate in teen_user:\n",
    "    user_rating.append(user_rate.find('span',class_='a-icon-alt').text)"
   ]
  },
  {
   "cell_type": "code",
   "execution_count": null,
   "id": "exciting-imagination",
   "metadata": {},
   "outputs": [],
   "source": [
    "user_rating"
   ]
  },
  {
   "cell_type": "code",
   "execution_count": null,
   "id": "genuine-homework",
   "metadata": {},
   "outputs": [],
   "source": [
    "len(user_rating)"
   ]
  },
  {
   "cell_type": "markdown",
   "id": "conscious-breath",
   "metadata": {},
   "source": [
    "#### Comment Title\n",
    "\n",
    "Let's get the comment title."
   ]
  },
  {
   "cell_type": "code",
   "execution_count": null,
   "id": "painted-camping",
   "metadata": {},
   "outputs": [],
   "source": [
    "user_comment_titles = []\n",
    "for user_comment_title in teen_user:\n",
    "    user_comment_titles.append(user_comment_title.find('a',class_='a-size-base a-link-normal review-title a-color-base review-title-content a-text-bold').text)"
   ]
  },
  {
   "cell_type": "code",
   "execution_count": null,
   "id": "extreme-volume",
   "metadata": {},
   "outputs": [],
   "source": []
  },
  {
   "cell_type": "code",
   "execution_count": null,
   "id": "eight-blind",
   "metadata": {},
   "outputs": [],
   "source": []
  },
  {
   "cell_type": "code",
   "execution_count": null,
   "id": "pointed-lesbian",
   "metadata": {},
   "outputs": [],
   "source": [
    "len(user_comment_titles)"
   ]
  },
  {
   "cell_type": "code",
   "execution_count": null,
   "id": "maritime-resident",
   "metadata": {},
   "outputs": [],
   "source": [
    "user_comment_titles"
   ]
  },
  {
   "cell_type": "markdown",
   "id": "humanitarian-karaoke",
   "metadata": {},
   "source": [
    "We can see that we have \\n at the begining and the end of the title le'ts solve this issue."
   ]
  },
  {
   "cell_type": "code",
   "execution_count": null,
   "id": "curious-radical",
   "metadata": {},
   "outputs": [],
   "source": [
    "us = teen_user[0]\n",
    "ss = us.find('a',class_='a-size-base a-link-normal review-title a-color-base review-title-content a-text-bold')\n",
    "ss.find('span').text"
   ]
  },
  {
   "cell_type": "code",
   "execution_count": null,
   "id": "dependent-parking",
   "metadata": {},
   "outputs": [],
   "source": [
    "user_comment_titles = []\n",
    "for user_comment_title in teen_user:\n",
    "    user_comment_titles.append(user_comment_title.find('a',class_='a-size-base a-link-normal review-title a-color-base review-title-content a-text-bold').find('span').text)"
   ]
  },
  {
   "cell_type": "code",
   "execution_count": null,
   "id": "terminal-nevada",
   "metadata": {},
   "outputs": [],
   "source": [
    "user_comment_titles"
   ]
  },
  {
   "cell_type": "markdown",
   "id": "daily-speech",
   "metadata": {},
   "source": [
    "#### Comment body/Description\n",
    "\n",
    "Let's get the comment body"
   ]
  },
  {
   "cell_type": "code",
   "execution_count": null,
   "id": "present-course",
   "metadata": {},
   "outputs": [],
   "source": [
    "user_comment_body = []\n",
    "for comment_body in teen_user:\n",
    "    try:\n",
    "        cb = comment_body.find('span',class_='a-size-base review-text review-text-content').find('span')\n",
    "        for i in cb.stripped_strings:\n",
    "            user_comment_body.append(i)\n",
    "    except:\n",
    "        user_comment_body.append(None)"
   ]
  },
  {
   "cell_type": "code",
   "execution_count": null,
   "id": "refined-librarian",
   "metadata": {},
   "outputs": [],
   "source": [
    "user_comment_body"
   ]
  },
  {
   "cell_type": "code",
   "execution_count": null,
   "id": "covered-compiler",
   "metadata": {},
   "outputs": [],
   "source": [
    "x = teen_user[0]\n",
    "y = x.find('span',class_='a-size-base review-text review-text-content').find('span')\n",
    "y.text"
   ]
  },
  {
   "cell_type": "code",
   "execution_count": null,
   "id": "approved-confirmation",
   "metadata": {},
   "outputs": [],
   "source": [
    "len(user_comment_body)"
   ]
  },
  {
   "cell_type": "markdown",
   "id": "stopped-horse",
   "metadata": {},
   "source": [
    "## Date of comment\n",
    "\n",
    "Let's get date of comment "
   ]
  },
  {
   "cell_type": "code",
   "execution_count": null,
   "id": "effective-harvest",
   "metadata": {},
   "outputs": [],
   "source": [
    "comment_date = []\n",
    "for commentDate in teen_user:\n",
    "    comment_date.append(commentDate.find('span',class_='a-size-base a-color-secondary review-date').text)"
   ]
  },
  {
   "cell_type": "code",
   "execution_count": null,
   "id": "bored-geometry",
   "metadata": {},
   "outputs": [],
   "source": [
    "comment_date"
   ]
  },
  {
   "cell_type": "markdown",
   "id": "quarterly-currency",
   "metadata": {},
   "source": [
    "## How many people found this helpful"
   ]
  },
  {
   "cell_type": "code",
   "execution_count": null,
   "id": "emerging-allen",
   "metadata": {},
   "outputs": [],
   "source": [
    "how_may_found_useful_this_comment = []\n",
    "for comment_found_useful in teen_user:\n",
    "        how_may_found_useful_this_comment.append(comment_found_useful.find('span',class_='a-size-base a-color-tertiary cr-vote-text').text)"
   ]
  },
  {
   "cell_type": "code",
   "execution_count": null,
   "id": "competitive-factory",
   "metadata": {},
   "outputs": [],
   "source": [
    "how_may_found_useful_this_comment"
   ]
  },
  {
   "cell_type": "markdown",
   "id": "identified-olympus",
   "metadata": {},
   "source": [
    "This was only for one page every page consitst 10 user comment to get 2000 user comment we need to go through 200 pages to get all the review and store in .csv files."
   ]
  },
  {
   "cell_type": "markdown",
   "id": "competitive-contributor",
   "metadata": {},
   "source": [
    "for evey iteration we need to pass new url to the request.get() method for new page.\n",
    "\n",
    "for the first page url\n",
    "- `https://www.amazon.in/Samsung-Galaxy-Ocean-128GB-Storage/product-reviews/B07HGGYWL6/ref=cm_cr_getr_d_paging_btm_next_2?ie=UTF8&reviewerType=all_reviews&pageNumber=1&sortBy=recent`\n",
    "\n",
    "for the second page url\n",
    "- `https://www.amazon.in/Samsung-Galaxy-Ocean-128GB-Storage/product-reviews/B07HGGYWL6/ref=cm_cr_getr_d_paging_btm_next_2?ie=UTF8&reviewerType=all_reviews&pageNumber=2&sortBy=recent`\n",
    "\n",
    "from the above we two url we can see that the difference between first page and second page of url is `pageNumber=2` and `pageNumber=1` so we need to change this number in every iteration of the loop."
   ]
  },
  {
   "cell_type": "code",
   "execution_count": 17,
   "id": "yellow-advisory",
   "metadata": {},
   "outputs": [],
   "source": [
    "import time\n",
    "from bs4 import BeautifulSoup\n",
    "import pandas as pd\n",
    "def product_review_parser(number_of_comment):\n",
    "    \n",
    "    start = time.time() # just to check how much time it take to complet the process\n",
    "    # for evey iteration we need to pass new url to the request.get() method for new page.\n",
    "    user_names = []\n",
    "    comment_title = []\n",
    "    comment_body = []\n",
    "    comment_date = []\n",
    "    user_rating = []\n",
    "    people_liked_comment = []\n",
    "    \n",
    "    \n",
    "    for i in range(1,number_of_comment):\n",
    "        \n",
    "        first_part = 'https://www.amazon.in/Samsung-Galaxy-Ocean-128GB-Storage/product-reviews/B07HGGYWL6/ref=cm_cr_getr_d_paging_btm_next_2?ie=UTF8&reviewerType=all_reviews&pageNumber='+str(i)\n",
    "        second_part = '&sortBy=recent'\n",
    "        url = first_part+second_part\n",
    "        page = requests.get(url)\n",
    "        soup = BeautifulSoup(page.content,'html.parser')\n",
    "        list_of_review = soup.find('div',id='cm_cr-review_list')\n",
    "        \n",
    "        try:\n",
    "            teen_user = list_of_review.find_all('div',class_='a-section review aok-relative')\n",
    "            for user in teen_user:\n",
    "            \n",
    "                #get the user name.\n",
    "                try:\n",
    "                    user_names.append(user.find('span',class_='a-profile-name').text)\n",
    "                except:\n",
    "                    user_names.append(None)\n",
    "                \n",
    "                # get date of the comment\n",
    "                try:\n",
    "                    comment_date.append(user.find('span',class_='a-size-base a-color-secondary review-date').text)\n",
    "                except:\n",
    "                    comment_date.find(None)\n",
    "                \n",
    "                # get comment title\n",
    "                try:\n",
    "                    comment_title.append(user.find('a',class_='a-size-base a-link-normal review-title a-color-base review-title-content a-text-bold').find('span').text)\n",
    "                except:\n",
    "                    comment_title.append(None)\n",
    "            \n",
    "                #get comment body\n",
    "                try:\n",
    "                    comment_body.append(user.find('span',class_='a-size-base review-text review-text-content').find('span').text)\n",
    "                except:\n",
    "                    comment_body.append(None)\n",
    "            \n",
    "                # get user rating of the product \n",
    "                try:\n",
    "                    user_rating.append(user.find('span',class_='a-icon-alt').text)\n",
    "                except:\n",
    "                    user_rating.append(None)\n",
    "                \n",
    "                #get how many people like the comment/helpul the comment\n",
    "                try:\n",
    "                    people_liked_comment.append(user.find('span',class_='a-size-base a-color-tertiary cr-vote-text').text)\n",
    "                except:\n",
    "                    people_liked_comment.append(None)\n",
    "        except:\n",
    "            pass\n",
    "\n",
    "    \n",
    "    df = pd.DataFrame()\n",
    "    df['User_name'] = user_names\n",
    "    df['Date'] = comment_date\n",
    "    df['Comment_title'] = comment_title\n",
    "    df['Comment_body'] = comment_body\n",
    "    df['How many found it helpul'] = people_liked_comment\n",
    "    df['User rating'] = user_rating\n",
    "    \n",
    "    end = time.time()\n",
    "    print (\"Time Taken to Parse {} jobs is:{} seconds\".format(number_of_comment*10,(end-start)))\n",
    "    return df\n",
    "    "
   ]
  },
  {
   "cell_type": "code",
   "execution_count": 18,
   "id": "blond-sending",
   "metadata": {},
   "outputs": [
    {
     "name": "stdout",
     "output_type": "stream",
     "text": [
      "Time Taken to Parse 5000 jobs is:271.1438298225403 seconds\n"
     ]
    }
   ],
   "source": [
    "dataFrame = product_review_parser(500)"
   ]
  },
  {
   "cell_type": "code",
   "execution_count": null,
   "id": "metric-tribune",
   "metadata": {},
   "outputs": [],
   "source": [
    "dataFrame"
   ]
  },
  {
   "cell_type": "code",
   "execution_count": null,
   "id": "assured-research",
   "metadata": {},
   "outputs": [],
   "source": [
    "dataFrame.to_csv('amazon_phone_review_beautifulSop.csv',index=None)"
   ]
  },
  {
   "cell_type": "markdown",
   "id": "material-marking",
   "metadata": {},
   "source": [
    "So we succussfully review 2480 comment and stored in the csv file."
   ]
  },
  {
   "cell_type": "code",
   "execution_count": null,
   "id": "sweet-invasion",
   "metadata": {},
   "outputs": [],
   "source": []
  }
 ],
 "metadata": {
  "kernelspec": {
   "display_name": "Python 3",
   "language": "python",
   "name": "python3"
  },
  "language_info": {
   "codemirror_mode": {
    "name": "ipython",
    "version": 3
   },
   "file_extension": ".py",
   "mimetype": "text/x-python",
   "name": "python",
   "nbconvert_exporter": "python",
   "pygments_lexer": "ipython3",
   "version": "3.8.8"
  }
 },
 "nbformat": 4,
 "nbformat_minor": 5
}
