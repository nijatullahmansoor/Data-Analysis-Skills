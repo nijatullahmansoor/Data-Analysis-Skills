{
 "cells": [
  {
   "cell_type": "markdown",
   "id": "harmful-sixth",
   "metadata": {},
   "source": [
    "### Scrape data from HTML tables into a DataFrame using BeautifulSoup and Pandas\n",
    "- Author : Nijatullah Mansoor \n",
    "- Date   : 08/27/2021"
   ]
  },
  {
   "cell_type": "markdown",
   "id": "pediatric-competition",
   "metadata": {},
   "source": [
    "Let's get <a href=\"https://ca.finance.yahoo.com/quote/TSLA/history?p=TSLA\">Tesla Historical</a> data and store in a dataFrame."
   ]
  },
  {
   "cell_type": "markdown",
   "id": "peaceful-network",
   "metadata": {},
   "source": [
    "Let's import the required library."
   ]
  },
  {
   "cell_type": "code",
   "execution_count": 1,
   "id": "devoted-progressive",
   "metadata": {},
   "outputs": [],
   "source": [
    "from bs4 import BeautifulSoup\n",
    "import time\n",
    "import requests\n",
    "import pandas as pd"
   ]
  },
  {
   "cell_type": "code",
   "execution_count": 2,
   "id": "provincial-brighton",
   "metadata": {},
   "outputs": [],
   "source": [
    "# url for the website \n",
    "url = 'https://finance.yahoo.com/quote/TSLA/history/'\n",
    "url1 = 'https://ca.finance.yahoo.com/'"
   ]
  },
  {
   "cell_type": "markdown",
   "id": "painful-tobago",
   "metadata": {},
   "source": [
    "let's get the web page content."
   ]
  },
  {
   "cell_type": "code",
   "execution_count": 3,
   "id": "human-divide",
   "metadata": {},
   "outputs": [],
   "source": [
    "# get the contents of the webpage in text format and store in a variable called data\n",
    "HEADER = {\"User_Agent\": \"Mozilla/5.0 (Windows NT 10.0; Win64; x64) AppleWebKit/537.36 (KHTML, like Gecko) Chrome/92.0.4515.159 Safari/537.36\"}\n",
    "\n",
    "data  = requests.get(url,headers=HEADER)"
   ]
  },
  {
   "cell_type": "markdown",
   "id": "traditional-forwarding",
   "metadata": {},
   "source": [
    "Let's chekc the response of request."
   ]
  },
  {
   "cell_type": "code",
   "execution_count": 4,
   "id": "earlier-chinese",
   "metadata": {},
   "outputs": [
    {
     "data": {
      "text/plain": [
       "<Response [404]>"
      ]
     },
     "execution_count": 4,
     "metadata": {},
     "output_type": "execute_result"
    }
   ],
   "source": [
    "data"
   ]
  },
  {
   "cell_type": "markdown",
   "id": "static-spray",
   "metadata": {},
   "source": [
    "Let's create a BeautifulSoup object."
   ]
  },
  {
   "cell_type": "code",
   "execution_count": 5,
   "id": "narrative-latino",
   "metadata": {},
   "outputs": [
    {
     "data": {
      "text/plain": [
       "<Response [404]>"
      ]
     },
     "execution_count": 5,
     "metadata": {},
     "output_type": "execute_result"
    }
   ],
   "source": [
    "requests.get('https://finance.yahoo.com/quote/TSLA/history/')"
   ]
  },
  {
   "cell_type": "markdown",
   "id": "velvet-video",
   "metadata": {},
   "source": [
    "refer to this to resolve this issue.\n",
    "\n",
    "https://stackoverflow.com/questions/47506092/python-requests-get-always-get-404"
   ]
  },
  {
   "cell_type": "markdown",
   "id": "disturbed-maximum",
   "metadata": {},
   "source": [
    "From the response we can see that `<Response [404]>` which represent page not found."
   ]
  },
  {
   "cell_type": "code",
   "execution_count": 142,
   "id": "wanted-dominant",
   "metadata": {},
   "outputs": [],
   "source": [
    "data = requests.get('https://finance.yahoo.com/quote/TSLA/history?period1=1288310400&period2=1630108800&interval=1d&filter=history&frequency=1d&includeAdjustedClose=true', headers={'User-Agent': 'Custom'})"
   ]
  },
  {
   "cell_type": "markdown",
   "id": "corporate-canberra",
   "metadata": {},
   "source": [
    "Now let's check the page response status."
   ]
  },
  {
   "cell_type": "code",
   "execution_count": 143,
   "id": "hungry-passage",
   "metadata": {},
   "outputs": [
    {
     "name": "stdout",
     "output_type": "stream",
     "text": [
      "<Response [200]>\n"
     ]
    }
   ],
   "source": [
    "print(data)"
   ]
  },
  {
   "cell_type": "markdown",
   "id": "accepting-creativity",
   "metadata": {},
   "source": [
    "Let's create a BeautifulSoup object."
   ]
  },
  {
   "cell_type": "code",
   "execution_count": 126,
   "id": "expired-skiing",
   "metadata": {},
   "outputs": [],
   "source": [
    "soup = BeautifulSoup(data.content,'html.parser')"
   ]
  },
  {
   "cell_type": "code",
   "execution_count": 127,
   "id": "ultimate-bangladesh",
   "metadata": {},
   "outputs": [],
   "source": [
    "table = soup.find('div', id='Col1-1-HistoricalDataTable-Proxy')"
   ]
  },
  {
   "cell_type": "markdown",
   "id": "democratic-gothic",
   "metadata": {},
   "source": [
    "Let's chekc how the data are arranged in the website. \n",
    "\n",
    "<img src='tesla_website_data_structure.png'>"
   ]
  },
  {
   "cell_type": "markdown",
   "id": "after-union",
   "metadata": {},
   "source": [
    "so we will get the data in the same manager and store in the panda dataFrame."
   ]
  },
  {
   "cell_type": "markdown",
   "id": "executive-study",
   "metadata": {},
   "source": [
    "let's get the `Time Period` of this data.\n"
   ]
  },
  {
   "cell_type": "code",
   "execution_count": 128,
   "id": "fossil-irrigation",
   "metadata": {},
   "outputs": [],
   "source": [
    "info = table.find('div',class_=\"Pt(15px)\")"
   ]
  },
  {
   "cell_type": "code",
   "execution_count": 129,
   "id": "convenient-schedule",
   "metadata": {},
   "outputs": [],
   "source": [
    "table_data = table.find('table',class_='W(100%) M(0)')"
   ]
  },
  {
   "cell_type": "code",
   "execution_count": 130,
   "id": "focused-sterling",
   "metadata": {},
   "outputs": [],
   "source": [
    "table_header = table_data.find('thead')"
   ]
  },
  {
   "cell_type": "code",
   "execution_count": 131,
   "id": "married-pharmacology",
   "metadata": {},
   "outputs": [],
   "source": [
    "columns_name = []\n",
    "\n",
    "for i in table_header.find_all('span'):\n",
    "    columns_name.append(i.text)"
   ]
  },
  {
   "cell_type": "code",
   "execution_count": 132,
   "id": "canadian-memory",
   "metadata": {},
   "outputs": [
    {
     "data": {
      "text/plain": [
       "['Date', 'Open', 'High', 'Low', 'Close*', 'Adj Close**', 'Volume']"
      ]
     },
     "execution_count": 132,
     "metadata": {},
     "output_type": "execute_result"
    }
   ],
   "source": [
    "columns_name"
   ]
  },
  {
   "cell_type": "markdown",
   "id": "essential-masters",
   "metadata": {},
   "source": [
    "Now let's get the actual data from the table. "
   ]
  },
  {
   "cell_type": "code",
   "execution_count": 133,
   "id": "convenient-respondent",
   "metadata": {},
   "outputs": [],
   "source": [
    "table_body = table_data.find('tbody')"
   ]
  },
  {
   "cell_type": "code",
   "execution_count": 134,
   "id": "completed-prophet",
   "metadata": {},
   "outputs": [],
   "source": [
    "date = []\n",
    "Open = []\n",
    "high = []\n",
    "low = []\n",
    "close = []\n",
    "adj_close = []\n",
    "volume = []\n",
    "\n",
    "# we will loop through every table row \n",
    "for tr in table_body.find_all('tr'):\n",
    "    i=0\n",
    "    # we will loop through every tow data and get the data from it.\n",
    "    for td in tr.find_all('td'):\n",
    "        if i==0:\n",
    "            date.append(td.find('span').text)\n",
    "            i=1\n",
    "        elif i==1:\n",
    "            Open.append(td.find('span').text)\n",
    "            i=2\n",
    "        elif i==2:\n",
    "            high.append(td.find('span').text)\n",
    "            i=3\n",
    "        elif i==3:\n",
    "            low.append(td.find('span').text)\n",
    "            i=4\n",
    "        elif i==4:\n",
    "            close.append(td.find('span').text)\n",
    "            i=5\n",
    "        elif i==5:\n",
    "            adj_close.append(td.find('span').text)\n",
    "            i=6\n",
    "        elif i==6:\n",
    "            volume.append(td.find('span').text)"
   ]
  },
  {
   "cell_type": "markdown",
   "id": "amber-breathing",
   "metadata": {},
   "source": [
    "Let's now create a dataFrame from this. "
   ]
  },
  {
   "cell_type": "code",
   "execution_count": 136,
   "id": "raised-trust",
   "metadata": {},
   "outputs": [],
   "source": [
    "df = pd.DataFrame(columns=columns_name)"
   ]
  },
  {
   "cell_type": "code",
   "execution_count": 138,
   "id": "neutral-booking",
   "metadata": {},
   "outputs": [
    {
     "data": {
      "text/html": [
       "<div>\n",
       "<style scoped>\n",
       "    .dataframe tbody tr th:only-of-type {\n",
       "        vertical-align: middle;\n",
       "    }\n",
       "\n",
       "    .dataframe tbody tr th {\n",
       "        vertical-align: top;\n",
       "    }\n",
       "\n",
       "    .dataframe thead th {\n",
       "        text-align: right;\n",
       "    }\n",
       "</style>\n",
       "<table border=\"1\" class=\"dataframe\">\n",
       "  <thead>\n",
       "    <tr style=\"text-align: right;\">\n",
       "      <th></th>\n",
       "      <th>Date</th>\n",
       "      <th>Open</th>\n",
       "      <th>High</th>\n",
       "      <th>Low</th>\n",
       "      <th>Close*</th>\n",
       "      <th>Adj Close**</th>\n",
       "      <th>Volume</th>\n",
       "    </tr>\n",
       "  </thead>\n",
       "  <tbody>\n",
       "  </tbody>\n",
       "</table>\n",
       "</div>"
      ],
      "text/plain": [
       "Empty DataFrame\n",
       "Columns: [Date, Open, High, Low, Close*, Adj Close**, Volume]\n",
       "Index: []"
      ]
     },
     "execution_count": 138,
     "metadata": {},
     "output_type": "execute_result"
    }
   ],
   "source": [
    "df"
   ]
  },
  {
   "cell_type": "code",
   "execution_count": 139,
   "id": "spiritual-teens",
   "metadata": {},
   "outputs": [],
   "source": [
    "df['Date'] = date\n",
    "df['Open'] = Open\n",
    "df['High'] = high\n",
    "df['Low'] = low\n",
    "df['Close*'] = close\n",
    "df['Adj Close**'] = adj_close\n",
    "df['Volume'] = volume"
   ]
  },
  {
   "cell_type": "code",
   "execution_count": 140,
   "id": "thorough-profession",
   "metadata": {},
   "outputs": [
    {
     "data": {
      "text/html": [
       "<div>\n",
       "<style scoped>\n",
       "    .dataframe tbody tr th:only-of-type {\n",
       "        vertical-align: middle;\n",
       "    }\n",
       "\n",
       "    .dataframe tbody tr th {\n",
       "        vertical-align: top;\n",
       "    }\n",
       "\n",
       "    .dataframe thead th {\n",
       "        text-align: right;\n",
       "    }\n",
       "</style>\n",
       "<table border=\"1\" class=\"dataframe\">\n",
       "  <thead>\n",
       "    <tr style=\"text-align: right;\">\n",
       "      <th></th>\n",
       "      <th>Date</th>\n",
       "      <th>Open</th>\n",
       "      <th>High</th>\n",
       "      <th>Low</th>\n",
       "      <th>Close*</th>\n",
       "      <th>Adj Close**</th>\n",
       "      <th>Volume</th>\n",
       "    </tr>\n",
       "  </thead>\n",
       "  <tbody>\n",
       "    <tr>\n",
       "      <th>0</th>\n",
       "      <td>Aug 27, 2021</td>\n",
       "      <td>705.00</td>\n",
       "      <td>715.00</td>\n",
       "      <td>702.10</td>\n",
       "      <td>711.92</td>\n",
       "      <td>711.92</td>\n",
       "      <td>13,762,100</td>\n",
       "    </tr>\n",
       "    <tr>\n",
       "      <th>1</th>\n",
       "      <td>Aug 26, 2021</td>\n",
       "      <td>708.31</td>\n",
       "      <td>715.40</td>\n",
       "      <td>697.62</td>\n",
       "      <td>701.16</td>\n",
       "      <td>701.16</td>\n",
       "      <td>13,214,300</td>\n",
       "    </tr>\n",
       "    <tr>\n",
       "      <th>2</th>\n",
       "      <td>Aug 25, 2021</td>\n",
       "      <td>707.03</td>\n",
       "      <td>716.97</td>\n",
       "      <td>704.00</td>\n",
       "      <td>711.20</td>\n",
       "      <td>711.20</td>\n",
       "      <td>12,645,600</td>\n",
       "    </tr>\n",
       "    <tr>\n",
       "      <th>3</th>\n",
       "      <td>Aug 24, 2021</td>\n",
       "      <td>710.68</td>\n",
       "      <td>715.22</td>\n",
       "      <td>702.64</td>\n",
       "      <td>708.49</td>\n",
       "      <td>708.49</td>\n",
       "      <td>13,083,100</td>\n",
       "    </tr>\n",
       "    <tr>\n",
       "      <th>4</th>\n",
       "      <td>Aug 23, 2021</td>\n",
       "      <td>685.44</td>\n",
       "      <td>712.13</td>\n",
       "      <td>680.75</td>\n",
       "      <td>706.30</td>\n",
       "      <td>706.30</td>\n",
       "      <td>20,264,900</td>\n",
       "    </tr>\n",
       "  </tbody>\n",
       "</table>\n",
       "</div>"
      ],
      "text/plain": [
       "           Date    Open    High     Low  Close* Adj Close**      Volume\n",
       "0  Aug 27, 2021  705.00  715.00  702.10  711.92      711.92  13,762,100\n",
       "1  Aug 26, 2021  708.31  715.40  697.62  701.16      701.16  13,214,300\n",
       "2  Aug 25, 2021  707.03  716.97  704.00  711.20      711.20  12,645,600\n",
       "3  Aug 24, 2021  710.68  715.22  702.64  708.49      708.49  13,083,100\n",
       "4  Aug 23, 2021  685.44  712.13  680.75  706.30      706.30  20,264,900"
      ]
     },
     "execution_count": 140,
     "metadata": {},
     "output_type": "execute_result"
    }
   ],
   "source": [
    "df.head()"
   ]
  },
  {
   "cell_type": "markdown",
   "id": "surgical-skating",
   "metadata": {},
   "source": [
    "We successfully got the data from the website. "
   ]
  },
  {
   "cell_type": "code",
   "execution_count": 141,
   "id": "confidential-ideal",
   "metadata": {},
   "outputs": [
    {
     "data": {
      "text/plain": [
       "100"
      ]
     },
     "execution_count": 141,
     "metadata": {},
     "output_type": "execute_result"
    }
   ],
   "source": [
    "len(df)"
   ]
  },
  {
   "cell_type": "markdown",
   "id": "engaging-cheese",
   "metadata": {},
   "source": [
    "Let's covert this to a `.csv` file."
   ]
  },
  {
   "cell_type": "code",
   "execution_count": 144,
   "id": "infectious-shell",
   "metadata": {},
   "outputs": [],
   "source": [
    "df.to_csv('yahoo_finance_tesla.csv',index=False)"
   ]
  },
  {
   "cell_type": "code",
   "execution_count": null,
   "id": "running-coordinator",
   "metadata": {},
   "outputs": [],
   "source": []
  }
 ],
 "metadata": {
  "kernelspec": {
   "display_name": "Python 3",
   "language": "python",
   "name": "python3"
  },
  "language_info": {
   "codemirror_mode": {
    "name": "ipython",
    "version": 3
   },
   "file_extension": ".py",
   "mimetype": "text/x-python",
   "name": "python",
   "nbconvert_exporter": "python",
   "pygments_lexer": "ipython3",
   "version": "3.8.8"
  }
 },
 "nbformat": 4,
 "nbformat_minor": 5
}
