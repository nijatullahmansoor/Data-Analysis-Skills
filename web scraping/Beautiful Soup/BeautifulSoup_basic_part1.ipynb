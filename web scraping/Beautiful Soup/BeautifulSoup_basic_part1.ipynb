{
 "cells": [
  {
   "cell_type": "markdown",
   "id": "strategic-space",
   "metadata": {},
   "source": [
    "# Beautiful Soup\n"
   ]
  },
  {
   "cell_type": "markdown",
   "id": "passive-anime",
   "metadata": {},
   "source": [
    "<a href='http://www.crummy.com/software/BeautifulSoup/'>Beautiful Soup</a> is a Python library for pulling data out of HTML and XML files. It works with your favorite parser to provide idiomatic ways of navigating, searching, and modifying the parse tree. It commonly saves programmers hours or days of work.\n",
    "\n",
    "# Quick Start\n",
    "\n",
    "Here’s an HTML document I’ll be using as an example throughout this document. It’s part of a story from Alice in Wonderland:\n",
    "\n"
   ]
  },
  {
   "cell_type": "code",
   "execution_count": 1,
   "id": "suburban-reasoning",
   "metadata": {},
   "outputs": [],
   "source": [
    "html_doc = \"\"\"<html><head><title>The Dormouse's story</title></head>\n",
    "<body>\n",
    "<p class=\"title\"><b>The Dormouse's story</b></p>\n",
    "\n",
    "<p class=\"story\">Once upon a time there were three little sisters; and their names were\n",
    "<a href=\"http://example.com/elsie\" class=\"sister\" id=\"link1\">Elsie</a>,\n",
    "<a href=\"http://example.com/lacie\" class=\"sister\" id=\"link2\">Lacie</a> and\n",
    "<a href=\"http://example.com/tillie\" class=\"sister\" id=\"link3\">Tillie</a>;\n",
    "and they lived at the bottom of a well.</p>\n",
    "\n",
    "<p class=\"story\">...</p>\n",
    "\"\"\""
   ]
  },
  {
   "cell_type": "markdown",
   "id": "knowing-yield",
   "metadata": {},
   "source": [
    "Running the “three sisters” document through Beautiful Soup gives us a BeautifulSoup object, which represents the document as a nested data structure:"
   ]
  },
  {
   "cell_type": "markdown",
   "id": "sensitive-camcorder",
   "metadata": {},
   "source": [
    "Let's import required library."
   ]
  },
  {
   "cell_type": "code",
   "execution_count": 2,
   "id": "quiet-voltage",
   "metadata": {},
   "outputs": [],
   "source": [
    "from bs4 import BeautifulSoup"
   ]
  },
  {
   "cell_type": "code",
   "execution_count": 3,
   "id": "behavioral-kinase",
   "metadata": {},
   "outputs": [],
   "source": [
    "soup = BeautifulSoup(html_doc,'html.parser')"
   ]
  },
  {
   "cell_type": "code",
   "execution_count": 4,
   "id": "competent-beginning",
   "metadata": {},
   "outputs": [
    {
     "data": {
      "text/plain": [
       "bs4.BeautifulSoup"
      ]
     },
     "execution_count": 4,
     "metadata": {},
     "output_type": "execute_result"
    }
   ],
   "source": [
    "type(soup)"
   ]
  },
  {
   "cell_type": "markdown",
   "id": "other-africa",
   "metadata": {},
   "source": [
    "we can see that the type of soup is BeautifulSoup object."
   ]
  },
  {
   "cell_type": "code",
   "execution_count": 5,
   "id": "delayed-gateway",
   "metadata": {},
   "outputs": [
    {
     "name": "stdout",
     "output_type": "stream",
     "text": [
      "<html>\n",
      " <head>\n",
      "  <title>\n",
      "   The Dormouse's story\n",
      "  </title>\n",
      " </head>\n",
      " <body>\n",
      "  <p class=\"title\">\n",
      "   <b>\n",
      "    The Dormouse's story\n",
      "   </b>\n",
      "  </p>\n",
      "  <p class=\"story\">\n",
      "   Once upon a time there were three little sisters; and their names were\n",
      "   <a class=\"sister\" href=\"http://example.com/elsie\" id=\"link1\">\n",
      "    Elsie\n",
      "   </a>\n",
      "   ,\n",
      "   <a class=\"sister\" href=\"http://example.com/lacie\" id=\"link2\">\n",
      "    Lacie\n",
      "   </a>\n",
      "   and\n",
      "   <a class=\"sister\" href=\"http://example.com/tillie\" id=\"link3\">\n",
      "    Tillie\n",
      "   </a>\n",
      "   ;\n",
      "and they lived at the bottom of a well.\n",
      "  </p>\n",
      "  <p class=\"story\">\n",
      "   ...\n",
      "  </p>\n",
      " </body>\n",
      "</html>\n"
     ]
    }
   ],
   "source": [
    "print(soup.prettify())"
   ]
  },
  {
   "cell_type": "markdown",
   "id": "specific-setting",
   "metadata": {},
   "source": [
    "Here are some simple ways to navigate that data structure:"
   ]
  },
  {
   "cell_type": "code",
   "execution_count": 6,
   "id": "digital-favorite",
   "metadata": {},
   "outputs": [
    {
     "data": {
      "text/plain": [
       "<title>The Dormouse's story</title>"
      ]
     },
     "execution_count": 6,
     "metadata": {},
     "output_type": "execute_result"
    }
   ],
   "source": [
    "# to get the page title. \n",
    "soup.title"
   ]
  },
  {
   "cell_type": "code",
   "execution_count": 10,
   "id": "foster-process",
   "metadata": {},
   "outputs": [
    {
     "data": {
      "text/plain": [
       "'title'"
      ]
     },
     "execution_count": 10,
     "metadata": {},
     "output_type": "execute_result"
    }
   ],
   "source": [
    "soup.title.name"
   ]
  },
  {
   "cell_type": "markdown",
   "id": "close-resort",
   "metadata": {},
   "source": [
    "Let's get the exact text."
   ]
  },
  {
   "cell_type": "code",
   "execution_count": 7,
   "id": "racial-coral",
   "metadata": {},
   "outputs": [
    {
     "data": {
      "text/plain": [
       "\"The Dormouse's story\""
      ]
     },
     "execution_count": 7,
     "metadata": {},
     "output_type": "execute_result"
    }
   ],
   "source": [
    "soup.title.text"
   ]
  },
  {
   "cell_type": "code",
   "execution_count": 11,
   "id": "employed-bachelor",
   "metadata": {},
   "outputs": [
    {
     "data": {
      "text/plain": [
       "\"The Dormouse's story\""
      ]
     },
     "execution_count": 11,
     "metadata": {},
     "output_type": "execute_result"
    }
   ],
   "source": [
    "# or we can use this \n",
    "soup.title.string"
   ]
  },
  {
   "cell_type": "code",
   "execution_count": 13,
   "id": "piano-reproduction",
   "metadata": {},
   "outputs": [
    {
     "data": {
      "text/plain": [
       "'head'"
      ]
     },
     "execution_count": 13,
     "metadata": {},
     "output_type": "execute_result"
    }
   ],
   "source": [
    "soup.title.parent.name"
   ]
  },
  {
   "cell_type": "code",
   "execution_count": 15,
   "id": "noble-festival",
   "metadata": {},
   "outputs": [
    {
     "data": {
      "text/plain": [
       "<p class=\"title\"><b>The Dormouse's story</b></p>"
      ]
     },
     "execution_count": 15,
     "metadata": {},
     "output_type": "execute_result"
    }
   ],
   "source": [
    "soup.p"
   ]
  },
  {
   "cell_type": "code",
   "execution_count": 16,
   "id": "vulnerable-istanbul",
   "metadata": {},
   "outputs": [
    {
     "data": {
      "text/plain": [
       "\"The Dormouse's story\""
      ]
     },
     "execution_count": 16,
     "metadata": {},
     "output_type": "execute_result"
    }
   ],
   "source": [
    "soup.p.string"
   ]
  },
  {
   "cell_type": "code",
   "execution_count": 18,
   "id": "gentle-flashing",
   "metadata": {},
   "outputs": [
    {
     "data": {
      "text/plain": [
       "[<p class=\"title\"><b>The Dormouse's story</b></p>,\n",
       " <p class=\"story\">Once upon a time there were three little sisters; and their names were\n",
       " <a class=\"sister\" href=\"http://example.com/elsie\" id=\"link1\">Elsie</a>,\n",
       " <a class=\"sister\" href=\"http://example.com/lacie\" id=\"link2\">Lacie</a> and\n",
       " <a class=\"sister\" href=\"http://example.com/tillie\" id=\"link3\">Tillie</a>;\n",
       " and they lived at the bottom of a well.</p>,\n",
       " <p class=\"story\">...</p>]"
      ]
     },
     "execution_count": 18,
     "metadata": {},
     "output_type": "execute_result"
    }
   ],
   "source": [
    "soup.find_all(\"p\")"
   ]
  },
  {
   "cell_type": "code",
   "execution_count": 19,
   "id": "scheduled-melissa",
   "metadata": {},
   "outputs": [
    {
     "data": {
      "text/plain": [
       "<a class=\"sister\" href=\"http://example.com/elsie\" id=\"link1\">Elsie</a>"
      ]
     },
     "execution_count": 19,
     "metadata": {},
     "output_type": "execute_result"
    }
   ],
   "source": [
    "soup.a"
   ]
  },
  {
   "cell_type": "markdown",
   "id": "gorgeous-government",
   "metadata": {},
   "source": [
    "the above will return the first one. if we want to find all the link we need to call the `.find_all()` method."
   ]
  },
  {
   "cell_type": "code",
   "execution_count": 20,
   "id": "animal-spouse",
   "metadata": {},
   "outputs": [
    {
     "data": {
      "text/plain": [
       "[<a class=\"sister\" href=\"http://example.com/elsie\" id=\"link1\">Elsie</a>,\n",
       " <a class=\"sister\" href=\"http://example.com/lacie\" id=\"link2\">Lacie</a>,\n",
       " <a class=\"sister\" href=\"http://example.com/tillie\" id=\"link3\">Tillie</a>]"
      ]
     },
     "execution_count": 20,
     "metadata": {},
     "output_type": "execute_result"
    }
   ],
   "source": [
    "soup.find_all('a')"
   ]
  },
  {
   "cell_type": "code",
   "execution_count": 21,
   "id": "unsigned-kuwait",
   "metadata": {},
   "outputs": [
    {
     "data": {
      "text/plain": [
       "<a class=\"sister\" href=\"http://example.com/elsie\" id=\"link1\">Elsie</a>"
      ]
     },
     "execution_count": 21,
     "metadata": {},
     "output_type": "execute_result"
    }
   ],
   "source": [
    "# let's use the id \n",
    "soup.find(id='link1')"
   ]
  },
  {
   "cell_type": "code",
   "execution_count": 22,
   "id": "reduced-texas",
   "metadata": {},
   "outputs": [
    {
     "data": {
      "text/plain": [
       "<a class=\"sister\" href=\"http://example.com/lacie\" id=\"link2\">Lacie</a>"
      ]
     },
     "execution_count": 22,
     "metadata": {},
     "output_type": "execute_result"
    }
   ],
   "source": [
    "soup.find(id='link2')"
   ]
  },
  {
   "cell_type": "markdown",
   "id": "departmental-elite",
   "metadata": {},
   "source": [
    "One common task is extracting all the URLs found within a page’s `<a>` tags:"
   ]
  },
  {
   "cell_type": "code",
   "execution_count": 24,
   "id": "viral-language",
   "metadata": {},
   "outputs": [
    {
     "name": "stdout",
     "output_type": "stream",
     "text": [
      "http://example.com/elsie\n",
      "http://example.com/lacie\n",
      "http://example.com/tillie\n"
     ]
    }
   ],
   "source": [
    "for link in soup.find_all('a'):\n",
    "    print(link.get('href'))"
   ]
  },
  {
   "cell_type": "code",
   "execution_count": 25,
   "id": "altered-orchestra",
   "metadata": {},
   "outputs": [
    {
     "name": "stdout",
     "output_type": "stream",
     "text": [
      "['sister']\n",
      "['sister']\n",
      "['sister']\n"
     ]
    }
   ],
   "source": [
    "for link in soup.find_all('a'):\n",
    "    print(link.get('class'))"
   ]
  },
  {
   "cell_type": "markdown",
   "id": "invisible-robertson",
   "metadata": {},
   "source": [
    "Another common task is extracting all the text from a page:"
   ]
  },
  {
   "cell_type": "code",
   "execution_count": 26,
   "id": "strange-letter",
   "metadata": {},
   "outputs": [
    {
     "name": "stdout",
     "output_type": "stream",
     "text": [
      "The Dormouse's story\n",
      "\n",
      "The Dormouse's story\n",
      "Once upon a time there were three little sisters; and their names were\n",
      "Elsie,\n",
      "Lacie and\n",
      "Tillie;\n",
      "and they lived at the bottom of a well.\n",
      "...\n",
      "\n"
     ]
    }
   ],
   "source": [
    "print(soup.get_text())"
   ]
  },
  {
   "cell_type": "markdown",
   "id": "short-capacity",
   "metadata": {},
   "source": [
    "Let's install `pip install lxml`"
   ]
  },
  {
   "cell_type": "code",
   "execution_count": 27,
   "id": "dependent-brighton",
   "metadata": {},
   "outputs": [
    {
     "name": "stdout",
     "output_type": "stream",
     "text": [
      "Requirement already satisfied: lxml in c:\\users\\nijat\\anaconda3\\lib\\site-packages (4.6.3)\n"
     ]
    }
   ],
   "source": [
    "! pip install lxml"
   ]
  },
  {
   "cell_type": "code",
   "execution_count": 28,
   "id": "reported-student",
   "metadata": {},
   "outputs": [
    {
     "name": "stdout",
     "output_type": "stream",
     "text": [
      "Requirement already satisfied: html5lib in c:\\users\\nijat\\anaconda3\\lib\\site-packages (1.1)\n",
      "Requirement already satisfied: six>=1.9 in c:\\users\\nijat\\anaconda3\\lib\\site-packages (from html5lib) (1.15.0)\n",
      "Requirement already satisfied: webencodings in c:\\users\\nijat\\anaconda3\\lib\\site-packages (from html5lib) (0.5.1)\n"
     ]
    }
   ],
   "source": [
    "! pip install html5lib"
   ]
  },
  {
   "cell_type": "markdown",
   "id": "geographic-tucson",
   "metadata": {},
   "source": [
    "We have different parser library.\n",
    "\n",
    "- Python’s html.parser\n",
    "- lxml’s HTML parser\n",
    "- lxml’s XML parser\n",
    "- html5lib\n",
    "\n",
    "I recommend you install and use lxml for speed. If you’re using a very old version of Python – earlier than 2.7.3 or 3.2.2 – it’s essential that you install lxml or html5lib. Python’s built-in HTML parser is just not very good in those old versions.\n"
   ]
  },
  {
   "cell_type": "markdown",
   "id": "apparent-campaign",
   "metadata": {},
   "source": [
    "Note that if a document is invalid, different parsers will generate different Beautiful Soup trees for it. See <a href='https://www.crummy.com/software/BeautifulSoup/bs4/doc/#differences-between-parsers'>Differences between parsers</a> for details."
   ]
  },
  {
   "cell_type": "markdown",
   "id": "warming-matrix",
   "metadata": {},
   "source": [
    "# Let's get started\n",
    "### Making the soup"
   ]
  },
  {
   "cell_type": "markdown",
   "id": "aggregate-manor",
   "metadata": {},
   "source": [
    "To parse a document, pass it into the BeautifulSoup constructor. You can pass in a string or an open filehandle:"
   ]
  },
  {
   "cell_type": "code",
   "execution_count": 30,
   "id": "anonymous-title",
   "metadata": {},
   "outputs": [],
   "source": [
    "with open('index.html') as fp:\n",
    "    soup = BeautifulSoup(fp,'html.parser')"
   ]
  },
  {
   "cell_type": "code",
   "execution_count": 32,
   "id": "bottom-scottish",
   "metadata": {},
   "outputs": [
    {
     "name": "stdout",
     "output_type": "stream",
     "text": [
      "The Dormouse's story\n",
      "\n",
      "The Dormouse's story\n",
      "Once upon a time there were three little sisters; and their names were\n",
      "Elsie,\n",
      "Lacie and\n",
      "Tillie;\n",
      "and they lived at the bottom of a well.\n",
      "...\n"
     ]
    }
   ],
   "source": [
    "print(soup.get_text())"
   ]
  },
  {
   "cell_type": "code",
   "execution_count": 3,
   "id": "artificial-admission",
   "metadata": {},
   "outputs": [],
   "source": [
    "html_doc = \"\"\"<html><head><title>The Dormouse's story</title></head>\n",
    "<body>\n",
    "<p class=\"title\"><b>The Dormouse's story</b></p>\n",
    "\n",
    "<p class=\"story\">Once upon a time there were three little sisters; and their names were\n",
    "<a href=\"http://example.com/elsie\" class=\"sister\" id=\"link1\">Elsie</a>,\n",
    "<a href=\"http://example.com/lacie\" class=\"sister\" id=\"link2\">Lacie</a> and\n",
    "<a href=\"http://example.com/tillie\" class=\"sister\" id=\"link3\">Tillie</a>;\n",
    "and they lived at the bottom of a well.</p>\n",
    "\n",
    "<p class=\"story\">...</p>\n",
    "\"\"\"\n",
    "soup = BeautifulSoup(html_doc,'html.parser')"
   ]
  },
  {
   "cell_type": "code",
   "execution_count": 34,
   "id": "armed-trick",
   "metadata": {},
   "outputs": [
    {
     "name": "stdout",
     "output_type": "stream",
     "text": [
      "The Dormouse's story\n",
      "\n",
      "The Dormouse's story\n",
      "Once upon a time there were three little sisters; and their names were\n",
      "Elsie,\n",
      "Lacie and\n",
      "Tillie;\n",
      "and they lived at the bottom of a well.\n",
      "...\n",
      "\n"
     ]
    }
   ],
   "source": [
    "print(soup.get_text())"
   ]
  },
  {
   "cell_type": "markdown",
   "id": "entitled-demand",
   "metadata": {},
   "source": [
    "First, the document is converted to Unicode, and HTML entities are converted to Unicode characters:"
   ]
  },
  {
   "cell_type": "code",
   "execution_count": 35,
   "id": "cross-north",
   "metadata": {},
   "outputs": [
    {
     "name": "stdout",
     "output_type": "stream",
     "text": [
      "<html><head></head><body>Sacré bleu!</body></html>\n"
     ]
    }
   ],
   "source": [
    "print(BeautifulSoup(\"<html><head></head><body>Sacr&eacute; bleu!</body></html>\", \"html.parser\"))"
   ]
  },
  {
   "cell_type": "markdown",
   "id": "norwegian-breakdown",
   "metadata": {},
   "source": [
    "## Kinds of objects"
   ]
  },
  {
   "cell_type": "markdown",
   "id": "piano-queensland",
   "metadata": {},
   "source": [
    "Beautiful Soup transforms a complex HTML document into a complex tree of Python objects. But you’ll only ever have to deal with about four kinds of objects: `Tag`, `NavigableString`, `BeautifulSoup`, and `Comment`."
   ]
  },
  {
   "cell_type": "markdown",
   "id": "creative-scottish",
   "metadata": {},
   "source": [
    "### Tag\n",
    "\n",
    "A Tag object corresponds to an XML or HTML tag in the original document:"
   ]
  },
  {
   "cell_type": "code",
   "execution_count": 38,
   "id": "disabled-brook",
   "metadata": {},
   "outputs": [
    {
     "data": {
      "text/plain": [
       "<b>The Dormouse's story</b>"
      ]
     },
     "execution_count": 38,
     "metadata": {},
     "output_type": "execute_result"
    }
   ],
   "source": [
    "tag = soup.b\n",
    "tag"
   ]
  },
  {
   "cell_type": "markdown",
   "id": "exempt-cornwall",
   "metadata": {},
   "source": [
    "Let's check the type of this."
   ]
  },
  {
   "cell_type": "code",
   "execution_count": 39,
   "id": "changed-librarian",
   "metadata": {},
   "outputs": [
    {
     "data": {
      "text/plain": [
       "bs4.element.Tag"
      ]
     },
     "execution_count": 39,
     "metadata": {},
     "output_type": "execute_result"
    }
   ],
   "source": [
    "type(tag)"
   ]
  },
  {
   "cell_type": "markdown",
   "id": "portable-contamination",
   "metadata": {},
   "source": [
    "Tags have a lot of attributes and methods For now, the most important features of a tag are its name and attributes."
   ]
  },
  {
   "cell_type": "markdown",
   "id": "completed-accused",
   "metadata": {},
   "source": [
    "### Name\n",
    "\n",
    "Every tag has a name, accessible `as .name:`"
   ]
  },
  {
   "cell_type": "code",
   "execution_count": 40,
   "id": "conventional-layer",
   "metadata": {},
   "outputs": [
    {
     "data": {
      "text/plain": [
       "'b'"
      ]
     },
     "execution_count": 40,
     "metadata": {},
     "output_type": "execute_result"
    }
   ],
   "source": [
    "tag.name"
   ]
  },
  {
   "cell_type": "markdown",
   "id": "matched-paradise",
   "metadata": {},
   "source": [
    "If you change a tag’s name, the change will be reflected in any HTML markup generated by Beautiful Soup:"
   ]
  },
  {
   "cell_type": "code",
   "execution_count": 41,
   "id": "informed-course",
   "metadata": {},
   "outputs": [
    {
     "data": {
      "text/plain": [
       "<blockquote>The Dormouse's story</blockquote>"
      ]
     },
     "execution_count": 41,
     "metadata": {},
     "output_type": "execute_result"
    }
   ],
   "source": [
    "tag.name = 'blockquote'\n",
    "tag"
   ]
  },
  {
   "cell_type": "markdown",
   "id": "commercial-access",
   "metadata": {},
   "source": [
    "## Attributes\n",
    "\n",
    "A tag may have any number of attributes. The tag `<b id=\"boldest\">` has an attribute “id” whose value is “boldest”. You can access a tag’s attributes by treating the tag like a dictionary:"
   ]
  },
  {
   "cell_type": "code",
   "execution_count": 42,
   "id": "wrong-denver",
   "metadata": {},
   "outputs": [
    {
     "data": {
      "text/plain": [
       "'boldest'"
      ]
     },
     "execution_count": 42,
     "metadata": {},
     "output_type": "execute_result"
    }
   ],
   "source": [
    "tag = BeautifulSoup('<b id=\"boldest\">bold</b>', 'html.parser').b\n",
    "tag['id']"
   ]
  },
  {
   "cell_type": "markdown",
   "id": "occupational-certification",
   "metadata": {},
   "source": [
    "You can access that dictionary directly as `.attrs:`"
   ]
  },
  {
   "cell_type": "code",
   "execution_count": 43,
   "id": "educational-hospital",
   "metadata": {},
   "outputs": [
    {
     "data": {
      "text/plain": [
       "{'id': 'boldest'}"
      ]
     },
     "execution_count": 43,
     "metadata": {},
     "output_type": "execute_result"
    }
   ],
   "source": [
    "tag.attrs"
   ]
  },
  {
   "cell_type": "markdown",
   "id": "hazardous-taylor",
   "metadata": {},
   "source": [
    "You can add, remove, and modify a tag’s attributes. Again, this is done by treating the tag as a dictionary:"
   ]
  },
  {
   "cell_type": "code",
   "execution_count": 44,
   "id": "political-mouse",
   "metadata": {},
   "outputs": [],
   "source": [
    "tag['id'] = 'verybold'"
   ]
  },
  {
   "cell_type": "code",
   "execution_count": 45,
   "id": "compressed-tanzania",
   "metadata": {},
   "outputs": [
    {
     "data": {
      "text/plain": [
       "{'id': 'verybold'}"
      ]
     },
     "execution_count": 45,
     "metadata": {},
     "output_type": "execute_result"
    }
   ],
   "source": [
    "tag.attrs"
   ]
  },
  {
   "cell_type": "code",
   "execution_count": 46,
   "id": "gorgeous-snake",
   "metadata": {},
   "outputs": [],
   "source": [
    "tag['tag-another-attribute'] = 'New attribute'"
   ]
  },
  {
   "cell_type": "code",
   "execution_count": 47,
   "id": "automated-chocolate",
   "metadata": {},
   "outputs": [
    {
     "data": {
      "text/plain": [
       "{'id': 'verybold', 'tag-another-attribute': 'New attribute'}"
      ]
     },
     "execution_count": 47,
     "metadata": {},
     "output_type": "execute_result"
    }
   ],
   "source": [
    "tag.attrs"
   ]
  },
  {
   "cell_type": "markdown",
   "id": "atmospheric-layout",
   "metadata": {},
   "source": [
    "Let's perform the delete operation."
   ]
  },
  {
   "cell_type": "code",
   "execution_count": 49,
   "id": "statistical-times",
   "metadata": {},
   "outputs": [],
   "source": [
    "del tag['id']"
   ]
  },
  {
   "cell_type": "code",
   "execution_count": 50,
   "id": "alpha-excerpt",
   "metadata": {},
   "outputs": [
    {
     "data": {
      "text/plain": [
       "{'tag-another-attribute': 'New attribute'}"
      ]
     },
     "execution_count": 50,
     "metadata": {},
     "output_type": "execute_result"
    }
   ],
   "source": [
    "tag.attrs"
   ]
  },
  {
   "cell_type": "code",
   "execution_count": 51,
   "id": "partial-split",
   "metadata": {},
   "outputs": [],
   "source": [
    "del tag['tag-another-attribute']"
   ]
  },
  {
   "cell_type": "code",
   "execution_count": 52,
   "id": "structured-winner",
   "metadata": {},
   "outputs": [
    {
     "data": {
      "text/plain": [
       "{}"
      ]
     },
     "execution_count": 52,
     "metadata": {},
     "output_type": "execute_result"
    }
   ],
   "source": [
    "tag.attrs"
   ]
  },
  {
   "cell_type": "code",
   "execution_count": 53,
   "id": "insured-picnic",
   "metadata": {},
   "outputs": [
    {
     "data": {
      "text/plain": [
       "<b>bold</b>"
      ]
     },
     "execution_count": 53,
     "metadata": {},
     "output_type": "execute_result"
    }
   ],
   "source": [
    "tag"
   ]
  },
  {
   "cell_type": "code",
   "execution_count": 54,
   "id": "expanded-collection",
   "metadata": {},
   "outputs": [
    {
     "ename": "KeyError",
     "evalue": "'id'",
     "output_type": "error",
     "traceback": [
      "\u001b[1;31m---------------------------------------------------------------------------\u001b[0m",
      "\u001b[1;31mKeyError\u001b[0m                                  Traceback (most recent call last)",
      "\u001b[1;32m<ipython-input-54-b7d877d82646>\u001b[0m in \u001b[0;36m<module>\u001b[1;34m\u001b[0m\n\u001b[1;32m----> 1\u001b[1;33m \u001b[0mtag\u001b[0m\u001b[1;33m[\u001b[0m\u001b[1;34m'id'\u001b[0m\u001b[1;33m]\u001b[0m\u001b[1;33m\u001b[0m\u001b[1;33m\u001b[0m\u001b[0m\n\u001b[0m",
      "\u001b[1;32m~\\anaconda3\\lib\\site-packages\\bs4\\element.py\u001b[0m in \u001b[0;36m__getitem__\u001b[1;34m(self, key)\u001b[0m\n\u001b[0;32m   1404\u001b[0m         \"\"\"tag[key] returns the value of the 'key' attribute for the Tag,\n\u001b[0;32m   1405\u001b[0m         and throws an exception if it's not there.\"\"\"\n\u001b[1;32m-> 1406\u001b[1;33m         \u001b[1;32mreturn\u001b[0m \u001b[0mself\u001b[0m\u001b[1;33m.\u001b[0m\u001b[0mattrs\u001b[0m\u001b[1;33m[\u001b[0m\u001b[0mkey\u001b[0m\u001b[1;33m]\u001b[0m\u001b[1;33m\u001b[0m\u001b[1;33m\u001b[0m\u001b[0m\n\u001b[0m\u001b[0;32m   1407\u001b[0m \u001b[1;33m\u001b[0m\u001b[0m\n\u001b[0;32m   1408\u001b[0m     \u001b[1;32mdef\u001b[0m \u001b[0m__iter__\u001b[0m\u001b[1;33m(\u001b[0m\u001b[0mself\u001b[0m\u001b[1;33m)\u001b[0m\u001b[1;33m:\u001b[0m\u001b[1;33m\u001b[0m\u001b[1;33m\u001b[0m\u001b[0m\n",
      "\u001b[1;31mKeyError\u001b[0m: 'id'"
     ]
    }
   ],
   "source": [
    "tag['id']"
   ]
  },
  {
   "cell_type": "code",
   "execution_count": 56,
   "id": "forty-personal",
   "metadata": {},
   "outputs": [
    {
     "name": "stdout",
     "output_type": "stream",
     "text": [
      "None\n"
     ]
    }
   ],
   "source": [
    "print(tag.get('id'))"
   ]
  },
  {
   "cell_type": "markdown",
   "id": "affecting-confusion",
   "metadata": {},
   "source": [
    "# Multi-valued attributes\n",
    "\n",
    "HTML 4 defines a few attributes that can have multiple values. HTML 5 removes a couple of them, but defines a few more. The most common multi-valued attribute is `class (that is, a tag can have more than one CSS class)`. Others include `rel`, `rev`, `accept-charset`, `headers`, and `accesskey`. Beautiful Soup presents the value(s) of a multi-valued attribute as a list:\n",
    "\n"
   ]
  },
  {
   "cell_type": "code",
   "execution_count": 11,
   "id": "moving-starter",
   "metadata": {},
   "outputs": [],
   "source": [
    "css_soup = BeautifulSoup('<p class=\"body\">This is single value attribute</p>','html.parser')"
   ]
  },
  {
   "cell_type": "code",
   "execution_count": 12,
   "id": "accepting-market",
   "metadata": {},
   "outputs": [
    {
     "data": {
      "text/plain": [
       "<p class=\"body\">This is single value attribute</p>"
      ]
     },
     "execution_count": 12,
     "metadata": {},
     "output_type": "execute_result"
    }
   ],
   "source": [
    "css_soup"
   ]
  },
  {
   "cell_type": "code",
   "execution_count": 14,
   "id": "sharp-cocktail",
   "metadata": {},
   "outputs": [
    {
     "data": {
      "text/plain": [
       "['body']"
      ]
     },
     "execution_count": 14,
     "metadata": {},
     "output_type": "execute_result"
    }
   ],
   "source": [
    "css_soup.p['class']"
   ]
  },
  {
   "cell_type": "markdown",
   "id": "accurate-affect",
   "metadata": {},
   "source": [
    "Now let's create class wtih multiple attribute. "
   ]
  },
  {
   "cell_type": "code",
   "execution_count": 16,
   "id": "future-latvia",
   "metadata": {},
   "outputs": [],
   "source": [
    "css_soup = BeautifulSoup('<p class=\"body strikout\"> This is multple value attribute</p>','html.parser')"
   ]
  },
  {
   "cell_type": "code",
   "execution_count": 17,
   "id": "animated-guard",
   "metadata": {},
   "outputs": [
    {
     "data": {
      "text/plain": [
       "['body', 'strikout']"
      ]
     },
     "execution_count": 17,
     "metadata": {},
     "output_type": "execute_result"
    }
   ],
   "source": [
    "css_soup.p['class']"
   ]
  },
  {
   "cell_type": "markdown",
   "id": "cooperative-divide",
   "metadata": {},
   "source": [
    "If an attribute looks like it has more than one value, but it’s not a multi-valued attribute as defined by any version of the HTML standard, Beautiful Soup will leave the attribute alone:"
   ]
  },
  {
   "cell_type": "code",
   "execution_count": 18,
   "id": "impaired-prediction",
   "metadata": {},
   "outputs": [],
   "source": [
    "css_soup = BeautifulSoup('<p id=\"my id\">This is not a multi valued attribute</p>','html.parser')"
   ]
  },
  {
   "cell_type": "code",
   "execution_count": 19,
   "id": "accomplished-small",
   "metadata": {},
   "outputs": [
    {
     "data": {
      "text/plain": [
       "'my id'"
      ]
     },
     "execution_count": 19,
     "metadata": {},
     "output_type": "execute_result"
    }
   ],
   "source": [
    "css_soup.p['id']"
   ]
  },
  {
   "cell_type": "markdown",
   "id": "thorough-fault",
   "metadata": {},
   "source": [
    "When you turn a tag back into a string, multiple attribute values are consolidated:"
   ]
  },
  {
   "cell_type": "code",
   "execution_count": 20,
   "id": "smooth-nepal",
   "metadata": {},
   "outputs": [],
   "source": [
    "rel_soup = BeautifulSoup('<p>Back to the <a rel=\"index\">homepage</a></p>', 'html.parser')"
   ]
  },
  {
   "cell_type": "code",
   "execution_count": 21,
   "id": "vanilla-sullivan",
   "metadata": {},
   "outputs": [
    {
     "data": {
      "text/plain": [
       "<p>Back to the <a rel=\"index\">homepage</a></p>"
      ]
     },
     "execution_count": 21,
     "metadata": {},
     "output_type": "execute_result"
    }
   ],
   "source": [
    "rel_soup"
   ]
  },
  {
   "cell_type": "code",
   "execution_count": 22,
   "id": "funded-seeking",
   "metadata": {},
   "outputs": [
    {
     "data": {
      "text/plain": [
       "['index']"
      ]
     },
     "execution_count": 22,
     "metadata": {},
     "output_type": "execute_result"
    }
   ],
   "source": [
    "rel_soup.a['rel']"
   ]
  },
  {
   "cell_type": "code",
   "execution_count": 23,
   "id": "listed-oakland",
   "metadata": {},
   "outputs": [],
   "source": [
    "rel_soup.a['rel'] = ['index','contents']"
   ]
  },
  {
   "cell_type": "code",
   "execution_count": 24,
   "id": "yellow-syndicate",
   "metadata": {},
   "outputs": [
    {
     "data": {
      "text/plain": [
       "['index', 'contents']"
      ]
     },
     "execution_count": 24,
     "metadata": {},
     "output_type": "execute_result"
    }
   ],
   "source": [
    "rel_soup.a['rel']"
   ]
  },
  {
   "cell_type": "code",
   "execution_count": 25,
   "id": "collective-columbia",
   "metadata": {},
   "outputs": [
    {
     "data": {
      "text/plain": [
       "<p>Back to the <a rel=\"index contents\">homepage</a></p>"
      ]
     },
     "execution_count": 25,
     "metadata": {},
     "output_type": "execute_result"
    }
   ],
   "source": [
    "rel_soup"
   ]
  },
  {
   "cell_type": "markdown",
   "id": "extraordinary-warning",
   "metadata": {},
   "source": [
    "You can disable this by passing `multi_valued_attributes=None` as a keyword argument into the BeautifulSoup constructor:"
   ]
  },
  {
   "cell_type": "code",
   "execution_count": 28,
   "id": "heard-exception",
   "metadata": {},
   "outputs": [],
   "source": [
    "no_list_soup = BeautifulSoup('<p class=\"body strickout\"></p>','html.parser',multi_valued_attributes=None)"
   ]
  },
  {
   "cell_type": "code",
   "execution_count": 29,
   "id": "honey-allen",
   "metadata": {},
   "outputs": [
    {
     "data": {
      "text/plain": [
       "'body strickout'"
      ]
     },
     "execution_count": 29,
     "metadata": {},
     "output_type": "execute_result"
    }
   ],
   "source": [
    "no_list_soup.p['class']"
   ]
  },
  {
   "cell_type": "markdown",
   "id": "handled-principal",
   "metadata": {},
   "source": [
    "If you parse a document as XML, there are no multi-valued attributes:"
   ]
  },
  {
   "cell_type": "code",
   "execution_count": 30,
   "id": "quality-execution",
   "metadata": {},
   "outputs": [
    {
     "data": {
      "text/plain": [
       "'body strikeout'"
      ]
     },
     "execution_count": 30,
     "metadata": {},
     "output_type": "execute_result"
    }
   ],
   "source": [
    "xml_soup = BeautifulSoup('<p class=\"body strikeout\"></p>','xml')\n",
    "xml_soup.p['class']"
   ]
  },
  {
   "cell_type": "markdown",
   "id": "coastal-tattoo",
   "metadata": {},
   "source": [
    "Again, you can configure this using the `multi_valued_attributes` argument:"
   ]
  },
  {
   "cell_type": "code",
   "execution_count": 32,
   "id": "variable-assurance",
   "metadata": {},
   "outputs": [],
   "source": [
    "class_is_multi = {'*':'class'}\n",
    "xml_soup = BeautifulSoup('<p class=\"body strikeout\"></p>','xml', multi_valued_attributes=class_is_multi)"
   ]
  },
  {
   "cell_type": "code",
   "execution_count": 33,
   "id": "casual-thousand",
   "metadata": {},
   "outputs": [
    {
     "data": {
      "text/plain": [
       "['body', 'strikeout']"
      ]
     },
     "execution_count": 33,
     "metadata": {},
     "output_type": "execute_result"
    }
   ],
   "source": [
    "xml_soup.p['class']"
   ]
  },
  {
   "cell_type": "markdown",
   "id": "military-scotland",
   "metadata": {},
   "source": [
    "You probably won’t need to do this, but if you do, use the defaults as a guide. They implement the rules described in the HTML specification:"
   ]
  },
  {
   "cell_type": "code",
   "execution_count": 34,
   "id": "sophisticated-municipality",
   "metadata": {},
   "outputs": [
    {
     "data": {
      "text/plain": [
       "{'*': ['class', 'accesskey', 'dropzone'],\n",
       " 'a': ['rel', 'rev'],\n",
       " 'link': ['rel', 'rev'],\n",
       " 'td': ['headers'],\n",
       " 'th': ['headers'],\n",
       " 'form': ['accept-charset'],\n",
       " 'object': ['archive'],\n",
       " 'area': ['rel'],\n",
       " 'icon': ['sizes'],\n",
       " 'iframe': ['sandbox'],\n",
       " 'output': ['for']}"
      ]
     },
     "execution_count": 34,
     "metadata": {},
     "output_type": "execute_result"
    }
   ],
   "source": [
    "from bs4.builder import builder_registry\n",
    "builder_registry.lookup('html').DEFAULT_CDATA_LIST_ATTRIBUTES"
   ]
  },
  {
   "cell_type": "markdown",
   "id": "standard-pierre",
   "metadata": {},
   "source": [
    "# NavigableString\n",
    "A string corresponds to a bit of text within a tag. Beautiful Soup uses the NavigableString class to contain these bits of text:"
   ]
  },
  {
   "cell_type": "code",
   "execution_count": 35,
   "id": "timely-daisy",
   "metadata": {},
   "outputs": [
    {
     "data": {
      "text/plain": [
       "<b class=\"boldest\">Extremly bold</b>"
      ]
     },
     "execution_count": 35,
     "metadata": {},
     "output_type": "execute_result"
    }
   ],
   "source": [
    "soup = BeautifulSoup('<b class=\"boldest\">Extremly bold</p>','html.parser')\n",
    "soup"
   ]
  },
  {
   "cell_type": "code",
   "execution_count": 36,
   "id": "liberal-strain",
   "metadata": {},
   "outputs": [
    {
     "data": {
      "text/plain": [
       "'Extremly bold'"
      ]
     },
     "execution_count": 36,
     "metadata": {},
     "output_type": "execute_result"
    }
   ],
   "source": [
    "soup.b.string"
   ]
  },
  {
   "cell_type": "code",
   "execution_count": 37,
   "id": "illegal-timer",
   "metadata": {},
   "outputs": [
    {
     "data": {
      "text/plain": [
       "bs4.element.NavigableString"
      ]
     },
     "execution_count": 37,
     "metadata": {},
     "output_type": "execute_result"
    }
   ],
   "source": [
    "type(soup.b.string)"
   ]
  },
  {
   "cell_type": "markdown",
   "id": "married-india",
   "metadata": {},
   "source": [
    "A NavigableString is just like a Python Unicode string. You can convert a NavigableString to a Unicode string with `unicode() (in Python 2)` or `str (in Python 3)`:"
   ]
  },
  {
   "cell_type": "code",
   "execution_count": 38,
   "id": "foster-hollow",
   "metadata": {},
   "outputs": [],
   "source": [
    "unicode_string = str(soup.b.string)"
   ]
  },
  {
   "cell_type": "code",
   "execution_count": 39,
   "id": "casual-thunder",
   "metadata": {},
   "outputs": [
    {
     "data": {
      "text/plain": [
       "'Extremly bold'"
      ]
     },
     "execution_count": 39,
     "metadata": {},
     "output_type": "execute_result"
    }
   ],
   "source": [
    "unicode_string"
   ]
  },
  {
   "cell_type": "code",
   "execution_count": 41,
   "id": "pacific-stevens",
   "metadata": {},
   "outputs": [
    {
     "name": "stdout",
     "output_type": "stream",
     "text": [
      "<class 'str'>\n"
     ]
    }
   ],
   "source": [
    "print(type(unicode_string))"
   ]
  },
  {
   "cell_type": "markdown",
   "id": "academic-gentleman",
   "metadata": {},
   "source": [
    "You can’t edit a string in place, but you can replace one string with another, using `replace_with()`:"
   ]
  },
  {
   "cell_type": "code",
   "execution_count": 42,
   "id": "acute-kelly",
   "metadata": {},
   "outputs": [
    {
     "data": {
      "text/plain": [
       "'Extremly bold'"
      ]
     },
     "execution_count": 42,
     "metadata": {},
     "output_type": "execute_result"
    }
   ],
   "source": [
    "soup.b.string.replace_with(\"This is replaced string\")"
   ]
  },
  {
   "cell_type": "code",
   "execution_count": 43,
   "id": "opposite-merchant",
   "metadata": {},
   "outputs": [
    {
     "data": {
      "text/plain": [
       "'This is replaced string'"
      ]
     },
     "execution_count": 43,
     "metadata": {},
     "output_type": "execute_result"
    }
   ],
   "source": [
    "soup.b.string"
   ]
  },
  {
   "cell_type": "code",
   "execution_count": 44,
   "id": "worst-strain",
   "metadata": {},
   "outputs": [
    {
     "data": {
      "text/plain": [
       "<b class=\"boldest\">This is replaced string</b>"
      ]
     },
     "execution_count": 44,
     "metadata": {},
     "output_type": "execute_result"
    }
   ],
   "source": [
    "soup"
   ]
  },
  {
   "cell_type": "markdown",
   "id": "north-harbor",
   "metadata": {},
   "source": [
    "NavigableString supports most of the features described in `Navigating the tree` and `Searching the tree`, but not all of them.\n",
    "In particular, since a string can’t contain anything (the way a tag may contain a string or another tag), strings don’t support the `.contents` or `.string` attributes, or the `find()` method."
   ]
  },
  {
   "cell_type": "markdown",
   "id": "broke-finding",
   "metadata": {},
   "source": [
    "If you want to use a NavigableString outside of Beautiful Soup, `you should call unicode()` on it to turn it into a normal Python Unicode string. If you don’t, your string will carry around a reference to the entire Beautiful Soup parse tree, even when you’re done using Beautiful Soup. This is a big waste of memory."
   ]
  },
  {
   "cell_type": "markdown",
   "id": "yellow-source",
   "metadata": {},
   "source": [
    "# BeautifulSoup\n",
    "The BeautifulSoup object represents the parsed document as a whole. For most purposes, you can treat it as a Tag object. This means it supports most of the methods described in Navigating the tree and Searching the tree.  You can also pass a BeautifulSoup object into one of the methods defined in Modifying the tree, just as you would a Tag. This lets you do things like combine two parsed documents:"
   ]
  },
  {
   "cell_type": "code",
   "execution_count": 45,
   "id": "iraqi-watson",
   "metadata": {},
   "outputs": [],
   "source": [
    "doc = BeautifulSoup(\"<document><content/>INSERT FOOTER HERE</document>\",'xml')"
   ]
  },
  {
   "cell_type": "code",
   "execution_count": 46,
   "id": "strategic-priority",
   "metadata": {},
   "outputs": [
    {
     "data": {
      "text/plain": [
       "<?xml version=\"1.0\" encoding=\"utf-8\"?>\n",
       "<document><content/>INSERT FOOTER HERE</document>"
      ]
     },
     "execution_count": 46,
     "metadata": {},
     "output_type": "execute_result"
    }
   ],
   "source": [
    "doc"
   ]
  },
  {
   "cell_type": "code",
   "execution_count": 47,
   "id": "neither-theta",
   "metadata": {},
   "outputs": [],
   "source": [
    "footer = BeautifulSoup(\"<footer> Here's the footer</footer>\",'xml')"
   ]
  },
  {
   "cell_type": "code",
   "execution_count": 48,
   "id": "sitting-reservoir",
   "metadata": {},
   "outputs": [
    {
     "data": {
      "text/plain": [
       "<?xml version=\"1.0\" encoding=\"utf-8\"?>\n",
       "<footer> Here's the footer</footer>"
      ]
     },
     "execution_count": 48,
     "metadata": {},
     "output_type": "execute_result"
    }
   ],
   "source": [
    "footer"
   ]
  },
  {
   "cell_type": "code",
   "execution_count": 51,
   "id": "tracked-fraud",
   "metadata": {},
   "outputs": [
    {
     "data": {
      "text/plain": [
       "'INSERT FOOTER HERE'"
      ]
     },
     "execution_count": 51,
     "metadata": {},
     "output_type": "execute_result"
    }
   ],
   "source": [
    "doc.find(text=\"INSERT FOOTER HERE\").replace_with(footer)"
   ]
  },
  {
   "cell_type": "code",
   "execution_count": 52,
   "id": "wound-settlement",
   "metadata": {},
   "outputs": [
    {
     "data": {
      "text/plain": [
       "<?xml version=\"1.0\" encoding=\"utf-8\"?>\n",
       "<document><content/><footer> Here's the footer</footer></document>"
      ]
     },
     "execution_count": 52,
     "metadata": {},
     "output_type": "execute_result"
    }
   ],
   "source": [
    "doc"
   ]
  },
  {
   "cell_type": "code",
   "execution_count": 53,
   "id": "missing-country",
   "metadata": {},
   "outputs": [
    {
     "data": {
      "text/plain": [
       "<?xml version=\"1.0\" encoding=\"utf-8\"?>"
      ]
     },
     "execution_count": 53,
     "metadata": {},
     "output_type": "execute_result"
    }
   ],
   "source": [
    "footer"
   ]
  },
  {
   "cell_type": "markdown",
   "id": "satellite-praise",
   "metadata": {},
   "source": [
    "Since the BeautifulSoup object doesn’t correspond to an actual HTML or XML tag, it has no name and no attributes. But sometimes it’s useful to look at its `.name`, so it’s been given the special `.name` “[document]”:"
   ]
  },
  {
   "cell_type": "code",
   "execution_count": 54,
   "id": "indonesian-allah",
   "metadata": {},
   "outputs": [
    {
     "data": {
      "text/plain": [
       "'[document]'"
      ]
     },
     "execution_count": 54,
     "metadata": {},
     "output_type": "execute_result"
    }
   ],
   "source": [
    "soup.name"
   ]
  },
  {
   "cell_type": "markdown",
   "id": "convenient-bearing",
   "metadata": {},
   "source": [
    "## Comments and other special strings"
   ]
  },
  {
   "cell_type": "markdown",
   "id": "further-thinking",
   "metadata": {},
   "source": [
    "`Tag`, `NavigableString`, and `BeautifulSoup` cover almost everything you’ll see in an HTML or XML file, but there are a few leftover bits. The main one you’ll probably encounter is the comment:"
   ]
  },
  {
   "cell_type": "code",
   "execution_count": 57,
   "id": "subject-process",
   "metadata": {},
   "outputs": [],
   "source": [
    "markup = \"<b><!--Hey, buddy. Want to buy a used parser?--></b>\"\n",
    "soup = BeautifulSoup(markup,'html.parser')"
   ]
  },
  {
   "cell_type": "code",
   "execution_count": 58,
   "id": "severe-astronomy",
   "metadata": {},
   "outputs": [
    {
     "data": {
      "text/plain": [
       "<b><!--Hey, buddy. Want to buy a used parser?--></b>"
      ]
     },
     "execution_count": 58,
     "metadata": {},
     "output_type": "execute_result"
    }
   ],
   "source": [
    "soup"
   ]
  },
  {
   "cell_type": "code",
   "execution_count": 59,
   "id": "radio-navigation",
   "metadata": {},
   "outputs": [
    {
     "data": {
      "text/plain": [
       "'Hey, buddy. Want to buy a used parser?'"
      ]
     },
     "execution_count": 59,
     "metadata": {},
     "output_type": "execute_result"
    }
   ],
   "source": [
    "soup.b.string"
   ]
  },
  {
   "cell_type": "code",
   "execution_count": 60,
   "id": "charming-temple",
   "metadata": {},
   "outputs": [
    {
     "data": {
      "text/plain": [
       "bs4.element.Comment"
      ]
     },
     "execution_count": 60,
     "metadata": {},
     "output_type": "execute_result"
    }
   ],
   "source": [
    "type(soup.b.string)"
   ]
  },
  {
   "cell_type": "markdown",
   "id": "leading-large",
   "metadata": {},
   "source": [
    "The Comment object is just a special type of `NavigableString`:\n"
   ]
  },
  {
   "cell_type": "code",
   "execution_count": 61,
   "id": "missing-brook",
   "metadata": {},
   "outputs": [
    {
     "data": {
      "text/plain": [
       "'Hey, buddy. Want to buy a used parser?'"
      ]
     },
     "execution_count": 61,
     "metadata": {},
     "output_type": "execute_result"
    }
   ],
   "source": [
    "comment = soup.b.string\n",
    "comment"
   ]
  },
  {
   "cell_type": "markdown",
   "id": "optimum-tsunami",
   "metadata": {},
   "source": [
    "But when it appears as part of an HTML document, a Comment is displayed with special formatting:"
   ]
  },
  {
   "cell_type": "code",
   "execution_count": 62,
   "id": "concerned-appreciation",
   "metadata": {},
   "outputs": [
    {
     "name": "stdout",
     "output_type": "stream",
     "text": [
      "<b>\n",
      " <!--Hey, buddy. Want to buy a used parser?-->\n",
      "</b>\n"
     ]
    }
   ],
   "source": [
    "print(soup.b.prettify())"
   ]
  },
  {
   "cell_type": "markdown",
   "id": "convertible-consequence",
   "metadata": {},
   "source": [
    "Beautiful Soup also defines classes called `Stylesheet, Script, and TemplateString`, for embedded CSS stylesheets (any strings found inside a `<style>` tag), embedded Javascript (any strings found in a `<script>` tag), and HTML templates (any strings inside a `<template>` tag). These classes work exactly the same way as NavigableString; their only purpose is to make it easier to pick out the main body of the page, by ignoring strings that represent something else. \n",
    "\n",
    "`Note:` These classes are new in Beautiful Soup 4.9.0, and the html5lib parser doesn’t use them."
   ]
  },
  {
   "cell_type": "markdown",
   "id": "imported-poverty",
   "metadata": {},
   "source": [
    "Beautiful Soup defines classes for anything else that might show up in an XML document: `CData`, `ProcessingInstruction`, `Declaration`, and `Doctype`. Like Comment, these classes are subclasses of NavigableString that add something extra to the string. Here’s an example that replaces the comment with a CDATA block:\n"
   ]
  },
  {
   "cell_type": "code",
   "execution_count": 63,
   "id": "measured-admission",
   "metadata": {},
   "outputs": [],
   "source": [
    "from bs4 import CData"
   ]
  },
  {
   "cell_type": "code",
   "execution_count": 64,
   "id": "empty-start",
   "metadata": {},
   "outputs": [],
   "source": [
    "cdata = CData(\"A C DATA BLOCK\")"
   ]
  },
  {
   "cell_type": "code",
   "execution_count": 65,
   "id": "introductory-biotechnology",
   "metadata": {},
   "outputs": [
    {
     "data": {
      "text/plain": [
       "'Hey, buddy. Want to buy a used parser?'"
      ]
     },
     "execution_count": 65,
     "metadata": {},
     "output_type": "execute_result"
    }
   ],
   "source": [
    "comment.replace_with(cdata)"
   ]
  },
  {
   "cell_type": "code",
   "execution_count": 66,
   "id": "secret-judges",
   "metadata": {},
   "outputs": [
    {
     "data": {
      "text/plain": [
       "'Hey, buddy. Want to buy a used parser?'"
      ]
     },
     "execution_count": 66,
     "metadata": {},
     "output_type": "execute_result"
    }
   ],
   "source": [
    "comment"
   ]
  },
  {
   "cell_type": "code",
   "execution_count": 67,
   "id": "fossil-morrison",
   "metadata": {},
   "outputs": [
    {
     "data": {
      "text/plain": [
       "<b><![CDATA[A C DATA BLOCK]]></b>"
      ]
     },
     "execution_count": 67,
     "metadata": {},
     "output_type": "execute_result"
    }
   ],
   "source": [
    "soup"
   ]
  },
  {
   "cell_type": "code",
   "execution_count": 68,
   "id": "stuffed-australian",
   "metadata": {},
   "outputs": [
    {
     "name": "stdout",
     "output_type": "stream",
     "text": [
      "<b>\n",
      " <![CDATA[A C DATA BLOCK]]>\n",
      "</b>\n"
     ]
    }
   ],
   "source": [
    "print(soup.b.prettify())"
   ]
  },
  {
   "cell_type": "markdown",
   "id": "speaking-marking",
   "metadata": {},
   "source": [
    "# Navigating the tree"
   ]
  },
  {
   "cell_type": "code",
   "execution_count": 69,
   "id": "mysterious-stephen",
   "metadata": {},
   "outputs": [],
   "source": [
    "html_doc = \"\"\"\n",
    "<html><head><title>The Dormouse's story</title></head>\n",
    "<body>\n",
    "<p class=\"title\"><b>The Dormouse's story</b></p>\n",
    "\n",
    "<p class=\"story\">Once upon a time there were three little sisters; and their names were\n",
    "<a href=\"http://example.com/elsie\" class=\"sister\" id=\"link1\">Elsie</a>,\n",
    "<a href=\"http://example.com/lacie\" class=\"sister\" id=\"link2\">Lacie</a> and\n",
    "<a href=\"http://example.com/tillie\" class=\"sister\" id=\"link3\">Tillie</a>;\n",
    "and they lived at the bottom of a well.</p>\n",
    "\n",
    "<p class=\"story\">...</p>\n",
    "\"\"\""
   ]
  },
  {
   "cell_type": "code",
   "execution_count": 70,
   "id": "given-target",
   "metadata": {},
   "outputs": [],
   "source": [
    "soup = BeautifulSoup(html_doc,'html.parser')"
   ]
  },
  {
   "cell_type": "code",
   "execution_count": 71,
   "id": "patient-cooking",
   "metadata": {},
   "outputs": [
    {
     "data": {
      "text/plain": [
       "\n",
       "<html><head><title>The Dormouse's story</title></head>\n",
       "<body>\n",
       "<p class=\"title\"><b>The Dormouse's story</b></p>\n",
       "<p class=\"story\">Once upon a time there were three little sisters; and their names were\n",
       "<a class=\"sister\" href=\"http://example.com/elsie\" id=\"link1\">Elsie</a>,\n",
       "<a class=\"sister\" href=\"http://example.com/lacie\" id=\"link2\">Lacie</a> and\n",
       "<a class=\"sister\" href=\"http://example.com/tillie\" id=\"link3\">Tillie</a>;\n",
       "and they lived at the bottom of a well.</p>\n",
       "<p class=\"story\">...</p>\n",
       "</body></html>"
      ]
     },
     "execution_count": 71,
     "metadata": {},
     "output_type": "execute_result"
    }
   ],
   "source": [
    "soup"
   ]
  },
  {
   "cell_type": "markdown",
   "id": "initial-subsection",
   "metadata": {},
   "source": [
    "### Going down\n",
    "Tags may contain strings and other tags. These elements are the tag’s children. Beautiful Soup provides a lot of different attributes for navigating and iterating over a tag’s children.\n",
    "\n",
    "Note that Beautiful Soup strings don’t support any of these attributes, because a string can’t have children.\n",
    "\n",
    "#### Navigating using tag names\n",
    "\n",
    "The simplest way to navigate the parse tree is to say the name of the tag you want. If you want the `<head>` tag, just say `soup.head`:\n"
   ]
  },
  {
   "cell_type": "code",
   "execution_count": 72,
   "id": "senior-frontier",
   "metadata": {},
   "outputs": [
    {
     "data": {
      "text/plain": [
       "<head><title>The Dormouse's story</title></head>"
      ]
     },
     "execution_count": 72,
     "metadata": {},
     "output_type": "execute_result"
    }
   ],
   "source": [
    "soup.head"
   ]
  },
  {
   "cell_type": "code",
   "execution_count": 74,
   "id": "biological-poverty",
   "metadata": {},
   "outputs": [
    {
     "data": {
      "text/plain": [
       "<a class=\"sister\" href=\"http://example.com/elsie\" id=\"link1\">Elsie</a>"
      ]
     },
     "execution_count": 74,
     "metadata": {},
     "output_type": "execute_result"
    }
   ],
   "source": [
    "soup.a"
   ]
  },
  {
   "cell_type": "markdown",
   "id": "nearby-computer",
   "metadata": {},
   "source": [
    "But it will return only the first occurance."
   ]
  },
  {
   "cell_type": "markdown",
   "id": "social-algeria",
   "metadata": {},
   "source": [
    "You can do use this trick again and again to zoom in on a certain part of the parse tree. This code gets the first `<b>` tag beneath the `<body>` tag:"
   ]
  },
  {
   "cell_type": "code",
   "execution_count": 75,
   "id": "soviet-speaker",
   "metadata": {},
   "outputs": [
    {
     "data": {
      "text/plain": [
       "<b>The Dormouse's story</b>"
      ]
     },
     "execution_count": 75,
     "metadata": {},
     "output_type": "execute_result"
    }
   ],
   "source": [
    "soup.body.b"
   ]
  },
  {
   "cell_type": "code",
   "execution_count": 76,
   "id": "flush-specific",
   "metadata": {},
   "outputs": [
    {
     "data": {
      "text/plain": [
       "\"The Dormouse's story\""
      ]
     },
     "execution_count": 76,
     "metadata": {},
     "output_type": "execute_result"
    }
   ],
   "source": [
    "soup.body.b.string"
   ]
  },
  {
   "cell_type": "markdown",
   "id": "statewide-strip",
   "metadata": {},
   "source": [
    "Using a tag name as an attribute will give you only the first tag by that name:"
   ]
  },
  {
   "cell_type": "markdown",
   "id": "noted-transparency",
   "metadata": {},
   "source": [
    "If you need to get all the `<a>` tags, or anything more complicated than the first tag with a certain name, you’ll need to use one of the methods described in Searching the tree, such as `find_all()`:"
   ]
  },
  {
   "cell_type": "code",
   "execution_count": 77,
   "id": "handed-controversy",
   "metadata": {},
   "outputs": [
    {
     "data": {
      "text/plain": [
       "[<a class=\"sister\" href=\"http://example.com/elsie\" id=\"link1\">Elsie</a>,\n",
       " <a class=\"sister\" href=\"http://example.com/lacie\" id=\"link2\">Lacie</a>,\n",
       " <a class=\"sister\" href=\"http://example.com/tillie\" id=\"link3\">Tillie</a>]"
      ]
     },
     "execution_count": 77,
     "metadata": {},
     "output_type": "execute_result"
    }
   ],
   "source": [
    "soup.find_all('a')"
   ]
  },
  {
   "cell_type": "markdown",
   "id": "educational-treaty",
   "metadata": {},
   "source": [
    "## .contents and .children\n",
    "\n",
    "A tag’s children are available in a list called `.contents`:"
   ]
  },
  {
   "cell_type": "code",
   "execution_count": 78,
   "id": "electoral-november",
   "metadata": {},
   "outputs": [
    {
     "data": {
      "text/plain": [
       "<head><title>The Dormouse's story</title></head>"
      ]
     },
     "execution_count": 78,
     "metadata": {},
     "output_type": "execute_result"
    }
   ],
   "source": [
    "head_tag = soup.head\n",
    "head_tag"
   ]
  },
  {
   "cell_type": "code",
   "execution_count": 81,
   "id": "developmental-million",
   "metadata": {},
   "outputs": [
    {
     "data": {
      "text/plain": [
       "[<title>The Dormouse's story</title>]"
      ]
     },
     "execution_count": 81,
     "metadata": {},
     "output_type": "execute_result"
    }
   ],
   "source": [
    "head_tag.contents"
   ]
  },
  {
   "cell_type": "code",
   "execution_count": 82,
   "id": "surrounded-attribute",
   "metadata": {},
   "outputs": [
    {
     "data": {
      "text/plain": [
       "<body>\n",
       "<p class=\"title\"><b>The Dormouse's story</b></p>\n",
       "<p class=\"story\">Once upon a time there were three little sisters; and their names were\n",
       "<a class=\"sister\" href=\"http://example.com/elsie\" id=\"link1\">Elsie</a>,\n",
       "<a class=\"sister\" href=\"http://example.com/lacie\" id=\"link2\">Lacie</a> and\n",
       "<a class=\"sister\" href=\"http://example.com/tillie\" id=\"link3\">Tillie</a>;\n",
       "and they lived at the bottom of a well.</p>\n",
       "<p class=\"story\">...</p>\n",
       "</body>"
      ]
     },
     "execution_count": 82,
     "metadata": {},
     "output_type": "execute_result"
    }
   ],
   "source": [
    "body_tag = soup.body\n",
    "body_tag"
   ]
  },
  {
   "cell_type": "code",
   "execution_count": 83,
   "id": "drawn-toner",
   "metadata": {},
   "outputs": [
    {
     "data": {
      "text/plain": [
       "['\\n',\n",
       " <p class=\"title\"><b>The Dormouse's story</b></p>,\n",
       " '\\n',\n",
       " <p class=\"story\">Once upon a time there were three little sisters; and their names were\n",
       " <a class=\"sister\" href=\"http://example.com/elsie\" id=\"link1\">Elsie</a>,\n",
       " <a class=\"sister\" href=\"http://example.com/lacie\" id=\"link2\">Lacie</a> and\n",
       " <a class=\"sister\" href=\"http://example.com/tillie\" id=\"link3\">Tillie</a>;\n",
       " and they lived at the bottom of a well.</p>,\n",
       " '\\n',\n",
       " <p class=\"story\">...</p>,\n",
       " '\\n']"
      ]
     },
     "execution_count": 83,
     "metadata": {},
     "output_type": "execute_result"
    }
   ],
   "source": [
    "body_tag.contents"
   ]
  },
  {
   "cell_type": "markdown",
   "id": "advance-vessel",
   "metadata": {},
   "source": [
    "The BeautifulSoup object itself has children. In this case, the <html> tag is the child of the BeautifulSoup object.:"
   ]
  },
  {
   "cell_type": "code",
   "execution_count": 84,
   "id": "maritime-parade",
   "metadata": {},
   "outputs": [
    {
     "data": {
      "text/plain": [
       "['\\n',\n",
       " <html><head><title>The Dormouse's story</title></head>\n",
       " <body>\n",
       " <p class=\"title\"><b>The Dormouse's story</b></p>\n",
       " <p class=\"story\">Once upon a time there were three little sisters; and their names were\n",
       " <a class=\"sister\" href=\"http://example.com/elsie\" id=\"link1\">Elsie</a>,\n",
       " <a class=\"sister\" href=\"http://example.com/lacie\" id=\"link2\">Lacie</a> and\n",
       " <a class=\"sister\" href=\"http://example.com/tillie\" id=\"link3\">Tillie</a>;\n",
       " and they lived at the bottom of a well.</p>\n",
       " <p class=\"story\">...</p>\n",
       " </body></html>]"
      ]
     },
     "execution_count": 84,
     "metadata": {},
     "output_type": "execute_result"
    }
   ],
   "source": [
    "soup.contents"
   ]
  },
  {
   "cell_type": "code",
   "execution_count": 85,
   "id": "adapted-morning",
   "metadata": {},
   "outputs": [
    {
     "data": {
      "text/plain": [
       "2"
      ]
     },
     "execution_count": 85,
     "metadata": {},
     "output_type": "execute_result"
    }
   ],
   "source": [
    "len(soup.contents)"
   ]
  },
  {
   "cell_type": "code",
   "execution_count": 87,
   "id": "union-shelter",
   "metadata": {},
   "outputs": [
    {
     "data": {
      "text/plain": [
       "'html'"
      ]
     },
     "execution_count": 87,
     "metadata": {},
     "output_type": "execute_result"
    }
   ],
   "source": [
    "soup.contents[1].name"
   ]
  },
  {
   "cell_type": "markdown",
   "id": "eligible-edgar",
   "metadata": {},
   "source": [
    "A string does not have .contents, because it can’t contain anything:"
   ]
  },
  {
   "cell_type": "code",
   "execution_count": 4,
   "id": "contained-legislature",
   "metadata": {},
   "outputs": [
    {
     "ename": "AttributeError",
     "evalue": "'list' object has no attribute 'contents'",
     "output_type": "error",
     "traceback": [
      "\u001b[1;31m---------------------------------------------------------------------------\u001b[0m",
      "\u001b[1;31mAttributeError\u001b[0m                            Traceback (most recent call last)",
      "\u001b[1;32m<ipython-input-4-520a9f40a78d>\u001b[0m in \u001b[0;36m<module>\u001b[1;34m\u001b[0m\n\u001b[0;32m      1\u001b[0m \u001b[0mtitle_tag\u001b[0m \u001b[1;33m=\u001b[0m \u001b[0msoup\u001b[0m\u001b[1;33m.\u001b[0m\u001b[0mtitle\u001b[0m\u001b[1;33m\u001b[0m\u001b[1;33m\u001b[0m\u001b[0m\n\u001b[0;32m      2\u001b[0m \u001b[0mtext\u001b[0m \u001b[1;33m=\u001b[0m \u001b[0mtitle_tag\u001b[0m\u001b[1;33m.\u001b[0m\u001b[0mcontents\u001b[0m\u001b[1;33m\u001b[0m\u001b[1;33m\u001b[0m\u001b[0m\n\u001b[1;32m----> 3\u001b[1;33m \u001b[0mtext\u001b[0m\u001b[1;33m.\u001b[0m\u001b[0mcontents\u001b[0m\u001b[1;33m\u001b[0m\u001b[1;33m\u001b[0m\u001b[0m\n\u001b[0m",
      "\u001b[1;31mAttributeError\u001b[0m: 'list' object has no attribute 'contents'"
     ]
    }
   ],
   "source": [
    "title_tag = soup.title\n",
    "text = title_tag.contents\n",
    "text.contents"
   ]
  },
  {
   "cell_type": "markdown",
   "id": "stainless-mississippi",
   "metadata": {},
   "source": [
    "Instead of getting them as a list, you can iterate over a tag’s children using the .children generator:"
   ]
  },
  {
   "cell_type": "code",
   "execution_count": 6,
   "id": "palestinian-savage",
   "metadata": {},
   "outputs": [
    {
     "name": "stdout",
     "output_type": "stream",
     "text": [
      "The Dormouse's story\n"
     ]
    }
   ],
   "source": [
    "for child in title_tag.children:\n",
    "    print(child)"
   ]
  },
  {
   "cell_type": "markdown",
   "id": "sitting-shelf",
   "metadata": {},
   "source": [
    "## .descendants\n",
    "The `.contents` and `.children` attributes only consider a tag’s direct children. For instance, the `<head>` tag has a single direct child–the `<title>` tag:"
   ]
  },
  {
   "cell_type": "code",
   "execution_count": 8,
   "id": "center-median",
   "metadata": {},
   "outputs": [
    {
     "data": {
      "text/plain": [
       "<head><title>The Dormouse's story</title></head>"
      ]
     },
     "execution_count": 8,
     "metadata": {},
     "output_type": "execute_result"
    }
   ],
   "source": [
    "head_tag = soup.head\n",
    "head_tag"
   ]
  },
  {
   "cell_type": "code",
   "execution_count": 9,
   "id": "meaning-liquid",
   "metadata": {},
   "outputs": [
    {
     "data": {
      "text/plain": [
       "[<title>The Dormouse's story</title>]"
      ]
     },
     "execution_count": 9,
     "metadata": {},
     "output_type": "execute_result"
    }
   ],
   "source": [
    "head_tag.contents"
   ]
  },
  {
   "cell_type": "markdown",
   "id": "relative-brick",
   "metadata": {},
   "source": [
    "But the `<title>` tag itself has a child: the `string “The Dormouse’s story”`. There’s a sense in which that string is also a child of the `<head>` tag. The .descendants attribute lets you iterate over all of a tag’s children, recursively: its direct children, the children of its direct children, and so on:"
   ]
  },
  {
   "cell_type": "code",
   "execution_count": 11,
   "id": "civic-answer",
   "metadata": {},
   "outputs": [
    {
     "name": "stdout",
     "output_type": "stream",
     "text": [
      "<title>The Dormouse's story</title>\n",
      "The Dormouse's story\n"
     ]
    }
   ],
   "source": [
    "for child in head_tag.descendants:\n",
    "    print(child)"
   ]
  },
  {
   "cell_type": "code",
   "execution_count": 12,
   "id": "authorized-phoenix",
   "metadata": {},
   "outputs": [
    {
     "data": {
      "text/plain": [
       "generator"
      ]
     },
     "execution_count": 12,
     "metadata": {},
     "output_type": "execute_result"
    }
   ],
   "source": [
    "type(head_tag.descendants)"
   ]
  },
  {
   "cell_type": "markdown",
   "id": "chicken-sheriff",
   "metadata": {},
   "source": [
    "The `<head>` tag has only one child, but it has two descendants: the `<title>` tag and the `<title>` tag’s child. The BeautifulSoup object only has one direct child (the `<html>` tag), but it has a whole lot of descendants:"
   ]
  },
  {
   "cell_type": "code",
   "execution_count": 13,
   "id": "patient-ordinary",
   "metadata": {},
   "outputs": [
    {
     "data": {
      "text/plain": [
       "1"
      ]
     },
     "execution_count": 13,
     "metadata": {},
     "output_type": "execute_result"
    }
   ],
   "source": [
    "len(list(soup.children))"
   ]
  },
  {
   "cell_type": "code",
   "execution_count": 14,
   "id": "greenhouse-tunnel",
   "metadata": {},
   "outputs": [
    {
     "data": {
      "text/plain": [
       "26"
      ]
     },
     "execution_count": 14,
     "metadata": {},
     "output_type": "execute_result"
    }
   ],
   "source": [
    "len(list(soup.descendants))"
   ]
  },
  {
   "cell_type": "markdown",
   "id": "worthy-forge",
   "metadata": {},
   "source": [
    "# .string\n",
    "\n",
    "If a tag has only one child, and that child is a NavigableString, the child is made available as `.string`:"
   ]
  },
  {
   "cell_type": "code",
   "execution_count": 15,
   "id": "swiss-glory",
   "metadata": {},
   "outputs": [
    {
     "data": {
      "text/plain": [
       "\"The Dormouse's story\""
      ]
     },
     "execution_count": 15,
     "metadata": {},
     "output_type": "execute_result"
    }
   ],
   "source": [
    "title_tag.string"
   ]
  },
  {
   "cell_type": "markdown",
   "id": "literary-archives",
   "metadata": {},
   "source": [
    "If a tag’s only child is another tag, and that tag has a .string, then the parent tag is considered to have the same .string as its child:"
   ]
  },
  {
   "cell_type": "code",
   "execution_count": 17,
   "id": "major-lover",
   "metadata": {},
   "outputs": [
    {
     "data": {
      "text/plain": [
       "[<title>The Dormouse's story</title>]"
      ]
     },
     "execution_count": 17,
     "metadata": {},
     "output_type": "execute_result"
    }
   ],
   "source": [
    "head_tag.contents"
   ]
  },
  {
   "cell_type": "code",
   "execution_count": 18,
   "id": "handmade-kentucky",
   "metadata": {},
   "outputs": [
    {
     "data": {
      "text/plain": [
       "\"The Dormouse's story\""
      ]
     },
     "execution_count": 18,
     "metadata": {},
     "output_type": "execute_result"
    }
   ],
   "source": [
    "head_tag.string"
   ]
  },
  {
   "cell_type": "markdown",
   "id": "worthy-startup",
   "metadata": {},
   "source": [
    "If a tag contains more than one thing, then it’s not clear what .string should refer to, so .string is defined to be None:"
   ]
  },
  {
   "cell_type": "code",
   "execution_count": 21,
   "id": "expanded-offense",
   "metadata": {},
   "outputs": [
    {
     "name": "stdout",
     "output_type": "stream",
     "text": [
      "None\n"
     ]
    }
   ],
   "source": [
    "print(soup.html.string)"
   ]
  },
  {
   "cell_type": "markdown",
   "id": "american-violence",
   "metadata": {},
   "source": [
    "## .strings and stripped_strings\n",
    "\n",
    "If there’s more than one thing inside a tag, you can still look at just the strings. Use the .strings generator:"
   ]
  },
  {
   "cell_type": "code",
   "execution_count": 23,
   "id": "single-gambling",
   "metadata": {},
   "outputs": [
    {
     "data": {
      "text/plain": [
       "<generator object Tag._all_strings at 0x0000020E60B146D0>"
      ]
     },
     "execution_count": 23,
     "metadata": {},
     "output_type": "execute_result"
    }
   ],
   "source": [
    "soup.strings"
   ]
  },
  {
   "cell_type": "code",
   "execution_count": 24,
   "id": "careful-cooking",
   "metadata": {},
   "outputs": [
    {
     "data": {
      "text/plain": [
       "generator"
      ]
     },
     "execution_count": 24,
     "metadata": {},
     "output_type": "execute_result"
    }
   ],
   "source": [
    "type(soup.strings)"
   ]
  },
  {
   "cell_type": "code",
   "execution_count": 26,
   "id": "musical-organization",
   "metadata": {},
   "outputs": [
    {
     "name": "stdout",
     "output_type": "stream",
     "text": [
      "\"The Dormouse's story\"\n",
      "'\\n'\n",
      "'\\n'\n",
      "\"The Dormouse's story\"\n",
      "'\\n'\n",
      "'Once upon a time there were three little sisters; and their names were\\n'\n",
      "'Elsie'\n",
      "',\\n'\n",
      "'Lacie'\n",
      "' and\\n'\n",
      "'Tillie'\n",
      "';\\nand they lived at the bottom of a well.'\n",
      "'\\n'\n",
      "'...'\n",
      "'\\n'\n"
     ]
    }
   ],
   "source": [
    "for string in soup.strings:\n",
    "    print(repr(string))"
   ]
  },
  {
   "cell_type": "markdown",
   "id": "fifty-andorra",
   "metadata": {},
   "source": [
    "These strings tend to have a lot of extra whitespace, which you can remove by using the `.stripped_strings` generator instead:"
   ]
  },
  {
   "cell_type": "code",
   "execution_count": 29,
   "id": "popular-lucas",
   "metadata": {},
   "outputs": [
    {
     "name": "stdout",
     "output_type": "stream",
     "text": [
      "\"The Dormouse's story\"\n",
      "\"The Dormouse's story\"\n",
      "'Once upon a time there were three little sisters; and their names were'\n",
      "'Elsie'\n",
      "','\n",
      "'Lacie'\n",
      "'and'\n",
      "'Tillie'\n",
      "';\\nand they lived at the bottom of a well.'\n",
      "'...'\n"
     ]
    }
   ],
   "source": [
    "for string in soup.stripped_strings:\n",
    "    print(repr(string))"
   ]
  },
  {
   "cell_type": "markdown",
   "id": "double-banner",
   "metadata": {},
   "source": [
    "Here, strings consisting entirely of whitespace are ignored, and whitespace at the beginning and end of strings is removed."
   ]
  },
  {
   "cell_type": "markdown",
   "id": "found-export",
   "metadata": {},
   "source": [
    "## Going up\n",
    "\n",
    "Continuing the “family tree” analogy, every tag and every string has a parent: the tag that contains it."
   ]
  },
  {
   "cell_type": "markdown",
   "id": "intensive-lighting",
   "metadata": {},
   "source": [
    "### .parent"
   ]
  },
  {
   "cell_type": "markdown",
   "id": "technical-murray",
   "metadata": {},
   "source": [
    "You can access an element’s parent with the .parent attribute. In the example “three sisters” document, the `<head>` tag is the parent of the `<title>` tag:"
   ]
  },
  {
   "cell_type": "code",
   "execution_count": 30,
   "id": "enormous-discussion",
   "metadata": {},
   "outputs": [
    {
     "data": {
      "text/plain": [
       "<title>The Dormouse's story</title>"
      ]
     },
     "execution_count": 30,
     "metadata": {},
     "output_type": "execute_result"
    }
   ],
   "source": [
    "title = soup.title\n",
    "title"
   ]
  },
  {
   "cell_type": "code",
   "execution_count": 31,
   "id": "sustained-reynolds",
   "metadata": {},
   "outputs": [
    {
     "data": {
      "text/plain": [
       "<head><title>The Dormouse's story</title></head>"
      ]
     },
     "execution_count": 31,
     "metadata": {},
     "output_type": "execute_result"
    }
   ],
   "source": [
    "title.parent"
   ]
  },
  {
   "cell_type": "markdown",
   "id": "harmful-party",
   "metadata": {},
   "source": [
    "The title string itself has a parent: the `<title>` tag that contains it:"
   ]
  },
  {
   "cell_type": "code",
   "execution_count": 32,
   "id": "timely-utilization",
   "metadata": {},
   "outputs": [
    {
     "data": {
      "text/plain": [
       "<title>The Dormouse's story</title>"
      ]
     },
     "execution_count": 32,
     "metadata": {},
     "output_type": "execute_result"
    }
   ],
   "source": [
    "title.string.parent"
   ]
  },
  {
   "cell_type": "markdown",
   "id": "accepted-enemy",
   "metadata": {},
   "source": [
    "The parent of a top-level tag like `<html>` is the BeautifulSoup object itself:"
   ]
  },
  {
   "cell_type": "code",
   "execution_count": 34,
   "id": "spread-accountability",
   "metadata": {},
   "outputs": [
    {
     "data": {
      "text/plain": [
       "<html><head><title>The Dormouse's story</title></head>\n",
       "<body>\n",
       "<p class=\"title\"><b>The Dormouse's story</b></p>\n",
       "<p class=\"story\">Once upon a time there were three little sisters; and their names were\n",
       "<a class=\"sister\" href=\"http://example.com/elsie\" id=\"link1\">Elsie</a>,\n",
       "<a class=\"sister\" href=\"http://example.com/lacie\" id=\"link2\">Lacie</a> and\n",
       "<a class=\"sister\" href=\"http://example.com/tillie\" id=\"link3\">Tillie</a>;\n",
       "and they lived at the bottom of a well.</p>\n",
       "<p class=\"story\">...</p>\n",
       "</body></html>"
      ]
     },
     "execution_count": 34,
     "metadata": {},
     "output_type": "execute_result"
    }
   ],
   "source": [
    "html_tag = soup.html\n",
    "html_tag"
   ]
  },
  {
   "cell_type": "code",
   "execution_count": 35,
   "id": "pharmaceutical-physiology",
   "metadata": {},
   "outputs": [
    {
     "data": {
      "text/plain": [
       "<html><head><title>The Dormouse's story</title></head>\n",
       "<body>\n",
       "<p class=\"title\"><b>The Dormouse's story</b></p>\n",
       "<p class=\"story\">Once upon a time there were three little sisters; and their names were\n",
       "<a class=\"sister\" href=\"http://example.com/elsie\" id=\"link1\">Elsie</a>,\n",
       "<a class=\"sister\" href=\"http://example.com/lacie\" id=\"link2\">Lacie</a> and\n",
       "<a class=\"sister\" href=\"http://example.com/tillie\" id=\"link3\">Tillie</a>;\n",
       "and they lived at the bottom of a well.</p>\n",
       "<p class=\"story\">...</p>\n",
       "</body></html>"
      ]
     },
     "execution_count": 35,
     "metadata": {},
     "output_type": "execute_result"
    }
   ],
   "source": [
    "html_tag.parent"
   ]
  },
  {
   "cell_type": "code",
   "execution_count": 36,
   "id": "english-commerce",
   "metadata": {},
   "outputs": [
    {
     "data": {
      "text/plain": [
       "bs4.BeautifulSoup"
      ]
     },
     "execution_count": 36,
     "metadata": {},
     "output_type": "execute_result"
    }
   ],
   "source": [
    "type(html_tag.parent)"
   ]
  },
  {
   "cell_type": "markdown",
   "id": "offensive-hartford",
   "metadata": {},
   "source": [
    "And the .parent of a BeautifulSoup object is defined as None:"
   ]
  },
  {
   "cell_type": "code",
   "execution_count": 38,
   "id": "hydraulic-transformation",
   "metadata": {},
   "outputs": [
    {
     "name": "stdout",
     "output_type": "stream",
     "text": [
      "None\n"
     ]
    }
   ],
   "source": [
    "print(soup.parent)"
   ]
  },
  {
   "cell_type": "markdown",
   "id": "random-habitat",
   "metadata": {},
   "source": [
    "## .parents\n",
    "\n",
    "You can iterate over all of an element’s parents with .parents. This example uses .parents to travel from an <a> tag buried deep within the document, to the very top of the document:\n",
    "\n"
   ]
  },
  {
   "cell_type": "code",
   "execution_count": 39,
   "id": "floppy-chambers",
   "metadata": {},
   "outputs": [
    {
     "data": {
      "text/plain": [
       "<a class=\"sister\" href=\"http://example.com/elsie\" id=\"link1\">Elsie</a>"
      ]
     },
     "execution_count": 39,
     "metadata": {},
     "output_type": "execute_result"
    }
   ],
   "source": [
    "link = soup.a\n",
    "link"
   ]
  },
  {
   "cell_type": "code",
   "execution_count": 41,
   "id": "emerging-shame",
   "metadata": {},
   "outputs": [
    {
     "data": {
      "text/plain": [
       "<generator object PageElement.parents at 0x0000020E60DC9270>"
      ]
     },
     "execution_count": 41,
     "metadata": {},
     "output_type": "execute_result"
    }
   ],
   "source": [
    "link.parents"
   ]
  },
  {
   "cell_type": "code",
   "execution_count": 43,
   "id": "republican-suspension",
   "metadata": {},
   "outputs": [
    {
     "name": "stdout",
     "output_type": "stream",
     "text": [
      "p\n",
      "body\n",
      "html\n",
      "[document]\n"
     ]
    }
   ],
   "source": [
    "for parent in link.parents:\n",
    "    print(parent.name)"
   ]
  },
  {
   "cell_type": "markdown",
   "id": "sought-school",
   "metadata": {},
   "source": [
    "## Going sideways\n"
   ]
  },
  {
   "cell_type": "markdown",
   "id": "structured-yellow",
   "metadata": {},
   "source": [
    "Consider a simple document like this:"
   ]
  },
  {
   "cell_type": "code",
   "execution_count": 44,
   "id": "municipal-wholesale",
   "metadata": {},
   "outputs": [
    {
     "name": "stdout",
     "output_type": "stream",
     "text": [
      "<a>\n",
      " <b>\n",
      "  text1\n",
      " </b>\n",
      " <c>\n",
      "  text2\n",
      " </c>\n",
      "</a>\n"
     ]
    }
   ],
   "source": [
    "sibling_soup = BeautifulSoup(\"<a><b>text1</b><c>text2</c></b></a>\", 'html.parser')\n",
    "print(sibling_soup.prettify())"
   ]
  },
  {
   "cell_type": "markdown",
   "id": "average-baseball",
   "metadata": {},
   "source": [
    "The `<b>` tag and the `<c>` tag are at the same level: they’re both direct children of the same tag. We call them siblings. When a document is pretty-printed, siblings show up at the same indentation level. You can also use this relationship in the code you write."
   ]
  },
  {
   "cell_type": "markdown",
   "id": "legitimate-praise",
   "metadata": {},
   "source": [
    "## .next_sibling and .previous_sibling"
   ]
  },
  {
   "cell_type": "markdown",
   "id": "angry-organ",
   "metadata": {},
   "source": [
    "You can use `.next_sibling` and `.previous_sibling` to navigate between page elements that are on the same level of the parse tree"
   ]
  },
  {
   "cell_type": "code",
   "execution_count": 45,
   "id": "engaging-nickname",
   "metadata": {},
   "outputs": [
    {
     "data": {
      "text/plain": [
       "<b>text1</b>"
      ]
     },
     "execution_count": 45,
     "metadata": {},
     "output_type": "execute_result"
    }
   ],
   "source": [
    "sibling_soup.b"
   ]
  },
  {
   "cell_type": "code",
   "execution_count": 46,
   "id": "threatened-companion",
   "metadata": {},
   "outputs": [
    {
     "data": {
      "text/plain": [
       "<a><b>text1</b><c>text2</c></a>"
      ]
     },
     "execution_count": 46,
     "metadata": {},
     "output_type": "execute_result"
    }
   ],
   "source": [
    "sibling_soup.b.parent"
   ]
  },
  {
   "cell_type": "code",
   "execution_count": 47,
   "id": "integrated-harmony",
   "metadata": {},
   "outputs": [
    {
     "data": {
      "text/plain": [
       "<a><b>text1</b><c>text2</c></a>"
      ]
     },
     "execution_count": 47,
     "metadata": {},
     "output_type": "execute_result"
    }
   ],
   "source": [
    "sibling_soup.c.parent"
   ]
  },
  {
   "cell_type": "code",
   "execution_count": 48,
   "id": "invisible-processing",
   "metadata": {},
   "outputs": [
    {
     "data": {
      "text/plain": [
       "<c>text2</c>"
      ]
     },
     "execution_count": 48,
     "metadata": {},
     "output_type": "execute_result"
    }
   ],
   "source": [
    "sibling_soup.b.next_sibling"
   ]
  },
  {
   "cell_type": "code",
   "execution_count": 49,
   "id": "further-architecture",
   "metadata": {},
   "outputs": [
    {
     "data": {
      "text/plain": [
       "<b>text1</b>"
      ]
     },
     "execution_count": 49,
     "metadata": {},
     "output_type": "execute_result"
    }
   ],
   "source": [
    "sibling_soup.c.previous_sibling"
   ]
  },
  {
   "cell_type": "code",
   "execution_count": 51,
   "id": "concrete-petersburg",
   "metadata": {},
   "outputs": [
    {
     "name": "stdout",
     "output_type": "stream",
     "text": [
      "None\n"
     ]
    }
   ],
   "source": [
    "print(sibling_soup.c.next_sibling)"
   ]
  },
  {
   "cell_type": "code",
   "execution_count": 52,
   "id": "consistent-sport",
   "metadata": {},
   "outputs": [
    {
     "name": "stdout",
     "output_type": "stream",
     "text": [
      "None\n"
     ]
    }
   ],
   "source": [
    "print(sibling_soup.b.previous_sibling)"
   ]
  },
  {
   "cell_type": "markdown",
   "id": "assisted-toyota",
   "metadata": {},
   "source": [
    "The `<b>` tag has a `.next_sibling`, but no `.previous_sibling`, because there’s nothing before the `<b>` tag on the same level of the tree. For the same reason, the `<c>` tag has a `.previous_sibling` but no `.next_sibling`:"
   ]
  },
  {
   "cell_type": "markdown",
   "id": "accessible-responsibility",
   "metadata": {},
   "source": [
    "The strings “text1” and “text2” are not siblings, because they don’t have the same parent:"
   ]
  },
  {
   "cell_type": "code",
   "execution_count": 53,
   "id": "framed-cherry",
   "metadata": {},
   "outputs": [
    {
     "data": {
      "text/plain": [
       "'text1'"
      ]
     },
     "execution_count": 53,
     "metadata": {},
     "output_type": "execute_result"
    }
   ],
   "source": [
    "sibling_soup.b.string"
   ]
  },
  {
   "cell_type": "code",
   "execution_count": 54,
   "id": "eight-break",
   "metadata": {},
   "outputs": [
    {
     "data": {
      "text/plain": [
       "'text2'"
      ]
     },
     "execution_count": 54,
     "metadata": {},
     "output_type": "execute_result"
    }
   ],
   "source": [
    "sibling_soup.c.string"
   ]
  },
  {
   "cell_type": "code",
   "execution_count": 57,
   "id": "amino-momentum",
   "metadata": {},
   "outputs": [
    {
     "name": "stdout",
     "output_type": "stream",
     "text": [
      "None\n"
     ]
    }
   ],
   "source": [
    "print(sibling_soup.c.string.next_sibling)"
   ]
  },
  {
   "cell_type": "code",
   "execution_count": 58,
   "id": "damaged-cooking",
   "metadata": {},
   "outputs": [
    {
     "name": "stdout",
     "output_type": "stream",
     "text": [
      "None\n"
     ]
    }
   ],
   "source": [
    "print(sibling_soup.c.string.previous_sibling)"
   ]
  },
  {
   "cell_type": "markdown",
   "id": "characteristic-polyester",
   "metadata": {},
   "source": [
    "In real documents, the .next_sibling or .previous_sibling of a tag will usually be a string containing whitespace. Going back to the “three sisters” document:"
   ]
  },
  {
   "cell_type": "markdown",
   "id": "opponent-lyric",
   "metadata": {},
   "source": [
    "You can see the rest of the important topic in the BeautifulSoup docummentaion https://www.crummy.com/software/BeautifulSoup/bs4/doc/"
   ]
  },
  {
   "cell_type": "markdown",
   "id": "regular-cisco",
   "metadata": {},
   "source": [
    "## Searching the tree\n",
    "\n",
    "Beautiful Soup defines a lot of methods for searching the parse tree, but they’re all very similar. I’m going to spend a lot of time explaining the two most popular methods: `find()` and `find_all()`. The other methods take almost exactly the same arguments, so I’ll just cover them briefly.\n"
   ]
  },
  {
   "cell_type": "markdown",
   "id": "limiting-yorkshire",
   "metadata": {},
   "source": [
    "\n",
    "By passing in a filter to an argument like find_all(), you can zoom in on the parts of the document you’re interested in."
   ]
  },
  {
   "cell_type": "markdown",
   "id": "clean-reasoning",
   "metadata": {},
   "source": [
    "## Kinds of filters \n",
    "Before talking in detail about find_all() and similar methods, I want to show examples of different filters you can pass into these methods. These filters show up again and again, throughout the search API. You can use them to filter based on a tag’s name, on its attributes, on the text of a string, or on some combination of these."
   ]
  },
  {
   "cell_type": "markdown",
   "id": "voluntary-western",
   "metadata": {},
   "source": [
    "### A string\n",
    "\n",
    "The simplest filter is a string. Pass a string to a search method and Beautiful Soup will perform a match against that exact string. This code finds all the `<b>` tags in the document:\n",
    "    "
   ]
  },
  {
   "cell_type": "code",
   "execution_count": 61,
   "id": "silver-humanity",
   "metadata": {},
   "outputs": [
    {
     "data": {
      "text/plain": [
       "[<b>The Dormouse's story</b>]"
      ]
     },
     "execution_count": 61,
     "metadata": {},
     "output_type": "execute_result"
    }
   ],
   "source": [
    "soup.find_all('b')"
   ]
  },
  {
   "cell_type": "code",
   "execution_count": 62,
   "id": "regulated-professional",
   "metadata": {},
   "outputs": [
    {
     "data": {
      "text/plain": [
       "[<a class=\"sister\" href=\"http://example.com/elsie\" id=\"link1\">Elsie</a>,\n",
       " <a class=\"sister\" href=\"http://example.com/lacie\" id=\"link2\">Lacie</a>,\n",
       " <a class=\"sister\" href=\"http://example.com/tillie\" id=\"link3\">Tillie</a>]"
      ]
     },
     "execution_count": 62,
     "metadata": {},
     "output_type": "execute_result"
    }
   ],
   "source": [
    "soup.find_all('a')"
   ]
  },
  {
   "cell_type": "markdown",
   "id": "blond-brighton",
   "metadata": {},
   "source": [
    "If you pass in a byte string, Beautiful Soup will assume the string is encoded as UTF-8. You can avoid this by passing in a Unicode string instead."
   ]
  },
  {
   "cell_type": "markdown",
   "id": "extreme-repository",
   "metadata": {},
   "source": [
    "## A regular expression\n",
    "\n",
    "If you pass in a regular expression object, Beautiful Soup will filter against that regular expression using its `search()` method. This code finds all the tags whose names start with the letter `“b”`; in this case, the `<body>` tag and the `<b>` tag:"
   ]
  },
  {
   "cell_type": "code",
   "execution_count": 63,
   "id": "whole-ecuador",
   "metadata": {},
   "outputs": [
    {
     "data": {
      "text/plain": [
       "[<body>\n",
       " <p class=\"title\"><b>The Dormouse's story</b></p>\n",
       " <p class=\"story\">Once upon a time there were three little sisters; and their names were\n",
       " <a class=\"sister\" href=\"http://example.com/elsie\" id=\"link1\">Elsie</a>,\n",
       " <a class=\"sister\" href=\"http://example.com/lacie\" id=\"link2\">Lacie</a> and\n",
       " <a class=\"sister\" href=\"http://example.com/tillie\" id=\"link3\">Tillie</a>;\n",
       " and they lived at the bottom of a well.</p>\n",
       " <p class=\"story\">...</p>\n",
       " </body>,\n",
       " <b>The Dormouse's story</b>]"
      ]
     },
     "execution_count": 63,
     "metadata": {},
     "output_type": "execute_result"
    }
   ],
   "source": [
    "import re\n",
    "soup.find_all(re.compile('^b'))"
   ]
  },
  {
   "cell_type": "code",
   "execution_count": 65,
   "id": "white-vintage",
   "metadata": {},
   "outputs": [
    {
     "name": "stdout",
     "output_type": "stream",
     "text": [
      "body\n",
      "b\n"
     ]
    }
   ],
   "source": [
    "for tag in soup.find_all(re.compile('^b')):\n",
    "    print(tag.name)"
   ]
  },
  {
   "cell_type": "markdown",
   "id": "floral-relay",
   "metadata": {},
   "source": [
    "This code finds all the tags whose names contain the letter ‘t’:"
   ]
  },
  {
   "cell_type": "code",
   "execution_count": 67,
   "id": "english-delhi",
   "metadata": {},
   "outputs": [
    {
     "name": "stdout",
     "output_type": "stream",
     "text": [
      "html\n",
      "title\n"
     ]
    }
   ],
   "source": [
    "for tag in soup.find_all(re.compile('t')):\n",
    "    print(tag.name)"
   ]
  },
  {
   "cell_type": "markdown",
   "id": "russian-newport",
   "metadata": {},
   "source": [
    "## A list\n",
    "\n",
    "If you pass in a list, Beautiful Soup will allow a string match against any item in that list. This code finds all the `<a>` tags and all the `<b>` tags:"
   ]
  },
  {
   "cell_type": "code",
   "execution_count": 68,
   "id": "optional-textbook",
   "metadata": {},
   "outputs": [
    {
     "data": {
      "text/plain": [
       "[<b>The Dormouse's story</b>,\n",
       " <a class=\"sister\" href=\"http://example.com/elsie\" id=\"link1\">Elsie</a>,\n",
       " <a class=\"sister\" href=\"http://example.com/lacie\" id=\"link2\">Lacie</a>,\n",
       " <a class=\"sister\" href=\"http://example.com/tillie\" id=\"link3\">Tillie</a>]"
      ]
     },
     "execution_count": 68,
     "metadata": {},
     "output_type": "execute_result"
    }
   ],
   "source": [
    "soup.find_all(['a','b'])"
   ]
  },
  {
   "cell_type": "markdown",
   "id": "reserved-desktop",
   "metadata": {},
   "source": [
    "## True\n",
    "\n",
    "The value True matches everything it can. This code finds all the tags in the document, but none of the text strings:"
   ]
  },
  {
   "cell_type": "code",
   "execution_count": 69,
   "id": "adaptive-foster",
   "metadata": {},
   "outputs": [
    {
     "name": "stdout",
     "output_type": "stream",
     "text": [
      "html\n",
      "head\n",
      "title\n",
      "body\n",
      "p\n",
      "b\n",
      "p\n",
      "a\n",
      "a\n",
      "a\n",
      "p\n"
     ]
    }
   ],
   "source": [
    "for tag in soup.find_all(True):\n",
    "    print(tag.name)"
   ]
  },
  {
   "cell_type": "markdown",
   "id": "furnished-skill",
   "metadata": {},
   "source": [
    "## A function\n",
    "\n",
    "read more about in this link https://www.crummy.com/software/BeautifulSoup/bs4/doc/"
   ]
  },
  {
   "cell_type": "code",
   "execution_count": 70,
   "id": "secure-borough",
   "metadata": {},
   "outputs": [
    {
     "data": {
      "text/plain": [
       "'Once upon a time there were three little sisters; and their names were\\n'"
      ]
     },
     "execution_count": 70,
     "metadata": {},
     "output_type": "execute_result"
    }
   ],
   "source": [
    "soup.find(string=re.compile(\"sisters\"))"
   ]
  },
  {
   "cell_type": "markdown",
   "id": "backed-retail",
   "metadata": {},
   "source": [
    "please refer to the docummentaion for more details."
   ]
  },
  {
   "cell_type": "markdown",
   "id": "royal-country",
   "metadata": {},
   "source": [
    "https://www.crummy.com/software/BeautifulSoup/bs4/doc/"
   ]
  },
  {
   "cell_type": "code",
   "execution_count": null,
   "id": "qualified-proxy",
   "metadata": {},
   "outputs": [],
   "source": []
  }
 ],
 "metadata": {
  "kernelspec": {
   "display_name": "Python 3",
   "language": "python",
   "name": "python3"
  },
  "language_info": {
   "codemirror_mode": {
    "name": "ipython",
    "version": 3
   },
   "file_extension": ".py",
   "mimetype": "text/x-python",
   "name": "python",
   "nbconvert_exporter": "python",
   "pygments_lexer": "ipython3",
   "version": "3.8.8"
  }
 },
 "nbformat": 4,
 "nbformat_minor": 5
}
