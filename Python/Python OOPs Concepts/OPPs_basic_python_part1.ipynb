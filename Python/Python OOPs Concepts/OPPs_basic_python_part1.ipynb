{
 "cells": [
  {
   "cell_type": "markdown",
   "id": "logical-chemical",
   "metadata": {},
   "source": [
    "# Python OOPs Concepts\n",
    "Like other general-purpose programming languages, Python is also an object-oriented language since its beginning. It allows us to develop applications using an Object-Oriented approach. In Python, we can easily create and use classes and objects.\n",
    "\n",
    "An object-oriented paradigm is to design the program using classes and objects. The object is related to real-word entities such as book, house, pencil, etc. The oops concept focuses on writing the reusable code. It is a widespread technique to solve the problem by creating objects.\n",
    "\n",
    "Major principles of object-oriented programming system are given below.\n",
    "\n",
    "- Class\n",
    "- Object\n",
    "- Method\n",
    "- Inheritance\n",
    "- Polymorphism\n",
    "- Data Abstraction\n",
    "- Encapsulation"
   ]
  },
  {
   "cell_type": "markdown",
   "id": "historic-validity",
   "metadata": {},
   "source": [
    "# Class\n",
    "The class can be defined as a `collection of objects`. It is a logical entity that `has some specific attributes and methods`. For example: if you have an employee class, then it should contain an attribute and method, i.e. an email id, name, age, salary, etc.\n",
    "\n",
    "## Syntax\n",
    "<code>`class ClassName:\n",
    "        <statement-1>     \n",
    "        <statement-N>`</code>"
   ]
  },
  {
   "cell_type": "code",
   "execution_count": 1,
   "id": "plastic-arthur",
   "metadata": {},
   "outputs": [],
   "source": [
    "class pratice:\n",
    "    pass"
   ]
  },
  {
   "cell_type": "markdown",
   "id": "nasty-southwest",
   "metadata": {},
   "source": [
    "## Object\n",
    "The object is `an entity that has state and behavior`. It may be any real-world object like the mouse, keyboard, chair, table, pen, etc.\n",
    "\n",
    "Everything in Python is an object, and almost everything has attributes and methods. All functions have a built-in attribute __doc__, which returns the docstring defined in the function source code.\n",
    "\n",
    "When we define a class, it needs to create an object to allocate the memory. Consider the following example."
   ]
  },
  {
   "cell_type": "code",
   "execution_count": 2,
   "id": "disciplinary-flavor",
   "metadata": {},
   "outputs": [],
   "source": [
    "class car:\n",
    "    def __init__(self, model_name, year):\n",
    "        self.model_name = model_name\n",
    "        self.year = year\n",
    "        \n",
    "    def display_car_info(self):\n",
    "        print(self.model_name)\n",
    "        print(self.year)"
   ]
  },
  {
   "cell_type": "code",
   "execution_count": 4,
   "id": "opposite-disorder",
   "metadata": {},
   "outputs": [],
   "source": [
    "car_object = car('BMW', 2021)"
   ]
  },
  {
   "cell_type": "code",
   "execution_count": 6,
   "id": "instrumental-monkey",
   "metadata": {},
   "outputs": [
    {
     "data": {
      "text/plain": [
       "<bound method car.display_car_info of <__main__.car object at 0x000001A9E3CA7EE0>>"
      ]
     },
     "execution_count": 6,
     "metadata": {},
     "output_type": "execute_result"
    }
   ],
   "source": [
    "car_object.display_car_info"
   ]
  },
  {
   "cell_type": "code",
   "execution_count": 7,
   "id": "selective-victorian",
   "metadata": {},
   "outputs": [
    {
     "data": {
      "text/plain": [
       "'BMW'"
      ]
     },
     "execution_count": 7,
     "metadata": {},
     "output_type": "execute_result"
    }
   ],
   "source": [
    "car_object.model_name"
   ]
  },
  {
   "cell_type": "code",
   "execution_count": 8,
   "id": "lesser-third",
   "metadata": {},
   "outputs": [],
   "source": [
    "car_object.model_name = 'Suzaki'"
   ]
  },
  {
   "cell_type": "code",
   "execution_count": 10,
   "id": "lonely-football",
   "metadata": {},
   "outputs": [
    {
     "name": "stdout",
     "output_type": "stream",
     "text": [
      "Suzaki\n",
      "2021\n"
     ]
    }
   ],
   "source": [
    "car_object.display_car_info()"
   ]
  },
  {
   "cell_type": "code",
   "execution_count": 11,
   "id": "artistic-version",
   "metadata": {},
   "outputs": [
    {
     "data": {
      "text/plain": [
       "'Suzaki'"
      ]
     },
     "execution_count": 11,
     "metadata": {},
     "output_type": "execute_result"
    }
   ],
   "source": [
    "car_object.model_name"
   ]
  },
  {
   "cell_type": "markdown",
   "id": "enabling-groove",
   "metadata": {},
   "source": [
    "## Method\n",
    "The method is a function that is associated with an object. In Python, a method is not unique to class instances. Any object type can have methods."
   ]
  },
  {
   "cell_type": "markdown",
   "id": "earlier-minimum",
   "metadata": {},
   "source": [
    "## Inheritance\n",
    "Inheritance is the most important aspect of object-oriented programming, which simulates the real-world concept of inheritance. It specifies that the child object acquires all the properties and behaviors of the parent object.\n",
    "\n",
    "By using inheritance, we can create a class which uses all the properties and behavior of another class. The new class is known as a derived class or child class, and the one whose properties are acquired is known as a base class or parent class.\n",
    "\n",
    "It provides the re-usability of the code."
   ]
  },
  {
   "cell_type": "markdown",
   "id": "instructional-apartment",
   "metadata": {},
   "source": [
    "# Polymorphism\n",
    "Polymorphism contains two words \"poly\" and \"morphs\". Poly means many, and morph means shape. By polymorphism, we understand that one task can be performed in different ways. For example - you have a class animal, and all animals speak. But they speak differently. Here, the \"speak\" behavior is polymorphic in a sense and depends on the animal. So, the abstract \"animal\" concept does not actually \"speak\", but specific animals (like dogs and cats) have a concrete implementation of the action \"speak\"."
   ]
  },
  {
   "cell_type": "markdown",
   "id": "single-porter",
   "metadata": {},
   "source": [
    "## Encapsulation\n",
    "Encapsulation is also an essential aspect of object-oriented programming. It is used to restrict access to methods and variables. In encapsulation, code and data are wrapped together within a single unit from being modified by accident."
   ]
  },
  {
   "cell_type": "markdown",
   "id": "valued-cooking",
   "metadata": {},
   "source": [
    "## Data Abstraction\n",
    "Data abstraction and encapsulation both are often used as synonyms. Both are nearly synonyms because data abstraction is achieved through encapsulation.\n",
    "\n",
    "Abstraction is used to hide internal details and show only functionalities. Abstracting something means to give names to things so that the name captures the core of what a function or a whole program does."
   ]
  },
  {
   "cell_type": "markdown",
   "id": "reasonable-drink",
   "metadata": {},
   "source": [
    "https://www.javatpoint.com/python-oops-concepts"
   ]
  },
  {
   "cell_type": "markdown",
   "id": "alleged-procurement",
   "metadata": {},
   "source": [
    "## Python Class and Objects\n",
    "\n",
    "We have already discussed in previous tutorial, a class is a virtual entity and can be seen as a blueprint of an object. The class came into existence when it instantiated. Let's understand it by an example.\n",
    "\n",
    "Suppose a class is a prototype of a building. A building contains all the details about the floor, rooms, doors, windows, etc. we can make as many buildings as we want, based on these details. Hence, the building can be seen as a class, and we can create as many objects of this class.\n",
    "\n",
    "On the other hand, the object is the instance of a class. The process of creating an object can be called instantiation.\n",
    "\n"
   ]
  },
  {
   "cell_type": "markdown",
   "id": "freelance-cambridge",
   "metadata": {},
   "source": [
    "Here, the self is used as a reference variable, which refers to the current class object. It is always the first argument in the function definition. However, using self is optional in the function call."
   ]
  },
  {
   "cell_type": "markdown",
   "id": "raised-strategy",
   "metadata": {},
   "source": [
    "### The self-parameter\n",
    "The self-parameter refers to the current instance of the class and accesses the class variables. We can use anything instead of self, but it must be the first parameter of any function which belongs to the class."
   ]
  },
  {
   "cell_type": "markdown",
   "id": "broad-sandwich",
   "metadata": {},
   "source": [
    "https://www.javatpoint.com/python-objects-classes"
   ]
  },
  {
   "cell_type": "markdown",
   "id": "composed-witness",
   "metadata": {},
   "source": [
    "## Python Constructor\n",
    "A constructor is a special type of method (function) which is used to initialize the instance members of the class.\n",
    "\n",
    "In C++ or Java, the constructor has the same name as its class, but it treats constructor differently in Python. It is used to create an object.\n",
    "\n",
    "Constructors can be of two types.\n",
    "\n",
    "- Parameterized Constructor\n",
    "- Non-parameterized Constructor"
   ]
  },
  {
   "cell_type": "markdown",
   "id": "electric-botswana",
   "metadata": {},
   "source": [
    "## Creating the constructor in python\n",
    "In Python, the method the __init__() simulates the constructor of the class. This method is called when the class is instantiated. It accepts the self-keyword as a first argument which allows accessing the attributes or method of the class.\n",
    "\n",
    "We can pass any number of arguments at the time of creating the class object, depending upon the __init__() definition. It is mostly used to initialize the class attributes. Every class must have a constructor, even if it simply relies on the default constructor.\n",
    "\n",
    "Consider the following example to initialize the Employee class attributes."
   ]
  },
  {
   "cell_type": "code",
   "execution_count": 17,
   "id": "protecting-messaging",
   "metadata": {},
   "outputs": [],
   "source": [
    "class Employee:\n",
    "    def display(self):\n",
    "        print('Hi')"
   ]
  },
  {
   "cell_type": "code",
   "execution_count": 18,
   "id": "younger-battery",
   "metadata": {},
   "outputs": [],
   "source": [
    "emp_obj = Employee()"
   ]
  },
  {
   "cell_type": "code",
   "execution_count": 20,
   "id": "senior-windows",
   "metadata": {},
   "outputs": [
    {
     "name": "stdout",
     "output_type": "stream",
     "text": [
      "Hi\n"
     ]
    }
   ],
   "source": [
    "emp_obj.display()"
   ]
  },
  {
   "cell_type": "code",
   "execution_count": 32,
   "id": "double-diagram",
   "metadata": {},
   "outputs": [],
   "source": [
    "class Employee:\n",
    "\n",
    "    def __init__(self,name,age,salary):\n",
    "        self.name = name\n",
    "        self.age = age\n",
    "        self.salary = salary\n",
    "    \n",
    "    def employee_info(self):\n",
    "        print(self.name)\n",
    "        print(self.age)\n",
    "        print(self.salary)\n",
    "    \n",
    "    def name_display(self):\n",
    "        print(self.name)"
   ]
  },
  {
   "cell_type": "code",
   "execution_count": 33,
   "id": "protected-wichita",
   "metadata": {},
   "outputs": [],
   "source": [
    "emp_obj = Employee('nijat',25,10000)"
   ]
  },
  {
   "cell_type": "code",
   "execution_count": 34,
   "id": "infrared-plaza",
   "metadata": {},
   "outputs": [],
   "source": [
    "emp_obj = Employee('Nijatullah Mansoor', 25,100000)"
   ]
  },
  {
   "cell_type": "code",
   "execution_count": 35,
   "id": "right-milan",
   "metadata": {},
   "outputs": [
    {
     "name": "stdout",
     "output_type": "stream",
     "text": [
      "Nijatullah Mansoor\n",
      "25\n",
      "100000\n"
     ]
    }
   ],
   "source": [
    "emp_obj.employee_info()"
   ]
  },
  {
   "cell_type": "markdown",
   "id": "subtle-monaco",
   "metadata": {},
   "source": [
    "`Note: The constructor overloading is not allowed in Python.`"
   ]
  },
  {
   "cell_type": "code",
   "execution_count": 37,
   "id": "greek-israeli",
   "metadata": {},
   "outputs": [
    {
     "name": "stdout",
     "output_type": "stream",
     "text": [
      "None\n",
      "{'name': 'John', 'id': 101, 'age': 22}\n",
      "__main__\n"
     ]
    }
   ],
   "source": [
    "class Student:    \n",
    "    def __init__(self,name,id,age):    \n",
    "        self.name = name;    \n",
    "        self.id = id;    \n",
    "        self.age = age    \n",
    "    def display_details(self):    \n",
    "        print(\"Name:%s, ID:%d, age:%d\"%(self.name,self.id))    \n",
    "s = Student(\"John\",101,22)    \n",
    "print(s.__doc__)    \n",
    "print(s.__dict__)    \n",
    "print(s.__module__)    "
   ]
  },
  {
   "cell_type": "markdown",
   "id": "separated-study",
   "metadata": {},
   "source": [
    "https://www.javatpoint.com/python-constructors"
   ]
  },
  {
   "cell_type": "markdown",
   "id": "congressional-ethics",
   "metadata": {},
   "source": [
    "# Python Inheritance\n"
   ]
  },
  {
   "cell_type": "markdown",
   "id": "alone-solution",
   "metadata": {},
   "source": [
    "Inheritance is an important aspect of the object-oriented paradigm. Inheritance provides code reusability to the program because we can use an existing class to create a new class instead of creating it from scratch.\n",
    "\n",
    "In inheritance, the child class acquires the properties and can access all the data members and functions defined in the parent class. A child class can also provide its specific implementation to the functions of the parent class. In this section of the tutorial, we will discuss inheritance in detail.\n",
    "\n",
    "In python, a derived class can inherit base class by just mentioning the base in the bracket after the derived class name. Consider the following syntax to inherit a base class into the derived class.\n",
    "\n",
    "<img src='https://static.javatpoint.com/python/images/python-inheritance.png'>\n",
    "\n",
    "<code>Syntax\n",
    "class derived-class(base class):  \n",
    "    pass</code>\n",
    "    "
   ]
  },
  {
   "cell_type": "markdown",
   "id": "micro-czech",
   "metadata": {},
   "source": [
    "A class can inherit multiple classes by mentioning all of them inside the bracket. Consider the following syntax.\n",
    "\n",
    "<code>Syntax\n",
    "class derive-class(`<base class 1>`, `<base class 2>`, ..... `<base class n>`):  \n",
    "    pass</code>"
   ]
  },
  {
   "cell_type": "code",
   "execution_count": 2,
   "id": "killing-sleeping",
   "metadata": {},
   "outputs": [],
   "source": [
    "class parent_class:\n",
    "    parent_name = 'Said Hassan'\n",
    "    parent_age = 70\n",
    "    "
   ]
  },
  {
   "cell_type": "code",
   "execution_count": 3,
   "id": "standing-treaty",
   "metadata": {},
   "outputs": [],
   "source": [
    "class child_class(parent_class):\n",
    "    child_name = 'Mansoor'\n",
    "    child_age = 25"
   ]
  },
  {
   "cell_type": "code",
   "execution_count": 4,
   "id": "integrated-tractor",
   "metadata": {},
   "outputs": [],
   "source": [
    "child_class_object = child_class()"
   ]
  },
  {
   "cell_type": "code",
   "execution_count": 5,
   "id": "built-speech",
   "metadata": {},
   "outputs": [
    {
     "data": {
      "text/plain": [
       "'Said Hassan'"
      ]
     },
     "execution_count": 5,
     "metadata": {},
     "output_type": "execute_result"
    }
   ],
   "source": [
    "child_class_object.parent_name\n"
   ]
  },
  {
   "cell_type": "code",
   "execution_count": 6,
   "id": "continuing-premium",
   "metadata": {},
   "outputs": [
    {
     "data": {
      "text/plain": [
       "'Mansoor'"
      ]
     },
     "execution_count": 6,
     "metadata": {},
     "output_type": "execute_result"
    }
   ],
   "source": [
    "child_class_object.child_name"
   ]
  },
  {
   "cell_type": "code",
   "execution_count": 7,
   "id": "eleven-format",
   "metadata": {},
   "outputs": [
    {
     "name": "stdout",
     "output_type": "stream",
     "text": [
      "25\n",
      "70\n"
     ]
    }
   ],
   "source": [
    "print(child_class_object.child_age)\n",
    "print(child_class_object.parent_age)"
   ]
  },
  {
   "cell_type": "markdown",
   "id": "saved-scholarship",
   "metadata": {},
   "source": [
    "# Python Multi-Level inheritance\n",
    "\n",
    "Multi-Level inheritance is possible in python like other object-oriented languages. Multi-level inheritance is archived when a derived class inherits another derived class. There is no limit on the number of levels up to which, the multi-level inheritance is archived in python.\n",
    "\n",
    "<img src='https://static.javatpoint.com/python/images/python-inheritance2.png'>"
   ]
  },
  {
   "cell_type": "code",
   "execution_count": 8,
   "id": "favorite-steam",
   "metadata": {},
   "outputs": [],
   "source": [
    "class grand_child_class(child_class):\n",
    "    grand_child_name = 'Omar'\n",
    "    grand_child_age = 4"
   ]
  },
  {
   "cell_type": "code",
   "execution_count": 9,
   "id": "sixth-terrorism",
   "metadata": {},
   "outputs": [],
   "source": [
    "grand_child_class_object = grand_child_class()"
   ]
  },
  {
   "cell_type": "code",
   "execution_count": 10,
   "id": "virtual-garage",
   "metadata": {},
   "outputs": [
    {
     "name": "stdout",
     "output_type": "stream",
     "text": [
      "Parent name: Said Hassan\n",
      "Child name: Mansoor\n",
      "Grand child name: Omar\n"
     ]
    }
   ],
   "source": [
    "print(\"Parent name:\",grand_child_class_object.parent_name)\n",
    "print(\"Child name:\", grand_child_class_object.child_name)\n",
    "print('Grand child name:',grand_child_class_object.grand_child_name)"
   ]
  },
  {
   "cell_type": "markdown",
   "id": "stable-postcard",
   "metadata": {},
   "source": [
    "## Python Multiple inheritance\n",
    "\n",
    "Python provides us the flexibility to inherit multiple base classes in the child class.\n",
    "<img src='https://static.javatpoint.com/python/images/python-inheritance3.png'>"
   ]
  },
  {
   "cell_type": "markdown",
   "id": "capital-second",
   "metadata": {},
   "source": [
    "<code>class Derived(Base1, Base2, ...... BaseN):  \n",
    "    pass</code>"
   ]
  },
  {
   "cell_type": "code",
   "execution_count": 14,
   "id": "given-moral",
   "metadata": {},
   "outputs": [],
   "source": [
    "class A1:\n",
    "    a1 = 'a1 class'"
   ]
  },
  {
   "cell_type": "code",
   "execution_count": 15,
   "id": "metallic-table",
   "metadata": {},
   "outputs": [],
   "source": [
    "class A2:\n",
    "    a2 = 'a2 class'\n",
    "    "
   ]
  },
  {
   "cell_type": "code",
   "execution_count": 16,
   "id": "cosmetic-enough",
   "metadata": {},
   "outputs": [],
   "source": [
    "class A3:\n",
    "    a3 = 'a3 class'"
   ]
  },
  {
   "cell_type": "code",
   "execution_count": 18,
   "id": "finite-mustang",
   "metadata": {},
   "outputs": [],
   "source": [
    "class A(A1,A2,A3):\n",
    "    a = 'a'"
   ]
  },
  {
   "cell_type": "code",
   "execution_count": 20,
   "id": "least-abuse",
   "metadata": {},
   "outputs": [],
   "source": [
    "a_class_object = A()"
   ]
  },
  {
   "cell_type": "code",
   "execution_count": 21,
   "id": "applicable-shopper",
   "metadata": {},
   "outputs": [
    {
     "data": {
      "text/plain": [
       "'a1 class'"
      ]
     },
     "execution_count": 21,
     "metadata": {},
     "output_type": "execute_result"
    }
   ],
   "source": [
    "a_class_object.a1"
   ]
  },
  {
   "cell_type": "code",
   "execution_count": 22,
   "id": "promotional-advance",
   "metadata": {},
   "outputs": [
    {
     "data": {
      "text/plain": [
       "'a2 class'"
      ]
     },
     "execution_count": 22,
     "metadata": {},
     "output_type": "execute_result"
    }
   ],
   "source": [
    "a_class_object.a2"
   ]
  },
  {
   "cell_type": "code",
   "execution_count": 23,
   "id": "selective-prairie",
   "metadata": {},
   "outputs": [
    {
     "data": {
      "text/plain": [
       "'a'"
      ]
     },
     "execution_count": 23,
     "metadata": {},
     "output_type": "execute_result"
    }
   ],
   "source": [
    "a_class_object.a"
   ]
  },
  {
   "cell_type": "code",
   "execution_count": 24,
   "id": "divided-hungary",
   "metadata": {},
   "outputs": [
    {
     "data": {
      "text/plain": [
       "'a3 class'"
      ]
     },
     "execution_count": 24,
     "metadata": {},
     "output_type": "execute_result"
    }
   ],
   "source": [
    "a_class_object.a3"
   ]
  },
  {
   "cell_type": "code",
   "execution_count": 25,
   "id": "synthetic-aquarium",
   "metadata": {},
   "outputs": [
    {
     "name": "stdout",
     "output_type": "stream",
     "text": [
      "30\n",
      "200\n",
      "0.5\n"
     ]
    }
   ],
   "source": [
    "class Calculation1:  \n",
    "    def Summation(self,a,b):  \n",
    "        return a+b;  \n",
    "class Calculation2:  \n",
    "    def Multiplication(self,a,b):  \n",
    "        return a*b;  \n",
    "class Derived(Calculation1,Calculation2):  \n",
    "    def Divide(self,a,b):  \n",
    "        return a/b;  \n",
    "d = Derived()  \n",
    "print(d.Summation(10,20))  \n",
    "print(d.Multiplication(10,20))  \n",
    "print(d.Divide(10,20))  "
   ]
  },
  {
   "cell_type": "markdown",
   "id": "combined-international",
   "metadata": {},
   "source": [
    "# Method Overriding\n",
    "\n",
    "We can provide some specific implementation of the parent class method in our child class. When the parent class method is defined in the child class with some specific implementation, then the concept is called method overriding. We may need to perform method overriding in the scenario where the different definition of a parent class method is needed in the child class.\n",
    "\n",
    "Consider the following example to perform method overriding in python."
   ]
  },
  {
   "cell_type": "code",
   "execution_count": 26,
   "id": "polyphonic-still",
   "metadata": {},
   "outputs": [],
   "source": [
    "class Animal:\n",
    "    def speak(self):\n",
    "        print('All animal can speak in one way or another')\n",
    "        "
   ]
  },
  {
   "cell_type": "code",
   "execution_count": 27,
   "id": "interesting-freeware",
   "metadata": {},
   "outputs": [],
   "source": [
    "class Dog(Animal):\n",
    "    def speak(self):\n",
    "        print('Dog is an animal and speaking like. barking barking barking wof woof.')"
   ]
  },
  {
   "cell_type": "code",
   "execution_count": 28,
   "id": "comparative-singing",
   "metadata": {},
   "outputs": [],
   "source": [
    "obj = Dog()"
   ]
  },
  {
   "cell_type": "code",
   "execution_count": 29,
   "id": "metallic-auditor",
   "metadata": {},
   "outputs": [
    {
     "name": "stdout",
     "output_type": "stream",
     "text": [
      "Dog is an animal and speaking like. barking barking barking wof woof.\n"
     ]
    }
   ],
   "source": [
    "obj.speak()"
   ]
  },
  {
   "cell_type": "code",
   "execution_count": 30,
   "id": "occupied-berkeley",
   "metadata": {},
   "outputs": [],
   "source": [
    "obj = Animal()"
   ]
  },
  {
   "cell_type": "code",
   "execution_count": 32,
   "id": "foreign-basis",
   "metadata": {},
   "outputs": [
    {
     "name": "stdout",
     "output_type": "stream",
     "text": [
      "All animal can speak in one way or another\n"
     ]
    }
   ],
   "source": [
    "obj.speak()"
   ]
  },
  {
   "cell_type": "code",
   "execution_count": 33,
   "id": "greek-butler",
   "metadata": {},
   "outputs": [
    {
     "name": "stdout",
     "output_type": "stream",
     "text": [
      "Bank Rate of interest: 10\n",
      "SBI Rate of interest: 7\n",
      "ICICI Rate of interest: 8\n"
     ]
    }
   ],
   "source": [
    "class Bank:  \n",
    "    def getroi(self):  \n",
    "        return 10;  \n",
    "class SBI(Bank):  \n",
    "    def getroi(self):  \n",
    "        return 7;  \n",
    "  \n",
    "class ICICI(Bank):  \n",
    "    def getroi(self):  \n",
    "        return 8;  \n",
    "b1 = Bank()  \n",
    "b2 = SBI()  \n",
    "b3 = ICICI()  \n",
    "print(\"Bank Rate of interest:\",b1.getroi());  \n",
    "print(\"SBI Rate of interest:\",b2.getroi());  \n",
    "print(\"ICICI Rate of interest:\",b3.getroi());  "
   ]
  },
  {
   "cell_type": "markdown",
   "id": "eligible-teddy",
   "metadata": {},
   "source": [
    "# Data abstraction in python\n",
    "\n",
    "Abstraction is an important aspect of object-oriented programming. In python, we can also perform data hiding by adding the double underscore (___) as a prefix to the attribute which is to be hidden. After this, the attribute will not be visible outside of the class through the object.\n",
    "\n",
    "Consider the following example."
   ]
  },
  {
   "cell_type": "code",
   "execution_count": 47,
   "id": "tough-gateway",
   "metadata": {},
   "outputs": [
    {
     "name": "stdout",
     "output_type": "stream",
     "text": [
      "The number of employees 2\n"
     ]
    },
    {
     "ename": "AttributeError",
     "evalue": "'profile' object has no attribute '__count'",
     "output_type": "error",
     "traceback": [
      "\u001b[1;31m---------------------------------------------------------------------------\u001b[0m",
      "\u001b[1;31mAttributeError\u001b[0m                            Traceback (most recent call last)",
      "\u001b[1;32m<ipython-input-47-d48f929ab1e4>\u001b[0m in \u001b[0;36m<module>\u001b[1;34m\u001b[0m\n\u001b[0;32m     14\u001b[0m \u001b[1;33m\u001b[0m\u001b[0m\n\u001b[0;32m     15\u001b[0m \u001b[1;32mtry\u001b[0m\u001b[1;33m:\u001b[0m\u001b[1;33m\u001b[0m\u001b[1;33m\u001b[0m\u001b[0m\n\u001b[1;32m---> 16\u001b[1;33m     \u001b[0mprint\u001b[0m\u001b[1;33m(\u001b[0m\u001b[0memp\u001b[0m\u001b[1;33m.\u001b[0m\u001b[0m__count\u001b[0m\u001b[1;33m)\u001b[0m\u001b[1;33m\u001b[0m\u001b[1;33m\u001b[0m\u001b[0m\n\u001b[0m\u001b[0;32m     17\u001b[0m \u001b[1;32mfinally\u001b[0m\u001b[1;33m:\u001b[0m\u001b[1;33m\u001b[0m\u001b[1;33m\u001b[0m\u001b[0m\n\u001b[0;32m     18\u001b[0m     \u001b[0memp\u001b[0m\u001b[1;33m.\u001b[0m\u001b[0mdisplay\u001b[0m\u001b[1;33m(\u001b[0m\u001b[1;33m)\u001b[0m\u001b[1;33m\u001b[0m\u001b[1;33m\u001b[0m\u001b[0m\n",
      "\u001b[1;31mAttributeError\u001b[0m: 'profile' object has no attribute '__count'"
     ]
    }
   ],
   "source": [
    "class profile:\n",
    "    __user_name = 'NijatullahMansoor'\n",
    "    __password = 'pawword'\n",
    "    __count = 0\n",
    "    \n",
    "    def __init__(self):\n",
    "        profile.__count = profile.__count + 1\n",
    "        \n",
    "    def display(self):\n",
    "        print(\"The number of employees\",profile.__count)  \n",
    "        \n",
    "emp = profile()  \n",
    "emp2 = profile()  \n",
    "\n",
    "try:\n",
    "    print(emp.__count)\n",
    "finally:\n",
    "    emp.display()"
   ]
  },
  {
   "cell_type": "markdown",
   "id": "postal-liability",
   "metadata": {},
   "source": [
    "It won't show."
   ]
  },
  {
   "cell_type": "markdown",
   "id": "several-election",
   "metadata": {},
   "source": [
    "https://www.javatpoint.com/inheritance-in-python"
   ]
  },
  {
   "cell_type": "markdown",
   "id": "piano-eight",
   "metadata": {},
   "source": [
    "## Abstraction in Python\n",
    "Abstraction is used to hide the internal functionality of the function from the users. The users only interact with the basic implementation of the function, but inner working is hidden. User is familiar with that \"what function does\" but they don't know \"how it does.\"\n",
    "\n",
    "In simple words, we all use the smartphone and very much familiar with its functions such as camera, voice-recorder, call-dialing, etc., but we don't know how these operations are happening in the background. Let's take another example - When we use the TV remote to increase the volume. We don't know how pressing a key increases the volume of the TV. We only know to press the \"+\" button to increase the volume."
   ]
  },
  {
   "cell_type": "markdown",
   "id": "martial-insert",
   "metadata": {},
   "source": [
    "## Why Abstraction is Important?\n",
    "In Python, an abstraction is used to hide the irrelevant data/class in order to reduce the complexity. It also enhances the application efficiency. "
   ]
  },
  {
   "cell_type": "code",
   "execution_count": 1,
   "id": "better-collector",
   "metadata": {},
   "outputs": [],
   "source": [
    "from abc import ABC"
   ]
  },
  {
   "cell_type": "code",
   "execution_count": 2,
   "id": "lovely-location",
   "metadata": {},
   "outputs": [
    {
     "name": "stdout",
     "output_type": "stream",
     "text": [
      "['__abstractmethods__', '__class__', '__delattr__', '__dir__', '__doc__', '__eq__', '__format__', '__ge__', '__getattribute__', '__gt__', '__hash__', '__init__', '__init_subclass__', '__le__', '__lt__', '__module__', '__ne__', '__new__', '__reduce__', '__reduce_ex__', '__repr__', '__setattr__', '__sizeof__', '__slots__', '__str__', '__subclasshook__', '_abc_impl']\n"
     ]
    }
   ],
   "source": [
    "print(dir(ABC))"
   ]
  },
  {
   "cell_type": "markdown",
   "id": "previous-messenger",
   "metadata": {},
   "source": [
    "## Abstraction classes in Python\n",
    "In Python, abstraction can be achieved by using abstract classes and interfaces.\n",
    "\n",
    "A class that consists of one or more abstract method is called the abstract class. Abstract methods do not contain their implementation. Abstract class can be inherited by the subclass and abstract method gets its definition in the subclass. Abstraction classes are meant to be the blueprint of the other class. An abstract class can be useful when we are designing large functions. An abstract class is also helpful to provide the standard interface for different implementations of components. Python provides the abc module to use the abstraction in the Python program. Let's see the following syntax.\n",
    "\n",
    "### syntax \n",
    "\n",
    "<code>from abc import ABC\n",
    "    class my_abstract_clas(ABC):\n",
    "            pass</code>"
   ]
  },
  {
   "cell_type": "markdown",
   "id": "missing-alexander",
   "metadata": {},
   "source": [
    "## Abstract Base Classes\n",
    "An abstract base class is the common application program of the interface for a set of subclasses. It can be used by the third-party, which will provide the implementations such as with plugins. It is also beneficial when we work with the large code-base hard to remember all the classes.\n",
    "\n",
    "## Working of the Abstract Classes\n",
    "Unlike the other high-level language, Python doesn't provide the abstract class itself. We need to import the abc module, which provides the base for defining Abstract Base classes (ABC). The ABC works by decorating methods of the base class as abstract. It registers concrete classes as the implementation of the abstract base. We use the @abstractmethod decorator to define an abstract method or if we don't provide the definition to the method, it automatically becomes the abstract method. Let's understand the following example."
   ]
  },
  {
   "cell_type": "code",
   "execution_count": 22,
   "id": "opponent-federal",
   "metadata": {},
   "outputs": [],
   "source": [
    "from abc import ABC, abstractmethod"
   ]
  },
  {
   "cell_type": "code",
   "execution_count": 23,
   "id": "strange-marriage",
   "metadata": {},
   "outputs": [],
   "source": [
    "class Car(ABC):\n",
    "    def mileage(self):\n",
    "        pass"
   ]
  },
  {
   "cell_type": "code",
   "execution_count": 24,
   "id": "designing-round",
   "metadata": {},
   "outputs": [
    {
     "data": {
      "text/plain": [
       "abc.ABCMeta"
      ]
     },
     "execution_count": 24,
     "metadata": {},
     "output_type": "execute_result"
    }
   ],
   "source": [
    "type(Car)"
   ]
  },
  {
   "cell_type": "code",
   "execution_count": 25,
   "id": "purple-couple",
   "metadata": {},
   "outputs": [
    {
     "data": {
      "text/plain": [
       "method"
      ]
     },
     "execution_count": 25,
     "metadata": {},
     "output_type": "execute_result"
    }
   ],
   "source": [
    "type(Car().mileage)"
   ]
  },
  {
   "cell_type": "code",
   "execution_count": 26,
   "id": "daily-review",
   "metadata": {},
   "outputs": [],
   "source": [
    "class Tesla(Car):\n",
    "    def mileage(self):\n",
    "        print('The mileage is 40kmph')"
   ]
  },
  {
   "cell_type": "code",
   "execution_count": 27,
   "id": "funded-valuation",
   "metadata": {},
   "outputs": [],
   "source": [
    "class BMW(Car):\n",
    "    def mileage(self):\n",
    "        print('The mileage is 30kmph')"
   ]
  },
  {
   "cell_type": "code",
   "execution_count": 28,
   "id": "instant-symphony",
   "metadata": {},
   "outputs": [],
   "source": [
    "class Bike(Car):\n",
    "    def mileage(self):\n",
    "        print('The mileage is 40kmph')"
   ]
  },
  {
   "cell_type": "code",
   "execution_count": 29,
   "id": "wired-mason",
   "metadata": {},
   "outputs": [],
   "source": [
    "t = Tesla()"
   ]
  },
  {
   "cell_type": "code",
   "execution_count": 30,
   "id": "fundamental-measure",
   "metadata": {},
   "outputs": [
    {
     "name": "stdout",
     "output_type": "stream",
     "text": [
      "The mileage is 40kmph\n"
     ]
    }
   ],
   "source": [
    "t.mileage()"
   ]
  },
  {
   "cell_type": "code",
   "execution_count": 31,
   "id": "royal-testing",
   "metadata": {},
   "outputs": [],
   "source": [
    "b = Bike()"
   ]
  },
  {
   "cell_type": "code",
   "execution_count": 32,
   "id": "polish-sunrise",
   "metadata": {},
   "outputs": [
    {
     "name": "stdout",
     "output_type": "stream",
     "text": [
      "The mileage is 40kmph\n"
     ]
    }
   ],
   "source": [
    "b.mileage()"
   ]
  },
  {
   "cell_type": "markdown",
   "id": "sound-berlin",
   "metadata": {},
   "source": [
    "In the above code, we have imported the abc module to create the abstract base class. We created the Car class that inherited the ABC class and defined an abstract method named mileage(). We have then inherited the base class from the three different subclasses and implemented the abstract method differently. We created the objects to call the abstract method."
   ]
  },
  {
   "cell_type": "code",
   "execution_count": 33,
   "id": "boxed-caution",
   "metadata": {},
   "outputs": [],
   "source": [
    "class x():\n",
    "    def xx(self):\n",
    "        pass"
   ]
  },
  {
   "cell_type": "code",
   "execution_count": 34,
   "id": "sustained-feature",
   "metadata": {},
   "outputs": [],
   "source": [
    "class y(x):\n",
    "    def xx(self):\n",
    "        print('his')"
   ]
  },
  {
   "cell_type": "code",
   "execution_count": 35,
   "id": "primary-seventh",
   "metadata": {},
   "outputs": [],
   "source": [
    "obj = y()"
   ]
  },
  {
   "cell_type": "code",
   "execution_count": 36,
   "id": "monthly-montgomery",
   "metadata": {},
   "outputs": [
    {
     "name": "stdout",
     "output_type": "stream",
     "text": [
      "his\n"
     ]
    }
   ],
   "source": [
    "obj.xx()"
   ]
  },
  {
   "cell_type": "markdown",
   "id": "isolated-hawaii",
   "metadata": {},
   "source": [
    "## Points to Remember\n",
    "Below are the points which we should remember about the abstract base class in Python.\n",
    "\n",
    "- An Abstract class can contain the both method normal and abstract method.\n",
    "- An Abstract cannot be instantiated; we cannot create objects for the abstract class."
   ]
  },
  {
   "cell_type": "code",
   "execution_count": 37,
   "id": "legendary-bouquet",
   "metadata": {},
   "outputs": [],
   "source": [
    "car_obj = Car()"
   ]
  },
  {
   "cell_type": "code",
   "execution_count": 38,
   "id": "vulnerable-franchise",
   "metadata": {},
   "outputs": [
    {
     "name": "stdout",
     "output_type": "stream",
     "text": [
      "None\n"
     ]
    }
   ],
   "source": [
    "print(car_obj.mileage())"
   ]
  },
  {
   "cell_type": "code",
   "execution_count": null,
   "id": "potential-stanford",
   "metadata": {},
   "outputs": [],
   "source": []
  },
  {
   "cell_type": "code",
   "execution_count": null,
   "id": "joined-apparatus",
   "metadata": {},
   "outputs": [],
   "source": []
  }
 ],
 "metadata": {
  "kernelspec": {
   "display_name": "Python 3",
   "language": "python",
   "name": "python3"
  },
  "language_info": {
   "codemirror_mode": {
    "name": "ipython",
    "version": 3
   },
   "file_extension": ".py",
   "mimetype": "text/x-python",
   "name": "python",
   "nbconvert_exporter": "python",
   "pygments_lexer": "ipython3",
   "version": "3.8.8"
  }
 },
 "nbformat": 4,
 "nbformat_minor": 5
}
