{
 "cells": [
  {
   "cell_type": "markdown",
   "id": "charming-absence",
   "metadata": {},
   "source": [
    "# Python Function"
   ]
  },
  {
   "cell_type": "markdown",
   "id": "fancy-devil",
   "metadata": {},
   "source": [
    "Functions are the most important aspect of an application. A function can be defined as the organized block of reusable code, which can be called whenever required.\n",
    "\n",
    "Python allows us to divide a large program into the basic building blocks known as a function. The function contains the set of programming statements enclosed by {}. A function can be called multiple times to provide reusability and modularity to the Python program.\n",
    "\n",
    "The Function helps to programmer to break the program into the smaller part. It organizes the code very effectively and avoids the repetition of the code. As the program grows, function makes the program more organized.\n",
    "\n",
    "Python provide us various inbuilt functions like range() or print(). Although, the user can create its functions, which can be called user-defined functions.\n",
    "\n",
    "There are mainly two types of functions.\n",
    "\n",
    "- User-define functions - The user-defined functions are those define by the user to perform the specific task.\n",
    "- Built-in functions - The built-in functions are those functions that are pre-defined in Python.\n",
    "\n",
    "## Advantage of Functions in Python\n",
    "\n",
    "- Using functions, we can avoid rewriting the same logic/code again and again in a program.\n",
    "- We can call Python functions multiple times in a program and anywhere in a program.\n",
    "- We can track a large Python program easily when it is divided into multiple functions.\n",
    "- Reusability is the main achievement of Python functions.\n",
    "- However, Function calling is always overhead in a Python program.\n",
    "\n",
    "\n",
    "<code>def my_function(parameters):  \n",
    "      function_block  \n",
    "return expression  </code>"
   ]
  },
  {
   "cell_type": "code",
   "execution_count": 1,
   "id": "union-robin",
   "metadata": {},
   "outputs": [],
   "source": [
    "def helow_world():\n",
    "    print(\"Helow World!\")"
   ]
  },
  {
   "cell_type": "code",
   "execution_count": 3,
   "id": "aggressive-headset",
   "metadata": {},
   "outputs": [
    {
     "name": "stdout",
     "output_type": "stream",
     "text": [
      "Helow World!\n"
     ]
    }
   ],
   "source": [
    "helow_world()"
   ]
  },
  {
   "cell_type": "code",
   "execution_count": 4,
   "id": "allied-perth",
   "metadata": {},
   "outputs": [],
   "source": [
    "def x():\n",
    "    a = 10\n",
    "    b = 20"
   ]
  },
  {
   "cell_type": "code",
   "execution_count": 5,
   "id": "level-cherry",
   "metadata": {},
   "outputs": [],
   "source": [
    "x()"
   ]
  },
  {
   "cell_type": "code",
   "execution_count": 6,
   "id": "entitled-compiler",
   "metadata": {},
   "outputs": [
    {
     "name": "stdout",
     "output_type": "stream",
     "text": [
      "None\n"
     ]
    }
   ],
   "source": [
    "print(x())"
   ]
  },
  {
   "cell_type": "markdown",
   "id": "cutting-necessity",
   "metadata": {},
   "source": [
    "## Arguments in function\n",
    "\n",
    "The arguments are types of information which can be passed into the function. The arguments are specified in the parentheses. We can pass any number of arguments, but they must be separate them with a comma.\n",
    "\n",
    "Consider the following example, which contains a function that accepts a string as the argument."
   ]
  },
  {
   "cell_type": "code",
   "execution_count": 7,
   "id": "confidential-three",
   "metadata": {},
   "outputs": [],
   "source": [
    "def func(name):\n",
    "    print(name)"
   ]
  },
  {
   "cell_type": "code",
   "execution_count": 8,
   "id": "disabled-couple",
   "metadata": {},
   "outputs": [
    {
     "name": "stdout",
     "output_type": "stream",
     "text": [
      "Mansoor Nijatullah\n"
     ]
    }
   ],
   "source": [
    "func('Mansoor Nijatullah')"
   ]
  },
  {
   "cell_type": "markdown",
   "id": "secondary-latex",
   "metadata": {},
   "source": [
    "# Call by reference in Python\n",
    "\n",
    "In Python, call by reference means passing the actual value as an argument in the function. All the functions are called by reference, i.e., all the changes made to the reference inside the function revert back to the original value referred by the reference."
   ]
  },
  {
   "cell_type": "code",
   "execution_count": 9,
   "id": "banner-syndrome",
   "metadata": {},
   "outputs": [
    {
     "name": "stdout",
     "output_type": "stream",
     "text": [
      "list inside function =  [10, 30, 40, 50, 20, 30]\n",
      "list outside function =  [10, 30, 40, 50, 20, 30]\n"
     ]
    }
   ],
   "source": [
    "#defining the function    \n",
    "def change_list(list1):    \n",
    "    list1.append(20)   \n",
    "    list1.append(30)    \n",
    "    print(\"list inside function = \",list1)\n",
    "    \n",
    "#defining the list    \n",
    "list1 = [10,30,40,50]    \n",
    "    \n",
    "#calling the function     \n",
    "change_list(list1)  \n",
    "print(\"list outside function = \",list1)  "
   ]
  },
  {
   "cell_type": "code",
   "execution_count": 11,
   "id": "forward-brief",
   "metadata": {},
   "outputs": [
    {
     "name": "stdout",
     "output_type": "stream",
     "text": [
      "printing the string inside function : Hi I am there Hows you \n",
      "printing the string outside function : Hi I am there\n"
     ]
    }
   ],
   "source": [
    "#defining the function    \n",
    "def change_string (str1):    \n",
    "    str1 = str1 + \" Hows you \"  \n",
    "    print(\"printing the string inside function :\",str1)  \n",
    "    \n",
    "string1 = \"Hi I am there\"    \n",
    "    \n",
    "#calling the function    \n",
    "change_string(string1)    \n",
    "    \n",
    "print(\"printing the string outside function :\",string1)    "
   ]
  },
  {
   "cell_type": "code",
   "execution_count": 12,
   "id": "joint-pharmaceutical",
   "metadata": {},
   "outputs": [
    {
     "name": "stdout",
     "output_type": "stream",
     "text": [
      "Inside function: hi Hows you\n",
      "hi \n"
     ]
    }
   ],
   "source": [
    "def change_string(str1):\n",
    "    str1 = str1 + \"Hows you\"\n",
    "    print(\"Inside function:\",str1)\n",
    "    \n",
    "str1 = \"hi \"\n",
    "change_string(str1)\n",
    "print(str1)"
   ]
  },
  {
   "cell_type": "markdown",
   "id": "pending-sigma",
   "metadata": {},
   "source": [
    "# Types of arguments\n",
    "\n",
    "There may be several types of arguments which can be passed at the time of function call.\n",
    "\n",
    "1. Required arguments\n",
    "2. Keyword arguments\n",
    "3. Default arguments\n",
    "4. Variable-length arguments"
   ]
  },
  {
   "cell_type": "markdown",
   "id": "indirect-credit",
   "metadata": {},
   "source": [
    "## Required Arguments\n",
    "\n",
    "Till now, we have learned about function calling in Python. However, we can provide the arguments at the time of the function call. As far as the required arguments are concerned, these are the arguments which are required to be passed at the time of function calling with the exact match of their positions in the function call and function definition. If either of the arguments is not provided in the function call, or the position of the arguments is changed, the Python interpreter will show the error.\n",
    "\n"
   ]
  },
  {
   "cell_type": "code",
   "execution_count": 13,
   "id": "available-kruger",
   "metadata": {},
   "outputs": [],
   "source": [
    "def add(a,b):\n",
    "    sum_ = a + b\n",
    "    return sum_"
   ]
  },
  {
   "cell_type": "code",
   "execution_count": 14,
   "id": "caring-estonia",
   "metadata": {},
   "outputs": [
    {
     "ename": "TypeError",
     "evalue": "add() missing 2 required positional arguments: 'a' and 'b'",
     "output_type": "error",
     "traceback": [
      "\u001b[1;31m---------------------------------------------------------------------------\u001b[0m",
      "\u001b[1;31mTypeError\u001b[0m                                 Traceback (most recent call last)",
      "\u001b[1;32m<ipython-input-14-d5d29de3ed94>\u001b[0m in \u001b[0;36m<module>\u001b[1;34m\u001b[0m\n\u001b[1;32m----> 1\u001b[1;33m \u001b[0madd\u001b[0m\u001b[1;33m(\u001b[0m\u001b[1;33m)\u001b[0m\u001b[1;33m\u001b[0m\u001b[1;33m\u001b[0m\u001b[0m\n\u001b[0m",
      "\u001b[1;31mTypeError\u001b[0m: add() missing 2 required positional arguments: 'a' and 'b'"
     ]
    }
   ],
   "source": [
    "add()"
   ]
  },
  {
   "cell_type": "code",
   "execution_count": 15,
   "id": "worthy-capability",
   "metadata": {},
   "outputs": [
    {
     "data": {
      "text/plain": [
       "4"
      ]
     },
     "execution_count": 15,
     "metadata": {},
     "output_type": "execute_result"
    }
   ],
   "source": [
    "add(2,2)"
   ]
  },
  {
   "cell_type": "markdown",
   "id": "impressed-trout",
   "metadata": {},
   "source": [
    "## Default Arguments\n",
    "\n",
    "Python allows us to initialize the arguments at the function definition. If the value of any of the arguments is not provided at the time of function call, then that argument can be initialized with the value given in the definition even if the argument is not specified at the function call."
   ]
  },
  {
   "cell_type": "code",
   "execution_count": 16,
   "id": "polished-model",
   "metadata": {},
   "outputs": [],
   "source": [
    "def intro(name, age=20):\n",
    "    print(name,age)"
   ]
  },
  {
   "cell_type": "code",
   "execution_count": 17,
   "id": "available-activation",
   "metadata": {},
   "outputs": [
    {
     "name": "stdout",
     "output_type": "stream",
     "text": [
      "Nijatullah 20\n"
     ]
    }
   ],
   "source": [
    "intro('Nijatullah')"
   ]
  },
  {
   "cell_type": "code",
   "execution_count": 18,
   "id": "automatic-coverage",
   "metadata": {},
   "outputs": [
    {
     "name": "stdout",
     "output_type": "stream",
     "text": [
      "Nijatullah 50\n"
     ]
    }
   ],
   "source": [
    "intro('Nijatullah', 50)"
   ]
  },
  {
   "cell_type": "markdown",
   "id": "greater-centre",
   "metadata": {},
   "source": [
    "# Variable-length Arguments (*args)\n",
    "\n",
    "In large projects, sometimes we may not know the number of arguments to be passed in advance. In such cases, Python provides us the flexibility to offer the comma-separated values which are internally treated as tuples at the function call. By using the variable-length arguments, we can pass any number of arguments.\n",
    "\n",
    "However, at the function definition, we define the variable-length argument using the *args (star) as `*<variable - name >.`"
   ]
  },
  {
   "cell_type": "code",
   "execution_count": 19,
   "id": "third-laugh",
   "metadata": {},
   "outputs": [],
   "source": [
    "def employs_names(*names):\n",
    "    print(type(names))\n",
    "    for name in names:\n",
    "        print(name)"
   ]
  },
  {
   "cell_type": "code",
   "execution_count": 20,
   "id": "normal-smooth",
   "metadata": {},
   "outputs": [
    {
     "name": "stdout",
     "output_type": "stream",
     "text": [
      "<class 'tuple'>\n",
      "Nijat\n"
     ]
    }
   ],
   "source": [
    "employs_names('Nijat')"
   ]
  },
  {
   "cell_type": "code",
   "execution_count": 21,
   "id": "widespread-sheep",
   "metadata": {},
   "outputs": [
    {
     "name": "stdout",
     "output_type": "stream",
     "text": [
      "<class 'tuple'>\n",
      "nijat\n",
      "ullah\n",
      "Mansoor\n",
      "Osman\n",
      "Ali\n"
     ]
    }
   ],
   "source": [
    "employs_names('nijat','ullah', 'Mansoor', 'Osman','Ali')"
   ]
  },
  {
   "cell_type": "markdown",
   "id": "dressed-share",
   "metadata": {},
   "source": [
    "In the above code, we passed *names as variable-length argument. We called the function and passed values which are treated as tuple internally. The tuple is an iterable sequence the same as the list. To print the given values, we iterated *arg names using for loop.\n",
    "\n",
    "## Keyword arguments(**kwargs)\n",
    "\n",
    "Python allows us to call the function with the keyword arguments. This kind of function call will enable us to pass the arguments in the random order.\n",
    "\n",
    "The name of the arguments is treated as the keywords and matched in the function calling and definition. If the same match is found, the values of the arguments are copied in the function definition."
   ]
  },
  {
   "cell_type": "code",
   "execution_count": 22,
   "id": "visible-swaziland",
   "metadata": {},
   "outputs": [],
   "source": [
    "def func(name,message):\n",
    "    print(\"printing the message with\",name,\"and \",message)\n",
    "    \n",
    "    "
   ]
  },
  {
   "cell_type": "code",
   "execution_count": 23,
   "id": "stock-spray",
   "metadata": {},
   "outputs": [
    {
     "name": "stdout",
     "output_type": "stream",
     "text": [
      "printing the message with John and  hello\n"
     ]
    }
   ],
   "source": [
    "func(name = \"John\",message=\"hello\")   "
   ]
  },
  {
   "cell_type": "code",
   "execution_count": 24,
   "id": "lonely-firewall",
   "metadata": {},
   "outputs": [
    {
     "name": "stdout",
     "output_type": "stream",
     "text": [
      "printing the message with Jhon and  hello\n"
     ]
    }
   ],
   "source": [
    "func('Jhon','hello')"
   ]
  },
  {
   "cell_type": "code",
   "execution_count": 25,
   "id": "advance-arthur",
   "metadata": {},
   "outputs": [
    {
     "name": "stdout",
     "output_type": "stream",
     "text": [
      "printing the message with john and  hello\n"
     ]
    }
   ],
   "source": [
    "func(message='hello', name='john')"
   ]
  },
  {
   "cell_type": "code",
   "execution_count": 26,
   "id": "regulated-second",
   "metadata": {},
   "outputs": [
    {
     "name": "stdout",
     "output_type": "stream",
     "text": [
      "printing the message with hello and  Nijatullah\n"
     ]
    }
   ],
   "source": [
    "func('hello','Nijatullah')"
   ]
  },
  {
   "cell_type": "code",
   "execution_count": 27,
   "id": "aging-suicide",
   "metadata": {},
   "outputs": [],
   "source": [
    "def simple_interest(p,t,r):    \n",
    "    return (p*t*r)/100    "
   ]
  },
  {
   "cell_type": "code",
   "execution_count": 28,
   "id": "atlantic-cheat",
   "metadata": {},
   "outputs": [
    {
     "name": "stdout",
     "output_type": "stream",
     "text": [
      "Simple Interest:  1900.0\n"
     ]
    }
   ],
   "source": [
    "print(\"Simple Interest: \",simple_interest(t=10,r=10,p=1900))     "
   ]
  },
  {
   "cell_type": "markdown",
   "id": "fundamental-elephant",
   "metadata": {},
   "source": [
    "If we provide the different name of arguments at the time of function call, an error will be thrown."
   ]
  },
  {
   "cell_type": "code",
   "execution_count": 29,
   "id": "neural-scenario",
   "metadata": {},
   "outputs": [
    {
     "ename": "TypeError",
     "evalue": "simple_interest() got an unexpected keyword argument 'time'",
     "output_type": "error",
     "traceback": [
      "\u001b[1;31m---------------------------------------------------------------------------\u001b[0m",
      "\u001b[1;31mTypeError\u001b[0m                                 Traceback (most recent call last)",
      "\u001b[1;32m<ipython-input-29-c8596923009b>\u001b[0m in \u001b[0;36m<module>\u001b[1;34m\u001b[0m\n\u001b[1;32m----> 1\u001b[1;33m \u001b[0mprint\u001b[0m\u001b[1;33m(\u001b[0m\u001b[1;34m\"Simple Interest: \"\u001b[0m\u001b[1;33m,\u001b[0m\u001b[0msimple_interest\u001b[0m\u001b[1;33m(\u001b[0m\u001b[0mtime\u001b[0m\u001b[1;33m=\u001b[0m\u001b[1;36m10\u001b[0m\u001b[1;33m,\u001b[0m\u001b[0mrate\u001b[0m\u001b[1;33m=\u001b[0m\u001b[1;36m10\u001b[0m\u001b[1;33m,\u001b[0m\u001b[0mprinciple\u001b[0m\u001b[1;33m=\u001b[0m\u001b[1;36m1900\u001b[0m\u001b[1;33m)\u001b[0m\u001b[1;33m)\u001b[0m\u001b[1;33m\u001b[0m\u001b[1;33m\u001b[0m\u001b[0m\n\u001b[0m",
      "\u001b[1;31mTypeError\u001b[0m: simple_interest() got an unexpected keyword argument 'time'"
     ]
    }
   ],
   "source": [
    "print(\"Simple Interest: \",simple_interest(time=10,rate=10,principle=1900))   "
   ]
  },
  {
   "cell_type": "markdown",
   "id": "noted-respect",
   "metadata": {},
   "source": [
    "The Python allows us to provide the mix of the required arguments and keyword arguments at the time of function call. However, the required argument must not be given after the keyword argument, i.e., once the keyword argument is encountered in the function call, the following arguments must also be the keyword arguments."
   ]
  },
  {
   "cell_type": "code",
   "execution_count": 30,
   "id": "higher-strip",
   "metadata": {},
   "outputs": [
    {
     "name": "stdout",
     "output_type": "stream",
     "text": [
      "printing the message with John , hello ,and David\n"
     ]
    }
   ],
   "source": [
    "def func(name1,message,name2):    \n",
    "    print(\"printing the message with\",name1,\",\",message,\",and\",name2)    \n",
    "#the first argument is not the keyword argument    \n",
    "func(\"John\",message=\"hello\",name2=\"David\") "
   ]
  },
  {
   "cell_type": "code",
   "execution_count": 32,
   "id": "fatal-albania",
   "metadata": {},
   "outputs": [
    {
     "ename": "SyntaxError",
     "evalue": "positional argument follows keyword argument (<ipython-input-32-0f692f34f591>, line 1)",
     "output_type": "error",
     "traceback": [
      "\u001b[1;36m  File \u001b[1;32m\"<ipython-input-32-0f692f34f591>\"\u001b[1;36m, line \u001b[1;32m1\u001b[0m\n\u001b[1;33m    func(message='hello',name2='david','John')\u001b[0m\n\u001b[1;37m                                       ^\u001b[0m\n\u001b[1;31mSyntaxError\u001b[0m\u001b[1;31m:\u001b[0m positional argument follows keyword argument\n"
     ]
    }
   ],
   "source": [
    "func(message='hello',name2='david','John')"
   ]
  },
  {
   "cell_type": "markdown",
   "id": "employed-stations",
   "metadata": {},
   "source": [
    "Python provides the facility to pass the multiple keyword arguments which can be represented as **kwargs. It is similar as the *args but it stores the argument in the dictionary format.\n",
    "\n",
    "This type of arguments is useful when we do not know the number of arguments in advance.\n",
    "\n",
    "Consider the following example:"
   ]
  },
  {
   "cell_type": "code",
   "execution_count": 34,
   "id": "varied-gravity",
   "metadata": {},
   "outputs": [],
   "source": [
    "def func(**keyword):\n",
    "    print(keyword)"
   ]
  },
  {
   "cell_type": "code",
   "execution_count": 35,
   "id": "decimal-coating",
   "metadata": {},
   "outputs": [
    {
     "name": "stdout",
     "output_type": "stream",
     "text": [
      "{'name': 'nijat'}\n"
     ]
    }
   ],
   "source": [
    "func(name='nijat')"
   ]
  },
  {
   "cell_type": "code",
   "execution_count": 36,
   "id": "fifty-dependence",
   "metadata": {},
   "outputs": [
    {
     "name": "stdout",
     "output_type": "stream",
     "text": [
      "{'name': 'Nijatullah Mansoor', 'age': 30}\n"
     ]
    }
   ],
   "source": [
    "func(name='Nijatullah Mansoor',age=30)"
   ]
  },
  {
   "cell_type": "markdown",
   "id": "stuffed-broadcasting",
   "metadata": {},
   "source": [
    "## Scope of variables\n",
    "\n",
    "The scopes of the variables depend upon the location where the variable is being declared. The variable declared in one part of the program may not be accessible to the other parts.\n",
    "\n",
    "In python, the variables are defined with the two types of scopes.\n",
    "\n",
    "1. Global variables\n",
    "2. Local variables\n",
    "\n",
    "The variable defined outside any function is known to have a global scope, whereas the variable defined inside a function is known to have a local scope."
   ]
  },
  {
   "cell_type": "code",
   "execution_count": 37,
   "id": "exceptional-enemy",
   "metadata": {},
   "outputs": [
    {
     "name": "stdout",
     "output_type": "stream",
     "text": [
      "hello !! I am going to print a message.\n"
     ]
    },
    {
     "ename": "NameError",
     "evalue": "name 'message' is not defined",
     "output_type": "error",
     "traceback": [
      "\u001b[1;31m---------------------------------------------------------------------------\u001b[0m",
      "\u001b[1;31mNameError\u001b[0m                                 Traceback (most recent call last)",
      "\u001b[1;32m<ipython-input-37-f27e1e6f2007>\u001b[0m in \u001b[0;36m<module>\u001b[1;34m\u001b[0m\n\u001b[0;32m      3\u001b[0m     \u001b[0mprint\u001b[0m\u001b[1;33m(\u001b[0m\u001b[0mmessage\u001b[0m\u001b[1;33m)\u001b[0m\u001b[1;33m\u001b[0m\u001b[1;33m\u001b[0m\u001b[0m\n\u001b[0;32m      4\u001b[0m \u001b[0mprint_message\u001b[0m\u001b[1;33m(\u001b[0m\u001b[1;33m)\u001b[0m\u001b[1;33m\u001b[0m\u001b[1;33m\u001b[0m\u001b[0m\n\u001b[1;32m----> 5\u001b[1;33m \u001b[0mprint\u001b[0m\u001b[1;33m(\u001b[0m\u001b[0mmessage\u001b[0m\u001b[1;33m)\u001b[0m \u001b[1;31m# this will cause an error since a local variable cannot be accessible here.\u001b[0m\u001b[1;33m\u001b[0m\u001b[1;33m\u001b[0m\u001b[0m\n\u001b[0m",
      "\u001b[1;31mNameError\u001b[0m: name 'message' is not defined"
     ]
    }
   ],
   "source": [
    "def print_message():    \n",
    "    message = \"hello !! I am going to print a message.\" # the variable message is local to the function itself    \n",
    "    print(message)    \n",
    "print_message()    \n",
    "print(message) # this will cause an error since a local variable cannot be accessible here.      "
   ]
  },
  {
   "cell_type": "markdown",
   "id": "consistent-validity",
   "metadata": {},
   "source": [
    "https://www.javatpoint.com/python-functions"
   ]
  },
  {
   "cell_type": "markdown",
   "id": "yellow-mouse",
   "metadata": {},
   "source": [
    "# Python Built-in Functions\n",
    "\n",
    "The Python built-in functions are defined as the functions whose functionality is pre-defined in Python. The python interpreter has several functions that are always present for use. These functions are known as Built-in Functions. There are several built-in functions in Python which are listed below:\n",
    "\n",
    "https://www.javatpoint.com/python-built-in-functions"
   ]
  },
  {
   "cell_type": "markdown",
   "id": "conscious-porter",
   "metadata": {},
   "source": [
    "# Python Lambda Functions\n",
    "Python Lambda function is known as the anonymous function that is defined without a name. Python allows us to not declare the function in the standard manner, i.e., by using the def keyword. Rather, the anonymous functions are declared by using the lambda keyword. However, Lambda functions can accept any number of arguments, but they can return only one value in the form of expression.\n",
    "\n",
    "The anonymous function contains a small piece of code. It simulates inline functions of C and C++, but it is not exactly an inline function.\n",
    "\n",
    "The syntax to define an anonymous function is given below.\n",
    "\n",
    "### Syntax\n",
    "`lambda arguments: expression`"
   ]
  },
  {
   "cell_type": "code",
   "execution_count": 1,
   "id": "collaborative-student",
   "metadata": {},
   "outputs": [],
   "source": [
    "x = lambda x,y:x+y"
   ]
  },
  {
   "cell_type": "code",
   "execution_count": 2,
   "id": "random-aspect",
   "metadata": {},
   "outputs": [
    {
     "data": {
      "text/plain": [
       "<function __main__.<lambda>(x, y)>"
      ]
     },
     "execution_count": 2,
     "metadata": {},
     "output_type": "execute_result"
    }
   ],
   "source": [
    "x"
   ]
  },
  {
   "cell_type": "code",
   "execution_count": 3,
   "id": "annoying-crazy",
   "metadata": {},
   "outputs": [
    {
     "data": {
      "text/plain": [
       "5"
      ]
     },
     "execution_count": 3,
     "metadata": {},
     "output_type": "execute_result"
    }
   ],
   "source": [
    "x(2,3)"
   ]
  },
  {
   "cell_type": "code",
   "execution_count": 4,
   "id": "architectural-childhood",
   "metadata": {},
   "outputs": [],
   "source": [
    "sqr = lambda x:x**2"
   ]
  },
  {
   "cell_type": "code",
   "execution_count": 5,
   "id": "rapid-purple",
   "metadata": {},
   "outputs": [
    {
     "data": {
      "text/plain": [
       "9"
      ]
     },
     "execution_count": 5,
     "metadata": {},
     "output_type": "execute_result"
    }
   ],
   "source": [
    "sqr(3)"
   ]
  },
  {
   "cell_type": "code",
   "execution_count": 6,
   "id": "international-beast",
   "metadata": {},
   "outputs": [
    {
     "data": {
      "text/plain": [
       "81"
      ]
     },
     "execution_count": 6,
     "metadata": {},
     "output_type": "execute_result"
    }
   ],
   "source": [
    "sqr(9)"
   ]
  },
  {
   "cell_type": "code",
   "execution_count": 11,
   "id": "human-berlin",
   "metadata": {},
   "outputs": [
    {
     "ename": "SyntaxError",
     "evalue": "invalid syntax (<ipython-input-11-5318b254a6b3>, line 1)",
     "output_type": "error",
     "traceback": [
      "\u001b[1;36m  File \u001b[1;32m\"<ipython-input-11-5318b254a6b3>\"\u001b[1;36m, line \u001b[1;32m1\u001b[0m\n\u001b[1;33m    sqr = lambda for x in mylist[]: x**2\u001b[0m\n\u001b[1;37m                 ^\u001b[0m\n\u001b[1;31mSyntaxError\u001b[0m\u001b[1;31m:\u001b[0m invalid syntax\n"
     ]
    }
   ],
   "source": [
    "sqr = lambda for x in mylist[]: x**2"
   ]
  },
  {
   "cell_type": "markdown",
   "id": "graduate-orleans",
   "metadata": {},
   "source": [
    "The lambda function is commonly used with Python built-in functions filter() function and map() function."
   ]
  },
  {
   "cell_type": "markdown",
   "id": "saving-hudson",
   "metadata": {},
   "source": [
    "## Use lambda function with filter()\n",
    "The Python built-in filter() function accepts a function and a list as an argument. It provides an effective way to filter out all elements of the sequence. It returns the new sequence in which the function evaluates to True.\n",
    "\n",
    "Consider the following example where we filter out the only odd number from the given list."
   ]
  },
  {
   "cell_type": "code",
   "execution_count": 15,
   "id": "dated-simon",
   "metadata": {},
   "outputs": [],
   "source": [
    "x = lambda number: number%3==0"
   ]
  },
  {
   "cell_type": "code",
   "execution_count": 16,
   "id": "familiar-effects",
   "metadata": {},
   "outputs": [
    {
     "data": {
      "text/plain": [
       "True"
      ]
     },
     "execution_count": 16,
     "metadata": {},
     "output_type": "execute_result"
    }
   ],
   "source": [
    "x(3)"
   ]
  },
  {
   "cell_type": "code",
   "execution_count": 17,
   "id": "favorite-kelly",
   "metadata": {},
   "outputs": [
    {
     "data": {
      "text/plain": [
       "False"
      ]
     },
     "execution_count": 17,
     "metadata": {},
     "output_type": "execute_result"
    }
   ],
   "source": [
    "x(4)"
   ]
  },
  {
   "cell_type": "code",
   "execution_count": 24,
   "id": "compatible-chicken",
   "metadata": {},
   "outputs": [],
   "source": [
    "lst = (10,22,37,41,100,123,29,3)  "
   ]
  },
  {
   "cell_type": "code",
   "execution_count": 25,
   "id": "double-wesley",
   "metadata": {},
   "outputs": [],
   "source": [
    "odd_list = tuple(filter(lambda x:(x%3 == 0),lst)) "
   ]
  },
  {
   "cell_type": "code",
   "execution_count": 26,
   "id": "classical-depth",
   "metadata": {},
   "outputs": [
    {
     "data": {
      "text/plain": [
       "(123, 3)"
      ]
     },
     "execution_count": 26,
     "metadata": {},
     "output_type": "execute_result"
    }
   ],
   "source": [
    "odd_list"
   ]
  },
  {
   "cell_type": "code",
   "execution_count": 27,
   "id": "aquatic-ministry",
   "metadata": {},
   "outputs": [],
   "source": [
    "x = [1,2,3,4,5]"
   ]
  },
  {
   "cell_type": "code",
   "execution_count": 33,
   "id": "minus-blogger",
   "metadata": {},
   "outputs": [],
   "source": [
    "sqr_x = list(filter(lambda i:(i==2),x))"
   ]
  },
  {
   "cell_type": "code",
   "execution_count": 34,
   "id": "assumed-repeat",
   "metadata": {},
   "outputs": [
    {
     "data": {
      "text/plain": [
       "[2]"
      ]
     },
     "execution_count": 34,
     "metadata": {},
     "output_type": "execute_result"
    }
   ],
   "source": [
    "sqr_x"
   ]
  },
  {
   "cell_type": "markdown",
   "id": "acute-doctor",
   "metadata": {},
   "source": [
    "## Using lambda function with map()\n",
    "The map() function in Python accepts a function and a list. It gives a new list which contains all modified items returned by the function for each item.\n",
    "\n",
    "Consider the following example of map() function."
   ]
  },
  {
   "cell_type": "code",
   "execution_count": 35,
   "id": "chemical-homeless",
   "metadata": {},
   "outputs": [],
   "source": [
    "lst = [1,2,3,4,5,6]\n",
    "lst_sqr = list(map(lambda i:i**2,lst))"
   ]
  },
  {
   "cell_type": "code",
   "execution_count": 36,
   "id": "decimal-handbook",
   "metadata": {},
   "outputs": [
    {
     "data": {
      "text/plain": [
       "[1, 4, 9, 16, 25, 36]"
      ]
     },
     "execution_count": 36,
     "metadata": {},
     "output_type": "execute_result"
    }
   ],
   "source": [
    "lst_sqr"
   ]
  },
  {
   "cell_type": "code",
   "execution_count": null,
   "id": "advance-citizen",
   "metadata": {},
   "outputs": [],
   "source": []
  }
 ],
 "metadata": {
  "kernelspec": {
   "display_name": "Python 3",
   "language": "python",
   "name": "python3"
  },
  "language_info": {
   "codemirror_mode": {
    "name": "ipython",
    "version": 3
   },
   "file_extension": ".py",
   "mimetype": "text/x-python",
   "name": "python",
   "nbconvert_exporter": "python",
   "pygments_lexer": "ipython3",
   "version": "3.8.8"
  }
 },
 "nbformat": 4,
 "nbformat_minor": 5
}
