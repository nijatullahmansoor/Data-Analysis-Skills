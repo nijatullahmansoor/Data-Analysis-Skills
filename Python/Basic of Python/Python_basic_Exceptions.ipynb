{
 "cells": [
  {
   "cell_type": "markdown",
   "id": "sexual-sweet",
   "metadata": {},
   "source": [
    "## Python Exception\n",
    "\n",
    "An exception can be defined as an unusual condition in a program resulting in the interruption in the flow of the program.\n",
    "\n",
    "Whenever an exception occurs, the program stops the execution, and thus the further code is not executed. Therefore, an exception is the run-time errors that are unable to handle to Python script. An exception is a Python object that represents an error\n",
    "\n",
    "Python provides a way to handle the exception so that the code can be executed without any interruption. If we do not handle the exception, the interpreter doesn't execute all the code that exists after the exception.\n",
    "\n",
    "Python has many built-in exceptions that enable our program to run without interruption and give the output. These exceptions are given below:\n",
    "\n"
   ]
  },
  {
   "cell_type": "code",
   "execution_count": 1,
   "id": "dominant-display",
   "metadata": {},
   "outputs": [
    {
     "ename": "ZeroDivisionError",
     "evalue": "division by zero",
     "output_type": "error",
     "traceback": [
      "\u001b[1;31m---------------------------------------------------------------------------\u001b[0m",
      "\u001b[1;31mZeroDivisionError\u001b[0m                         Traceback (most recent call last)",
      "\u001b[1;32m<ipython-input-1-492ff1610b4b>\u001b[0m in \u001b[0;36m<module>\u001b[1;34m\u001b[0m\n\u001b[0;32m      1\u001b[0m \u001b[0mx\u001b[0m \u001b[1;33m=\u001b[0m \u001b[1;36m0\u001b[0m\u001b[1;33m\u001b[0m\u001b[1;33m\u001b[0m\u001b[0m\n\u001b[0;32m      2\u001b[0m \u001b[0my\u001b[0m \u001b[1;33m=\u001b[0m \u001b[1;36m1\u001b[0m\u001b[1;33m\u001b[0m\u001b[1;33m\u001b[0m\u001b[0m\n\u001b[1;32m----> 3\u001b[1;33m \u001b[0mprint\u001b[0m\u001b[1;33m(\u001b[0m\u001b[1;34m'division of x and y is:'\u001b[0m\u001b[1;33m,\u001b[0m\u001b[0my\u001b[0m\u001b[1;33m/\u001b[0m\u001b[0mx\u001b[0m\u001b[1;33m)\u001b[0m\u001b[1;33m\u001b[0m\u001b[1;33m\u001b[0m\u001b[0m\n\u001b[0m\u001b[0;32m      4\u001b[0m \u001b[1;33m\u001b[0m\u001b[0m\n\u001b[0;32m      5\u001b[0m \u001b[0mprint\u001b[0m\u001b[1;33m(\u001b[0m\u001b[1;34m'The rest of the program.'\u001b[0m\u001b[1;33m)\u001b[0m\u001b[1;33m\u001b[0m\u001b[1;33m\u001b[0m\u001b[0m\n",
      "\u001b[1;31mZeroDivisionError\u001b[0m: division by zero"
     ]
    }
   ],
   "source": [
    "x = 0\n",
    "y = 1\n",
    "print('division of x and y is:',y/x)\n",
    "\n",
    "print('The rest of the program.')"
   ]
  },
  {
   "cell_type": "code",
   "execution_count": 2,
   "id": "lined-tournament",
   "metadata": {},
   "outputs": [
    {
     "name": "stdout",
     "output_type": "stream",
     "text": [
      "Not divisiable\n",
      "The rest of the program.\n"
     ]
    }
   ],
   "source": [
    "try:\n",
    "    print('Divistion of y and x',y/x)\n",
    "except:\n",
    "    print('Not divisiable')\n",
    "    \n",
    "print('The rest of the program.')"
   ]
  },
  {
   "cell_type": "code",
   "execution_count": 3,
   "id": "powered-jones",
   "metadata": {},
   "outputs": [
    {
     "name": "stdout",
     "output_type": "stream",
     "text": [
      "Not divisiable\n",
      "The Exception is: division by zero\n",
      "The rest of the program.\n"
     ]
    }
   ],
   "source": [
    "try:\n",
    "    print('Divistion of y and x',y/x)\n",
    "except Exception as e:\n",
    "    print('Not divisiable')\n",
    "    print('The Exception is:',e)\n",
    "    \n",
    "print('The rest of the program.')"
   ]
  },
  {
   "cell_type": "markdown",
   "id": "allied-blond",
   "metadata": {},
   "source": [
    "The above program is syntactically correct, but it through the error because of unusual input. That kind of programming may not be suitable or recommended for the projects because these projects are required uninterrupted execution. That's why an exception-handling plays an essential role in handling these unexpected exceptions. We can handle these exceptions in the following way."
   ]
  },
  {
   "cell_type": "markdown",
   "id": "responsible-hanging",
   "metadata": {},
   "source": [
    "## The try-expect statement\n",
    "If the Python program contains suspicious code that may throw the exception, we must place that code in the try block. The try block must be followed with the except statement, which contains a block of code that will be executed if there is some exception in the try block.\n",
    "\n",
    "<img src='https://static.javatpoint.com/python/images/python-exception-handling.png'>\n",
    "\n",
    "### Syntax\n",
    "\n",
    "<code>try:    \n",
    "    #block of code     \n",
    "except Exception1:    \n",
    "    #block of code    \n",
    "except Exception2:    \n",
    "    #block of code    \n",
    "#other code`</code>"
   ]
  },
  {
   "cell_type": "code",
   "execution_count": 4,
   "id": "unavailable-corner",
   "metadata": {},
   "outputs": [
    {
     "name": "stdin",
     "output_type": "stream",
     "text": [
      "Enter a: 10\n",
      "Enter b: 0\n"
     ]
    },
    {
     "name": "stdout",
     "output_type": "stream",
     "text": [
      "Can't divide with zero\n"
     ]
    }
   ],
   "source": [
    "try:  \n",
    "    a = int(input(\"Enter a:\"))    \n",
    "    b = int(input(\"Enter b:\"))    \n",
    "    c = a/b  \n",
    "except:  \n",
    "    print(\"Can't divide with zero\") "
   ]
  },
  {
   "cell_type": "markdown",
   "id": "ceramic-morgan",
   "metadata": {},
   "source": [
    "We can also use the else statement with the try-except statement in which, we can place the code which will be executed in the scenario if no exception occurs in the try block.\n",
    "\n",
    "The syntax to use the else statement with the try-except statement is given below."
   ]
  },
  {
   "cell_type": "code",
   "execution_count": 5,
   "id": "subsequent-carter",
   "metadata": {},
   "outputs": [],
   "source": [
    "try:    \n",
    "    pass\n",
    "    #block of code     \n",
    "    \n",
    "except Exception1:    \n",
    "    #block of code     \n",
    "    pass\n",
    "else:    \n",
    "    pass\n",
    "    #this code executes if no except block is executed    "
   ]
  },
  {
   "cell_type": "markdown",
   "id": "eight-background",
   "metadata": {},
   "source": [
    "<img src='https://static.javatpoint.com/python/images/python-exception-handling2.png'>"
   ]
  },
  {
   "cell_type": "code",
   "execution_count": 11,
   "id": "owned-density",
   "metadata": {},
   "outputs": [],
   "source": [
    "def divid():\n",
    "    try:    \n",
    "        a = int(input(\"Enter a:\"))    \n",
    "        b = int(input(\"Enter b:\"))    \n",
    "        c = a/b  \n",
    "        print(\"a/b = %d\"%c)    \n",
    "    # Using Exception with except statement. If we print(Exception) it will return exception class  \n",
    "    except Exception as e:    \n",
    "        print(\"can't divide by zero\")    \n",
    "        print(e)  \n",
    "    else:    \n",
    "        print(\"Hi I am else block\")     "
   ]
  },
  {
   "cell_type": "code",
   "execution_count": 9,
   "id": "protecting-supervisor",
   "metadata": {},
   "outputs": [
    {
     "name": "stdin",
     "output_type": "stream",
     "text": [
      "Enter a: 2\n",
      "Enter b: 3\n"
     ]
    },
    {
     "name": "stdout",
     "output_type": "stream",
     "text": [
      "a/b = 0\n",
      "Hi I am else block\n"
     ]
    }
   ],
   "source": [
    "divid()"
   ]
  },
  {
   "cell_type": "code",
   "execution_count": 12,
   "id": "tropical-cycle",
   "metadata": {},
   "outputs": [
    {
     "name": "stdin",
     "output_type": "stream",
     "text": [
      "Enter a: 4\n",
      "Enter b: 0\n"
     ]
    },
    {
     "name": "stdout",
     "output_type": "stream",
     "text": [
      "can't divide by zero\n",
      "division by zero\n"
     ]
    }
   ],
   "source": [
    "divid()"
   ]
  },
  {
   "cell_type": "markdown",
   "id": "sporting-classics",
   "metadata": {},
   "source": [
    "## The except statement with no exception\n",
    "Python provides the flexibility not to specify the name of exception with the exception statement.\n",
    "\n",
    "Consider the following example."
   ]
  },
  {
   "cell_type": "code",
   "execution_count": 13,
   "id": "accessory-edmonton",
   "metadata": {},
   "outputs": [
    {
     "name": "stdin",
     "output_type": "stream",
     "text": [
      "Enter a: 3\n",
      "Enter b: 4\n"
     ]
    },
    {
     "name": "stdout",
     "output_type": "stream",
     "text": [
      "a/b = 0\n",
      "Hi I am else block\n"
     ]
    }
   ],
   "source": [
    "try:    \n",
    "    a = int(input(\"Enter a:\"))    \n",
    "    b = int(input(\"Enter b:\"))    \n",
    "    c = a/b;    \n",
    "    print(\"a/b = %d\"%c)    \n",
    "except:    \n",
    "    print(\"can't divide by zero\")    \n",
    "else:    \n",
    "    print(\"Hi I am else block\")     "
   ]
  },
  {
   "cell_type": "markdown",
   "id": "visible-melbourne",
   "metadata": {},
   "source": [
    "## The except statement using with exception variable\n",
    "We can use the exception variable with the except statement. It is used by using the as keyword. this object will return the cause of the exception. Consider the following example:"
   ]
  },
  {
   "cell_type": "code",
   "execution_count": 14,
   "id": "operating-candy",
   "metadata": {},
   "outputs": [
    {
     "name": "stdin",
     "output_type": "stream",
     "text": [
      "Enter a: 4\n",
      "Enter b: 2\n"
     ]
    },
    {
     "name": "stdout",
     "output_type": "stream",
     "text": [
      "a/b = 2\n",
      "Hi I am else block\n"
     ]
    }
   ],
   "source": [
    "try:    \n",
    "    a = int(input(\"Enter a:\"))    \n",
    "    b = int(input(\"Enter b:\"))    \n",
    "    c = a/b  \n",
    "    print(\"a/b = %d\"%c)    \n",
    "    # Using exception object with the except statement  \n",
    "except Exception as e:    \n",
    "    print(\"can't divide by zero\")    \n",
    "    print(e)  \n",
    "else:    \n",
    "    print(\"Hi I am else block\")"
   ]
  },
  {
   "cell_type": "markdown",
   "id": "unsigned-corner",
   "metadata": {},
   "source": [
    "## Points to remember\n",
    "1. Python facilitates us to not specify the exception with the except statement.\n",
    "2. We can declare multiple exceptions in the except statement since the try block may contain the statements which throw the different type of exceptions.\n",
    "3. We can also specify an else block along with the try-except statement, which will be executed if no exception is raised in the try block.\n",
    "4. The statements that don't throw the exception should be placed inside the else block."
   ]
  },
  {
   "cell_type": "markdown",
   "id": "narrow-handle",
   "metadata": {},
   "source": [
    "## Declaring Multiple Exceptions\n",
    "The Python allows us to declare the multiple exceptions with the except clause. Declaring multiple exceptions is useful in the cases where a try block throws multiple exceptions. The syntax is given below.\n",
    "\n",
    "<code>try:    \n",
    "    #block of code     \n",
    "except (<Exception1>,<Exception 2>,<Exception 3>,...<Exception n>`)    \n",
    "    #block of code     \n",
    "else:    \n",
    "    #block of code</code>"
   ]
  },
  {
   "cell_type": "code",
   "execution_count": 21,
   "id": "wanted-alpha",
   "metadata": {},
   "outputs": [
    {
     "name": "stdout",
     "output_type": "stream",
     "text": [
      "division by zero\n"
     ]
    }
   ],
   "source": [
    "try:      \n",
    "    a = 10/0  \n",
    "except(ArithmeticError, IOError) as e:      \n",
    "    print(e)      \n",
    "else:      \n",
    "    print(\"Successfully Done\")       "
   ]
  },
  {
   "cell_type": "code",
   "execution_count": 22,
   "id": "third-night",
   "metadata": {},
   "outputs": [
    {
     "name": "stdout",
     "output_type": "stream",
     "text": [
      "[Errno 2] No such file or directory: 'just.tst'\n"
     ]
    }
   ],
   "source": [
    "try:      \n",
    "    open('just.tst','r')   \n",
    "except(ArithmeticError, IOError) as e:      \n",
    "    print(e)      \n",
    "else:      \n",
    "    print(\"Successfully Done\")       "
   ]
  },
  {
   "cell_type": "markdown",
   "id": "civil-jason",
   "metadata": {},
   "source": [
    "## The try finally block\n",
    "Python provides the optional finally statement, which is used with the try statement. It is executed no matter what exception occurs and used to release the external resource. The finally block provides a guarantee of the execution.\n",
    "\n",
    "We can use the finally block with the try block in which we can pace the necessary code, which must be executed before the try statement throws an exception."
   ]
  },
  {
   "cell_type": "code",
   "execution_count": 23,
   "id": "accessory-bacon",
   "metadata": {},
   "outputs": [
    {
     "name": "stdout",
     "output_type": "stream",
     "text": [
      "I will execute no matter what happend\n"
     ]
    }
   ],
   "source": [
    "try:\n",
    "    pass\n",
    "except:\n",
    "    pass\n",
    "finally:\n",
    "    print('I will execute no matter what happend')"
   ]
  },
  {
   "cell_type": "markdown",
   "id": "desperate-person",
   "metadata": {},
   "source": [
    "<img src='https://static.javatpoint.com/python/images/python-exception-handling3.png'>"
   ]
  },
  {
   "cell_type": "code",
   "execution_count": 26,
   "id": "reduced-pension",
   "metadata": {},
   "outputs": [
    {
     "name": "stdout",
     "output_type": "stream",
     "text": [
      "file closed\n",
      "Error\n"
     ]
    }
   ],
   "source": [
    "try:    \n",
    "    fileptr = open(\"first.txt\",\"r\")      \n",
    "    try:    \n",
    "        fileptr.write(\"Hi I am good\")    \n",
    "    finally:    \n",
    "        fileptr.close()    \n",
    "        print(\"file closed\")    \n",
    "except:    \n",
    "    print(\"Error\")    "
   ]
  },
  {
   "cell_type": "markdown",
   "id": "internal-kuwait",
   "metadata": {},
   "source": [
    "## Raising exceptions\n",
    "\n",
    "An exception can be raised forcefully by using the raise clause in Python. It is useful in in that scenario where we need to raise an exception to stop the execution of the program.\n",
    "\n",
    "For example, there is a program that requires 2GB memory for execution, and if the program tries to occupy 2GB of memory, then we can raise an exception to stop the execution of the program.\n",
    "\n",
    "The syntax to use the raise statement is given below.\n",
    "\n",
    "### syntax\n",
    "\n",
    "`raise Exception_class,<value>`"
   ]
  },
  {
   "cell_type": "markdown",
   "id": "lightweight-round",
   "metadata": {},
   "source": [
    "## Points to remember\n",
    "\n",
    "- To raise an exception, the raise statement is used. The exception class name follows it.\n",
    "- An exception can be provided with a value that can be given in the parenthesis.\n",
    "- To access the value \"as\" keyword is used. \"e\" is used as a reference variable which stores the value of the exception.\n",
    "- We can pass the value to an exception to specify the exception type."
   ]
  },
  {
   "cell_type": "code",
   "execution_count": 27,
   "id": "fitted-tucson",
   "metadata": {},
   "outputs": [
    {
     "name": "stdin",
     "output_type": "stream",
     "text": [
      "Enter the age: 23\n"
     ]
    },
    {
     "name": "stdout",
     "output_type": "stream",
     "text": [
      "the age is valid\n"
     ]
    }
   ],
   "source": [
    "try:    \n",
    "    age = int(input(\"Enter the age:\"))    \n",
    "    if(age<18):    \n",
    "        raise ValueError   \n",
    "    else:    \n",
    "        print(\"the age is valid\")    \n",
    "except ValueError:    \n",
    "    print(\"The age is not valid\")    "
   ]
  },
  {
   "cell_type": "code",
   "execution_count": 28,
   "id": "combined-invite",
   "metadata": {},
   "outputs": [
    {
     "name": "stdin",
     "output_type": "stream",
     "text": [
      "Enter the age: 3\n"
     ]
    },
    {
     "name": "stdout",
     "output_type": "stream",
     "text": [
      "The age is not valid\n"
     ]
    }
   ],
   "source": [
    "try:    \n",
    "    age = int(input(\"Enter the age:\"))    \n",
    "    if(age<18):    \n",
    "        raise ValueError   \n",
    "    else:    \n",
    "        print(\"the age is valid\")    \n",
    "except ValueError:    \n",
    "    print(\"The age is not valid\")    "
   ]
  },
  {
   "cell_type": "code",
   "execution_count": 30,
   "id": "suitable-basin",
   "metadata": {},
   "outputs": [
    {
     "name": "stdin",
     "output_type": "stream",
     "text": [
      "Enter your age. 3\n"
     ]
    },
    {
     "name": "stdout",
     "output_type": "stream",
     "text": [
      "Age error\n"
     ]
    }
   ],
   "source": [
    "try:\n",
    "    age = int(input('Enter your age.'))\n",
    "    if age<18:\n",
    "        raise ValueError\n",
    "    else:\n",
    "        print('no error')\n",
    "except ValueError:\n",
    "    print('Age error')"
   ]
  },
  {
   "cell_type": "code",
   "execution_count": 33,
   "id": "acute-omega",
   "metadata": {},
   "outputs": [
    {
     "name": "stdin",
     "output_type": "stream",
     "text": [
      "Enter a positive integer:  -2\n"
     ]
    },
    {
     "name": "stdout",
     "output_type": "stream",
     "text": [
      "That is  a negative number!\n"
     ]
    }
   ],
   "source": [
    "try:  \n",
    "     num = int(input(\"Enter a positive integer: \"))  \n",
    "     if(num <= 0):  \n",
    "# we can pass the message in the raise statement  \n",
    "         raise ValueError(\"That is  a negative number!\")  \n",
    "except ValueError as e:  \n",
    "     print(e)  "
   ]
  },
  {
   "cell_type": "markdown",
   "id": "dental-senate",
   "metadata": {},
   "source": [
    "## Custom Exception\n",
    "\n",
    "The Python allows us to create our exceptions that can be raised from the program and caught using the except clause."
   ]
  },
  {
   "cell_type": "code",
   "execution_count": 34,
   "id": "explicit-commitment",
   "metadata": {},
   "outputs": [
    {
     "name": "stdout",
     "output_type": "stream",
     "text": [
      "Received error: 2000\n"
     ]
    }
   ],
   "source": [
    "class ErrorInCode(Exception):      \n",
    "    def __init__(self, data):      \n",
    "        self.data = data      \n",
    "    def __str__(self):      \n",
    "        return repr(self.data)      \n",
    "      \n",
    "try:      \n",
    "    raise ErrorInCode(2000)      \n",
    "except ErrorInCode as ae:      \n",
    "    print(\"Received error:\", ae.data)      "
   ]
  },
  {
   "cell_type": "markdown",
   "id": "occasional-renaissance",
   "metadata": {},
   "source": [
    "https://www.javatpoint.com/python-exception-handling"
   ]
  },
  {
   "cell_type": "code",
   "execution_count": null,
   "id": "governing-advice",
   "metadata": {},
   "outputs": [],
   "source": []
  }
 ],
 "metadata": {
  "kernelspec": {
   "display_name": "Python 3",
   "language": "python",
   "name": "python3"
  },
  "language_info": {
   "codemirror_mode": {
    "name": "ipython",
    "version": 3
   },
   "file_extension": ".py",
   "mimetype": "text/x-python",
   "name": "python",
   "nbconvert_exporter": "python",
   "pygments_lexer": "ipython3",
   "version": "3.8.8"
  }
 },
 "nbformat": 4,
 "nbformat_minor": 5
}
