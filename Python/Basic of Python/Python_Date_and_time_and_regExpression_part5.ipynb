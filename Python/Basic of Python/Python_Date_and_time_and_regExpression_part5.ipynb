{
 "cells": [
  {
   "cell_type": "markdown",
   "id": "powerful-peeing",
   "metadata": {},
   "source": [
    "## Python Date and time\n",
    "Python provides the datetime module work with real dates and times. In real-world applications, we need to work with the date and time. Python enables us to schedule our Python script to run at a particular timing.\n",
    "\n",
    "In Python, the date is not a data type, but we can work with the date objects by importing the module named with datetime, time, and calendar."
   ]
  },
  {
   "cell_type": "code",
   "execution_count": 1,
   "id": "studied-restaurant",
   "metadata": {},
   "outputs": [],
   "source": [
    "import datetime"
   ]
  },
  {
   "cell_type": "code",
   "execution_count": 2,
   "id": "freelance-baptist",
   "metadata": {},
   "outputs": [
    {
     "data": {
      "text/plain": [
       "['MAXYEAR',\n",
       " 'MINYEAR',\n",
       " '__builtins__',\n",
       " '__cached__',\n",
       " '__doc__',\n",
       " '__file__',\n",
       " '__loader__',\n",
       " '__name__',\n",
       " '__package__',\n",
       " '__spec__',\n",
       " 'date',\n",
       " 'datetime',\n",
       " 'datetime_CAPI',\n",
       " 'sys',\n",
       " 'time',\n",
       " 'timedelta',\n",
       " 'timezone',\n",
       " 'tzinfo']"
      ]
     },
     "execution_count": 2,
     "metadata": {},
     "output_type": "execute_result"
    }
   ],
   "source": [
    "dir(datetime)"
   ]
  },
  {
   "cell_type": "code",
   "execution_count": 3,
   "id": "faced-stream",
   "metadata": {},
   "outputs": [],
   "source": [
    "import time"
   ]
  },
  {
   "cell_type": "code",
   "execution_count": 5,
   "id": "handled-survey",
   "metadata": {},
   "outputs": [
    {
     "data": {
      "text/plain": [
       "1630981360.119079"
      ]
     },
     "execution_count": 5,
     "metadata": {},
     "output_type": "execute_result"
    }
   ],
   "source": [
    "time.time()"
   ]
  },
  {
   "cell_type": "code",
   "execution_count": 8,
   "id": "future-heather",
   "metadata": {},
   "outputs": [
    {
     "name": "stdout",
     "output_type": "stream",
     "text": [
      "time.struct_time(tm_year=2021, tm_mon=9, tm_mday=7, tm_hour=7, tm_min=54, tm_sec=22, tm_wday=1, tm_yday=250, tm_isdst=0)\n"
     ]
    }
   ],
   "source": [
    "print(time.localtime(time.time()))"
   ]
  },
  {
   "cell_type": "code",
   "execution_count": 9,
   "id": "everyday-guinea",
   "metadata": {},
   "outputs": [
    {
     "data": {
      "text/plain": [
       "'Tue Sep  7 07:59:30 2021'"
      ]
     },
     "execution_count": 9,
     "metadata": {},
     "output_type": "execute_result"
    }
   ],
   "source": [
    "time.asctime(time.localtime(time.time()))"
   ]
  },
  {
   "cell_type": "code",
   "execution_count": 12,
   "id": "after-hometown",
   "metadata": {},
   "outputs": [
    {
     "name": "stdout",
     "output_type": "stream",
     "text": [
      "0\n",
      "1\n",
      "2\n",
      "3\n"
     ]
    }
   ],
   "source": [
    "for i in range(4):\n",
    "    print(i)\n",
    "    time.sleep(1)"
   ]
  },
  {
   "cell_type": "markdown",
   "id": "trained-mistake",
   "metadata": {},
   "source": [
    "## Date Module"
   ]
  },
  {
   "cell_type": "code",
   "execution_count": 13,
   "id": "clinical-glossary",
   "metadata": {},
   "outputs": [],
   "source": [
    "import datetime"
   ]
  },
  {
   "cell_type": "code",
   "execution_count": 14,
   "id": "optimum-flavor",
   "metadata": {},
   "outputs": [
    {
     "data": {
      "text/plain": [
       "datetime.date"
      ]
     },
     "execution_count": 14,
     "metadata": {},
     "output_type": "execute_result"
    }
   ],
   "source": [
    "datetime.date"
   ]
  },
  {
   "cell_type": "code",
   "execution_count": 16,
   "id": "sharing-pennsylvania",
   "metadata": {},
   "outputs": [
    {
     "name": "stdout",
     "output_type": "stream",
     "text": [
      "2021-09-07 08:03:51.818072\n"
     ]
    }
   ],
   "source": [
    "print(datetime.datetime.now())"
   ]
  },
  {
   "cell_type": "markdown",
   "id": "heated-queen",
   "metadata": {},
   "source": [
    "## The calendar module"
   ]
  },
  {
   "cell_type": "code",
   "execution_count": 18,
   "id": "marked-booking",
   "metadata": {},
   "outputs": [],
   "source": [
    "import calendar"
   ]
  },
  {
   "cell_type": "code",
   "execution_count": 22,
   "id": "colonial-stack",
   "metadata": {},
   "outputs": [
    {
     "data": {
      "text/plain": [
       "'   September 2020\\nMo Tu We Th Fr Sa Su\\n    1  2  3  4  5  6\\n 7  8  9 10 11 12 13\\n14 15 16 17 18 19 20\\n21 22 23 24 25 26 27\\n28 29 30\\n'"
      ]
     },
     "execution_count": 22,
     "metadata": {},
     "output_type": "execute_result"
    }
   ],
   "source": [
    "calendar.month(2020,9)"
   ]
  },
  {
   "cell_type": "code",
   "execution_count": 23,
   "id": "refined-amber",
   "metadata": {},
   "outputs": [
    {
     "name": "stdout",
     "output_type": "stream",
     "text": [
      "   September 2020\n",
      "Mo Tu We Th Fr Sa Su\n",
      "    1  2  3  4  5  6\n",
      " 7  8  9 10 11 12 13\n",
      "14 15 16 17 18 19 20\n",
      "21 22 23 24 25 26 27\n",
      "28 29 30\n",
      "\n"
     ]
    }
   ],
   "source": [
    "print(calendar.month(2020,9))"
   ]
  },
  {
   "cell_type": "code",
   "execution_count": 24,
   "id": "compliant-cleaners",
   "metadata": {},
   "outputs": [
    {
     "name": "stdout",
     "output_type": "stream",
     "text": [
      "                                  2021\n",
      "\n",
      "      January                   February                   March\n",
      "Mo Tu We Th Fr Sa Su      Mo Tu We Th Fr Sa Su      Mo Tu We Th Fr Sa Su\n",
      "             1  2  3       1  2  3  4  5  6  7       1  2  3  4  5  6  7\n",
      " 4  5  6  7  8  9 10       8  9 10 11 12 13 14       8  9 10 11 12 13 14\n",
      "11 12 13 14 15 16 17      15 16 17 18 19 20 21      15 16 17 18 19 20 21\n",
      "18 19 20 21 22 23 24      22 23 24 25 26 27 28      22 23 24 25 26 27 28\n",
      "25 26 27 28 29 30 31                                29 30 31\n",
      "\n",
      "       April                      May                       June\n",
      "Mo Tu We Th Fr Sa Su      Mo Tu We Th Fr Sa Su      Mo Tu We Th Fr Sa Su\n",
      "          1  2  3  4                      1  2          1  2  3  4  5  6\n",
      " 5  6  7  8  9 10 11       3  4  5  6  7  8  9       7  8  9 10 11 12 13\n",
      "12 13 14 15 16 17 18      10 11 12 13 14 15 16      14 15 16 17 18 19 20\n",
      "19 20 21 22 23 24 25      17 18 19 20 21 22 23      21 22 23 24 25 26 27\n",
      "26 27 28 29 30            24 25 26 27 28 29 30      28 29 30\n",
      "                          31\n",
      "\n",
      "        July                     August                  September\n",
      "Mo Tu We Th Fr Sa Su      Mo Tu We Th Fr Sa Su      Mo Tu We Th Fr Sa Su\n",
      "          1  2  3  4                         1             1  2  3  4  5\n",
      " 5  6  7  8  9 10 11       2  3  4  5  6  7  8       6  7  8  9 10 11 12\n",
      "12 13 14 15 16 17 18       9 10 11 12 13 14 15      13 14 15 16 17 18 19\n",
      "19 20 21 22 23 24 25      16 17 18 19 20 21 22      20 21 22 23 24 25 26\n",
      "26 27 28 29 30 31         23 24 25 26 27 28 29      27 28 29 30\n",
      "                          30 31\n",
      "\n",
      "      October                   November                  December\n",
      "Mo Tu We Th Fr Sa Su      Mo Tu We Th Fr Sa Su      Mo Tu We Th Fr Sa Su\n",
      "             1  2  3       1  2  3  4  5  6  7             1  2  3  4  5\n",
      " 4  5  6  7  8  9 10       8  9 10 11 12 13 14       6  7  8  9 10 11 12\n",
      "11 12 13 14 15 16 17      15 16 17 18 19 20 21      13 14 15 16 17 18 19\n",
      "18 19 20 21 22 23 24      22 23 24 25 26 27 28      20 21 22 23 24 25 26\n",
      "25 26 27 28 29 30 31      29 30                     27 28 29 30 31\n"
     ]
    }
   ],
   "source": [
    "# print the whole year.\n",
    "calendar.prcal(2021)"
   ]
  },
  {
   "cell_type": "code",
   "execution_count": 25,
   "id": "laughing-headset",
   "metadata": {},
   "outputs": [
    {
     "data": {
      "text/plain": [
       "module"
      ]
     },
     "execution_count": 25,
     "metadata": {},
     "output_type": "execute_result"
    }
   ],
   "source": [
    "type(datetime)"
   ]
  },
  {
   "cell_type": "markdown",
   "id": "anonymous-negotiation",
   "metadata": {},
   "source": [
    "for more refer to this https://www.javatpoint.com/python-date "
   ]
  },
  {
   "cell_type": "markdown",
   "id": "atlantic-craps",
   "metadata": {},
   "source": [
    "## Python Regular Expressions\n",
    "The regular expressions can be defined as the sequence of characters which are used to search for a pattern in a string. The module re provides the support to use regex in the python program. The re module throws an exception if there is some error while using the regular expression.\n",
    "\n",
    "The re module must be imported to use the regex functionalities in python."
   ]
  },
  {
   "cell_type": "markdown",
   "id": "central-facial",
   "metadata": {},
   "source": [
    "## Regex Functions\n",
    "The following regex functions are used in the python.\n",
    "\n",
    "match, search, split, sub, findall."
   ]
  },
  {
   "cell_type": "markdown",
   "id": "sticky-restoration",
   "metadata": {},
   "source": [
    "## Forming a regular expression\n",
    "A regular expression can be formed by using the mix of meta-characters, special sequences, and sets."
   ]
  },
  {
   "cell_type": "markdown",
   "id": "hungry-lender",
   "metadata": {},
   "source": [
    "refer to this link for more to understadn . https://www.javatpoint.com/python-regex\n",
    "    "
   ]
  },
  {
   "cell_type": "markdown",
   "id": "laughing-rogers",
   "metadata": {},
   "source": [
    "## Special Sequences\n",
    "\n",
    "Special sequences are the sequences containing \\ followed by one of the characters.\n",
    "https://www.javatpoint.com/python-regex"
   ]
  },
  {
   "cell_type": "markdown",
   "id": "treated-validation",
   "metadata": {},
   "source": [
    "## Sets\n",
    "A set is a group of characters given inside a pair of square brackets. It represents the special meaning."
   ]
  },
  {
   "cell_type": "markdown",
   "id": "compatible-brass",
   "metadata": {},
   "source": [
    "### The findall() function\n",
    "This method returns a list containing a list of all matches of a pattern within the string. It returns the patterns in the order they are found. If there are no matches, then an empty list is returned.\n",
    "\n",
    "Consider the following example."
   ]
  },
  {
   "cell_type": "code",
   "execution_count": 26,
   "id": "valuable-vacation",
   "metadata": {},
   "outputs": [],
   "source": [
    "import re"
   ]
  },
  {
   "cell_type": "code",
   "execution_count": 27,
   "id": "desperate-ordinance",
   "metadata": {},
   "outputs": [],
   "source": [
    "string = 'How are you? How is everything?'"
   ]
  },
  {
   "cell_type": "code",
   "execution_count": 28,
   "id": "coral-removal",
   "metadata": {},
   "outputs": [],
   "source": [
    "match = re.findall('How',string)"
   ]
  },
  {
   "cell_type": "code",
   "execution_count": 29,
   "id": "thorough-indication",
   "metadata": {},
   "outputs": [
    {
     "data": {
      "text/plain": [
       "['How', 'How']"
      ]
     },
     "execution_count": 29,
     "metadata": {},
     "output_type": "execute_result"
    }
   ],
   "source": [
    "match"
   ]
  },
  {
   "cell_type": "markdown",
   "id": "otherwise-cheat",
   "metadata": {},
   "source": [
    "## The match object\n",
    "The match object contains the information about the search and the output. If there is no match found, the None object is returned."
   ]
  },
  {
   "cell_type": "code",
   "execution_count": 30,
   "id": "complicated-moment",
   "metadata": {},
   "outputs": [],
   "source": [
    "match = re.search('How',string)"
   ]
  },
  {
   "cell_type": "code",
   "execution_count": 31,
   "id": "canadian-delivery",
   "metadata": {},
   "outputs": [
    {
     "data": {
      "text/plain": [
       "<re.Match object; span=(0, 3), match='How'>"
      ]
     },
     "execution_count": 31,
     "metadata": {},
     "output_type": "execute_result"
    }
   ],
   "source": [
    "match"
   ]
  },
  {
   "cell_type": "code",
   "execution_count": 32,
   "id": "computational-publicity",
   "metadata": {},
   "outputs": [
    {
     "data": {
      "text/plain": [
       "re.Match"
      ]
     },
     "execution_count": 32,
     "metadata": {},
     "output_type": "execute_result"
    }
   ],
   "source": [
    "type(match)"
   ]
  },
  {
   "cell_type": "markdown",
   "id": "dramatic-insert",
   "metadata": {},
   "source": [
    "## The Match object methods\n",
    "There are the following methods associated with the Match object.\n",
    "\n",
    "1. span(): It returns the tuple containing the starting and end position of the match.\n",
    "2. string(): It returns a string passed into the function.\n",
    "3. group(): The part of the string is returned where the match is found."
   ]
  },
  {
   "cell_type": "code",
   "execution_count": 33,
   "id": "greek-advance",
   "metadata": {},
   "outputs": [
    {
     "data": {
      "text/plain": [
       "(0, 3)"
      ]
     },
     "execution_count": 33,
     "metadata": {},
     "output_type": "execute_result"
    }
   ],
   "source": [
    "match.span()"
   ]
  },
  {
   "cell_type": "code",
   "execution_count": 35,
   "id": "painted-indication",
   "metadata": {},
   "outputs": [
    {
     "data": {
      "text/plain": [
       "'How are you? How is everything?'"
      ]
     },
     "execution_count": 35,
     "metadata": {},
     "output_type": "execute_result"
    }
   ],
   "source": [
    "match.string"
   ]
  },
  {
   "cell_type": "code",
   "execution_count": 37,
   "id": "saved-polymer",
   "metadata": {},
   "outputs": [
    {
     "data": {
      "text/plain": [
       "'How'"
      ]
     },
     "execution_count": 37,
     "metadata": {},
     "output_type": "execute_result"
    }
   ],
   "source": [
    "match.group()"
   ]
  },
  {
   "cell_type": "code",
   "execution_count": 39,
   "id": "metropolitan-detroit",
   "metadata": {},
   "outputs": [
    {
     "data": {
      "text/plain": [
       "3"
      ]
     },
     "execution_count": 39,
     "metadata": {},
     "output_type": "execute_result"
    }
   ],
   "source": [
    "match.end()"
   ]
  },
  {
   "cell_type": "markdown",
   "id": "mineral-vessel",
   "metadata": {},
   "source": [
    "https://www.javatpoint.com/python-regex"
   ]
  },
  {
   "cell_type": "markdown",
   "id": "chief-bridal",
   "metadata": {},
   "source": [
    "## The findall() Function\n",
    "The findall() function returns a list containing all matches."
   ]
  },
  {
   "cell_type": "code",
   "execution_count": 40,
   "id": "enormous-electron",
   "metadata": {},
   "outputs": [],
   "source": [
    "string = \"this is my user name mansoor123\""
   ]
  },
  {
   "cell_type": "code",
   "execution_count": 44,
   "id": "great-facility",
   "metadata": {},
   "outputs": [
    {
     "data": {
      "text/plain": [
       "['this', 'is', 'my', 'user', 'name', 'mansoor123']"
      ]
     },
     "execution_count": 44,
     "metadata": {},
     "output_type": "execute_result"
    }
   ],
   "source": [
    "re.findall('\\w+', string)"
   ]
  },
  {
   "cell_type": "code",
   "execution_count": 45,
   "id": "lightweight-dressing",
   "metadata": {},
   "outputs": [
    {
     "data": {
      "text/plain": [
       "['this']"
      ]
     },
     "execution_count": 45,
     "metadata": {},
     "output_type": "execute_result"
    }
   ],
   "source": [
    "re.findall('^\\w+', string)"
   ]
  },
  {
   "cell_type": "code",
   "execution_count": 46,
   "id": "automated-placement",
   "metadata": {},
   "outputs": [],
   "source": [
    "txt = \"the rain in spain\""
   ]
  },
  {
   "cell_type": "code",
   "execution_count": 47,
   "id": "large-scheduling",
   "metadata": {},
   "outputs": [
    {
     "data": {
      "text/plain": [
       "['ai', 'ai']"
      ]
     },
     "execution_count": 47,
     "metadata": {},
     "output_type": "execute_result"
    }
   ],
   "source": [
    "re.findall('ai',txt)"
   ]
  },
  {
   "cell_type": "code",
   "execution_count": 48,
   "id": "developing-postcard",
   "metadata": {},
   "outputs": [
    {
     "data": {
      "text/plain": [
       "['spain']"
      ]
     },
     "execution_count": 48,
     "metadata": {},
     "output_type": "execute_result"
    }
   ],
   "source": [
    "re.findall('spain',txt)"
   ]
  },
  {
   "cell_type": "code",
   "execution_count": 49,
   "id": "continent-picking",
   "metadata": {},
   "outputs": [],
   "source": [
    "review = 'This product is good bad good bad good bad this product is good , good, good, good, good, good, good, good,bad, bad, bad, bad,bad'"
   ]
  },
  {
   "cell_type": "code",
   "execution_count": 51,
   "id": "arranged-theology",
   "metadata": {},
   "outputs": [],
   "source": [
    "x = re.findall('good',review)"
   ]
  },
  {
   "cell_type": "code",
   "execution_count": 52,
   "id": "surprising-drove",
   "metadata": {},
   "outputs": [
    {
     "data": {
      "text/plain": [
       "['good',\n",
       " 'good',\n",
       " 'good',\n",
       " 'good',\n",
       " 'good',\n",
       " 'good',\n",
       " 'good',\n",
       " 'good',\n",
       " 'good',\n",
       " 'good',\n",
       " 'good']"
      ]
     },
     "execution_count": 52,
     "metadata": {},
     "output_type": "execute_result"
    }
   ],
   "source": [
    "x"
   ]
  },
  {
   "cell_type": "code",
   "execution_count": 54,
   "id": "becoming-aaron",
   "metadata": {},
   "outputs": [
    {
     "data": {
      "text/plain": [
       "11"
      ]
     },
     "execution_count": 54,
     "metadata": {},
     "output_type": "execute_result"
    }
   ],
   "source": [
    "len(x)"
   ]
  },
  {
   "cell_type": "code",
   "execution_count": 55,
   "id": "widespread-macintosh",
   "metadata": {},
   "outputs": [],
   "source": [
    "bd = re.findall('bad',review)"
   ]
  },
  {
   "cell_type": "code",
   "execution_count": 56,
   "id": "interested-hampshire",
   "metadata": {},
   "outputs": [
    {
     "data": {
      "text/plain": [
       "['bad', 'bad', 'bad', 'bad', 'bad', 'bad', 'bad', 'bad']"
      ]
     },
     "execution_count": 56,
     "metadata": {},
     "output_type": "execute_result"
    }
   ],
   "source": [
    "bd"
   ]
  },
  {
   "cell_type": "code",
   "execution_count": 57,
   "id": "static-bulgaria",
   "metadata": {},
   "outputs": [
    {
     "data": {
      "text/plain": [
       "8"
      ]
     },
     "execution_count": 57,
     "metadata": {},
     "output_type": "execute_result"
    }
   ],
   "source": [
    "len(bd)"
   ]
  },
  {
   "cell_type": "code",
   "execution_count": 58,
   "id": "certified-gossip",
   "metadata": {},
   "outputs": [
    {
     "data": {
      "text/plain": [
       "[]"
      ]
     },
     "execution_count": 58,
     "metadata": {},
     "output_type": "execute_result"
    }
   ],
   "source": [
    "re.findall('well',review)"
   ]
  },
  {
   "cell_type": "markdown",
   "id": "purple-ontario",
   "metadata": {},
   "source": [
    "## The search() Function\n",
    "The search() function searches the string for a match, and returns a Match object if there is a match.\n",
    "\n",
    "If there is more than one match, only the first occurrence of the match will be returned:"
   ]
  },
  {
   "cell_type": "code",
   "execution_count": 59,
   "id": "herbal-resource",
   "metadata": {},
   "outputs": [],
   "source": [
    "txt = 'The rain in Spain'"
   ]
  },
  {
   "cell_type": "code",
   "execution_count": 63,
   "id": "authorized-ready",
   "metadata": {},
   "outputs": [],
   "source": [
    "# Returns a match where the string contains a white space character\n",
    "x = re.search('\\s',txt)"
   ]
  },
  {
   "cell_type": "code",
   "execution_count": 61,
   "id": "armed-nation",
   "metadata": {},
   "outputs": [
    {
     "data": {
      "text/plain": [
       "<re.Match object; span=(3, 4), match=' '>"
      ]
     },
     "execution_count": 61,
     "metadata": {},
     "output_type": "execute_result"
    }
   ],
   "source": [
    "x"
   ]
  },
  {
   "cell_type": "code",
   "execution_count": 62,
   "id": "brave-composition",
   "metadata": {},
   "outputs": [
    {
     "data": {
      "text/plain": [
       "re.Match"
      ]
     },
     "execution_count": 62,
     "metadata": {},
     "output_type": "execute_result"
    }
   ],
   "source": [
    "type(x)"
   ]
  },
  {
   "cell_type": "code",
   "execution_count": 64,
   "id": "advisory-concord",
   "metadata": {},
   "outputs": [
    {
     "data": {
      "text/plain": [
       "4"
      ]
     },
     "execution_count": 64,
     "metadata": {},
     "output_type": "execute_result"
    }
   ],
   "source": [
    "x.end()"
   ]
  },
  {
   "cell_type": "code",
   "execution_count": 65,
   "id": "casual-flooring",
   "metadata": {},
   "outputs": [
    {
     "data": {
      "text/plain": [
       "3"
      ]
     },
     "execution_count": 65,
     "metadata": {},
     "output_type": "execute_result"
    }
   ],
   "source": [
    "x.start()"
   ]
  },
  {
   "cell_type": "code",
   "execution_count": 67,
   "id": "federal-horizontal",
   "metadata": {},
   "outputs": [
    {
     "data": {
      "text/plain": [
       "17"
      ]
     },
     "execution_count": 67,
     "metadata": {},
     "output_type": "execute_result"
    }
   ],
   "source": [
    "x.endpos"
   ]
  },
  {
   "cell_type": "code",
   "execution_count": 68,
   "id": "representative-radical",
   "metadata": {},
   "outputs": [
    {
     "data": {
      "text/plain": [
       "'The rain in Spain'"
      ]
     },
     "execution_count": 68,
     "metadata": {},
     "output_type": "execute_result"
    }
   ],
   "source": [
    "x.string"
   ]
  },
  {
   "cell_type": "markdown",
   "id": "terminal-diagnosis",
   "metadata": {},
   "source": [
    "## The split() Function\n",
    "The split() function returns a list where the string has been split at each match:"
   ]
  },
  {
   "cell_type": "code",
   "execution_count": 69,
   "id": "fourth-passion",
   "metadata": {},
   "outputs": [],
   "source": [
    "txt = 'The rain is in Spain'"
   ]
  },
  {
   "cell_type": "code",
   "execution_count": 72,
   "id": "dedicated-investor",
   "metadata": {},
   "outputs": [],
   "source": [
    "x = re.split('\\s',txt)"
   ]
  },
  {
   "cell_type": "code",
   "execution_count": 73,
   "id": "functional-church",
   "metadata": {},
   "outputs": [
    {
     "data": {
      "text/plain": [
       "['The', 'rain', 'is', 'in', 'Spain']"
      ]
     },
     "execution_count": 73,
     "metadata": {},
     "output_type": "execute_result"
    }
   ],
   "source": [
    "x"
   ]
  },
  {
   "cell_type": "code",
   "execution_count": 74,
   "id": "rapid-olive",
   "metadata": {},
   "outputs": [
    {
     "data": {
      "text/plain": [
       "['The', 'rain', 'is', 'in', 'Spain']"
      ]
     },
     "execution_count": 74,
     "metadata": {},
     "output_type": "execute_result"
    }
   ],
   "source": [
    "txt.split()"
   ]
  },
  {
   "cell_type": "markdown",
   "id": "frequent-bones",
   "metadata": {},
   "source": [
    "## The sub() Function\n",
    "The sub() function replaces the matches with the text of your choice:"
   ]
  },
  {
   "cell_type": "code",
   "execution_count": 76,
   "id": "exciting-accreditation",
   "metadata": {},
   "outputs": [
    {
     "data": {
      "text/plain": [
       "'The9rain9is9in9Spain'"
      ]
     },
     "execution_count": 76,
     "metadata": {},
     "output_type": "execute_result"
    }
   ],
   "source": [
    "re.sub('\\s', '9', txt)"
   ]
  },
  {
   "cell_type": "code",
   "execution_count": 77,
   "id": "czech-clark",
   "metadata": {},
   "outputs": [
    {
     "data": {
      "text/plain": [
       "'The*rain*is in Spain'"
      ]
     },
     "execution_count": 77,
     "metadata": {},
     "output_type": "execute_result"
    }
   ],
   "source": [
    "re.sub('\\s', '*', txt, 2)"
   ]
  },
  {
   "cell_type": "code",
   "execution_count": 78,
   "id": "hearing-district",
   "metadata": {},
   "outputs": [],
   "source": [
    "string = 'hello 12 hi 89. howdy 34'"
   ]
  },
  {
   "cell_type": "code",
   "execution_count": 79,
   "id": "british-interest",
   "metadata": {},
   "outputs": [
    {
     "data": {
      "text/plain": [
       "['1', '2', '8', '9', '3', '4']"
      ]
     },
     "execution_count": 79,
     "metadata": {},
     "output_type": "execute_result"
    }
   ],
   "source": [
    "re.findall('\\d', string)"
   ]
  },
  {
   "cell_type": "code",
   "execution_count": 80,
   "id": "metropolitan-minister",
   "metadata": {},
   "outputs": [
    {
     "data": {
      "text/plain": [
       "['12', '89', '34']"
      ]
     },
     "execution_count": 80,
     "metadata": {},
     "output_type": "execute_result"
    }
   ],
   "source": [
    "re.findall('\\d+', string)"
   ]
  },
  {
   "cell_type": "code",
   "execution_count": 81,
   "id": "falling-basis",
   "metadata": {},
   "outputs": [
    {
     "data": {
      "text/plain": [
       "['',\n",
       " '',\n",
       " '',\n",
       " '',\n",
       " '',\n",
       " '',\n",
       " '12',\n",
       " '',\n",
       " '',\n",
       " '',\n",
       " '',\n",
       " '89',\n",
       " '',\n",
       " '',\n",
       " '',\n",
       " '',\n",
       " '',\n",
       " '',\n",
       " '',\n",
       " '',\n",
       " '34',\n",
       " '']"
      ]
     },
     "execution_count": 81,
     "metadata": {},
     "output_type": "execute_result"
    }
   ],
   "source": [
    "re.findall('\\d*', string)"
   ]
  },
  {
   "cell_type": "code",
   "execution_count": 82,
   "id": "allied-arrow",
   "metadata": {},
   "outputs": [],
   "source": [
    "string = 'Twelve:12 Eighty nine:89.'"
   ]
  },
  {
   "cell_type": "code",
   "execution_count": 83,
   "id": "southeast-message",
   "metadata": {},
   "outputs": [
    {
     "data": {
      "text/plain": [
       "['Twelve:', ' Eighty nine:', '.']"
      ]
     },
     "execution_count": 83,
     "metadata": {},
     "output_type": "execute_result"
    }
   ],
   "source": [
    "re.split('\\d+', string)"
   ]
  },
  {
   "cell_type": "code",
   "execution_count": 84,
   "id": "numerous-cliff",
   "metadata": {},
   "outputs": [],
   "source": [
    "string = 'abc 12\\\n",
    "de 23 \\n f45 6'"
   ]
  },
  {
   "cell_type": "code",
   "execution_count": 85,
   "id": "fleet-korea",
   "metadata": {},
   "outputs": [
    {
     "data": {
      "text/plain": [
       "'abc 12de 23 \\n f45 6'"
      ]
     },
     "execution_count": 85,
     "metadata": {},
     "output_type": "execute_result"
    }
   ],
   "source": [
    "string"
   ]
  },
  {
   "cell_type": "code",
   "execution_count": 86,
   "id": "temporal-apollo",
   "metadata": {},
   "outputs": [
    {
     "name": "stdout",
     "output_type": "stream",
     "text": [
      "abc 12de 23 \n",
      " f45 6\n"
     ]
    }
   ],
   "source": [
    "print(string)"
   ]
  },
  {
   "cell_type": "code",
   "execution_count": 87,
   "id": "conscious-second",
   "metadata": {},
   "outputs": [
    {
     "data": {
      "text/plain": [
       "'abc12de23f456'"
      ]
     },
     "execution_count": 87,
     "metadata": {},
     "output_type": "execute_result"
    }
   ],
   "source": [
    "re.sub('\\s','', string)"
   ]
  },
  {
   "cell_type": "code",
   "execution_count": 88,
   "id": "useful-fundamental",
   "metadata": {},
   "outputs": [
    {
     "data": {
      "text/plain": [
       "'abc12de23f456'"
      ]
     },
     "execution_count": 88,
     "metadata": {},
     "output_type": "execute_result"
    }
   ],
   "source": [
    "re.sub('\\s+', '', string)"
   ]
  },
  {
   "cell_type": "code",
   "execution_count": 90,
   "id": "organic-edition",
   "metadata": {},
   "outputs": [],
   "source": [
    "string = '39801 356, 2102 1111'\n",
    "\n",
    "# Three digit number followed by space followed by two digit number\n",
    "pattern = '(\\d{3}) (\\d{2})'"
   ]
  },
  {
   "cell_type": "code",
   "execution_count": 91,
   "id": "amino-conversion",
   "metadata": {},
   "outputs": [],
   "source": [
    "match = re.search(pattern,string)"
   ]
  },
  {
   "cell_type": "code",
   "execution_count": 92,
   "id": "every-gentleman",
   "metadata": {},
   "outputs": [
    {
     "data": {
      "text/plain": [
       "<re.Match object; span=(2, 8), match='801 35'>"
      ]
     },
     "execution_count": 92,
     "metadata": {},
     "output_type": "execute_result"
    }
   ],
   "source": [
    "match"
   ]
  },
  {
   "cell_type": "code",
   "execution_count": 93,
   "id": "continued-rough",
   "metadata": {},
   "outputs": [
    {
     "data": {
      "text/plain": [
       "'801 35'"
      ]
     },
     "execution_count": 93,
     "metadata": {},
     "output_type": "execute_result"
    }
   ],
   "source": [
    "match.group()"
   ]
  },
  {
   "cell_type": "code",
   "execution_count": 94,
   "id": "republican-uganda",
   "metadata": {},
   "outputs": [
    {
     "name": "stdout",
     "output_type": "stream",
     "text": [
      "801 35\n"
     ]
    }
   ],
   "source": [
    "if match:\n",
    "    print(match.group())\n",
    "else:\n",
    "    print('Pattern not found')"
   ]
  },
  {
   "cell_type": "markdown",
   "id": "forbidden-patrick",
   "metadata": {},
   "source": [
    "1. What module is required to use regular expressions?\n",
    " A) regex\n",
    "B) re\n",
    "C) regx\n",
    "\n",
    "Answer: re\n",
    "\n",
    "2. What do you use in a regular expression to match any 1 character or space?\n",
    "A) .\n",
    "B) _\n",
    "C) +\n",
    "\n",
    "Answer: .\n",
    "\n",
    "3. How would you match for rat and cat in a regular expression?\n",
    "A) [cr]at\n",
    "B) (cr)at\n",
    "C) {cr}at\n",
    "\n",
    "Answer: [cr]at\n",
    "\n"
   ]
  },
  {
   "cell_type": "code",
   "execution_count": 97,
   "id": "familiar-tracy",
   "metadata": {},
   "outputs": [
    {
     "data": {
      "text/plain": [
       "['rat', 'cat']"
      ]
     },
     "execution_count": 97,
     "metadata": {},
     "output_type": "execute_result"
    }
   ],
   "source": [
    "string = 'this is rat and cat'\n",
    "re.findall('[cr]at',string)"
   ]
  },
  {
   "cell_type": "markdown",
   "id": "imported-tongue",
   "metadata": {},
   "source": [
    "4. How would you match for any words starting with c through f that end with the letters at?\n",
    "A) [c + f]at\n",
    "B) (c-f)at\n",
    "C) [c-f]at\n",
    "\n",
    "Answer: [c-f]at"
   ]
  },
  {
   "cell_type": "markdown",
   "id": "guilty-training",
   "metadata": {},
   "source": [
    "5. What is used to match any 1 character or space?\n",
    "A) +\n",
    "B) \\\n",
    "C) .\n",
    "\n",
    "Answer: ."
   ]
  },
  {
   "cell_type": "markdown",
   "id": "former-rebecca",
   "metadata": {},
   "source": [
    "6. What is used to match any whitespace?\n",
    "A) \\s\n",
    "B) .\n",
    "C) _\n",
    "\n",
    "Answer: \\s"
   ]
  },
  {
   "cell_type": "markdown",
   "id": "floral-concern",
   "metadata": {},
   "source": [
    "7. What is used to match anything except a whitespace?\n",
    "A) \\s\n",
    "B) \\S\n",
    "C) \\\\\n",
    "\n",
    "Answer: \\S"
   ]
  },
  {
   "cell_type": "markdown",
   "id": "friendly-package",
   "metadata": {},
   "source": [
    "8. What is used to match any single number?\n",
    "A) \\d\n",
    "B) \\D\n",
    "C) \\#\n",
    "\n",
    "Answer: \\d"
   ]
  },
  {
   "cell_type": "markdown",
   "id": "administrative-engine",
   "metadata": {},
   "source": [
    "9. What is used to match anything except for a number?\n",
    "A) \\d\n",
    "B) \\S\n",
    "C) \\D\n",
    "\n",
    "Answer: \\D"
   ]
  },
  {
   "cell_type": "markdown",
   "id": "invalid-patrick",
   "metadata": {},
   "source": [
    "10. What code would match any number 3 in length?\n",
    "A) \\D{3}\n",
    "B) \\d3\n",
    "C) \\d{3}\n",
    "\n",
    "Answer: \\d{3}"
   ]
  },
  {
   "cell_type": "markdown",
   "id": "stupid-aluminum",
   "metadata": {},
   "source": [
    "11. What is used to match any number between 3 and 5 in length?\n",
    "A) \\d{3,5}\n",
    "B) {\\d3,5}\n",
    "C) \\D{3,5}\n",
    "\n",
    "Answer: \\d{3,5}"
   ]
  },
  {
   "cell_type": "markdown",
   "id": "independent-overall",
   "metadata": {},
   "source": [
    "12. What is used to match 1 or more characters?\n",
    "A) .\n",
    "B) +\n",
    "C) \\d\n",
    "\n",
    "Answer: +"
   ]
  },
  {
   "cell_type": "markdown",
   "id": "fitted-procedure",
   "metadata": {},
   "source": [
    "13. What regular expression would match for both cat and cats?\n",
    "A) [cat] + s\n",
    "B) [cat] + s?\n",
    "C) [cat]*s\n",
    "\n",
    "Answer: [cat] + s?"
   ]
  },
  {
   "cell_type": "markdown",
   "id": "southern-offering",
   "metadata": {},
   "source": [
    "14. What regex matches for doctor doctors and doctor's?\n",
    "A) [doctor] + ['s]*\n",
    "B) [doctor's] +?\n",
    "C) [doctor]*?\n",
    "\n",
    "Answer: [doctor] + ['s]*"
   ]
  },
  {
   "cell_type": "markdown",
   "id": "objective-relation",
   "metadata": {},
   "source": [
    "https://datai.co/python-interview-questions/regex/"
   ]
  },
  {
   "cell_type": "code",
   "execution_count": null,
   "id": "amazing-rehabilitation",
   "metadata": {},
   "outputs": [],
   "source": []
  }
 ],
 "metadata": {
  "kernelspec": {
   "display_name": "Python 3",
   "language": "python",
   "name": "python3"
  },
  "language_info": {
   "codemirror_mode": {
    "name": "ipython",
    "version": 3
   },
   "file_extension": ".py",
   "mimetype": "text/x-python",
   "name": "python",
   "nbconvert_exporter": "python",
   "pygments_lexer": "ipython3",
   "version": "3.8.8"
  }
 },
 "nbformat": 4,
 "nbformat_minor": 5
}
