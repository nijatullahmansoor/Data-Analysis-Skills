{
 "cells": [
  {
   "cell_type": "markdown",
   "id": "continuous-madonna",
   "metadata": {},
   "source": [
    "## Python File Handling\n",
    "\n",
    "Till now, we were taking the input from the console and writing it back to the console to interact with the user.\n",
    "\n",
    "Sometimes, it is not enough to only display the data on the console. The data to be displayed may be very large, and only a limited amount of data can be displayed on the console since the memory is volatile, it is impossible to recover the programmatically generated data again and again.\n",
    "\n",
    "The file handling plays an important role when the data needs to be stored permanently into the file. A file is a named location on disk to store related information. We can access the stored information (non-volatile) after the program termination.\n",
    "\n",
    "The file-handling implementation is slightly lengthy or complicated in the other programming language, but it is easier and shorter in Python.\n",
    "\n",
    "In Python, files are treated in two modes as text or binary. The file may be in the text or binary format, and each line of a file is ended with the special character.\n",
    "\n",
    "Hence, a file operation can be done in the following order.\n",
    "\n",
    "- Open a file\n",
    "- Read or write - Performing operation\n",
    "- Close the file\n"
   ]
  },
  {
   "cell_type": "markdown",
   "id": "offensive-butter",
   "metadata": {},
   "source": [
    "Let's look at the simple example to open a file named \"file.txt\" (stored in the same directory) in read mode and printing its content on the console."
   ]
  },
  {
   "cell_type": "code",
   "execution_count": 1,
   "id": "atomic-emphasis",
   "metadata": {},
   "outputs": [],
   "source": [
    "myfile = open('first.txt','w+')"
   ]
  },
  {
   "cell_type": "code",
   "execution_count": 2,
   "id": "automatic-costa",
   "metadata": {},
   "outputs": [
    {
     "data": {
      "text/plain": [
       "<_io.TextIOWrapper name='first.txt' mode='w+' encoding='cp1252'>"
      ]
     },
     "execution_count": 2,
     "metadata": {},
     "output_type": "execute_result"
    }
   ],
   "source": [
    "myfile"
   ]
  },
  {
   "cell_type": "code",
   "execution_count": 3,
   "id": "technological-performance",
   "metadata": {},
   "outputs": [
    {
     "name": "stdout",
     "output_type": "stream",
     "text": [
      "file has been created succsusfully.\n"
     ]
    }
   ],
   "source": [
    "if myfile:\n",
    "    print('file has been created succsusfully.')"
   ]
  },
  {
   "cell_type": "code",
   "execution_count": 4,
   "id": "italian-language",
   "metadata": {},
   "outputs": [
    {
     "name": "stdout",
     "output_type": "stream",
     "text": [
      "file is opened successfully\n"
     ]
    }
   ],
   "source": [
    "fileptr = open(\"first.txt\",\"r\")    \n",
    "    \n",
    "if fileptr:    \n",
    "    print(\"file is opened successfully\")    "
   ]
  },
  {
   "cell_type": "markdown",
   "id": "assisted-haiti",
   "metadata": {},
   "source": [
    "## The close() method\n",
    "Once all the operations are done on the file, we must close it through our Python script using the close() method. Any unwritten information gets destroyed once the close() method is called on a file object.\n",
    "\n",
    "We can perform any operation on the file externally using the file system which is the currently opened in Python; hence it is good practice to close the file once all the operations are done.\n",
    "\n",
    "The syntax to use the close() method is given below.\n",
    "\n",
    "### Syntax\n",
    "\n",
    "fileobject.close()   "
   ]
  },
  {
   "cell_type": "code",
   "execution_count": 5,
   "id": "collective-learning",
   "metadata": {},
   "outputs": [
    {
     "data": {
      "text/plain": [
       "False"
      ]
     },
     "execution_count": 5,
     "metadata": {},
     "output_type": "execute_result"
    }
   ],
   "source": [
    "myfile.closed"
   ]
  },
  {
   "cell_type": "code",
   "execution_count": 6,
   "id": "considerable-basement",
   "metadata": {},
   "outputs": [],
   "source": [
    "myfile.close()"
   ]
  },
  {
   "cell_type": "code",
   "execution_count": 7,
   "id": "intense-validation",
   "metadata": {},
   "outputs": [
    {
     "data": {
      "text/plain": [
       "True"
      ]
     },
     "execution_count": 7,
     "metadata": {},
     "output_type": "execute_result"
    }
   ],
   "source": [
    "myfile.closed"
   ]
  },
  {
   "cell_type": "markdown",
   "id": "czech-silly",
   "metadata": {},
   "source": [
    "After closing the file, we cannot perform any operation in the file. The file needs to be properly closed. If any exception occurs while performing some operations in the file then the program terminates without closing the file."
   ]
  },
  {
   "cell_type": "code",
   "execution_count": 8,
   "id": "compatible-cooling",
   "metadata": {},
   "outputs": [],
   "source": [
    "try:\n",
    "    myfile = open(\"first.txt\")  \n",
    "   # perform file operations  \n",
    "finally:\n",
    "    myfile.close()  "
   ]
  },
  {
   "cell_type": "markdown",
   "id": "contained-timing",
   "metadata": {},
   "source": [
    "## The with statement\n",
    "The with statement was introduced in python 2.5. The with statement is useful in the case of manipulating the files. It is used in the scenario where a pair of statements is to be executed with a block of code in between.\n",
    "\n",
    "The syntax to open a file using with the statement is given below.\n",
    "\n",
    "`with open(<file name>, <access mode>) as <file-pointer>:    \n",
    "    #statement suite     `"
   ]
  },
  {
   "cell_type": "code",
   "execution_count": 9,
   "id": "weekly-approach",
   "metadata": {},
   "outputs": [
    {
     "name": "stdout",
     "output_type": "stream",
     "text": [
      "file is opened\n"
     ]
    }
   ],
   "source": [
    "with open('first.txt','r') as myfile:\n",
    "    if myfile.closed:\n",
    "        print('file is closed')\n",
    "    if not myfile.closed:\n",
    "        print('file is opened')"
   ]
  },
  {
   "cell_type": "code",
   "execution_count": 10,
   "id": "former-fireplace",
   "metadata": {},
   "outputs": [
    {
     "data": {
      "text/plain": [
       "True"
      ]
     },
     "execution_count": 10,
     "metadata": {},
     "output_type": "execute_result"
    }
   ],
   "source": [
    "myfile.closed"
   ]
  },
  {
   "cell_type": "markdown",
   "id": "allied-portland",
   "metadata": {},
   "source": [
    "The advantage of using with statement is that it provides the guarantee to close the file regardless of how the nested block exits.\n",
    "\n",
    "It is always suggestible to use the with statement in the case of files because, if the break, return, or exception occurs in the nested block of code then it automatically closes the file, we don't need to write the close() function. It doesn't let the file to corrupt."
   ]
  },
  {
   "cell_type": "code",
   "execution_count": 11,
   "id": "equivalent-mills",
   "metadata": {},
   "outputs": [
    {
     "name": "stdout",
     "output_type": "stream",
     "text": [
      "\n"
     ]
    }
   ],
   "source": [
    "with open(\"first.txt\",'r') as f:    \n",
    "    content = f.read();    \n",
    "    print(content)    "
   ]
  },
  {
   "cell_type": "markdown",
   "id": "premium-beijing",
   "metadata": {},
   "source": [
    "### Writing the file\n",
    "To write some text to a file, we need to open the file using the open method with one of the following access modes.\n",
    "\n",
    "w: It will overwrite the file if any file exists. The file pointer is at the beginning of the file.\n",
    "\n",
    "a: It will append the existing file. The file pointer is at the end of the file. It creates a new file if no file exists.\n",
    "\n",
    "Consider the following example."
   ]
  },
  {
   "cell_type": "code",
   "execution_count": 12,
   "id": "generic-florist",
   "metadata": {},
   "outputs": [],
   "source": [
    "myfile = open('first.txt','w')\n"
   ]
  },
  {
   "cell_type": "code",
   "execution_count": 13,
   "id": "comparative-biology",
   "metadata": {},
   "outputs": [
    {
     "data": {
      "text/plain": [
       "53"
      ]
     },
     "execution_count": 13,
     "metadata": {},
     "output_type": "execute_result"
    }
   ],
   "source": [
    "myfile.write(\"\"\"\n",
    "    This is my python file and i am writting to it.\n",
    "\"\"\")"
   ]
  },
  {
   "cell_type": "markdown",
   "id": "celtic-climb",
   "metadata": {},
   "source": [
    "let's read this now."
   ]
  },
  {
   "cell_type": "code",
   "execution_count": 14,
   "id": "opposite-change",
   "metadata": {},
   "outputs": [
    {
     "ename": "UnsupportedOperation",
     "evalue": "not readable",
     "output_type": "error",
     "traceback": [
      "\u001b[1;31m---------------------------------------------------------------------------\u001b[0m",
      "\u001b[1;31mUnsupportedOperation\u001b[0m                      Traceback (most recent call last)",
      "\u001b[1;32m<ipython-input-14-f51008fa62ae>\u001b[0m in \u001b[0;36m<module>\u001b[1;34m\u001b[0m\n\u001b[1;32m----> 1\u001b[1;33m \u001b[0mmyfile\u001b[0m\u001b[1;33m.\u001b[0m\u001b[0mread\u001b[0m\u001b[1;33m(\u001b[0m\u001b[1;33m)\u001b[0m\u001b[1;33m\u001b[0m\u001b[1;33m\u001b[0m\u001b[0m\n\u001b[0m",
      "\u001b[1;31mUnsupportedOperation\u001b[0m: not readable"
     ]
    }
   ],
   "source": [
    "myfile.read()"
   ]
  },
  {
   "cell_type": "code",
   "execution_count": null,
   "id": "rough-asian",
   "metadata": {},
   "outputs": [],
   "source": [
    "myfile = open('first.txt','r+')"
   ]
  },
  {
   "cell_type": "code",
   "execution_count": null,
   "id": "second-reliance",
   "metadata": {},
   "outputs": [],
   "source": [
    "myfile.read()"
   ]
  },
  {
   "cell_type": "code",
   "execution_count": null,
   "id": "bronze-conference",
   "metadata": {},
   "outputs": [],
   "source": [
    "myfile.write(\"\"\"This is python file handaling operation I am performing.\"\"\")"
   ]
  },
  {
   "cell_type": "code",
   "execution_count": null,
   "id": "healthy-fifth",
   "metadata": {},
   "outputs": [],
   "source": [
    "myfile.read(20)"
   ]
  },
  {
   "cell_type": "code",
   "execution_count": null,
   "id": "informational-amber",
   "metadata": {},
   "outputs": [],
   "source": [
    "myfile.seek(0)"
   ]
  },
  {
   "cell_type": "code",
   "execution_count": null,
   "id": "acceptable-crown",
   "metadata": {},
   "outputs": [],
   "source": [
    "myfile.read(20)"
   ]
  },
  {
   "cell_type": "code",
   "execution_count": null,
   "id": "included-cookie",
   "metadata": {},
   "outputs": [],
   "source": [
    "myfile.read(20)"
   ]
  },
  {
   "cell_type": "code",
   "execution_count": null,
   "id": "subtle-therapy",
   "metadata": {},
   "outputs": [],
   "source": [
    "myfile.read(20)"
   ]
  },
  {
   "cell_type": "code",
   "execution_count": null,
   "id": "charming-colombia",
   "metadata": {},
   "outputs": [],
   "source": [
    "myfile.read(20)"
   ]
  },
  {
   "cell_type": "code",
   "execution_count": null,
   "id": "positive-strike",
   "metadata": {},
   "outputs": [],
   "source": [
    "myfile.seek(0)"
   ]
  },
  {
   "cell_type": "code",
   "execution_count": null,
   "id": "computational-thriller",
   "metadata": {},
   "outputs": [],
   "source": [
    "print(myfile.read(20))"
   ]
  },
  {
   "cell_type": "markdown",
   "id": "handled-jenny",
   "metadata": {},
   "source": [
    "## Read file through for loop"
   ]
  },
  {
   "cell_type": "code",
   "execution_count": null,
   "id": "healthy-palmer",
   "metadata": {},
   "outputs": [],
   "source": [
    "myfile.seek(0)\n",
    "for i in myfile:\n",
    "    print(i)"
   ]
  },
  {
   "cell_type": "markdown",
   "id": "cloudy-allergy",
   "metadata": {},
   "source": [
    "## Read Lines of the file\n",
    "Python facilitates to read the file line by line by using a function readline() method. The readline() method reads the lines of the file from the beginning, i.e., if we use the readline() method two times, then we can get the first two lines of the file.\n",
    "\n",
    "Consider the following example which contains a function readline() that reads the first line of our file \"file2.txt\" containing three lines. Consider the following example."
   ]
  },
  {
   "cell_type": "code",
   "execution_count": null,
   "id": "younger-convergence",
   "metadata": {},
   "outputs": [],
   "source": [
    "myfile.seek(0)\n",
    "myfile.readline()\n",
    "myfile.readline()"
   ]
  },
  {
   "cell_type": "code",
   "execution_count": null,
   "id": "manufactured-premises",
   "metadata": {},
   "outputs": [],
   "source": [
    "myfile.write('''''Python is the modern day language. It makes things so simple. \n",
    "It is the fastest-growing programing language''')  "
   ]
  },
  {
   "cell_type": "code",
   "execution_count": null,
   "id": "national-chancellor",
   "metadata": {},
   "outputs": [],
   "source": [
    "myfile.seek(0)"
   ]
  },
  {
   "cell_type": "code",
   "execution_count": null,
   "id": "comprehensive-fetish",
   "metadata": {},
   "outputs": [],
   "source": [
    "myfile.readlines()"
   ]
  },
  {
   "cell_type": "markdown",
   "id": "surgical-uncle",
   "metadata": {},
   "source": [
    "Python provides also the readlines() method which is used for the reading lines. It returns the list of the lines till the end of file(EOF) is reached."
   ]
  },
  {
   "cell_type": "markdown",
   "id": "manufactured-supply",
   "metadata": {},
   "source": [
    "## Creating a new file\n",
    "The new file can be created by using one of the following access modes with the function open().\n",
    "\n",
    "x: it creates a new file with the specified name. It causes an error a file exists with the same name.\n",
    "\n",
    "a: It creates a new file with the specified name if no such file exists. It appends the content to the file if the file already exists with the specified name.\n",
    "\n",
    "w: It creates a new file with the specified name if no such file exists. It overwrites the existing file.\n",
    "\n",
    "Consider the following example."
   ]
  },
  {
   "cell_type": "markdown",
   "id": "complete-telescope",
   "metadata": {},
   "source": [
    "### File Pointer positions\n",
    "Python provides the tell() method which is used to print the byte number at which the file pointer currently exists."
   ]
  },
  {
   "cell_type": "code",
   "execution_count": null,
   "id": "dutch-monaco",
   "metadata": {},
   "outputs": [],
   "source": [
    "myfile.read(5)"
   ]
  },
  {
   "cell_type": "code",
   "execution_count": null,
   "id": "effective-works",
   "metadata": {},
   "outputs": [],
   "source": [
    "myfile.seek(0)"
   ]
  },
  {
   "cell_type": "code",
   "execution_count": null,
   "id": "greek-toilet",
   "metadata": {},
   "outputs": [],
   "source": [
    "myfile.tell()"
   ]
  },
  {
   "cell_type": "code",
   "execution_count": null,
   "id": "consistent-shore",
   "metadata": {},
   "outputs": [],
   "source": [
    "myfile.read(20)"
   ]
  },
  {
   "cell_type": "code",
   "execution_count": null,
   "id": "treated-serum",
   "metadata": {},
   "outputs": [],
   "source": [
    "myfile.tell()"
   ]
  },
  {
   "cell_type": "markdown",
   "id": "specialized-survival",
   "metadata": {},
   "source": [
    "### Modifying file pointer position\n",
    "In real-world applications, sometimes we need to change the file pointer location externally since we may need to read or write the content at various locations.\n",
    "\n",
    "For this purpose, the Python provides us the seek() method which enables us to modify the file pointer position externally.\n",
    "\n",
    "The syntax to use the seek() method is given below."
   ]
  },
  {
   "cell_type": "markdown",
   "id": "abstract-creator",
   "metadata": {},
   "source": [
    "<code>Syntax:\n",
    "`<file-ptr>.seek(offset[, from)`</code>\n",
    "    \n",
    "    \n",
    "    The seek() method accepts two parameters:\n",
    "\n",
    "offset: It refers to the new position of the file pointer within the file.\n",
    "\n",
    "from: It indicates the reference position from where the bytes are to be moved. If it is set to 0, the beginning of the file is used as the reference position. If it is set to 1, the current position of the file pointer is used as the reference position. If it is set to 2, the end of the file pointer is used as the reference position."
   ]
  },
  {
   "cell_type": "markdown",
   "id": "after-ethiopia",
   "metadata": {},
   "source": [
    "## Python OS module\n",
    "\n",
    "### Renaming the file\n",
    "The Python os module enables interaction with the operating system. The os module provides the functions that are involved in file processing operations like renaming, deleting, etc. It provides us the rename() method to rename the specified file to a new name. The syntax to use the rename() method is given below.\n",
    "\n",
    "`Syntax:\n",
    "rename(current-name, new-name)    `"
   ]
  },
  {
   "cell_type": "markdown",
   "id": "recorded-permission",
   "metadata": {},
   "source": [
    "The first argument is the current file name and the second argument is the modified name. We can change the file name bypassing these two arguments."
   ]
  },
  {
   "cell_type": "markdown",
   "id": "registered-steel",
   "metadata": {},
   "source": [
    "The first argument is the current file name and the second argument is the modified name. We can change the file name bypassing these two arguments."
   ]
  },
  {
   "cell_type": "code",
   "execution_count": null,
   "id": "appreciated-framing",
   "metadata": {},
   "outputs": [],
   "source": [
    "import os"
   ]
  },
  {
   "cell_type": "code",
   "execution_count": null,
   "id": "coastal-clause",
   "metadata": {},
   "outputs": [],
   "source": [
    "os.rename('first.txt','second.txt')"
   ]
  },
  {
   "cell_type": "code",
   "execution_count": null,
   "id": "dramatic-latino",
   "metadata": {},
   "outputs": [],
   "source": [
    "myfile.close()"
   ]
  },
  {
   "cell_type": "code",
   "execution_count": null,
   "id": "legal-fossil",
   "metadata": {},
   "outputs": [],
   "source": [
    "os.rename('first.txt','second.txt')"
   ]
  },
  {
   "cell_type": "code",
   "execution_count": null,
   "id": "matched-recorder",
   "metadata": {},
   "outputs": [],
   "source": [
    "open('file1.txt','w+')"
   ]
  },
  {
   "cell_type": "code",
   "execution_count": null,
   "id": "progressive-partition",
   "metadata": {},
   "outputs": [],
   "source": [
    "os.rename('file1.txt','file2.txt')"
   ]
  },
  {
   "cell_type": "markdown",
   "id": "sustainable-upset",
   "metadata": {},
   "source": [
    "#### Removing the file\n",
    "The os module provides the remove() method which is used to remove the specified file. The syntax to use the remove() method is given below."
   ]
  },
  {
   "cell_type": "code",
   "execution_count": null,
   "id": "discrete-tragedy",
   "metadata": {},
   "outputs": [],
   "source": [
    "os.remove('file1.txt')"
   ]
  },
  {
   "cell_type": "markdown",
   "id": "following-joyce",
   "metadata": {},
   "source": [
    "https://www.javatpoint.com/python-files-io"
   ]
  },
  {
   "cell_type": "code",
   "execution_count": null,
   "id": "parental-messaging",
   "metadata": {},
   "outputs": [],
   "source": [
    "os.getcwd()"
   ]
  },
  {
   "cell_type": "markdown",
   "id": "finnish-beads",
   "metadata": {},
   "source": [
    "https://www.javatpoint.com/python-files-io"
   ]
  },
  {
   "cell_type": "markdown",
   "id": "executed-maldives",
   "metadata": {},
   "source": [
    "### Python Modules\n",
    "\n",
    "A python module can be defined as a python program file which contains a python code including python functions, class, or variables. In other words, we can say that our python code file saved with the extension (.py) is treated as the module. We may have a runnable code inside the python module.\n",
    "\n",
    "Modules in Python provides us the flexibility to organize the code in a logical way.\n",
    "\n",
    "To use the functionality of one module into another, we must have to import the specific module"
   ]
  },
  {
   "cell_type": "markdown",
   "id": "seven-banking",
   "metadata": {},
   "source": [
    "# Example"
   ]
  },
  {
   "cell_type": "code",
   "execution_count": null,
   "id": "electrical-binding",
   "metadata": {},
   "outputs": [],
   "source": [
    "%run ./module1.ipynb"
   ]
  },
  {
   "cell_type": "code",
   "execution_count": null,
   "id": "competitive-gregory",
   "metadata": {},
   "outputs": [],
   "source": [
    "! pip install import-ipynb"
   ]
  },
  {
   "cell_type": "code",
   "execution_count": null,
   "id": "novel-logic",
   "metadata": {},
   "outputs": [],
   "source": [
    "import module1"
   ]
  },
  {
   "cell_type": "code",
   "execution_count": null,
   "id": "simple-beast",
   "metadata": {},
   "outputs": [],
   "source": [
    "module1.module1()"
   ]
  },
  {
   "cell_type": "markdown",
   "id": "brutal-holder",
   "metadata": {},
   "source": [
    "## Loading the module in our python code\n",
    "\n",
    "We need to load the module in our python code to use its functionality. Python provides two types of statements as defined below.\n",
    "\n",
    "1. The import statement\n",
    "2. The from-import statement"
   ]
  },
  {
   "cell_type": "markdown",
   "id": "moved-entrepreneur",
   "metadata": {},
   "source": [
    "The import statement is used to import all the functionality of one module into another. Here, we must notice that we can use the functionality of any python source file by importing that file as the module into another python source file.\n",
    "\n",
    "We can import multiple modules with a single import statement, but a module is loaded once regardless of the number of times, it has been imported into our file.\n",
    "\n",
    "The syntax to use the import statement is given below.\n",
    "\n",
    "`import module1,module2,........ module n  `"
   ]
  },
  {
   "cell_type": "code",
   "execution_count": 15,
   "id": "buried-insertion",
   "metadata": {},
   "outputs": [],
   "source": [
    "import module1"
   ]
  },
  {
   "cell_type": "code",
   "execution_count": 16,
   "id": "present-costs",
   "metadata": {},
   "outputs": [],
   "source": [
    "name = 'Mansoor Nijatullah'"
   ]
  },
  {
   "cell_type": "code",
   "execution_count": 17,
   "id": "recognized-knock",
   "metadata": {},
   "outputs": [
    {
     "name": "stdout",
     "output_type": "stream",
     "text": [
      "Your name is  Mansoor Nijatullah\n"
     ]
    }
   ],
   "source": [
    "module1.displayName(name)"
   ]
  },
  {
   "cell_type": "code",
   "execution_count": 18,
   "id": "worse-advertising",
   "metadata": {},
   "outputs": [
    {
     "name": "stdout",
     "output_type": "stream",
     "text": [
      "Your name is  Omar\n"
     ]
    }
   ],
   "source": [
    "module1.displayName('Omar')"
   ]
  },
  {
   "cell_type": "markdown",
   "id": "divided-darkness",
   "metadata": {},
   "source": [
    "## The from-import statement\n",
    "\n",
    "Instead of importing the whole module into the namespace, python provides the flexibility to import only the specific attributes of a module. This can be done by using from? import statement. The syntax to use the from-import statement is given below."
   ]
  },
  {
   "cell_type": "code",
   "execution_count": 19,
   "id": "controversial-stadium",
   "metadata": {},
   "outputs": [],
   "source": [
    "from module1 import sqr_func,sum_func"
   ]
  },
  {
   "cell_type": "code",
   "execution_count": 20,
   "id": "organizational-zimbabwe",
   "metadata": {},
   "outputs": [
    {
     "name": "stdout",
     "output_type": "stream",
     "text": [
      "81\n"
     ]
    }
   ],
   "source": [
    "sqr_func(9)"
   ]
  },
  {
   "cell_type": "code",
   "execution_count": 21,
   "id": "polished-escape",
   "metadata": {},
   "outputs": [
    {
     "name": "stdout",
     "output_type": "stream",
     "text": [
      "3\n"
     ]
    }
   ],
   "source": [
    "sum_func(1,2)"
   ]
  },
  {
   "cell_type": "markdown",
   "id": "stuck-tokyo",
   "metadata": {},
   "source": [
    "## Renaming a module"
   ]
  },
  {
   "cell_type": "markdown",
   "id": "dedicated-window",
   "metadata": {},
   "source": [
    "## Using dir() function\n",
    "The dir() function returns a sorted list of names defined in the passed module. This list contains all the sub-modules, variables and functions defined in this module.\n",
    "\n",
    "Consider the following example."
   ]
  },
  {
   "cell_type": "code",
   "execution_count": 22,
   "id": "printable-third",
   "metadata": {},
   "outputs": [],
   "source": [
    "import json"
   ]
  },
  {
   "cell_type": "code",
   "execution_count": 24,
   "id": "adjusted-clock",
   "metadata": {},
   "outputs": [],
   "source": [
    "lst = dir(json)"
   ]
  },
  {
   "cell_type": "code",
   "execution_count": 25,
   "id": "intensive-sarah",
   "metadata": {},
   "outputs": [
    {
     "data": {
      "text/plain": [
       "['JSONDecodeError',\n",
       " 'JSONDecoder',\n",
       " 'JSONEncoder',\n",
       " '__all__',\n",
       " '__author__',\n",
       " '__builtins__',\n",
       " '__cached__',\n",
       " '__doc__',\n",
       " '__file__',\n",
       " '__loader__',\n",
       " '__name__',\n",
       " '__package__',\n",
       " '__path__',\n",
       " '__spec__',\n",
       " '__version__',\n",
       " '_default_decoder',\n",
       " '_default_encoder',\n",
       " 'codecs',\n",
       " 'decoder',\n",
       " 'detect_encoding',\n",
       " 'dump',\n",
       " 'dumps',\n",
       " 'encoder',\n",
       " 'load',\n",
       " 'loads',\n",
       " 'scanner']"
      ]
     },
     "execution_count": 25,
     "metadata": {},
     "output_type": "execute_result"
    }
   ],
   "source": [
    "lst"
   ]
  },
  {
   "cell_type": "code",
   "execution_count": 26,
   "id": "ordered-mailman",
   "metadata": {},
   "outputs": [],
   "source": [
    "lst =dir(module1)"
   ]
  },
  {
   "cell_type": "code",
   "execution_count": 27,
   "id": "occupational-fellow",
   "metadata": {},
   "outputs": [
    {
     "data": {
      "text/plain": [
       "['__builtins__',\n",
       " '__cached__',\n",
       " '__doc__',\n",
       " '__file__',\n",
       " '__loader__',\n",
       " '__name__',\n",
       " '__package__',\n",
       " '__spec__',\n",
       " 'displayName',\n",
       " 'sqr_func',\n",
       " 'sum_func']"
      ]
     },
     "execution_count": 27,
     "metadata": {},
     "output_type": "execute_result"
    }
   ],
   "source": [
    "lst"
   ]
  },
  {
   "cell_type": "markdown",
   "id": "military-inspiration",
   "metadata": {},
   "source": [
    "## The reload() function\n",
    "As we have already stated that, a module is loaded once regardless of the number of times it is imported into the python source file. However, if you want to reload the already imported module to re-execute the top-level code, python provides us the reload() function. The syntax to use the reload() function is given below."
   ]
  },
  {
   "cell_type": "markdown",
   "id": "fallen-victoria",
   "metadata": {},
   "source": [
    "if we add some new code to our module and without reloading it will give us an error."
   ]
  },
  {
   "cell_type": "code",
   "execution_count": 28,
   "id": "handy-question",
   "metadata": {},
   "outputs": [],
   "source": [
    "name = 'Mansoor Nijatullah'\n",
    "age = 20\n",
    "address = 'kabul,Afghanistan,Jalalabad'"
   ]
  },
  {
   "cell_type": "code",
   "execution_count": 29,
   "id": "matched-relationship",
   "metadata": {},
   "outputs": [
    {
     "ename": "AttributeError",
     "evalue": "module 'module1' has no attribute 'info'",
     "output_type": "error",
     "traceback": [
      "\u001b[1;31m---------------------------------------------------------------------------\u001b[0m",
      "\u001b[1;31mAttributeError\u001b[0m                            Traceback (most recent call last)",
      "\u001b[1;32m<ipython-input-29-1cab53850acf>\u001b[0m in \u001b[0;36m<module>\u001b[1;34m\u001b[0m\n\u001b[1;32m----> 1\u001b[1;33m \u001b[0mmodule1\u001b[0m\u001b[1;33m.\u001b[0m\u001b[0minfo\u001b[0m\u001b[1;33m(\u001b[0m\u001b[0mname\u001b[0m\u001b[1;33m,\u001b[0m\u001b[0mage\u001b[0m\u001b[1;33m,\u001b[0m\u001b[0maddress\u001b[0m\u001b[1;33m)\u001b[0m\u001b[1;33m\u001b[0m\u001b[1;33m\u001b[0m\u001b[0m\n\u001b[0m",
      "\u001b[1;31mAttributeError\u001b[0m: module 'module1' has no attribute 'info'"
     ]
    }
   ],
   "source": [
    "module1.info(name,age,address)"
   ]
  },
  {
   "cell_type": "code",
   "execution_count": 31,
   "id": "upset-insertion",
   "metadata": {},
   "outputs": [
    {
     "ename": "NameError",
     "evalue": "name 'reload' is not defined",
     "output_type": "error",
     "traceback": [
      "\u001b[1;31m---------------------------------------------------------------------------\u001b[0m",
      "\u001b[1;31mNameError\u001b[0m                                 Traceback (most recent call last)",
      "\u001b[1;32m<ipython-input-31-f381306da847>\u001b[0m in \u001b[0;36m<module>\u001b[1;34m\u001b[0m\n\u001b[1;32m----> 1\u001b[1;33m \u001b[0mreload\u001b[0m\u001b[1;33m(\u001b[0m\u001b[0mmodule1\u001b[0m\u001b[1;33m)\u001b[0m\u001b[1;33m\u001b[0m\u001b[1;33m\u001b[0m\u001b[0m\n\u001b[0m",
      "\u001b[1;31mNameError\u001b[0m: name 'reload' is not defined"
     ]
    }
   ],
   "source": [
    "reload(module1) "
   ]
  },
  {
   "cell_type": "code",
   "execution_count": 33,
   "id": "secret-motorcycle",
   "metadata": {},
   "outputs": [
    {
     "data": {
      "text/plain": [
       "<module 'module1' from 'C:\\\\Users\\\\nijat\\\\Desktop\\\\Data Science\\\\Preparation For Interview\\\\Technicl Skil\\\\Python\\\\Basic Of Python\\\\module1.py'>"
      ]
     },
     "execution_count": 33,
     "metadata": {},
     "output_type": "execute_result"
    }
   ],
   "source": [
    "import importlib\n",
    "importlib.reload(module1)"
   ]
  },
  {
   "cell_type": "code",
   "execution_count": 34,
   "id": "exotic-attraction",
   "metadata": {},
   "outputs": [
    {
     "name": "stdout",
     "output_type": "stream",
     "text": [
      "Your complete information listed below.\n",
      "Mansoor Nijatullah 20 kabul,Afghanistan,Jalalabad\n"
     ]
    }
   ],
   "source": [
    "module1.info(name,age,address)"
   ]
  },
  {
   "cell_type": "markdown",
   "id": "assigned-bracelet",
   "metadata": {},
   "source": [
    "`A package is a collection of Python modules: while a module is a single Python file, a package is a directory of Python modules containing an additional __init__.py file, to distinguish a package from a directory that just happens to contain a bunch of Python scripts.`"
   ]
  },
  {
   "cell_type": "markdown",
   "id": "prerequisite-interference",
   "metadata": {},
   "source": [
    "## Python packages\n",
    "\n",
    "The packages in python facilitate the developer with the application development environment by providing a hierarchical directory structure where a package contains sub-packages, modules, and sub-modules. The packages are used to categorize the application level code efficiently.\n"
   ]
  },
  {
   "cell_type": "code",
   "execution_count": 41,
   "id": "hollywood-realtor",
   "metadata": {},
   "outputs": [
    {
     "ename": "ModuleNotFoundError",
     "evalue": "No module named 'ITEmployees'",
     "output_type": "error",
     "traceback": [
      "\u001b[1;31m---------------------------------------------------------------------------\u001b[0m",
      "\u001b[1;31mModuleNotFoundError\u001b[0m                       Traceback (most recent call last)",
      "\u001b[1;32m<ipython-input-41-80b7de956340>\u001b[0m in \u001b[0;36m<module>\u001b[1;34m\u001b[0m\n\u001b[1;32m----> 1\u001b[1;33m \u001b[1;32mimport\u001b[0m \u001b[0mEmployee\u001b[0m\u001b[1;33m\u001b[0m\u001b[1;33m\u001b[0m\u001b[0m\n\u001b[0m",
      "\u001b[1;32m~\\Desktop\\Data Science\\Preparation For Interview\\Technicl Skil\\Python\\Basic Of Python\\Employee\\__init__.py\u001b[0m in \u001b[0;36m<module>\u001b[1;34m\u001b[0m\n\u001b[1;32m----> 1\u001b[1;33m \u001b[1;32mfrom\u001b[0m \u001b[0mITEmployees\u001b[0m \u001b[1;32mimport\u001b[0m \u001b[0mgetITNames\u001b[0m\u001b[1;33m\u001b[0m\u001b[1;33m\u001b[0m\u001b[0m\n\u001b[0m",
      "\u001b[1;31mModuleNotFoundError\u001b[0m: No module named 'ITEmployees'"
     ]
    }
   ],
   "source": [
    "import Employee"
   ]
  },
  {
   "cell_type": "markdown",
   "id": "relative-baseline",
   "metadata": {},
   "source": [
    "https://www.javatpoint.com/python-modules"
   ]
  },
  {
   "cell_type": "markdown",
   "id": "secure-johnson",
   "metadata": {},
   "source": [
    "<img src='https://static.javatpoint.com/python/images/python-packages.png'>"
   ]
  },
  {
   "cell_type": "code",
   "execution_count": null,
   "id": "facial-prayer",
   "metadata": {},
   "outputs": [],
   "source": []
  }
 ],
 "metadata": {
  "kernelspec": {
   "display_name": "Python 3",
   "language": "python",
   "name": "python3"
  },
  "language_info": {
   "codemirror_mode": {
    "name": "ipython",
    "version": 3
   },
   "file_extension": ".py",
   "mimetype": "text/x-python",
   "name": "python",
   "nbconvert_exporter": "python",
   "pygments_lexer": "ipython3",
   "version": "3.8.8"
  }
 },
 "nbformat": 4,
 "nbformat_minor": 5
}
